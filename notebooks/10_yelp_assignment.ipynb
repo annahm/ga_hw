{
 "cells": [
  {
   "cell_type": "markdown",
   "metadata": {},
   "source": [
    "### 1) Read yelp.csv or yelp.json into pandas DataFrame"
   ]
  },
  {
   "cell_type": "code",
   "execution_count": 2,
   "metadata": {
    "collapsed": false
   },
   "outputs": [
    {
     "data": {
      "text/html": [
       "<div>\n",
       "<table border=\"1\" class=\"dataframe\">\n",
       "  <thead>\n",
       "    <tr style=\"text-align: right;\">\n",
       "      <th></th>\n",
       "      <th>business_id</th>\n",
       "      <th>date</th>\n",
       "      <th>review_id</th>\n",
       "      <th>stars</th>\n",
       "      <th>text</th>\n",
       "      <th>type</th>\n",
       "      <th>user_id</th>\n",
       "      <th>cool</th>\n",
       "      <th>useful</th>\n",
       "      <th>funny</th>\n",
       "    </tr>\n",
       "  </thead>\n",
       "  <tbody>\n",
       "    <tr>\n",
       "      <th>0</th>\n",
       "      <td>9yKzy9PApeiPPOUJEtnvkg</td>\n",
       "      <td>2011-01-26</td>\n",
       "      <td>fWKvX83p0-ka4JS3dc6E5A</td>\n",
       "      <td>5</td>\n",
       "      <td>My wife took me here on my birthday for breakf...</td>\n",
       "      <td>review</td>\n",
       "      <td>rLtl8ZkDX5vH5nAx9C3q5Q</td>\n",
       "      <td>2</td>\n",
       "      <td>5</td>\n",
       "      <td>0</td>\n",
       "    </tr>\n",
       "    <tr>\n",
       "      <th>1</th>\n",
       "      <td>ZRJwVLyzEJq1VAihDhYiow</td>\n",
       "      <td>2011-07-27</td>\n",
       "      <td>IjZ33sJrzXqU-0X6U8NwyA</td>\n",
       "      <td>5</td>\n",
       "      <td>I have no idea why some people give bad review...</td>\n",
       "      <td>review</td>\n",
       "      <td>0a2KyEL0d3Yb1V6aivbIuQ</td>\n",
       "      <td>0</td>\n",
       "      <td>0</td>\n",
       "      <td>0</td>\n",
       "    </tr>\n",
       "  </tbody>\n",
       "</table>\n",
       "</div>"
      ],
      "text/plain": [
       "              business_id        date               review_id  stars  \\\n",
       "0  9yKzy9PApeiPPOUJEtnvkg  2011-01-26  fWKvX83p0-ka4JS3dc6E5A      5   \n",
       "1  ZRJwVLyzEJq1VAihDhYiow  2011-07-27  IjZ33sJrzXqU-0X6U8NwyA      5   \n",
       "\n",
       "                                                text    type  \\\n",
       "0  My wife took me here on my birthday for breakf...  review   \n",
       "1  I have no idea why some people give bad review...  review   \n",
       "\n",
       "                  user_id  cool  useful  funny  \n",
       "0  rLtl8ZkDX5vH5nAx9C3q5Q     2       5      0  \n",
       "1  0a2KyEL0d3Yb1V6aivbIuQ     0       0      0  "
      ]
     },
     "execution_count": 2,
     "metadata": {},
     "output_type": "execute_result"
    }
   ],
   "source": [
    "import pandas as pd\n",
    "from collections import defaultdict\n",
    "yelp = pd.read_csv('../DAT-DC-10/data/yelp.csv')\n",
    "yelp.head(2)"
   ]
  },
  {
   "cell_type": "code",
   "execution_count": 3,
   "metadata": {
    "collapsed": false,
    "scrolled": false
   },
   "outputs": [],
   "source": [
    "d = defaultdict(pd.Series)\n",
    "lines = []\n",
    "with open('../DAT-DC-10/data/yelp.json') as f:\n",
    "    lines = f.readlines()\n",
    "\n",
    "for i in range(0, len(lines)):\n",
    "    d[i] = pd.read_json(lines[i], typ='series')\n",
    "    d[i]['cool'] = d[i].votes['cool']\n",
    "    d[i]['funny'] = d[i].votes['funny']\n",
    "    d[i]['useful'] = d[i].votes['useful']\n"
   ]
  },
  {
   "cell_type": "code",
   "execution_count": 4,
   "metadata": {
    "collapsed": false,
    "scrolled": true
   },
   "outputs": [
    {
     "data": {
      "text/plain": [
       "business_id                               b5cEoKR8iQliq-yT2_O0LQ\n",
       "date                                                  2009-03-06\n",
       "review_id                                 v0cTd3PNpYCkTyGKSpOfGA\n",
       "stars                                                          3\n",
       "text           I met a friend for lunch yesterday. \\n\\nLoved ...\n",
       "type                                                      review\n",
       "user_id                                   UsULgP4bKA8RMzs8dQzcsA\n",
       "votes                    {u'funny': 4, u'useful': 6, u'cool': 5}\n",
       "cool                                                           5\n",
       "funny                                                          4\n",
       "useful                                                         6\n",
       "dtype: object"
      ]
     },
     "execution_count": 4,
     "metadata": {},
     "output_type": "execute_result"
    }
   ],
   "source": [
    "d[18]"
   ]
  },
  {
   "cell_type": "code",
   "execution_count": 5,
   "metadata": {
    "collapsed": false
   },
   "outputs": [],
   "source": [
    "yelp_df = pd.DataFrame.from_dict(data=d, orient = 'index')"
   ]
  },
  {
   "cell_type": "markdown",
   "metadata": {},
   "source": [
    "### 2) Explore the relationship between each of the vote types and number of stars\n",
    "* Pairwise plot of vote type vs. stars\n",
    "    - Pandas scatter plot\n",
    "    - Seaborn scatter plot with linear regression line\n",
    "    - Seaborn pairplot with linear models\n",
    "    - Boxplot of star rating vs. vote type\n",
    "    - Pairwise cross-tabs for vote type value and star rating value -- as counts (3 crosstabs)\n",
    "    - Heatmap\n",
    "* Table "
   ]
  },
  {
   "cell_type": "code",
   "execution_count": 6,
   "metadata": {
    "collapsed": false
   },
   "outputs": [
    {
     "name": "stderr",
     "output_type": "stream",
     "text": [
      "/home/anna/anaconda2/lib/python2.7/site-packages/matplotlib/__init__.py:872: UserWarning: axes.color_cycle is deprecated and replaced with axes.prop_cycle; please use the latter.\n",
      "  warnings.warn(self.msg_depr % (key, alt_key))\n"
     ]
    }
   ],
   "source": [
    "import seaborn as sns\n",
    "import matplotlib.pyplot as plt\n",
    "import numpy as np\n",
    "%matplotlib inline\n",
    "plt.rcParams['figure.figsize'] = (8,6)\n",
    "plt.rcParams['figure.dpi'] = 80"
   ]
  },
  {
   "cell_type": "code",
   "execution_count": 7,
   "metadata": {
    "collapsed": false
   },
   "outputs": [
    {
     "data": {
      "text/plain": [
       "array([[<matplotlib.axes._subplots.AxesSubplot object at 0x7efd44022550>,\n",
       "        <matplotlib.axes._subplots.AxesSubplot object at 0x7efd43f48150>,\n",
       "        <matplotlib.axes._subplots.AxesSubplot object at 0x7efd43ecf210>,\n",
       "        <matplotlib.axes._subplots.AxesSubplot object at 0x7efd43eb0790>],\n",
       "       [<matplotlib.axes._subplots.AxesSubplot object at 0x7efd43e30a90>,\n",
       "        <matplotlib.axes._subplots.AxesSubplot object at 0x7efd43d949d0>,\n",
       "        <matplotlib.axes._subplots.AxesSubplot object at 0x7efd43d13c10>,\n",
       "        <matplotlib.axes._subplots.AxesSubplot object at 0x7efd43d366d0>],\n",
       "       [<matplotlib.axes._subplots.AxesSubplot object at 0x7efd43c04d90>,\n",
       "        <matplotlib.axes._subplots.AxesSubplot object at 0x7efd43b87d50>,\n",
       "        <matplotlib.axes._subplots.AxesSubplot object at 0x7efd43af5590>,\n",
       "        <matplotlib.axes._subplots.AxesSubplot object at 0x7efd43a79650>],\n",
       "       [<matplotlib.axes._subplots.AxesSubplot object at 0x7efd43cb0450>,\n",
       "        <matplotlib.axes._subplots.AxesSubplot object at 0x7efd439d2890>,\n",
       "        <matplotlib.axes._subplots.AxesSubplot object at 0x7efd43955850>,\n",
       "        <matplotlib.axes._subplots.AxesSubplot object at 0x7efd438c44d0>]], dtype=object)"
      ]
     },
     "execution_count": 7,
     "metadata": {},
     "output_type": "execute_result"
    },
    {
     "data": {
      "image/png": "[encoded data removed]",
      "text/plain": [
       "<matplotlib.figure.Figure at 0x7efd520f5d90>"
      ]
     },
     "metadata": {},
     "output_type": "display_data"
    }
   ],
   "source": [
    "pd.scatter_matrix(yelp_df[['cool', 'funny', 'useful', 'stars']])"
   ]
  },
  {
   "cell_type": "code",
   "execution_count": 8,
   "metadata": {
    "collapsed": false
   },
   "outputs": [
    {
     "data": {
      "text/plain": [
       "<matplotlib.axes._subplots.AxesSubplot at 0x7efd3d9bed90>"
      ]
     },
     "execution_count": 8,
     "metadata": {},
     "output_type": "execute_result"
    },
    {
     "data": {
      "image/png": "[encoded data removed]",
      "text/plain": [
       "<matplotlib.figure.Figure at 0x7efd438110d0>"
      ]
     },
     "metadata": {},
     "output_type": "display_data"
    },
    {
     "data": {
      "image/png": "[encoded data removed]",
      "text/plain": [
       "<matplotlib.figure.Figure at 0x7efd3dc3ff50>"
      ]
     },
     "metadata": {},
     "output_type": "display_data"
    },
    {
     "data": {
      "image/png": "[encoded data removed]",
      "text/plain": [
       "<matplotlib.figure.Figure at 0x7efd3dc018d0>"
      ]
     },
     "metadata": {},
     "output_type": "display_data"
    }
   ],
   "source": [
    "# Pandas scatter plot [cool, funny, useful] vs. stars\n",
    "yelp_df.plot(x='stars', y='cool', kind=\"scatter\")\n",
    "yelp_df.plot(x='stars', y='funny', kind=\"scatter\")\n",
    "yelp_df.plot(x='stars', y='useful', kind=\"scatter\")\n"
   ]
  },
  {
   "cell_type": "code",
   "execution_count": null,
   "metadata": {
    "collapsed": true
   },
   "outputs": [],
   "source": [
    "# "
   ]
  },
  {
   "cell_type": "code",
   "execution_count": 9,
   "metadata": {
    "collapsed": false,
    "scrolled": true
   },
   "outputs": [
    {
     "data": {
      "text/html": [
       "<div>\n",
       "<table border=\"1\" class=\"dataframe\">\n",
       "  <thead>\n",
       "    <tr style=\"text-align: right;\">\n",
       "      <th></th>\n",
       "      <th>stars</th>\n",
       "      <th>cool</th>\n",
       "      <th>funny</th>\n",
       "      <th>useful</th>\n",
       "    </tr>\n",
       "  </thead>\n",
       "  <tbody>\n",
       "    <tr>\n",
       "      <th>count</th>\n",
       "      <td>10000.000000</td>\n",
       "      <td>10000.000000</td>\n",
       "      <td>10000.000000</td>\n",
       "      <td>10000.000000</td>\n",
       "    </tr>\n",
       "    <tr>\n",
       "      <th>mean</th>\n",
       "      <td>3.777500</td>\n",
       "      <td>0.876800</td>\n",
       "      <td>0.701300</td>\n",
       "      <td>1.409300</td>\n",
       "    </tr>\n",
       "    <tr>\n",
       "      <th>std</th>\n",
       "      <td>1.214636</td>\n",
       "      <td>2.067861</td>\n",
       "      <td>1.907942</td>\n",
       "      <td>2.336647</td>\n",
       "    </tr>\n",
       "    <tr>\n",
       "      <th>min</th>\n",
       "      <td>1.000000</td>\n",
       "      <td>0.000000</td>\n",
       "      <td>0.000000</td>\n",
       "      <td>0.000000</td>\n",
       "    </tr>\n",
       "    <tr>\n",
       "      <th>25%</th>\n",
       "      <td>3.000000</td>\n",
       "      <td>0.000000</td>\n",
       "      <td>0.000000</td>\n",
       "      <td>0.000000</td>\n",
       "    </tr>\n",
       "    <tr>\n",
       "      <th>50%</th>\n",
       "      <td>4.000000</td>\n",
       "      <td>0.000000</td>\n",
       "      <td>0.000000</td>\n",
       "      <td>1.000000</td>\n",
       "    </tr>\n",
       "    <tr>\n",
       "      <th>75%</th>\n",
       "      <td>5.000000</td>\n",
       "      <td>1.000000</td>\n",
       "      <td>1.000000</td>\n",
       "      <td>2.000000</td>\n",
       "    </tr>\n",
       "    <tr>\n",
       "      <th>max</th>\n",
       "      <td>5.000000</td>\n",
       "      <td>77.000000</td>\n",
       "      <td>57.000000</td>\n",
       "      <td>76.000000</td>\n",
       "    </tr>\n",
       "  </tbody>\n",
       "</table>\n",
       "</div>"
      ],
      "text/plain": [
       "              stars          cool         funny        useful\n",
       "count  10000.000000  10000.000000  10000.000000  10000.000000\n",
       "mean       3.777500      0.876800      0.701300      1.409300\n",
       "std        1.214636      2.067861      1.907942      2.336647\n",
       "min        1.000000      0.000000      0.000000      0.000000\n",
       "25%        3.000000      0.000000      0.000000      0.000000\n",
       "50%        4.000000      0.000000      0.000000      1.000000\n",
       "75%        5.000000      1.000000      1.000000      2.000000\n",
       "max        5.000000     77.000000     57.000000     76.000000"
      ]
     },
     "execution_count": 9,
     "metadata": {},
     "output_type": "execute_result"
    }
   ],
   "source": [
    "yelp_df.describe()"
   ]
  },
  {
   "cell_type": "code",
   "execution_count": 10,
   "metadata": {
    "collapsed": false,
    "scrolled": true
   },
   "outputs": [
    {
     "name": "stderr",
     "output_type": "stream",
     "text": [
      "/home/anna/anaconda2/lib/python2.7/site-packages/matplotlib/__init__.py:892: UserWarning: axes.color_cycle is deprecated and replaced with axes.prop_cycle; please use the latter.\n",
      "  warnings.warn(self.msg_depr % (key, alt_key))\n"
     ]
    },
    {
     "data": {
      "text/plain": [
       "<matplotlib.axes._subplots.AxesSubplot at 0x7efd3d931b90>"
      ]
     },
     "execution_count": 10,
     "metadata": {},
     "output_type": "execute_result"
    },
    {
     "data": {
      "image/png": "[encoded data removed]",
      "text/plain": [
       "<matplotlib.figure.Figure at 0x7efd3dac8bd0>"
      ]
     },
     "metadata": {},
     "output_type": "display_data"
    }
   ],
   "source": [
    "# These boxplots were not useful because of the large # reviews w/ 0 votes\n",
    "sns.boxplot(y='cool',x='stars', data=yelp_df, fliersize=5.0)"
   ]
  },
  {
   "cell_type": "code",
   "execution_count": 11,
   "metadata": {
    "collapsed": false,
    "scrolled": true
   },
   "outputs": [
    {
     "data": {
      "text/plain": [
       "<matplotlib.axes._subplots.AxesSubplot at 0x7efd3da54b90>"
      ]
     },
     "execution_count": 11,
     "metadata": {},
     "output_type": "execute_result"
    },
    {
     "data": {
      "image/png": "[encoded data removed]",
      "text/plain": [
       "<matplotlib.figure.Figure at 0x7efd3d9b1c10>"
      ]
     },
     "metadata": {},
     "output_type": "display_data"
    }
   ],
   "source": [
    "sns.boxplot(y='funny',x='stars', data=yelp_df)"
   ]
  },
  {
   "cell_type": "code",
   "execution_count": 12,
   "metadata": {
    "collapsed": false,
    "scrolled": false
   },
   "outputs": [
    {
     "data": {
      "text/plain": [
       "<matplotlib.axes._subplots.AxesSubplot at 0x7efd3d6fbf10>"
      ]
     },
     "execution_count": 12,
     "metadata": {},
     "output_type": "execute_result"
    },
    {
     "data": {
      "image/png": "[encoded data removed]",
      "text/plain": [
       "<matplotlib.figure.Figure at 0x7efd3d872d10>"
      ]
     },
     "metadata": {},
     "output_type": "display_data"
    }
   ],
   "source": [
    "sns.boxplot(y='useful',x='stars', data=yelp_df)"
   ]
  },
  {
   "cell_type": "code",
   "execution_count": 14,
   "metadata": {
    "collapsed": false,
    "scrolled": true
   },
   "outputs": [
    {
     "data": {
      "text/plain": [
       "<seaborn.axisgrid.FacetGrid at 0x7efd3dc0e490>"
      ]
     },
     "execution_count": 14,
     "metadata": {},
     "output_type": "execute_result"
    },
    {
     "data": {
      "image/png": "[encoded data removed]",
      "text/plain": [
       "<matplotlib.figure.Figure at 0x7efd3dc0e090>"
      ]
     },
     "metadata": {},
     "output_type": "display_data"
    }
   ],
   "source": [
    "sns.lmplot(x='stars',y='cool',data=yelp_df, truncate = False)"
   ]
  },
  {
   "cell_type": "code",
   "execution_count": 15,
   "metadata": {
    "collapsed": false,
    "scrolled": true
   },
   "outputs": [
    {
     "data": {
      "text/plain": [
       "<seaborn.axisgrid.FacetGrid at 0x7efd3d69a110>"
      ]
     },
     "execution_count": 15,
     "metadata": {},
     "output_type": "execute_result"
    },
    {
     "data": {
      "image/png": "[encoded data removed]",
      "text/plain": [
       "<matplotlib.figure.Figure at 0x7efd3dc0ed50>"
      ]
     },
     "metadata": {},
     "output_type": "display_data"
    }
   ],
   "source": [
    "sns.lmplot(x='stars',y='funny',data=yelp_df)"
   ]
  },
  {
   "cell_type": "code",
   "execution_count": 16,
   "metadata": {
    "collapsed": false,
    "scrolled": true
   },
   "outputs": [
    {
     "data": {
      "text/plain": [
       "<seaborn.axisgrid.FacetGrid at 0x7efd3d4ace50>"
      ]
     },
     "execution_count": 16,
     "metadata": {},
     "output_type": "execute_result"
    },
    {
     "data": {
      "image/png": "[encoded data removed]",
      "text/plain": [
       "<matplotlib.figure.Figure at 0x7efd3dc0edd0>"
      ]
     },
     "metadata": {},
     "output_type": "display_data"
    }
   ],
   "source": [
    "sns.lmplot(x='stars',y='useful',data=yelp_df)"
   ]
  },
  {
   "cell_type": "code",
   "execution_count": 17,
   "metadata": {
    "collapsed": false,
    "scrolled": false
   },
   "outputs": [
    {
     "data": {
      "text/plain": [
       "<matplotlib.axes._subplots.AxesSubplot at 0x7efd3d3526d0>"
      ]
     },
     "execution_count": 17,
     "metadata": {},
     "output_type": "execute_result"
    },
    {
     "data": {
      "image/png": "[encoded data removed]",
      "text/plain": [
       "<matplotlib.figure.Figure at 0x7efd3d3b3710>"
      ]
     },
     "metadata": {},
     "output_type": "display_data"
    }
   ],
   "source": [
    "sns.stripplot(x='stars', y='useful', data=yelp_df, order=[1,2,3,4,5])"
   ]
  },
  {
   "cell_type": "code",
   "execution_count": 18,
   "metadata": {
    "collapsed": false
   },
   "outputs": [
    {
     "name": "stdout",
     "output_type": "stream",
     "text": [
      "cool\n",
      "  star= 1 cool avg= 0.576769025367\n",
      "  star= 2 cool avg= 0.719525350593\n",
      "  star= 3 cool avg= 0.788501026694\n",
      "  star= 4 cool avg= 0.954622802042\n",
      "  star= 5 cool avg= 0.944261312556\n",
      "funny\n",
      "  star= 1 funny avg= 1.05607476636\n",
      "  star= 2 funny avg= 0.87594390507\n",
      "  star= 3 funny avg= 0.694729637235\n",
      "  star= 4 funny avg= 0.67044809983\n",
      "  star= 5 funny avg= 0.608630506443\n",
      "useful\n",
      "  star= 1 useful avg= 1.60480640854\n",
      "  star= 2 useful avg= 1.56310679612\n",
      "  star= 3 useful avg= 1.30663928816\n",
      "  star= 4 useful avg= 1.39591605218\n",
      "  star= 5 useful avg= 1.38178004195\n"
     ]
    }
   ],
   "source": [
    "cols = ['cool', 'funny', 'useful']\n",
    "\n",
    "for j in range(0,len(cols)):\n",
    "    print cols[j]\n",
    "    for i in range(1,6):\n",
    "        print '  star=', i, cols[j]+ ' avg=', yelp_df[yelp_df.stars == i][cols[j]].mean()\n"
   ]
  },
  {
   "cell_type": "markdown",
   "metadata": {},
   "source": [
    "Observations;  There seems to be a relationship between cool and useful.  But I am not sure what if-any relationship between cool/fun/useful and stars. From the plots I can't see that there is a direct linear relationship between stars vs. any type vote.  The seaborn lmplot might show a linear relationship but hard to see because of scale. Also the fact that it is a horizontal line seems to indicate that if there is linear relationship it isn't really a strong one."
   ]
  },
  {
   "cell_type": "markdown",
   "metadata": {},
   "source": [
    "### 3) Set cool/funny/useful as features and stars as response"
   ]
  },
  {
   "cell_type": "code",
   "execution_count": 19,
   "metadata": {
    "collapsed": true
   },
   "outputs": [],
   "source": [
    "cols = ['cool','funny','useful']\n",
    "X = yelp_df[cols]\n",
    "y = yelp_df.stars"
   ]
  },
  {
   "cell_type": "code",
   "execution_count": 20,
   "metadata": {
    "collapsed": false
   },
   "outputs": [
    {
     "data": {
      "text/html": [
       "<div>\n",
       "<table border=\"1\" class=\"dataframe\">\n",
       "  <thead>\n",
       "    <tr style=\"text-align: right;\">\n",
       "      <th></th>\n",
       "      <th>cool</th>\n",
       "      <th>funny</th>\n",
       "      <th>useful</th>\n",
       "    </tr>\n",
       "  </thead>\n",
       "  <tbody>\n",
       "    <tr>\n",
       "      <th>0</th>\n",
       "      <td>2</td>\n",
       "      <td>0</td>\n",
       "      <td>5</td>\n",
       "    </tr>\n",
       "    <tr>\n",
       "      <th>1</th>\n",
       "      <td>0</td>\n",
       "      <td>0</td>\n",
       "      <td>0</td>\n",
       "    </tr>\n",
       "    <tr>\n",
       "      <th>2</th>\n",
       "      <td>0</td>\n",
       "      <td>0</td>\n",
       "      <td>1</td>\n",
       "    </tr>\n",
       "    <tr>\n",
       "      <th>3</th>\n",
       "      <td>1</td>\n",
       "      <td>0</td>\n",
       "      <td>2</td>\n",
       "    </tr>\n",
       "    <tr>\n",
       "      <th>4</th>\n",
       "      <td>0</td>\n",
       "      <td>0</td>\n",
       "      <td>0</td>\n",
       "    </tr>\n",
       "  </tbody>\n",
       "</table>\n",
       "</div>"
      ],
      "text/plain": [
       "   cool  funny  useful\n",
       "0     2      0       5\n",
       "1     0      0       0\n",
       "2     0      0       1\n",
       "3     1      0       2\n",
       "4     0      0       0"
      ]
     },
     "execution_count": 20,
     "metadata": {},
     "output_type": "execute_result"
    }
   ],
   "source": [
    "X.head()"
   ]
  },
  {
   "cell_type": "code",
   "execution_count": 21,
   "metadata": {
    "collapsed": false
   },
   "outputs": [
    {
     "data": {
      "text/plain": [
       "0    5\n",
       "1    5\n",
       "2    4\n",
       "3    5\n",
       "4    5\n",
       "Name: stars, dtype: int64"
      ]
     },
     "execution_count": 21,
     "metadata": {},
     "output_type": "execute_result"
    }
   ],
   "source": [
    "y.head()"
   ]
  },
  {
   "cell_type": "markdown",
   "metadata": {},
   "source": [
    "### 4) Fit a linear regression model and interpret the coefficients. \n",
    "* Do the coefficients make intuitive sense to you? \n",
    "* Explore the Yelp website to see if you detect similar trends."
   ]
  },
  {
   "cell_type": "code",
   "execution_count": 22,
   "metadata": {
    "collapsed": false
   },
   "outputs": [],
   "source": [
    "from sklearn import linear_model"
   ]
  },
  {
   "cell_type": "code",
   "execution_count": 23,
   "metadata": {
    "collapsed": true
   },
   "outputs": [],
   "source": [
    "linreg = linear_model.LinearRegression()"
   ]
  },
  {
   "cell_type": "code",
   "execution_count": 24,
   "metadata": {
    "collapsed": false
   },
   "outputs": [
    {
     "name": "stdout",
     "output_type": "stream",
     "text": [
      "[ 0.27435947 -0.13567449 -0.14745239]\n",
      "3.83989479278\n"
     ]
    }
   ],
   "source": [
    "yelp_model = linreg.fit(X,y)\n",
    "print yelp_model.coef_\n",
    "print yelp_model.intercept_"
   ]
  },
  {
   "cell_type": "markdown",
   "metadata": {},
   "source": [
    "##### Linear model interpretation of:\n",
    "       y = 3.840 + 0.2744 * cool + -0.1357 * funny + -0.1475 * useful\n",
    "##### Holding all other respective x variables steady:\n",
    "* The star rating increases .2744 points when cool is increased by 1 vote (this makes sense)\n",
    "* The star rating decreases .1357 points when funny is increased by 1 vote (I guess this makes sense -- often funny remarks are made when disparaging an establishment)\n",
    "* The star rating decreases .1475 points when useful is increased by 1 vote (this also makes sense -- folks find something useful particularly if they know to *avoid* it)\n",
    "* The cool factor is weighted about 2x more than either the funny or useful\n"
   ]
  },
  {
   "cell_type": "markdown",
   "metadata": {},
   "source": [
    "### 5) Evaluate the model\n",
    "* Split into training and testing sets\n",
    "* Compute the RMSE \n",
    "* Does the RMSE make intuitive sense to you?"
   ]
  },
  {
   "cell_type": "code",
   "execution_count": 25,
   "metadata": {
    "collapsed": true
   },
   "outputs": [],
   "source": [
    "from sklearn import cross_validation"
   ]
  },
  {
   "cell_type": "code",
   "execution_count": 26,
   "metadata": {
    "collapsed": true
   },
   "outputs": [],
   "source": [
    "train_X, test_X, train_y, test_y = cross_validation.train_test_split(X, y, test_size=0.33, random_state=42)"
   ]
  },
  {
   "cell_type": "code",
   "execution_count": 27,
   "metadata": {
    "collapsed": false
   },
   "outputs": [
    {
     "name": "stdout",
     "output_type": "stream",
     "text": [
      "(10000, 3)\n",
      "(10000,)\n"
     ]
    }
   ],
   "source": [
    "print X.shape\n",
    "print y.shape"
   ]
  },
  {
   "cell_type": "code",
   "execution_count": 28,
   "metadata": {
    "collapsed": false
   },
   "outputs": [
    {
     "name": "stdout",
     "output_type": "stream",
     "text": [
      "(6700, 3)\n",
      "(3300, 3)\n",
      "(6700,)\n",
      "(3300,)\n"
     ]
    }
   ],
   "source": [
    "print train_X.shape\n",
    "print test_X.shape\n",
    "print train_y.shape\n",
    "print test_y.shape"
   ]
  },
  {
   "cell_type": "code",
   "execution_count": 29,
   "metadata": {
    "collapsed": true
   },
   "outputs": [],
   "source": [
    "linreg = linear_model.LinearRegression()"
   ]
  },
  {
   "cell_type": "code",
   "execution_count": 30,
   "metadata": {
    "collapsed": false
   },
   "outputs": [],
   "source": [
    "train_model = linreg.fit(train_X, train_y)"
   ]
  },
  {
   "cell_type": "code",
   "execution_count": 31,
   "metadata": {
    "collapsed": false
   },
   "outputs": [
    {
     "name": "stdout",
     "output_type": "stream",
     "text": [
      "[ 0.33607335 -0.18334583 -0.15679006]\n",
      "3.82919319704\n"
     ]
    }
   ],
   "source": [
    "print train_model.coef_\n",
    "print train_model.intercept_"
   ]
  },
  {
   "cell_type": "markdown",
   "metadata": {},
   "source": [
    "##### This is the old model using all of the data to train on:\n",
    "           y = 3.840 + 0.2744 * cool + -0.1357 * funny + -0.1475 * useful\n",
    "##### This is the train model using only training data (2/3 of the data set):\n",
    "           y = 3.829 + 0.3351 * cool + -0.1833 * funny + -0.1568 * useful"
   ]
  },
  {
   "cell_type": "code",
   "execution_count": 32,
   "metadata": {
    "collapsed": false
   },
   "outputs": [],
   "source": [
    "# this will give predictions using the test matrix \n",
    "pred = train_model.predict(test_X)"
   ]
  },
  {
   "cell_type": "code",
   "execution_count": 33,
   "metadata": {
    "collapsed": true
   },
   "outputs": [],
   "source": [
    "from sklearn import metrics"
   ]
  },
  {
   "cell_type": "code",
   "execution_count": 34,
   "metadata": {
    "collapsed": false
   },
   "outputs": [],
   "source": [
    "# get mean square error\n",
    "mserr = metrics.mean_squared_error(test_y, pred)"
   ]
  },
  {
   "cell_type": "code",
   "execution_count": 35,
   "metadata": {
    "collapsed": true
   },
   "outputs": [],
   "source": [
    "rmserr = np.sqrt(mserr)"
   ]
  },
  {
   "cell_type": "code",
   "execution_count": 36,
   "metadata": {
    "collapsed": false
   },
   "outputs": [
    {
     "data": {
      "text/plain": [
       "1.2002755036281352"
      ]
     },
     "execution_count": 36,
     "metadata": {},
     "output_type": "execute_result"
    }
   ],
   "source": [
    "rmserr"
   ]
  },
  {
   "cell_type": "markdown",
   "metadata": {},
   "source": [
    "### 6) Try removing some of the features and see if the RMSE improves."
   ]
  },
  {
   "cell_type": "code",
   "execution_count": 37,
   "metadata": {
    "collapsed": false
   },
   "outputs": [],
   "source": [
    "from sklearn import linear_model\n",
    "from sklearn import cross_validation\n",
    "from sklearn import metrics\n",
    "\n",
    "def calc_rmse(feature_list, X, y):\n",
    "    X1 = X[feature_list]\n",
    "    X_train, X_test, y_train, y_test = cross_validation.train_test_split(X1, y, test_size=0.33, random_state = 42)\n",
    "    linreg = linear_model.LinearRegression()\n",
    "    train_model = linreg.fit(X_train, y_train)\n",
    "    y_pred = linreg.predict(X_test)\n",
    "    mserr = metrics.mean_squared_error(y_test, y_pred)\n",
    "    rmserr = np.sqrt(mserr)\n",
    "    print feature_list, 'rmse=', rmserr\n",
    "    print 'linear coeff:', linreg.coef_ \n",
    "    print 'intercept:', linreg.intercept_"
   ]
  },
  {
   "cell_type": "code",
   "execution_count": 38,
   "metadata": {
    "collapsed": false
   },
   "outputs": [
    {
     "name": "stdout",
     "output_type": "stream",
     "text": [
      "['cool', 'funny', 'useful'] rmse= 1.20027550363\n",
      "linear coeff: [ 0.33607335 -0.18334583 -0.15679006]\n",
      "intercept: 3.82919319704\n"
     ]
    }
   ],
   "source": [
    "feats = ['cool', 'funny', 'useful']\n",
    "X = yelp_df[feats]\n",
    "y = yelp_df.stars\n",
    "calc_rmse(feats, X, y)"
   ]
  },
  {
   "cell_type": "code",
   "execution_count": 39,
   "metadata": {
    "collapsed": false
   },
   "outputs": [
    {
     "name": "stdout",
     "output_type": "stream",
     "text": [
      "['cool', 'useful'] rmse= 1.19505494042\n",
      "linear coeff: [ 0.21495604 -0.18781686]\n",
      "intercept: 3.84780151159\n"
     ]
    }
   ],
   "source": [
    "# Removed funny based on previous scatter plots, funny did not really have as much of linear relationship \n",
    "feats = ['cool','useful']\n",
    "calc_rmse(feats, X, y)"
   ]
  },
  {
   "cell_type": "code",
   "execution_count": 40,
   "metadata": {
    "collapsed": false
   },
   "outputs": [
    {
     "name": "stdout",
     "output_type": "stream",
     "text": [
      "['cool', 'funny'] rmse= 1.2095790831\n",
      "linear coeff: [ 0.20086026 -0.2087886 ]\n",
      "intercept: 3.74429676936\n"
     ]
    }
   ],
   "source": [
    "feats = ['cool','funny']\n",
    "calc_rmse(feats, X, y)"
   ]
  },
  {
   "cell_type": "code",
   "execution_count": 41,
   "metadata": {
    "collapsed": false
   },
   "outputs": [
    {
     "name": "stdout",
     "output_type": "stream",
     "text": [
      "['funny', 'useful'] rmse= 1.20367776112\n",
      "linear coeff: [-0.05701219  0.01520036]\n",
      "intercept: 3.78984965694\n"
     ]
    }
   ],
   "source": [
    "feats = ['funny','useful']\n",
    "calc_rmse(feats, X, y)"
   ]
  },
  {
   "cell_type": "code",
   "execution_count": 42,
   "metadata": {
    "collapsed": false,
    "scrolled": true
   },
   "outputs": [
    {
     "name": "stdout",
     "output_type": "stream",
     "text": [
      "['cool'] rmse= 1.20290703502\n",
      "linear coeff: [ 0.02771074]\n",
      "intercept: 3.74641422819\n"
     ]
    }
   ],
   "source": [
    "feats = ['cool']\n",
    "calc_rmse(feats, X, y)"
   ]
  },
  {
   "cell_type": "markdown",
   "metadata": {},
   "source": [
    "##### The conclusion is that the features cool and useful are best predictors of rating (over funny)"
   ]
  },
  {
   "cell_type": "markdown",
   "metadata": {},
   "source": [
    "### 7) Think of some new features\n",
    "* create features from the existing data that might be predictive of the response\n",
    "* figure out how to create those features in Pandas\n",
    "* add them to your model, and see if the RMSE improves.\n",
    "\n",
    "* Question:  Say that I wanted to add a new feature like mean of the star ratings.  How would I do that?  Just on training data? Are feature values derived just from training set?"
   ]
  },
  {
   "cell_type": "markdown",
   "metadata": {},
   "source": [
    "### a) Adding together or multiplying existing features"
   ]
  },
  {
   "cell_type": "code",
   "execution_count": 43,
   "metadata": {
    "collapsed": false,
    "scrolled": false
   },
   "outputs": [
    {
     "name": "stdout",
     "output_type": "stream",
     "text": [
      "(10000, 11)\n"
     ]
    },
    {
     "data": {
      "text/html": [
       "<div>\n",
       "<table border=\"1\" class=\"dataframe\">\n",
       "  <thead>\n",
       "    <tr style=\"text-align: right;\">\n",
       "      <th></th>\n",
       "      <th>business_id</th>\n",
       "      <th>date</th>\n",
       "      <th>review_id</th>\n",
       "      <th>stars</th>\n",
       "      <th>text</th>\n",
       "      <th>type</th>\n",
       "      <th>user_id</th>\n",
       "      <th>votes</th>\n",
       "      <th>cool</th>\n",
       "      <th>funny</th>\n",
       "      <th>useful</th>\n",
       "      <th>vote_total</th>\n",
       "    </tr>\n",
       "  </thead>\n",
       "  <tbody>\n",
       "    <tr>\n",
       "      <th>0</th>\n",
       "      <td>9yKzy9PApeiPPOUJEtnvkg</td>\n",
       "      <td>2011-01-26</td>\n",
       "      <td>fWKvX83p0-ka4JS3dc6E5A</td>\n",
       "      <td>5</td>\n",
       "      <td>My wife took me here on my birthday for breakf...</td>\n",
       "      <td>review</td>\n",
       "      <td>rLtl8ZkDX5vH5nAx9C3q5Q</td>\n",
       "      <td>{u'funny': 0, u'useful': 5, u'cool': 2}</td>\n",
       "      <td>2</td>\n",
       "      <td>0</td>\n",
       "      <td>5</td>\n",
       "      <td>7</td>\n",
       "    </tr>\n",
       "    <tr>\n",
       "      <th>1</th>\n",
       "      <td>ZRJwVLyzEJq1VAihDhYiow</td>\n",
       "      <td>2011-07-27</td>\n",
       "      <td>IjZ33sJrzXqU-0X6U8NwyA</td>\n",
       "      <td>5</td>\n",
       "      <td>I have no idea why some people give bad review...</td>\n",
       "      <td>review</td>\n",
       "      <td>0a2KyEL0d3Yb1V6aivbIuQ</td>\n",
       "      <td>{u'funny': 0, u'useful': 0, u'cool': 0}</td>\n",
       "      <td>0</td>\n",
       "      <td>0</td>\n",
       "      <td>0</td>\n",
       "      <td>0</td>\n",
       "    </tr>\n",
       "    <tr>\n",
       "      <th>2</th>\n",
       "      <td>6oRAC4uyJCsJl1X0WZpVSA</td>\n",
       "      <td>2012-06-14</td>\n",
       "      <td>IESLBzqUCLdSzSqm0eCSxQ</td>\n",
       "      <td>4</td>\n",
       "      <td>love the gyro plate. Rice is so good and I als...</td>\n",
       "      <td>review</td>\n",
       "      <td>0hT2KtfLiobPvh6cDC8JQg</td>\n",
       "      <td>{u'funny': 0, u'useful': 1, u'cool': 0}</td>\n",
       "      <td>0</td>\n",
       "      <td>0</td>\n",
       "      <td>1</td>\n",
       "      <td>1</td>\n",
       "    </tr>\n",
       "  </tbody>\n",
       "</table>\n",
       "</div>"
      ],
      "text/plain": [
       "              business_id        date               review_id  stars  \\\n",
       "0  9yKzy9PApeiPPOUJEtnvkg  2011-01-26  fWKvX83p0-ka4JS3dc6E5A      5   \n",
       "1  ZRJwVLyzEJq1VAihDhYiow  2011-07-27  IjZ33sJrzXqU-0X6U8NwyA      5   \n",
       "2  6oRAC4uyJCsJl1X0WZpVSA  2012-06-14  IESLBzqUCLdSzSqm0eCSxQ      4   \n",
       "\n",
       "                                                text    type  \\\n",
       "0  My wife took me here on my birthday for breakf...  review   \n",
       "1  I have no idea why some people give bad review...  review   \n",
       "2  love the gyro plate. Rice is so good and I als...  review   \n",
       "\n",
       "                  user_id                                    votes  cool  \\\n",
       "0  rLtl8ZkDX5vH5nAx9C3q5Q  {u'funny': 0, u'useful': 5, u'cool': 2}     2   \n",
       "1  0a2KyEL0d3Yb1V6aivbIuQ  {u'funny': 0, u'useful': 0, u'cool': 0}     0   \n",
       "2  0hT2KtfLiobPvh6cDC8JQg  {u'funny': 0, u'useful': 1, u'cool': 0}     0   \n",
       "\n",
       "   funny  useful  vote_total  \n",
       "0      0       5           7  \n",
       "1      0       0           0  \n",
       "2      0       1           1  "
      ]
     },
     "execution_count": 43,
     "metadata": {},
     "output_type": "execute_result"
    }
   ],
   "source": [
    "print yelp_df.shape\n",
    "yelp_df['vote_total'] = yelp_df.cool + yelp_df.useful\n",
    "# excluded yelp_df.funny from total because rmse is too high\n",
    "yelp_df.head(3)"
   ]
  },
  {
   "cell_type": "code",
   "execution_count": 44,
   "metadata": {
    "collapsed": false,
    "scrolled": true
   },
   "outputs": [
    {
     "name": "stdout",
     "output_type": "stream",
     "text": [
      "total 10000\n",
      "6290\n",
      "7013\n",
      "4130\n",
      "3874\n"
     ]
    }
   ],
   "source": [
    "# A large number of reviews are zero in at least type: cool, funny, or useful.  \n",
    "# A lower percentage has no votes across all three\n",
    "print 'total', len(yelp_df)\n",
    "print sum(yelp_df.cool == 0)\n",
    "print sum(yelp_df.funny == 0)\n",
    "print sum(yelp_df.useful == 0)\n",
    "print sum(yelp_df.vote_total == 0)"
   ]
  },
  {
   "cell_type": "code",
   "execution_count": 45,
   "metadata": {
    "collapsed": false
   },
   "outputs": [
    {
     "name": "stdout",
     "output_type": "stream",
     "text": [
      "['cool', 'useful', 'vote_total'] rmse= 1.19474325017\n",
      "linear coeff: [ -1.08615515e+12  -1.08615515e+12   1.08615515e+12]\n",
      "intercept: 3.84090951493\n"
     ]
    }
   ],
   "source": [
    "# Possible to include vote_total into previous linear model\n",
    "cols = ['cool', 'useful', 'vote_total']\n",
    "X = yelp_df[cols]\n",
    "y = yelp_df.stars\n",
    "calc_rmse(cols, X, y)"
   ]
  },
  {
   "cell_type": "code",
   "execution_count": 46,
   "metadata": {
    "collapsed": false
   },
   "outputs": [
    {
     "name": "stdout",
     "output_type": "stream",
     "text": [
      "['vote_total', 'useful'] rmse= 1.19505494042\n",
      "linear coeff: [ 0.21495604 -0.4027729 ]\n",
      "intercept: 3.84780151159\n",
      "['vote_total', 'cool'] rmse= 1.19505494042\n",
      "linear coeff: [-0.18781686  0.4027729 ]\n",
      "intercept: 3.84780151159\n",
      "['vote_total'] rmse= 1.20565666912\n",
      "linear coeff: [-0.00060632]\n",
      "intercept: 3.77198097167\n"
     ]
    }
   ],
   "source": [
    "cols = ['vote_total', 'useful']\n",
    "X = yelp_df[cols]\n",
    "y = yelp_df.stars\n",
    "calc_rmse(cols, X, y)\n",
    "\n",
    "cols = ['vote_total', 'cool']\n",
    "X = yelp_df[cols]\n",
    "calc_rmse(cols, X, y)\n",
    "\n",
    "cols = ['vote_total']\n",
    "X = yelp_df[cols]\n",
    "calc_rmse(cols, X, y)"
   ]
  },
  {
   "cell_type": "code",
   "execution_count": 47,
   "metadata": {
    "collapsed": true
   },
   "outputs": [],
   "source": [
    "# Multiplying fields together? \n",
    "yelp_df['vote_mult'] = yelp_df.cool * yelp_df.useful"
   ]
  },
  {
   "cell_type": "code",
   "execution_count": 48,
   "metadata": {
    "collapsed": false
   },
   "outputs": [
    {
     "name": "stdout",
     "output_type": "stream",
     "text": [
      "['cool', 'useful', 'vote_mult'] rmse= 1.1948930658\n",
      "linear coeff: [ 0.21815072 -0.18722146 -0.00029779]\n",
      "intercept: 3.84565878869\n",
      "['vote_mult', 'useful'] rmse= 1.25205565805\n",
      "linear coeff: [ 0.00445978 -0.06881557]\n",
      "intercept: 3.84538235634\n",
      "['vote_mult', 'cool'] rmse= 1.20826754114\n",
      "linear coeff: [-0.00157396  0.04773324]\n",
      "intercept: 3.73678787617\n",
      "['vote_mult'] rmse= 1.20621000055\n",
      "linear coeff: [ 0.00083262]\n",
      "intercept: 3.76644597154\n",
      "['cool', 'useful', 'vote_total'] rmse= 1.19474325017\n",
      "linear coeff: [ -1.08615515e+12  -1.08615515e+12   1.08615515e+12]\n",
      "intercept: 3.84090951493\n"
     ]
    }
   ],
   "source": [
    "cols = ['cool', 'useful', 'vote_mult']\n",
    "X = yelp_df[cols]\n",
    "y = yelp_df.stars\n",
    "calc_rmse(cols, X, y)\n",
    "\n",
    "cols = ['vote_mult', 'useful']\n",
    "X = yelp_df[cols]\n",
    "y = yelp_df.stars\n",
    "calc_rmse(cols, X, y)\n",
    "\n",
    "cols = ['vote_mult', 'cool']\n",
    "X = yelp_df[cols]\n",
    "calc_rmse(cols, X, y)\n",
    "\n",
    "cols = ['vote_mult']\n",
    "X = yelp_df[cols]\n",
    "calc_rmse(cols, X, y)\n",
    "\n",
    "cols = ['cool', 'useful', 'vote_total']\n",
    "X = yelp_df[cols]\n",
    "y = yelp_df.stars\n",
    "calc_rmse(cols, X, y)\n"
   ]
  },
  {
   "cell_type": "markdown",
   "metadata": {},
   "source": [
    "##### Conclusion:  vote_total, cool, useful provide the better linear combination to predict star rating.  \n",
    "* Is there a better way to come up with features? I am doing this by trial and error??\n",
    "* Best I could get is: RMSE 1.19474325017 using ['cool', 'useful', 'vote_total'] features"
   ]
  },
  {
   "cell_type": "markdown",
   "metadata": {},
   "source": [
    "### b) Trying simple word/sentiment analysis"
   ]
  },
  {
   "cell_type": "raw",
   "metadata": {},
   "source": [
    "# Use sentiment of words on comment review field\n",
    "# Downloaded '+/-Effect Lexicon' from http://mpqa.cs.pitt.edu/lexicons/effect_lexicon/\n",
    "# Lots of words in this lexicon are either neutral or positive but they are ranked as negative.  Looking for anothear source...\n",
    "from stemming.porter2 import stem\n",
    "from collections import defaultdict\n",
    "\n",
    "with open('./EffectWordNet.tff', 'r') as f:\n",
    "    lines = f.readlines()\n",
    "\n",
    "lex_dd = defaultdict(dict)\n",
    "for line in lines:\n",
    "    strings = line.split('\\t')\n",
    "    if strings[1] == 'Null':\n",
    "        continue\n",
    "\n",
    "    sentiment = 1 if strings[1][0] == '+' else -1\n",
    "    words = strings[2].split(',')\n",
    "    for word in words:\n",
    "        d = {}\n",
    "        d['sentiment'] = sentiment\n",
    "        d['word'] = word\n",
    "        d['ct'] = len(word.split('_'))\n",
    "        lex_dd[word] = d\n",
    "\n",
    "print 'length of dd', len(lex_dd)\n"
   ]
  },
  {
   "cell_type": "code",
   "execution_count": 49,
   "metadata": {
    "collapsed": false,
    "scrolled": true
   },
   "outputs": [],
   "source": [
    "# Trying a different sentiment list from bill McDonald Notre dame.\n",
    "from collections import defaultdict\n",
    "\n",
    "dd = defaultdict(dict)\n",
    "with open('./loughran2014.cat') as f:\n",
    "    lines = f.readlines()\n",
    "\n",
    "adder = -99\n",
    "word_type = ''\n",
    "\n",
    "for line in lines:\n",
    "    line = line.strip().strip('.')\n",
    "    if line in ['NEGATIVE', 'LITIGIOUS', 'INTERESTING']:\n",
    "        adder = -1\n",
    "        word_type = line\n",
    "        continue\n",
    "    elif line == 'POSITIVE':\n",
    "        adder = 1\n",
    "        word_type = line\n",
    "        continue\n",
    "    elif line in ['UNCERTAINTY','CONSTRAINING', 'SUPERFLUOUS', 'MODAL WORDS STRONG', 'MODAL WORDS WEAK']:\n",
    "        adder = 0\n",
    "        word_type = line\n",
    "        continue\n",
    "    else:\n",
    "        d = {}\n",
    "        l = line.split()\n",
    "        word = l[0].lower()\n",
    "        d['wd'] = word\n",
    "        d['wtyp'] = word_type\n",
    "        d['sentiment'] = adder\n",
    "        dd[word] = d"
   ]
  },
  {
   "cell_type": "code",
   "execution_count": 50,
   "metadata": {
    "collapsed": false
   },
   "outputs": [
    {
     "name": "stdout",
     "output_type": "stream",
     "text": [
      "{'wtyp': 'NEGATIVE', 'wd': 'abandon', 'sentiment': -1} \n",
      "{'wtyp': 'POSITIVE', 'wd': 'best', 'sentiment': 1} \n",
      "{'wtyp': 'POSITIVE', 'wd': 'achieve', 'sentiment': 1} \n",
      "{'wtyp': 'INTERESTING', 'wd': 'ban', 'sentiment': -1}\n",
      "{'wtyp': 'MODAL WORDS STRONG', 'wd': 'always', 'sentiment': 0} \n",
      "{'wtyp': 'SUPERFLUOUS', 'wd': 'effectuate', 'sentiment': 0} \n",
      "{'wtyp': 'CONSTRAINING', 'wd': 'abide', 'sentiment': 0} \n",
      "{'wtyp': 'LITIGIOUS', 'wd': 'probate', 'sentiment': -1}\n"
     ]
    }
   ],
   "source": [
    "# spot-checking sentiment and word-type\n",
    "print dd['abandon'], '\\n', dd['best'], '\\n', dd['achieve'], '\\n', dd['ban']\n",
    "print dd['always'],  '\\n', dd['effectuate'],'\\n', dd['abide'], '\\n', dd['probate']"
   ]
  },
  {
   "cell_type": "code",
   "execution_count": 51,
   "metadata": {
    "collapsed": false
   },
   "outputs": [],
   "source": [
    "# The above lexicon is still not comprehensive enough, so adding to it with another lexicon from UIUC \n",
    "# https://www.cs.uic.edu/~liub/FBS/sentiment-analysis.html#lexicon\n",
    "\n",
    "def populate_dictionary(word_type, lines, adder):\n",
    "    for line in lines:\n",
    "        line = line.strip()\n",
    "        d = {}\n",
    "        l = line.split()\n",
    "        word = l[0].lower()\n",
    "        d['wd'] = word\n",
    "        d['wtyp'] = word_type \n",
    "        d['sentiment'] = adder\n",
    "        dd[word] = d\n",
    "\n",
    "with open('./positive-words.txt') as f:\n",
    "    lines = []\n",
    "    lines = f.readlines()\n",
    "    populate_dictionary('POSITIVE', lines, 1)\n",
    "\n",
    "with open('./negative-words.txt') as f:\n",
    "    lines = []\n",
    "    lines = f.readlines()\n",
    "    populate_dictionary('NEGATIVE', lines, -1)\n"
   ]
  },
  {
   "cell_type": "code",
   "execution_count": 52,
   "metadata": {
    "collapsed": false,
    "scrolled": true
   },
   "outputs": [
    {
     "name": "stdout",
     "output_type": "stream",
     "text": [
      "{'wtyp': 'POSITIVE', 'wd': 'amazing', 'sentiment': 1}\n",
      "{'wtyp': 'POSITIVE', 'wd': 'awesome', 'sentiment': 1}\n",
      "{'wtyp': 'NEGATIVE', 'wd': 'spotty', 'sentiment': -1}\n",
      "9643\n"
     ]
    }
   ],
   "source": [
    "# test\n",
    "print dd['amazing']\n",
    "print dd['awesome']\n",
    "print dd['spotty']\n",
    "print len(dd)"
   ]
  },
  {
   "cell_type": "code",
   "execution_count": 53,
   "metadata": {
    "collapsed": false,
    "scrolled": true
   },
   "outputs": [],
   "source": [
    "# Function that determines sentiment count based in a dictionary you pass in \n",
    "import string\n",
    "def sentiment_word_count(dd):\n",
    "    for i, row in yelp_df.iterrows():\n",
    "        rev = row.text\n",
    "        strings = rev.split(' ')\n",
    "        total = 0\n",
    "        for s in strings:\n",
    "            s = s.lower().strip()\n",
    "            s = ''.join(ch for ch in s if ch not in string.punctuation)\n",
    "            # print s\n",
    "            if len(dd[s]) != 0:\n",
    "                # print 'key=', s, 'sentiment=', dd[s]['sentiment']\n",
    "                total += dd[s]['sentiment']\n",
    "\n",
    "        #print rev, '\\n', total\n",
    "        yelp_df.loc[i, 'sentiment'] = total"
   ]
  },
  {
   "cell_type": "code",
   "execution_count": 54,
   "metadata": {
    "collapsed": false
   },
   "outputs": [],
   "source": [
    "# This will feed in the new dictionary of words and scores and use it to set the sentiment field in yelp_df\n",
    "sentiment_word_count(dd)"
   ]
  },
  {
   "cell_type": "code",
   "execution_count": 55,
   "metadata": {
    "collapsed": false,
    "scrolled": false
   },
   "outputs": [
    {
     "data": {
      "text/html": [
       "<div>\n",
       "<table border=\"1\" class=\"dataframe\">\n",
       "  <thead>\n",
       "    <tr style=\"text-align: right;\">\n",
       "      <th></th>\n",
       "      <th>business_id</th>\n",
       "      <th>date</th>\n",
       "      <th>review_id</th>\n",
       "      <th>stars</th>\n",
       "      <th>text</th>\n",
       "      <th>type</th>\n",
       "      <th>user_id</th>\n",
       "      <th>votes</th>\n",
       "      <th>cool</th>\n",
       "      <th>funny</th>\n",
       "      <th>useful</th>\n",
       "      <th>vote_total</th>\n",
       "      <th>vote_mult</th>\n",
       "      <th>sentiment</th>\n",
       "    </tr>\n",
       "  </thead>\n",
       "  <tbody>\n",
       "    <tr>\n",
       "      <th>0</th>\n",
       "      <td>9yKzy9PApeiPPOUJEtnvkg</td>\n",
       "      <td>2011-01-26</td>\n",
       "      <td>fWKvX83p0-ka4JS3dc6E5A</td>\n",
       "      <td>5</td>\n",
       "      <td>My wife took me here on my birthday for breakf...</td>\n",
       "      <td>review</td>\n",
       "      <td>rLtl8ZkDX5vH5nAx9C3q5Q</td>\n",
       "      <td>{u'funny': 0, u'useful': 5, u'cool': 2}</td>\n",
       "      <td>2</td>\n",
       "      <td>0</td>\n",
       "      <td>5</td>\n",
       "      <td>7</td>\n",
       "      <td>10</td>\n",
       "      <td>12</td>\n",
       "    </tr>\n",
       "    <tr>\n",
       "      <th>1</th>\n",
       "      <td>ZRJwVLyzEJq1VAihDhYiow</td>\n",
       "      <td>2011-07-27</td>\n",
       "      <td>IjZ33sJrzXqU-0X6U8NwyA</td>\n",
       "      <td>5</td>\n",
       "      <td>I have no idea why some people give bad review...</td>\n",
       "      <td>review</td>\n",
       "      <td>0a2KyEL0d3Yb1V6aivbIuQ</td>\n",
       "      <td>{u'funny': 0, u'useful': 0, u'cool': 0}</td>\n",
       "      <td>0</td>\n",
       "      <td>0</td>\n",
       "      <td>0</td>\n",
       "      <td>0</td>\n",
       "      <td>0</td>\n",
       "      <td>8</td>\n",
       "    </tr>\n",
       "  </tbody>\n",
       "</table>\n",
       "</div>"
      ],
      "text/plain": [
       "              business_id        date               review_id  stars  \\\n",
       "0  9yKzy9PApeiPPOUJEtnvkg  2011-01-26  fWKvX83p0-ka4JS3dc6E5A      5   \n",
       "1  ZRJwVLyzEJq1VAihDhYiow  2011-07-27  IjZ33sJrzXqU-0X6U8NwyA      5   \n",
       "\n",
       "                                                text    type  \\\n",
       "0  My wife took me here on my birthday for breakf...  review   \n",
       "1  I have no idea why some people give bad review...  review   \n",
       "\n",
       "                  user_id                                    votes  cool  \\\n",
       "0  rLtl8ZkDX5vH5nAx9C3q5Q  {u'funny': 0, u'useful': 5, u'cool': 2}     2   \n",
       "1  0a2KyEL0d3Yb1V6aivbIuQ  {u'funny': 0, u'useful': 0, u'cool': 0}     0   \n",
       "\n",
       "   funny  useful  vote_total  vote_mult  sentiment  \n",
       "0      0       5           7         10         12  \n",
       "1      0       0           0          0          8  "
      ]
     },
     "execution_count": 55,
     "metadata": {},
     "output_type": "execute_result"
    }
   ],
   "source": [
    "yelp_df.head(2)"
   ]
  },
  {
   "cell_type": "code",
   "execution_count": 56,
   "metadata": {
    "collapsed": false
   },
   "outputs": [
    {
     "data": {
      "text/plain": [
       "array([[<matplotlib.axes._subplots.AxesSubplot object at 0x7efd39ab8cd0>,\n",
       "        <matplotlib.axes._subplots.AxesSubplot object at 0x7efd39a23ed0>,\n",
       "        <matplotlib.axes._subplots.AxesSubplot object at 0x7efd399b1210>,\n",
       "        <matplotlib.axes._subplots.AxesSubplot object at 0x7efd399321d0>],\n",
       "       [<matplotlib.axes._subplots.AxesSubplot object at 0x7efd3989d290>,\n",
       "        <matplotlib.axes._subplots.AxesSubplot object at 0x7efd3981e590>,\n",
       "        <matplotlib.axes._subplots.AxesSubplot object at 0x7efd39783590>,\n",
       "        <matplotlib.axes._subplots.AxesSubplot object at 0x7efd39701b50>],\n",
       "       [<matplotlib.axes._subplots.AxesSubplot object at 0x7efd397afd10>,\n",
       "        <matplotlib.axes._subplots.AxesSubplot object at 0x7efd3966f910>,\n",
       "        <matplotlib.axes._subplots.AxesSubplot object at 0x7efd395f1c10>,\n",
       "        <matplotlib.axes._subplots.AxesSubplot object at 0x7efd395604d0>],\n",
       "       [<matplotlib.axes._subplots.AxesSubplot object at 0x7efd394e0590>,\n",
       "        <matplotlib.axes._subplots.AxesSubplot object at 0x7efd39445390>,\n",
       "        <matplotlib.axes._subplots.AxesSubplot object at 0x7efd393c6750>,\n",
       "        <matplotlib.axes._subplots.AxesSubplot object at 0x7efd39348710>]], dtype=object)"
      ]
     },
     "execution_count": 56,
     "metadata": {},
     "output_type": "execute_result"
    },
    {
     "data": {
      "image/png": "[encoded data removed]",
      "text/plain": [
       "<matplotlib.figure.Figure at 0x7efd39ab87d0>"
      ]
     },
     "metadata": {},
     "output_type": "display_data"
    }
   ],
   "source": [
    "pd.scatter_matrix(yelp_df[['cool', 'useful', 'sentiment', 'stars']])"
   ]
  },
  {
   "cell_type": "code",
   "execution_count": 57,
   "metadata": {
    "collapsed": false
   },
   "outputs": [
    {
     "data": {
      "text/plain": [
       "<matplotlib.axes._subplots.AxesSubplot at 0x7efd39290f50>"
      ]
     },
     "execution_count": 57,
     "metadata": {},
     "output_type": "execute_result"
    },
    {
     "data": {
      "image/png": "[encoded data removed]",
      "text/plain": [
       "<matplotlib.figure.Figure at 0x7efd39aac890>"
      ]
     },
     "metadata": {},
     "output_type": "display_data"
    }
   ],
   "source": [
    "sns.boxplot(x='stars', y='sentiment', order=[5,4,3,2,1], data = yelp_df)"
   ]
  },
  {
   "cell_type": "markdown",
   "metadata": {},
   "source": [
    "##### Observation:  there might be a trend here with sentiment count to star rating"
   ]
  },
  {
   "cell_type": "code",
   "execution_count": 58,
   "metadata": {
    "collapsed": false,
    "scrolled": true
   },
   "outputs": [
    {
     "data": {
      "text/plain": [
       "<seaborn.axisgrid.FacetGrid at 0x7efd392e7bd0>"
      ]
     },
     "execution_count": 58,
     "metadata": {},
     "output_type": "execute_result"
    },
    {
     "data": {
      "image/png": "[encoded data removed]",
      "text/plain": [
       "<matplotlib.figure.Figure at 0x7efd54db9650>"
      ]
     },
     "metadata": {},
     "output_type": "display_data"
    }
   ],
   "source": [
    "sns.lmplot(x='stars', y='sentiment', data = yelp_df)"
   ]
  },
  {
   "cell_type": "code",
   "execution_count": 59,
   "metadata": {
    "collapsed": false
   },
   "outputs": [
    {
     "data": {
      "text/plain": [
       "Index([u'business_id',        u'date',   u'review_id',       u'stars',\n",
       "              u'text',        u'type',     u'user_id',       u'votes',\n",
       "              u'cool',       u'funny',      u'useful',  u'vote_total',\n",
       "         u'vote_mult',   u'sentiment'],\n",
       "      dtype='object')"
      ]
     },
     "execution_count": 59,
     "metadata": {},
     "output_type": "execute_result"
    }
   ],
   "source": [
    "yelp_df.columns"
   ]
  },
  {
   "cell_type": "code",
   "execution_count": 60,
   "metadata": {
    "collapsed": false
   },
   "outputs": [
    {
     "name": "stdout",
     "output_type": "stream",
     "text": [
      "1.11649074142\n"
     ]
    }
   ],
   "source": [
    "from sklearn import linear_model\n",
    "from sklearn import cross_validation\n",
    "from sklearn import metrics\n",
    "import numpy as np\n",
    "\n",
    "# Set up feature matrix X and response y\n",
    "cols = ['cool', 'useful', 'vote_total', 'sentiment']\n",
    "X = yelp_df[cols]\n",
    "y = yelp_df.stars\n",
    "\n",
    "# Split data set into train and test\n",
    "X_train, X_test, y_train, y_test = cross_validation.train_test_split(X, y, random_state = 1)\n",
    "\n",
    "# Create linear regression model based on trian data\n",
    "linreg = linear_model.LinearRegression()\n",
    "train_model = linreg.fit(X_train, y_train)\n",
    "\n",
    "# Look at results using test data\n",
    "y_pred = linreg.predict(X_test)\n",
    "\n",
    "# Compare test prediction with truth\n",
    "mean_squ_err = metrics.mean_squared_error(y_test, y_pred)\n",
    "print np.sqrt(mean_squ_err)"
   ]
  },
  {
   "cell_type": "code",
   "execution_count": 61,
   "metadata": {
    "collapsed": true
   },
   "outputs": [],
   "source": [
    "# Because sentiment of words might be a better predictor than cool/useful, I will square this feature\n",
    "yelp_df['sent_squ'] = yelp_df.sentiment **2"
   ]
  },
  {
   "cell_type": "code",
   "execution_count": 62,
   "metadata": {
    "collapsed": false
   },
   "outputs": [
    {
     "name": "stdout",
     "output_type": "stream",
     "text": [
      "['vote_total', 'sentiment', 'sent_squ'] rmse= 1.08898909923\n",
      "linear coeff: [-0.00725148  0.1625655  -0.0053063 ]\n",
      "intercept: 3.29659935868\n"
     ]
    }
   ],
   "source": [
    "# test\n",
    "cols = ['vote_total', 'sentiment', 'sent_squ']\n",
    "X = yelp_df[cols]\n",
    "y = yelp_df.stars\n",
    "calc_rmse(cols, X, y)"
   ]
  },
  {
   "cell_type": "code",
   "execution_count": 63,
   "metadata": {
    "collapsed": false,
    "scrolled": false
   },
   "outputs": [
    {
     "name": "stdout",
     "output_type": "stream",
     "text": [
      "['cool', 'vote_total', 'sentiment', 'sent_squ'] rmse= 1.08040076051\n",
      "linear coeff: [ 0.3455094  -0.16809361  0.15835997 -0.00505751]\n",
      "intercept: 3.36959231923\n"
     ]
    }
   ],
   "source": [
    "cols = ['cool', 'vote_total','sentiment','sent_squ']\n",
    "X = yelp_df[cols]\n",
    "y = yelp_df.stars\n",
    "calc_rmse(cols, X, y)"
   ]
  },
  {
   "cell_type": "code",
   "execution_count": 176,
   "metadata": {
    "collapsed": false,
    "scrolled": false
   },
   "outputs": [],
   "source": [
    "# text length as another feature\n",
    "for ind, v in yelp_df.iterrows():\n",
    "    yelp_df.loc[ind, 'textlen'] = np.log(len(yelp_df.loc[ind, \"text\"]))\n"
   ]
  },
  {
   "cell_type": "code",
   "execution_count": 177,
   "metadata": {
    "collapsed": false,
    "scrolled": true
   },
   "outputs": [
    {
     "data": {
      "text/html": [
       "<div>\n",
       "<table border=\"1\" class=\"dataframe\">\n",
       "  <thead>\n",
       "    <tr style=\"text-align: right;\">\n",
       "      <th></th>\n",
       "      <th>business_id</th>\n",
       "      <th>date</th>\n",
       "      <th>review_id</th>\n",
       "      <th>stars</th>\n",
       "      <th>text</th>\n",
       "      <th>type</th>\n",
       "      <th>user_id</th>\n",
       "      <th>votes</th>\n",
       "      <th>cool</th>\n",
       "      <th>funny</th>\n",
       "      <th>useful</th>\n",
       "      <th>vote_total</th>\n",
       "      <th>vote_mult</th>\n",
       "      <th>sentiment</th>\n",
       "      <th>sent_squ</th>\n",
       "      <th>textlen</th>\n",
       "    </tr>\n",
       "  </thead>\n",
       "  <tbody>\n",
       "    <tr>\n",
       "      <th>0</th>\n",
       "      <td>9yKzy9PApeiPPOUJEtnvkg</td>\n",
       "      <td>2011-01-26</td>\n",
       "      <td>fWKvX83p0-ka4JS3dc6E5A</td>\n",
       "      <td>5</td>\n",
       "      <td>My wife took me here on my birthday for breakf...</td>\n",
       "      <td>review</td>\n",
       "      <td>rLtl8ZkDX5vH5nAx9C3q5Q</td>\n",
       "      <td>{u'funny': 0, u'useful': 5, u'cool': 2}</td>\n",
       "      <td>2</td>\n",
       "      <td>0</td>\n",
       "      <td>5</td>\n",
       "      <td>7</td>\n",
       "      <td>10</td>\n",
       "      <td>12</td>\n",
       "      <td>144</td>\n",
       "      <td>6.790097</td>\n",
       "    </tr>\n",
       "    <tr>\n",
       "      <th>1</th>\n",
       "      <td>ZRJwVLyzEJq1VAihDhYiow</td>\n",
       "      <td>2011-07-27</td>\n",
       "      <td>IjZ33sJrzXqU-0X6U8NwyA</td>\n",
       "      <td>5</td>\n",
       "      <td>I have no idea why some people give bad review...</td>\n",
       "      <td>review</td>\n",
       "      <td>0a2KyEL0d3Yb1V6aivbIuQ</td>\n",
       "      <td>{u'funny': 0, u'useful': 0, u'cool': 0}</td>\n",
       "      <td>0</td>\n",
       "      <td>0</td>\n",
       "      <td>0</td>\n",
       "      <td>0</td>\n",
       "      <td>0</td>\n",
       "      <td>8</td>\n",
       "      <td>64</td>\n",
       "      <td>7.204149</td>\n",
       "    </tr>\n",
       "    <tr>\n",
       "      <th>2</th>\n",
       "      <td>6oRAC4uyJCsJl1X0WZpVSA</td>\n",
       "      <td>2012-06-14</td>\n",
       "      <td>IESLBzqUCLdSzSqm0eCSxQ</td>\n",
       "      <td>4</td>\n",
       "      <td>love the gyro plate. Rice is so good and I als...</td>\n",
       "      <td>review</td>\n",
       "      <td>0hT2KtfLiobPvh6cDC8JQg</td>\n",
       "      <td>{u'funny': 0, u'useful': 1, u'cool': 0}</td>\n",
       "      <td>0</td>\n",
       "      <td>0</td>\n",
       "      <td>1</td>\n",
       "      <td>1</td>\n",
       "      <td>0</td>\n",
       "      <td>2</td>\n",
       "      <td>4</td>\n",
       "      <td>4.330733</td>\n",
       "    </tr>\n",
       "  </tbody>\n",
       "</table>\n",
       "</div>"
      ],
      "text/plain": [
       "              business_id        date               review_id  stars  \\\n",
       "0  9yKzy9PApeiPPOUJEtnvkg  2011-01-26  fWKvX83p0-ka4JS3dc6E5A      5   \n",
       "1  ZRJwVLyzEJq1VAihDhYiow  2011-07-27  IjZ33sJrzXqU-0X6U8NwyA      5   \n",
       "2  6oRAC4uyJCsJl1X0WZpVSA  2012-06-14  IESLBzqUCLdSzSqm0eCSxQ      4   \n",
       "\n",
       "                                                text    type  \\\n",
       "0  My wife took me here on my birthday for breakf...  review   \n",
       "1  I have no idea why some people give bad review...  review   \n",
       "2  love the gyro plate. Rice is so good and I als...  review   \n",
       "\n",
       "                  user_id                                    votes  cool  \\\n",
       "0  rLtl8ZkDX5vH5nAx9C3q5Q  {u'funny': 0, u'useful': 5, u'cool': 2}     2   \n",
       "1  0a2KyEL0d3Yb1V6aivbIuQ  {u'funny': 0, u'useful': 0, u'cool': 0}     0   \n",
       "2  0hT2KtfLiobPvh6cDC8JQg  {u'funny': 0, u'useful': 1, u'cool': 0}     0   \n",
       "\n",
       "   funny  useful  vote_total  vote_mult  sentiment  sent_squ   textlen  \n",
       "0      0       5           7         10         12       144  6.790097  \n",
       "1      0       0           0          0          8        64  7.204149  \n",
       "2      0       1           1          0          2         4  4.330733  "
      ]
     },
     "execution_count": 177,
     "metadata": {},
     "output_type": "execute_result"
    }
   ],
   "source": [
    "yelp_df.head(3)"
   ]
  },
  {
   "cell_type": "code",
   "execution_count": 178,
   "metadata": {
    "collapsed": false
   },
   "outputs": [
    {
     "name": "stdout",
     "output_type": "stream",
     "text": [
      "['cool', 'vote_total', 'sentiment', 'sent_squ', 'textlen'] rmse= 1.05388869455\n",
      "linear coeff: [ 0.29090247 -0.12448587  0.16947833 -0.00422775 -0.3440288 ]\n",
      "intercept: 5.36240201546\n"
     ]
    }
   ],
   "source": [
    "cols = ['cool', 'vote_total','sentiment','sent_squ', 'textlen']\n",
    "X = yelp_df[cols]\n",
    "y = yelp_df.stars\n",
    "calc_rmse(cols, X, y)"
   ]
  },
  {
   "cell_type": "markdown",
   "metadata": {},
   "source": [
    "### 8) Compare against NULL model\n",
    "* This is the model that ignores all features and simply predicts the mean response value in the testing set."
   ]
  },
  {
   "cell_type": "code",
   "execution_count": 66,
   "metadata": {
    "collapsed": false,
    "scrolled": true
   },
   "outputs": [
    {
     "name": "stdout",
     "output_type": "stream",
     "text": [
      "3.7775\n",
      "2500\n"
     ]
    }
   ],
   "source": [
    "print yelp_df.stars.mean()\n",
    "print len(y_test)"
   ]
  },
  {
   "cell_type": "code",
   "execution_count": 67,
   "metadata": {
    "collapsed": false,
    "scrolled": true
   },
   "outputs": [
    {
     "data": {
      "text/plain": [
       "array([ 3.7775,  3.7775,  3.7775, ...,  3.7775,  3.7775,  3.7775])"
      ]
     },
     "execution_count": 67,
     "metadata": {},
     "output_type": "execute_result"
    }
   ],
   "source": [
    "np.ones(len(y_test)) * yelp_df.stars.mean()"
   ]
  },
  {
   "cell_type": "code",
   "execution_count": 68,
   "metadata": {
    "collapsed": true
   },
   "outputs": [],
   "source": [
    "y_null = pd.Series(np.ones(len(y_test)) * yelp_df.stars.mean())"
   ]
  },
  {
   "cell_type": "code",
   "execution_count": 69,
   "metadata": {
    "collapsed": false
   },
   "outputs": [
    {
     "data": {
      "text/plain": [
       "1.2123276166119454"
      ]
     },
     "execution_count": 69,
     "metadata": {},
     "output_type": "execute_result"
    }
   ],
   "source": [
    "np.sqrt(metrics.mean_squared_error(y_test, y_null))"
   ]
  },
  {
   "cell_type": "markdown",
   "metadata": {},
   "source": [
    "##### Conclusion:\n",
    "* Other feature could be added could be based on time of day (AM/PM) or (Weekday/Wkend) from the date  \n",
    "* Get a better sentiment dictionary that includes food terms, my dictionary only included business/finance/legal terms\n",
    "* rmse 1.1236 was the best I could do using feature ['cool', 'useful', 'vote_total', 'sentiment', 'sent_squ']\n",
    "* rmse 1.0539 after dictionary was improved a bit more using ['cool', 'vote_total', 'sentiment', sent_squ', 'textlen']\n",
    "* Null rmse was 1.2123"
   ]
  },
  {
   "cell_type": "markdown",
   "metadata": {},
   "source": [
    "### 9) Treat as Classification Problem\n",
    "* Use KNN"
   ]
  },
  {
   "cell_type": "code",
   "execution_count": 70,
   "metadata": {
    "collapsed": true
   },
   "outputs": [],
   "source": [
    "%matplotlib inline\n",
    "import matplotlib.pyplot as plt\n",
    "from matplotlib import colors\n",
    "\n",
    "# increase default figure and font sizes for easier viewing\n",
    "plt.rcParams['figure.figsize'] = (10, 8)\n",
    "plt.rcParams['font.size'] = 14"
   ]
  },
  {
   "cell_type": "code",
   "execution_count": 179,
   "metadata": {
    "collapsed": false,
    "scrolled": false
   },
   "outputs": [
    {
     "data": {
      "text/plain": [
       "Index([u'business_id',        u'date',   u'review_id',       u'stars',\n",
       "              u'text',        u'type',     u'user_id',       u'votes',\n",
       "              u'cool',       u'funny',      u'useful',  u'vote_total',\n",
       "         u'vote_mult',   u'sentiment',    u'sent_squ',     u'textlen'],\n",
       "      dtype='object')"
      ]
     },
     "execution_count": 179,
     "metadata": {},
     "output_type": "execute_result"
    }
   ],
   "source": [
    "yelp_df.columns"
   ]
  },
  {
   "cell_type": "code",
   "execution_count": 180,
   "metadata": {
    "collapsed": false
   },
   "outputs": [],
   "source": [
    "col_map = colors.ListedColormap(['white', 'red','blue', 'orange', 'green'])\n",
    "# create a scatter plot of  versus  and color by Star-rating\n",
    "cols = ['cool', 'useful', 'funny', 'vote_total', 'vote_mult', 'sentiment', 'sent_squ', 'stars', 'textlen']\n",
    "yelp_subset = yelp_df[cols]"
   ]
  },
  {
   "cell_type": "code",
   "execution_count": 181,
   "metadata": {
    "collapsed": false,
    "scrolled": false
   },
   "outputs": [
    {
     "data": {
      "text/plain": [
       "<matplotlib.axes._subplots.AxesSubplot at 0x7efd52995990>"
      ]
     },
     "execution_count": 181,
     "metadata": {},
     "output_type": "execute_result"
    },
    {
     "data": {
      "image/png": "[encoded data removed]",
      "text/plain": [
       "<matplotlib.figure.Figure at 0x7efd53061710>"
      ]
     },
     "metadata": {},
     "output_type": "display_data"
    }
   ],
   "source": [
    "# Trying to see if there is any kind of inherent clustering here, doesn't look like it\n",
    "yelp_subset.plot(x='sentiment', y='vote_total', kind = 'scatter', c='stars', colormap = col_map)"
   ]
  },
  {
   "cell_type": "code",
   "execution_count": 182,
   "metadata": {
    "collapsed": true
   },
   "outputs": [],
   "source": [
    "yelp_5 = yelp_subset[yelp_subset.stars == 5]\n",
    "yelp_4 = yelp_subset[yelp_subset.stars == 4]\n",
    "yelp_3 = yelp_subset[yelp_subset.stars == 3]\n",
    "yelp_2 = yelp_subset[yelp_subset.stars == 2]\n",
    "yelp_1 = yelp_subset[yelp_subset.stars == 1]"
   ]
  },
  {
   "cell_type": "code",
   "execution_count": 75,
   "metadata": {
    "collapsed": false
   },
   "outputs": [
    {
     "name": "stdout",
     "output_type": "stream",
     "text": [
      "count    3337.000000\n",
      "mean        5.670363\n",
      "std         4.896084\n",
      "min        -9.000000\n",
      "25%         2.000000\n",
      "50%         5.000000\n",
      "75%         8.000000\n",
      "max        43.000000\n",
      "Name: sentiment, dtype: float64 \n",
      "\n",
      "count    3337.000000\n",
      "mean        2.326041\n",
      "std         5.048900\n",
      "min         0.000000\n",
      "25%         0.000000\n",
      "50%         1.000000\n",
      "75%         3.000000\n",
      "max       153.000000\n",
      "Name: vote_total, dtype: float64\n"
     ]
    },
    {
     "data": {
      "image/png": "[encoded data removed]",
      "text/plain": [
       "<matplotlib.figure.Figure at 0x7efd3950c750>"
      ]
     },
     "metadata": {},
     "output_type": "display_data"
    }
   ],
   "source": [
    "yelp_subset[yelp_subset.stars == 5].plot(kind=\"scatter\",x=\"sentiment\",y=\"vote_total\")\n",
    "print yelp_5.sentiment.describe(), '\\n'\n",
    "print yelp_5.vote_total.describe()"
   ]
  },
  {
   "cell_type": "code",
   "execution_count": 76,
   "metadata": {
    "collapsed": false,
    "scrolled": true
   },
   "outputs": [
    {
     "data": {
      "text/plain": [
       "<seaborn.axisgrid.JointGrid at 0x7efd3945cc10>"
      ]
     },
     "execution_count": 76,
     "metadata": {},
     "output_type": "execute_result"
    },
    {
     "data": {
      "image/png": "[encoded data removed]",
      "text/plain": [
       "<matplotlib.figure.Figure at 0x7efd53ad3bd0>"
      ]
     },
     "metadata": {},
     "output_type": "display_data"
    }
   ],
   "source": [
    "sns.jointplot(x='sentiment',y='vote_total', data=yelp_subset[yelp_subset.stars == 5], size = 10)"
   ]
  },
  {
   "cell_type": "code",
   "execution_count": 77,
   "metadata": {
    "collapsed": false,
    "scrolled": true
   },
   "outputs": [
    {
     "name": "stdout",
     "output_type": "stream",
     "text": [
      "count    3526.000000\n",
      "mean        5.621100\n",
      "std         4.775582\n",
      "min       -12.000000\n",
      "25%         2.000000\n",
      "50%         5.000000\n",
      "75%         8.000000\n",
      "max        35.000000\n",
      "Name: sentiment, dtype: float64 \n",
      "\n",
      "count    3526.000000\n",
      "mean        2.350539\n",
      "std         4.164788\n",
      "min         0.000000\n",
      "25%         0.000000\n",
      "50%         1.000000\n",
      "75%         3.000000\n",
      "max        76.000000\n",
      "Name: vote_total, dtype: float64\n"
     ]
    },
    {
     "data": {
      "image/png": "[encoded data removed]",
      "text/plain": [
       "<matplotlib.figure.Figure at 0x7efd5344e310>"
      ]
     },
     "metadata": {},
     "output_type": "display_data"
    }
   ],
   "source": [
    "#yelp_subset[yelp_subset.stars == 4].plot(kind=\"scatter\",x=\"sentiment\",y=\"vote_total\")\n",
    "sns.jointplot(data=yelp_subset[yelp_subset.stars == 4], x='sentiment', y='vote_total', size = 10)\n",
    "print yelp_4.sentiment.describe(), '\\n'\n",
    "print yelp_4.vote_total.describe()"
   ]
  },
  {
   "cell_type": "code",
   "execution_count": 78,
   "metadata": {
    "collapsed": false,
    "scrolled": true
   },
   "outputs": [
    {
     "name": "stdout",
     "output_type": "stream",
     "text": [
      "count    1461.000000\n",
      "mean        3.867899\n",
      "std         4.620643\n",
      "min       -13.000000\n",
      "25%         1.000000\n",
      "50%         3.000000\n",
      "75%         6.000000\n",
      "max        34.000000\n",
      "Name: sentiment, dtype: float64 \n",
      "\n",
      "count    1461.000000\n",
      "mean        2.095140\n",
      "std         3.455369\n",
      "min         0.000000\n",
      "25%         0.000000\n",
      "50%         1.000000\n",
      "75%         3.000000\n",
      "max        35.000000\n",
      "Name: vote_total, dtype: float64\n"
     ]
    },
    {
     "data": {
      "image/png": "[encoded data removed]",
      "text/plain": [
       "<matplotlib.figure.Figure at 0x7efd55663f10>"
      ]
     },
     "metadata": {},
     "output_type": "display_data"
    }
   ],
   "source": [
    "# yelp_3.plot(kind=\"scatter\",x=\"sentiment\",y=\"vote_total\")\n",
    "sns.jointplot(data=yelp_3, x='sentiment', y='vote_total', size=10)\n",
    "print yelp_3.sentiment.describe(), '\\n'\n",
    "print yelp_3.vote_total.describe()\n"
   ]
  },
  {
   "cell_type": "code",
   "execution_count": 79,
   "metadata": {
    "collapsed": false,
    "scrolled": false
   },
   "outputs": [
    {
     "name": "stdout",
     "output_type": "stream",
     "text": [
      "count    927.000000\n",
      "mean       1.562028\n",
      "std        4.242919\n",
      "min      -20.000000\n",
      "25%       -1.000000\n",
      "50%        1.000000\n",
      "75%        4.000000\n",
      "max       24.000000\n",
      "Name: sentiment, dtype: float64 \n",
      "\n",
      "count    927.000000\n",
      "mean       2.282632\n",
      "std        3.274014\n",
      "min        0.000000\n",
      "25%        0.000000\n",
      "50%        1.000000\n",
      "75%        3.000000\n",
      "max       30.000000\n",
      "Name: vote_total, dtype: float64\n"
     ]
    },
    {
     "data": {
      "image/png": "[encoded data removed]",
      "text/plain": [
       "<matplotlib.figure.Figure at 0x7efd5572afd0>"
      ]
     },
     "metadata": {},
     "output_type": "display_data"
    }
   ],
   "source": [
    "#yelp_2.plot(kind=\"scatter\",x=\"sentiment\",y=\"vote_total\")\n",
    "sns.jointplot(x='sentiment', y='vote_total', data=yelp_2, size = 12)\n",
    "print yelp_2.sentiment.describe(), '\\n'\n",
    "print yelp_2.vote_total.describe()"
   ]
  },
  {
   "cell_type": "code",
   "execution_count": 80,
   "metadata": {
    "collapsed": false,
    "scrolled": false
   },
   "outputs": [
    {
     "data": {
      "text/plain": [
       "<seaborn.axisgrid.JointGrid at 0x7efd5572acd0>"
      ]
     },
     "execution_count": 80,
     "metadata": {},
     "output_type": "execute_result"
    },
    {
     "data": {
      "image/png": "[encoded data removed]",
      "text/plain": [
       "<matplotlib.figure.Figure at 0x7efd557797d0>"
      ]
     },
     "metadata": {},
     "output_type": "display_data"
    }
   ],
   "source": [
    "#yelp_1.plot(kind=\"scatter\",x=\"sentiment\",y=\"vote_total\")\n",
    "sns.jointplot(data=yelp_1, x='sentiment', y='vote_total', size=10)"
   ]
  },
  {
   "cell_type": "markdown",
   "metadata": {},
   "source": [
    "#### Given the fact that there are not good 'boundaries' based on these features, I don't think I should use KNN, although maybe there are other features that are better than the ones I've come up with... is that one of the criteria for using KNN ?"
   ]
  },
  {
   "cell_type": "code",
   "execution_count": 82,
   "metadata": {
    "collapsed": false
   },
   "outputs": [
    {
     "data": {
      "text/plain": [
       "Index([u'business_id',        u'date',   u'review_id',       u'stars',\n",
       "              u'text',        u'type',     u'user_id',       u'votes',\n",
       "              u'cool',       u'funny',      u'useful',  u'vote_total',\n",
       "         u'vote_mult',   u'sentiment',    u'sent_squ'],\n",
       "      dtype='object')"
      ]
     },
     "execution_count": 82,
     "metadata": {},
     "output_type": "execute_result"
    }
   ],
   "source": [
    "yelp_df.columns"
   ]
  },
  {
   "cell_type": "code",
   "execution_count": 183,
   "metadata": {
    "collapsed": false
   },
   "outputs": [],
   "source": [
    "lin_cols = ['cool','useful','sentiment','vote_total','sent_squ', 'textlen']\n",
    "X = yelp_df[lin_cols]\n",
    "y = yelp_df.stars\n",
    "from sklearn import cross_validation\n",
    "X_train, X_test, y_train, y_test = cross_validation.train_test_split(X, y, random_state = 1)"
   ]
  },
  {
   "cell_type": "code",
   "execution_count": 184,
   "metadata": {
    "collapsed": false
   },
   "outputs": [
    {
     "name": "stdout",
     "output_type": "stream",
     "text": [
      "(7500, 6)\n",
      "(7500,)\n"
     ]
    }
   ],
   "source": [
    "print X_train.shape\n",
    "print y_train.shape"
   ]
  },
  {
   "cell_type": "code",
   "execution_count": 185,
   "metadata": {
    "collapsed": false
   },
   "outputs": [],
   "source": [
    "from sklearn.neighbors import KNeighborsClassifier"
   ]
  },
  {
   "cell_type": "code",
   "execution_count": 186,
   "metadata": {
    "collapsed": false
   },
   "outputs": [],
   "source": [
    "knn1 = KNeighborsClassifier(n_neighbors=1)"
   ]
  },
  {
   "cell_type": "code",
   "execution_count": 187,
   "metadata": {
    "collapsed": false
   },
   "outputs": [
    {
     "name": "stdout",
     "output_type": "stream",
     "text": [
      "KNeighborsClassifier(algorithm='auto', leaf_size=30, metric='minkowski',\n",
      "           metric_params=None, n_neighbors=1, p=2, weights='uniform')\n"
     ]
    }
   ],
   "source": [
    "print knn1"
   ]
  },
  {
   "cell_type": "code",
   "execution_count": 188,
   "metadata": {
    "collapsed": false
   },
   "outputs": [
    {
     "data": {
      "text/plain": [
       "KNeighborsClassifier(algorithm='auto', leaf_size=30, metric='minkowski',\n",
       "           metric_params=None, n_neighbors=1, p=2, weights='uniform')"
      ]
     },
     "execution_count": 188,
     "metadata": {},
     "output_type": "execute_result"
    }
   ],
   "source": [
    "knn1.fit(X_train, y_train)"
   ]
  },
  {
   "cell_type": "code",
   "execution_count": 189,
   "metadata": {
    "collapsed": false
   },
   "outputs": [],
   "source": [
    "y_pred1 = knn1.predict(X_test)"
   ]
  },
  {
   "cell_type": "code",
   "execution_count": 190,
   "metadata": {
    "collapsed": false
   },
   "outputs": [],
   "source": [
    "from sklearn import metrics\n",
    "from sklearn import cross_validation\n",
    "\n",
    "import numpy as np"
   ]
  },
  {
   "cell_type": "code",
   "execution_count": 191,
   "metadata": {
    "collapsed": false
   },
   "outputs": [],
   "source": [
    "def rmse_knn(num_neighbors):\n",
    "    lin_cols = ['cool','useful','sentiment','vote_total','sent_squ']\n",
    "    X = yelp_df[lin_cols]\n",
    "    y = yelp_df.stars\n",
    "    X_train, X_test, y_train, y_test = cross_validation.train_test_split(X, y, random_state = 1)\n",
    "    \n",
    "    knn = KNeighborsClassifier(n_neighbors=num_neighbors)\n",
    "    knn.fit(X_train, y_train)\n",
    "    y_pred = knn.predict(X_test)\n",
    "    print (np.sqrt(metrics.mean_squared_error(y_test, y_pred)))\n",
    "    "
   ]
  },
  {
   "cell_type": "code",
   "execution_count": 192,
   "metadata": {
    "collapsed": false
   },
   "outputs": [
    {
     "name": "stdout",
     "output_type": "stream",
     "text": [
      "1.49063744754\n"
     ]
    }
   ],
   "source": [
    "rmse_knn(1)"
   ]
  },
  {
   "cell_type": "code",
   "execution_count": 193,
   "metadata": {
    "collapsed": false
   },
   "outputs": [
    {
     "name": "stdout",
     "output_type": "stream",
     "text": [
      "1.29444969002\n"
     ]
    }
   ],
   "source": [
    "rmse_knn(50)"
   ]
  },
  {
   "cell_type": "code",
   "execution_count": 194,
   "metadata": {
    "collapsed": false
   },
   "outputs": [
    {
     "name": "stdout",
     "output_type": "stream",
     "text": [
      "1.33686199737\n"
     ]
    }
   ],
   "source": [
    "rmse_knn(100)"
   ]
  },
  {
   "cell_type": "code",
   "execution_count": 195,
   "metadata": {
    "collapsed": false
   },
   "outputs": [
    {
     "name": "stdout",
     "output_type": "stream",
     "text": [
      "1.31651053927\n"
     ]
    }
   ],
   "source": [
    "rmse_knn(51)"
   ]
  },
  {
   "cell_type": "code",
   "execution_count": 196,
   "metadata": {
    "collapsed": false
   },
   "outputs": [
    {
     "name": "stdout",
     "output_type": "stream",
     "text": [
      "1.31285947458\n"
     ]
    }
   ],
   "source": [
    "rmse_knn(49)"
   ]
  },
  {
   "cell_type": "markdown",
   "metadata": {},
   "source": [
    "#### Is there a better way that this can be automated"
   ]
  },
  {
   "cell_type": "markdown",
   "metadata": {},
   "source": [
    "### 10) Use Linear regression for classification"
   ]
  },
  {
   "cell_type": "code",
   "execution_count": 206,
   "metadata": {
    "collapsed": false
   },
   "outputs": [
    {
     "name": "stdout",
     "output_type": "stream",
     "text": [
      "['cool', 'vote_total', 'sentiment', 'sent_squ', 'textlen'] rmse= 1.05388869455\n",
      "linear coeff: [ 0.29090247 -0.12448587  0.16947833 -0.00422775 -0.3440288 ]\n",
      "intercept: 5.36240201546\n"
     ]
    }
   ],
   "source": [
    "# This was the best linear model I could come up with:\n",
    "cols = ['cool', 'vote_total','sentiment','sent_squ', 'textlen']\n",
    "X = yelp_df[cols]\n",
    "y = yelp_df.stars\n",
    "X_train, X_test, y_train, y_test = cross_validation.train_test_split(X, y, test_size=0.33, random_state = 42)\n",
    "linreg = linear_model.LinearRegression()\n",
    "train_model = linreg.fit(X_train, y_train)\n",
    "y_pred = linreg.predict(X_test)\n",
    "mserr = metrics.mean_squared_error(y_test, y_pred)\n",
    "rmserr = np.sqrt(mserr)\n",
    "print cols, 'rmse=', rmserr\n",
    "print 'linear coeff:', linreg.coef_ \n",
    "print 'intercept:', linreg.intercept_"
   ]
  },
  {
   "cell_type": "code",
   "execution_count": 207,
   "metadata": {
    "collapsed": false
   },
   "outputs": [],
   "source": [
    "y_pred_rnd = np.round(y_pred)"
   ]
  },
  {
   "cell_type": "code",
   "execution_count": 208,
   "metadata": {
    "collapsed": false
   },
   "outputs": [
    {
     "data": {
      "text/plain": [
       "array([ 4.,  4.,  4., ...,  4.,  3.,  3.])"
      ]
     },
     "execution_count": 208,
     "metadata": {},
     "output_type": "execute_result"
    }
   ],
   "source": [
    "y_pred_rnd"
   ]
  },
  {
   "cell_type": "code",
   "execution_count": 209,
   "metadata": {
    "collapsed": false
   },
   "outputs": [
    {
     "data": {
      "text/plain": [
       "0.35969696969696968"
      ]
     },
     "execution_count": 209,
     "metadata": {},
     "output_type": "execute_result"
    }
   ],
   "source": [
    "metrics.accuracy_score(y_test, np.round(y_pred))"
   ]
  },
  {
   "cell_type": "code",
   "execution_count": 210,
   "metadata": {
    "collapsed": true
   },
   "outputs": [],
   "source": [
    "# Overall: Pretty poor prediction results!"
   ]
  },
  {
   "cell_type": "code",
   "execution_count": null,
   "metadata": {
    "collapsed": true
   },
   "outputs": [],
   "source": []
  }
 ],
 "metadata": {
  "kernelspec": {
   "display_name": "Python 2",
   "language": "python",
   "name": "python2"
  },
  "language_info": {
   "codemirror_mode": {
    "name": "ipython",
    "version": 2
   },
   "file_extension": ".py",
   "mimetype": "text/x-python",
   "name": "python",
   "nbconvert_exporter": "python",
   "pygments_lexer": "ipython2",
   "version": "2.7.11"
  }
 },
 "nbformat": 4,
 "nbformat_minor": 0
}
