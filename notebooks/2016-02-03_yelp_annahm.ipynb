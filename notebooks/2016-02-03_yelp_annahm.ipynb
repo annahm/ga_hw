{
 "cells": [
  {
   "cell_type": "markdown",
   "metadata": {},
   "source": [
    "### Yelp Homework:\n",
    "\n",
    "\n",
    "\n"
   ]
  },
  {
   "cell_type": "markdown",
   "metadata": {},
   "source": [
    "### step 1) \n",
    "* Read yelp.csv into a DataFrame."
   ]
  },
  {
   "cell_type": "code",
   "execution_count": 3,
   "metadata": {
    "collapsed": true
   },
   "outputs": [],
   "source": [
    "import pandas as pd"
   ]
  },
  {
   "cell_type": "code",
   "execution_count": 3,
   "metadata": {
    "collapsed": true
   },
   "outputs": [],
   "source": [
    "yelp = pd.read_csv('/home/anna/DAT-DC-10/data/yelp.csv', sep=',', header=0)"
   ]
  },
  {
   "cell_type": "code",
   "execution_count": 4,
   "metadata": {
    "collapsed": false
   },
   "outputs": [
    {
     "data": {
      "text/plain": [
       "(10000, 10)"
      ]
     },
     "execution_count": 4,
     "metadata": {},
     "output_type": "execute_result"
    }
   ],
   "source": [
    "yelp.shape"
   ]
  },
  {
   "cell_type": "code",
   "execution_count": 5,
   "metadata": {
    "collapsed": false
   },
   "outputs": [
    {
     "data": {
      "text/html": [
       "<div>\n",
       "<table border=\"1\" class=\"dataframe\">\n",
       "  <thead>\n",
       "    <tr style=\"text-align: right;\">\n",
       "      <th></th>\n",
       "      <th>business_id</th>\n",
       "      <th>date</th>\n",
       "      <th>review_id</th>\n",
       "      <th>stars</th>\n",
       "      <th>text</th>\n",
       "      <th>type</th>\n",
       "      <th>user_id</th>\n",
       "      <th>cool</th>\n",
       "      <th>useful</th>\n",
       "      <th>funny</th>\n",
       "    </tr>\n",
       "  </thead>\n",
       "  <tbody>\n",
       "    <tr>\n",
       "      <th>0</th>\n",
       "      <td>9yKzy9PApeiPPOUJEtnvkg</td>\n",
       "      <td>2011-01-26</td>\n",
       "      <td>fWKvX83p0-ka4JS3dc6E5A</td>\n",
       "      <td>5</td>\n",
       "      <td>My wife took me here on my birthday for breakf...</td>\n",
       "      <td>review</td>\n",
       "      <td>rLtl8ZkDX5vH5nAx9C3q5Q</td>\n",
       "      <td>2</td>\n",
       "      <td>5</td>\n",
       "      <td>0</td>\n",
       "    </tr>\n",
       "    <tr>\n",
       "      <th>1</th>\n",
       "      <td>ZRJwVLyzEJq1VAihDhYiow</td>\n",
       "      <td>2011-07-27</td>\n",
       "      <td>IjZ33sJrzXqU-0X6U8NwyA</td>\n",
       "      <td>5</td>\n",
       "      <td>I have no idea why some people give bad review...</td>\n",
       "      <td>review</td>\n",
       "      <td>0a2KyEL0d3Yb1V6aivbIuQ</td>\n",
       "      <td>0</td>\n",
       "      <td>0</td>\n",
       "      <td>0</td>\n",
       "    </tr>\n",
       "    <tr>\n",
       "      <th>2</th>\n",
       "      <td>6oRAC4uyJCsJl1X0WZpVSA</td>\n",
       "      <td>2012-06-14</td>\n",
       "      <td>IESLBzqUCLdSzSqm0eCSxQ</td>\n",
       "      <td>4</td>\n",
       "      <td>love the gyro plate. Rice is so good and I als...</td>\n",
       "      <td>review</td>\n",
       "      <td>0hT2KtfLiobPvh6cDC8JQg</td>\n",
       "      <td>0</td>\n",
       "      <td>1</td>\n",
       "      <td>0</td>\n",
       "    </tr>\n",
       "  </tbody>\n",
       "</table>\n",
       "</div>"
      ],
      "text/plain": [
       "              business_id        date               review_id  stars  \\\n",
       "0  9yKzy9PApeiPPOUJEtnvkg  2011-01-26  fWKvX83p0-ka4JS3dc6E5A      5   \n",
       "1  ZRJwVLyzEJq1VAihDhYiow  2011-07-27  IjZ33sJrzXqU-0X6U8NwyA      5   \n",
       "2  6oRAC4uyJCsJl1X0WZpVSA  2012-06-14  IESLBzqUCLdSzSqm0eCSxQ      4   \n",
       "\n",
       "                                                text    type  \\\n",
       "0  My wife took me here on my birthday for breakf...  review   \n",
       "1  I have no idea why some people give bad review...  review   \n",
       "2  love the gyro plate. Rice is so good and I als...  review   \n",
       "\n",
       "                  user_id  cool  useful  funny  \n",
       "0  rLtl8ZkDX5vH5nAx9C3q5Q     2       5      0  \n",
       "1  0a2KyEL0d3Yb1V6aivbIuQ     0       0      0  \n",
       "2  0hT2KtfLiobPvh6cDC8JQg     0       1      0  "
      ]
     },
     "execution_count": 5,
     "metadata": {},
     "output_type": "execute_result"
    }
   ],
   "source": [
    "yelp.head(3)"
   ]
  },
  {
   "cell_type": "markdown",
   "metadata": {},
   "source": [
    "### step 2)\n",
    "* Create a new DataFrame that only contains the 5-star and 1-star reviews."
   ]
  },
  {
   "cell_type": "code",
   "execution_count": 6,
   "metadata": {
    "collapsed": true
   },
   "outputs": [],
   "source": [
    "yelp = yelp[(yelp.stars == 1) | (yelp.stars == 5)]"
   ]
  },
  {
   "cell_type": "code",
   "execution_count": 7,
   "metadata": {
    "collapsed": false,
    "scrolled": true
   },
   "outputs": [
    {
     "name": "stdout",
     "output_type": "stream",
     "text": [
      "(4086, 10)\n"
     ]
    },
    {
     "data": {
      "text/html": [
       "<div>\n",
       "<table border=\"1\" class=\"dataframe\">\n",
       "  <thead>\n",
       "    <tr style=\"text-align: right;\">\n",
       "      <th></th>\n",
       "      <th>business_id</th>\n",
       "      <th>date</th>\n",
       "      <th>review_id</th>\n",
       "      <th>stars</th>\n",
       "      <th>text</th>\n",
       "      <th>type</th>\n",
       "      <th>user_id</th>\n",
       "      <th>cool</th>\n",
       "      <th>useful</th>\n",
       "      <th>funny</th>\n",
       "    </tr>\n",
       "  </thead>\n",
       "  <tbody>\n",
       "    <tr>\n",
       "      <th>0</th>\n",
       "      <td>9yKzy9PApeiPPOUJEtnvkg</td>\n",
       "      <td>2011-01-26</td>\n",
       "      <td>fWKvX83p0-ka4JS3dc6E5A</td>\n",
       "      <td>5</td>\n",
       "      <td>My wife took me here on my birthday for breakf...</td>\n",
       "      <td>review</td>\n",
       "      <td>rLtl8ZkDX5vH5nAx9C3q5Q</td>\n",
       "      <td>2</td>\n",
       "      <td>5</td>\n",
       "      <td>0</td>\n",
       "    </tr>\n",
       "    <tr>\n",
       "      <th>1</th>\n",
       "      <td>ZRJwVLyzEJq1VAihDhYiow</td>\n",
       "      <td>2011-07-27</td>\n",
       "      <td>IjZ33sJrzXqU-0X6U8NwyA</td>\n",
       "      <td>5</td>\n",
       "      <td>I have no idea why some people give bad review...</td>\n",
       "      <td>review</td>\n",
       "      <td>0a2KyEL0d3Yb1V6aivbIuQ</td>\n",
       "      <td>0</td>\n",
       "      <td>0</td>\n",
       "      <td>0</td>\n",
       "    </tr>\n",
       "    <tr>\n",
       "      <th>3</th>\n",
       "      <td>_1QQZuf4zZOyFCvXc0o6Vg</td>\n",
       "      <td>2010-05-27</td>\n",
       "      <td>G-WvGaISbqqaMHlNnByodA</td>\n",
       "      <td>5</td>\n",
       "      <td>Rosie, Dakota, and I LOVE Chaparral Dog Park!!...</td>\n",
       "      <td>review</td>\n",
       "      <td>uZetl9T0NcROGOyFfughhg</td>\n",
       "      <td>1</td>\n",
       "      <td>2</td>\n",
       "      <td>0</td>\n",
       "    </tr>\n",
       "  </tbody>\n",
       "</table>\n",
       "</div>"
      ],
      "text/plain": [
       "              business_id        date               review_id  stars  \\\n",
       "0  9yKzy9PApeiPPOUJEtnvkg  2011-01-26  fWKvX83p0-ka4JS3dc6E5A      5   \n",
       "1  ZRJwVLyzEJq1VAihDhYiow  2011-07-27  IjZ33sJrzXqU-0X6U8NwyA      5   \n",
       "3  _1QQZuf4zZOyFCvXc0o6Vg  2010-05-27  G-WvGaISbqqaMHlNnByodA      5   \n",
       "\n",
       "                                                text    type  \\\n",
       "0  My wife took me here on my birthday for breakf...  review   \n",
       "1  I have no idea why some people give bad review...  review   \n",
       "3  Rosie, Dakota, and I LOVE Chaparral Dog Park!!...  review   \n",
       "\n",
       "                  user_id  cool  useful  funny  \n",
       "0  rLtl8ZkDX5vH5nAx9C3q5Q     2       5      0  \n",
       "1  0a2KyEL0d3Yb1V6aivbIuQ     0       0      0  \n",
       "3  uZetl9T0NcROGOyFfughhg     1       2      0  "
      ]
     },
     "execution_count": 7,
     "metadata": {},
     "output_type": "execute_result"
    }
   ],
   "source": [
    "print yelp.shape\n",
    "yelp.head(3)"
   ]
  },
  {
   "cell_type": "code",
   "execution_count": 8,
   "metadata": {
    "collapsed": true
   },
   "outputs": [],
   "source": [
    "# convert \n",
    "yelp['label'] = yelp.stars.map({1:0, 5:1})"
   ]
  },
  {
   "cell_type": "code",
   "execution_count": 9,
   "metadata": {
    "collapsed": true
   },
   "outputs": [
    {
     "data": {
      "text/html": [
       "<div>\n",
       "<table border=\"1\" class=\"dataframe\">\n",
       "  <thead>\n",
       "    <tr style=\"text-align: right;\">\n",
       "      <th></th>\n",
       "      <th>business_id</th>\n",
       "      <th>date</th>\n",
       "      <th>review_id</th>\n",
       "      <th>stars</th>\n",
       "      <th>text</th>\n",
       "      <th>type</th>\n",
       "      <th>user_id</th>\n",
       "      <th>cool</th>\n",
       "      <th>useful</th>\n",
       "      <th>funny</th>\n",
       "      <th>label</th>\n",
       "    </tr>\n",
       "  </thead>\n",
       "  <tbody>\n",
       "    <tr>\n",
       "      <th>9980</th>\n",
       "      <td>GHYOl_cnERMOhkCK_mGAlA</td>\n",
       "      <td>2011-07-03</td>\n",
       "      <td>Q-y3jSqccdytKxAyo1J0Xg</td>\n",
       "      <td>5</td>\n",
       "      <td>5 stars for the great $5 happy hour specials. ...</td>\n",
       "      <td>review</td>\n",
       "      <td>xZvRLPJ1ixhFVomkXSfXAw</td>\n",
       "      <td>6</td>\n",
       "      <td>6</td>\n",
       "      <td>4</td>\n",
       "      <td>1</td>\n",
       "    </tr>\n",
       "    <tr>\n",
       "      <th>9981</th>\n",
       "      <td>AX8lx9wHNYT45lyd7pxaYw</td>\n",
       "      <td>2008-11-27</td>\n",
       "      <td>IyunTh7jnG7v3EYwfF3hPw</td>\n",
       "      <td>5</td>\n",
       "      <td>We brought the entire family to Giuseppe's las...</td>\n",
       "      <td>review</td>\n",
       "      <td>fczQCSmaWF78toLEmb0Zsw</td>\n",
       "      <td>10</td>\n",
       "      <td>9</td>\n",
       "      <td>5</td>\n",
       "      <td>1</td>\n",
       "    </tr>\n",
       "    <tr>\n",
       "      <th>9984</th>\n",
       "      <td>wepFVY82q_tuDzG6lQjHWw</td>\n",
       "      <td>2012-02-12</td>\n",
       "      <td>spusZYROtBKw_5tv3gYm4Q</td>\n",
       "      <td>1</td>\n",
       "      <td>Went last night to Whore Foods to get basics t...</td>\n",
       "      <td>review</td>\n",
       "      <td>W7zmm1uzlyUkEqpSG7PlBw</td>\n",
       "      <td>0</td>\n",
       "      <td>1</td>\n",
       "      <td>2</td>\n",
       "      <td>0</td>\n",
       "    </tr>\n",
       "    <tr>\n",
       "      <th>9987</th>\n",
       "      <td>r-a-Cn9hxdEnYTtVTB5bMQ</td>\n",
       "      <td>2012-04-07</td>\n",
       "      <td>j9HwZZoBBmJgOlqDSuJcxg</td>\n",
       "      <td>1</td>\n",
       "      <td>The food is delicious.  The service:  discrimi...</td>\n",
       "      <td>review</td>\n",
       "      <td>toPtsUtYoRB-5-ThrOy2Fg</td>\n",
       "      <td>0</td>\n",
       "      <td>0</td>\n",
       "      <td>0</td>\n",
       "      <td>0</td>\n",
       "    </tr>\n",
       "    <tr>\n",
       "      <th>9989</th>\n",
       "      <td>mQUC-ATrFuMQSaDQb93Pug</td>\n",
       "      <td>2011-10-01</td>\n",
       "      <td>ta2P9joJqeFB8BzFp-AzjA</td>\n",
       "      <td>5</td>\n",
       "      <td>Great food and service! Country food at its best!</td>\n",
       "      <td>review</td>\n",
       "      <td>fKaO8fR1IAcfvZb6cBrs2w</td>\n",
       "      <td>0</td>\n",
       "      <td>1</td>\n",
       "      <td>0</td>\n",
       "      <td>1</td>\n",
       "    </tr>\n",
       "    <tr>\n",
       "      <th>9990</th>\n",
       "      <td>R8VwdLyvsp9iybNqRvm94g</td>\n",
       "      <td>2011-10-03</td>\n",
       "      <td>pcEeHdAJPoFNF23es0kKWg</td>\n",
       "      <td>5</td>\n",
       "      <td>Yes I do rock the hipster joints.  I dig this ...</td>\n",
       "      <td>review</td>\n",
       "      <td>b92Y3tyWTQQZ5FLifex62Q</td>\n",
       "      <td>1</td>\n",
       "      <td>1</td>\n",
       "      <td>1</td>\n",
       "      <td>1</td>\n",
       "    </tr>\n",
       "    <tr>\n",
       "      <th>9991</th>\n",
       "      <td>WJ5mq4EiWYAA4Vif0xDfdg</td>\n",
       "      <td>2011-12-05</td>\n",
       "      <td>EuHX-39FR7tyyG1ElvN1Jw</td>\n",
       "      <td>5</td>\n",
       "      <td>Only 4 stars? \\n\\n(A few notes: The folks that...</td>\n",
       "      <td>review</td>\n",
       "      <td>hTau-iNZFwoNsPCaiIUTEA</td>\n",
       "      <td>1</td>\n",
       "      <td>1</td>\n",
       "      <td>0</td>\n",
       "      <td>1</td>\n",
       "    </tr>\n",
       "    <tr>\n",
       "      <th>9992</th>\n",
       "      <td>f96lWMIAUhYIYy9gOktivQ</td>\n",
       "      <td>2009-03-10</td>\n",
       "      <td>YF17z7HWlMj6aezZc-pVEw</td>\n",
       "      <td>5</td>\n",
       "      <td>I'm not normally one to jump at reviewing a ch...</td>\n",
       "      <td>review</td>\n",
       "      <td>W_QXYA7A0IhMrvbckz7eVg</td>\n",
       "      <td>2</td>\n",
       "      <td>3</td>\n",
       "      <td>2</td>\n",
       "      <td>1</td>\n",
       "    </tr>\n",
       "    <tr>\n",
       "      <th>9994</th>\n",
       "      <td>L3BSpFvxcNf3T_teitgt6A</td>\n",
       "      <td>2012-03-19</td>\n",
       "      <td>0nxb1gIGFgk3WbC5zwhKZg</td>\n",
       "      <td>5</td>\n",
       "      <td>Let's see...what is there NOT to like about Su...</td>\n",
       "      <td>review</td>\n",
       "      <td>OzOZv-Knlw3oz9K5Kh5S6A</td>\n",
       "      <td>1</td>\n",
       "      <td>2</td>\n",
       "      <td>1</td>\n",
       "      <td>1</td>\n",
       "    </tr>\n",
       "    <tr>\n",
       "      <th>9999</th>\n",
       "      <td>pF7uRzygyZsltbmVpjIyvw</td>\n",
       "      <td>2010-10-16</td>\n",
       "      <td>vWSmOhg2ID1MNZHaWapGbA</td>\n",
       "      <td>5</td>\n",
       "      <td>4-5 locations.. all 4.5 star average.. I think...</td>\n",
       "      <td>review</td>\n",
       "      <td>KSBFytcdjPKZgXKQnYQdkA</td>\n",
       "      <td>0</td>\n",
       "      <td>0</td>\n",
       "      <td>0</td>\n",
       "      <td>1</td>\n",
       "    </tr>\n",
       "  </tbody>\n",
       "</table>\n",
       "</div>"
      ],
      "text/plain": [
       "                 business_id        date               review_id  stars  \\\n",
       "9980  GHYOl_cnERMOhkCK_mGAlA  2011-07-03  Q-y3jSqccdytKxAyo1J0Xg      5   \n",
       "9981  AX8lx9wHNYT45lyd7pxaYw  2008-11-27  IyunTh7jnG7v3EYwfF3hPw      5   \n",
       "9984  wepFVY82q_tuDzG6lQjHWw  2012-02-12  spusZYROtBKw_5tv3gYm4Q      1   \n",
       "9987  r-a-Cn9hxdEnYTtVTB5bMQ  2012-04-07  j9HwZZoBBmJgOlqDSuJcxg      1   \n",
       "9989  mQUC-ATrFuMQSaDQb93Pug  2011-10-01  ta2P9joJqeFB8BzFp-AzjA      5   \n",
       "9990  R8VwdLyvsp9iybNqRvm94g  2011-10-03  pcEeHdAJPoFNF23es0kKWg      5   \n",
       "9991  WJ5mq4EiWYAA4Vif0xDfdg  2011-12-05  EuHX-39FR7tyyG1ElvN1Jw      5   \n",
       "9992  f96lWMIAUhYIYy9gOktivQ  2009-03-10  YF17z7HWlMj6aezZc-pVEw      5   \n",
       "9994  L3BSpFvxcNf3T_teitgt6A  2012-03-19  0nxb1gIGFgk3WbC5zwhKZg      5   \n",
       "9999  pF7uRzygyZsltbmVpjIyvw  2010-10-16  vWSmOhg2ID1MNZHaWapGbA      5   \n",
       "\n",
       "                                                   text    type  \\\n",
       "9980  5 stars for the great $5 happy hour specials. ...  review   \n",
       "9981  We brought the entire family to Giuseppe's las...  review   \n",
       "9984  Went last night to Whore Foods to get basics t...  review   \n",
       "9987  The food is delicious.  The service:  discrimi...  review   \n",
       "9989  Great food and service! Country food at its best!  review   \n",
       "9990  Yes I do rock the hipster joints.  I dig this ...  review   \n",
       "9991  Only 4 stars? \\n\\n(A few notes: The folks that...  review   \n",
       "9992  I'm not normally one to jump at reviewing a ch...  review   \n",
       "9994  Let's see...what is there NOT to like about Su...  review   \n",
       "9999  4-5 locations.. all 4.5 star average.. I think...  review   \n",
       "\n",
       "                     user_id  cool  useful  funny  label  \n",
       "9980  xZvRLPJ1ixhFVomkXSfXAw     6       6      4      1  \n",
       "9981  fczQCSmaWF78toLEmb0Zsw    10       9      5      1  \n",
       "9984  W7zmm1uzlyUkEqpSG7PlBw     0       1      2      0  \n",
       "9987  toPtsUtYoRB-5-ThrOy2Fg     0       0      0      0  \n",
       "9989  fKaO8fR1IAcfvZb6cBrs2w     0       1      0      1  \n",
       "9990  b92Y3tyWTQQZ5FLifex62Q     1       1      1      1  \n",
       "9991  hTau-iNZFwoNsPCaiIUTEA     1       1      0      1  \n",
       "9992  W_QXYA7A0IhMrvbckz7eVg     2       3      2      1  \n",
       "9994  OzOZv-Knlw3oz9K5Kh5S6A     1       2      1      1  \n",
       "9999  KSBFytcdjPKZgXKQnYQdkA     0       0      0      1  "
      ]
     },
     "execution_count": 9,
     "metadata": {},
     "output_type": "execute_result"
    }
   ],
   "source": [
    "yelp.tail(10)"
   ]
  },
  {
   "cell_type": "markdown",
   "metadata": {},
   "source": [
    "### step 3)\n",
    "* Split the new DataFrame into training and testing sets, using the review text as the only feature and the star rating as the response.\n",
    "\n",
    "* **Question: when do you split, like for example in this week's decision trees, we did not bother to split the dataset to train and set and used the full data set to construct the tree.**"
   ]
  },
  {
   "cell_type": "code",
   "execution_count": 10,
   "metadata": {
    "collapsed": false
   },
   "outputs": [],
   "source": [
    "# Note that when I used feature_cols, Xtrain was a DF vs Series\n",
    "feature_cols = ['text']\n",
    "X = yelp.text\n",
    "y = yelp.label"
   ]
  },
  {
   "cell_type": "code",
   "execution_count": 12,
   "metadata": {
    "collapsed": true
   },
   "outputs": [],
   "source": [
    "from sklearn import cross_validation\n",
    "Xtrain, Xtest, ytrain, ytest = cross_validation.train_test_split(X, y, random_state = 1)"
   ]
  },
  {
   "cell_type": "code",
   "execution_count": 13,
   "metadata": {
    "collapsed": false,
    "scrolled": false
   },
   "outputs": [
    {
     "name": "stdout",
     "output_type": "stream",
     "text": [
      "(3064,) (3064,)\n",
      "(1022,) (1022,)\n"
     ]
    }
   ],
   "source": [
    "print Xtrain.shape, ytrain.shape\n",
    "print Xtest.shape, ytest.shape"
   ]
  },
  {
   "cell_type": "code",
   "execution_count": 14,
   "metadata": {
    "collapsed": false
   },
   "outputs": [
    {
     "data": {
      "text/plain": [
       "6841    FILLY-B's!!!!!  only 8 reviews?? NINE now!!!\\n...\n",
       "1728    My husband and I absolutely LOVE this restaura...\n",
       "3853    We went today after lunch. I got my usual of l...\n",
       "Name: text, dtype: object"
      ]
     },
     "execution_count": 14,
     "metadata": {},
     "output_type": "execute_result"
    }
   ],
   "source": [
    "Xtrain.head(3)"
   ]
  },
  {
   "cell_type": "code",
   "execution_count": 15,
   "metadata": {
    "collapsed": false,
    "scrolled": true
   },
   "outputs": [
    {
     "data": {
      "text/plain": [
       "6841    1\n",
       "1728    1\n",
       "3853    1\n",
       "Name: label, dtype: int64"
      ]
     },
     "execution_count": 15,
     "metadata": {},
     "output_type": "execute_result"
    }
   ],
   "source": [
    "ytrain.head(3)"
   ]
  },
  {
   "cell_type": "code",
   "execution_count": 16,
   "metadata": {
    "collapsed": false
   },
   "outputs": [
    {
     "data": {
      "text/plain": [
       "1    838\n",
       "0    184\n",
       "Name: label, dtype: int64"
      ]
     },
     "execution_count": 16,
     "metadata": {},
     "output_type": "execute_result"
    }
   ],
   "source": [
    "ytest.value_counts()"
   ]
  },
  {
   "cell_type": "markdown",
   "metadata": {},
   "source": [
    "### step 4)\n",
    "* Use CountVectorizer to create document-term matrices from X_train and X_test.\n",
    "* Hint: If you run into a decoding error, instantiate the vectorizer with the argument decode_error='ignore'."
   ]
  },
  {
   "cell_type": "code",
   "execution_count": 17,
   "metadata": {
    "collapsed": true
   },
   "outputs": [],
   "source": [
    "from sklearn.feature_extraction.text import CountVectorizer"
   ]
  },
  {
   "cell_type": "code",
   "execution_count": 19,
   "metadata": {
    "collapsed": false
   },
   "outputs": [],
   "source": [
    "vect = CountVectorizer()"
   ]
  },
  {
   "cell_type": "code",
   "execution_count": 21,
   "metadata": {
    "collapsed": false
   },
   "outputs": [
    {
     "name": "stdout",
     "output_type": "stream",
     "text": [
      "# of feature names:  16825\n"
     ]
    }
   ],
   "source": [
    "# Use this if Xtrain is DF\n",
    "# vect.fit(Xtrain.text)\n",
    "# Needs to be a pandas series\n",
    "vect.fit(Xtrain)\n",
    "print \"# of feature names: \", len(vect.get_feature_names())"
   ]
  },
  {
   "cell_type": "code",
   "execution_count": 22,
   "metadata": {
    "collapsed": true
   },
   "outputs": [
    {
     "data": {
      "text/plain": [
       "[u'00',\n",
       " u'000',\n",
       " u'00a',\n",
       " u'00am',\n",
       " u'00pm',\n",
       " u'01',\n",
       " u'02',\n",
       " u'03',\n",
       " u'03342',\n",
       " u'04',\n",
       " u'05',\n",
       " u'06',\n",
       " u'07',\n",
       " u'09',\n",
       " u'0buxoc0crqjpvkezo3bqog',\n",
       " u'0l',\n",
       " u'10',\n",
       " u'100',\n",
       " u'1000',\n",
       " u'1000x',\n",
       " u'1001',\n",
       " u'100th',\n",
       " u'101',\n",
       " u'102',\n",
       " u'105']"
      ]
     },
     "execution_count": 22,
     "metadata": {},
     "output_type": "execute_result"
    }
   ],
   "source": [
    "vect.get_feature_names()[0:25]"
   ]
  },
  {
   "cell_type": "code",
   "execution_count": 23,
   "metadata": {
    "collapsed": true
   },
   "outputs": [],
   "source": [
    "Xtrain_dtm = vect.transform(Xtrain)"
   ]
  },
  {
   "cell_type": "code",
   "execution_count": 24,
   "metadata": {
    "collapsed": false
   },
   "outputs": [
    {
     "data": {
      "text/plain": [
       "(3064, 16825)"
      ]
     },
     "execution_count": 24,
     "metadata": {},
     "output_type": "execute_result"
    }
   ],
   "source": [
    "Xtrain_dtm.shape"
   ]
  },
  {
   "cell_type": "code",
   "execution_count": 25,
   "metadata": {
    "collapsed": false
   },
   "outputs": [
    {
     "data": {
      "text/plain": [
       "array([[0, 0, 0, ..., 0, 0, 0],\n",
       "       [0, 0, 0, ..., 0, 0, 0],\n",
       "       [0, 0, 0, ..., 0, 0, 0],\n",
       "       ..., \n",
       "       [0, 0, 0, ..., 0, 0, 0],\n",
       "       [0, 0, 0, ..., 0, 0, 0],\n",
       "       [0, 0, 0, ..., 0, 0, 0]])"
      ]
     },
     "execution_count": 25,
     "metadata": {},
     "output_type": "execute_result"
    }
   ],
   "source": [
    "Xtrain_dtm.toarray()"
   ]
  },
  {
   "cell_type": "code",
   "execution_count": 26,
   "metadata": {
    "collapsed": true
   },
   "outputs": [],
   "source": [
    "Xtest_dtm = vect.transform(Xtest)"
   ]
  },
  {
   "cell_type": "code",
   "execution_count": 27,
   "metadata": {
    "collapsed": false
   },
   "outputs": [
    {
     "data": {
      "text/plain": [
       "(1022, 16825)"
      ]
     },
     "execution_count": 27,
     "metadata": {},
     "output_type": "execute_result"
    }
   ],
   "source": [
    "Xtest_dtm.shape"
   ]
  },
  {
   "cell_type": "markdown",
   "metadata": {},
   "source": [
    "### step 5)\n",
    "* Use Naive Bayes to predict the star rating for reviews in the testing set, and calculate the accuracy."
   ]
  },
  {
   "cell_type": "code",
   "execution_count": 29,
   "metadata": {
    "collapsed": false
   },
   "outputs": [
    {
     "data": {
      "text/plain": [
       "MultinomialNB(alpha=1.0, class_prior=None, fit_prior=True)"
      ]
     },
     "execution_count": 29,
     "metadata": {},
     "output_type": "execute_result"
    }
   ],
   "source": [
    "from sklearn.naive_bayes import MultinomialNB\n",
    "nb = MultinomialNB()\n",
    "nb.fit(Xtrain_dtm, ytrain)"
   ]
  },
  {
   "cell_type": "code",
   "execution_count": 30,
   "metadata": {
    "collapsed": false
   },
   "outputs": [],
   "source": [
    "y_pred_class = nb.predict(Xtest_dtm)"
   ]
  },
  {
   "cell_type": "code",
   "execution_count": 32,
   "metadata": {
    "collapsed": false
   },
   "outputs": [
    {
     "data": {
      "text/plain": [
       "(1022,)"
      ]
     },
     "execution_count": 32,
     "metadata": {},
     "output_type": "execute_result"
    }
   ],
   "source": [
    "y_pred_class.shape"
   ]
  },
  {
   "cell_type": "code",
   "execution_count": 33,
   "metadata": {
    "collapsed": false,
    "scrolled": true
   },
   "outputs": [
    {
     "name": "stdout",
     "output_type": "stream",
     "text": [
      "0.918786692759\n"
     ]
    }
   ],
   "source": [
    "from sklearn import metrics\n",
    "print metrics.accuracy_score(ytest, y_pred_class)"
   ]
  },
  {
   "cell_type": "code",
   "execution_count": 35,
   "metadata": {
    "collapsed": false
   },
   "outputs": [
    {
     "name": "stdout",
     "output_type": "stream",
     "text": [
      "[[126  58]\n",
      " [ 25 813]]\n"
     ]
    }
   ],
   "source": [
    "print metrics.confusion_matrix(ytest, y_pred_class)"
   ]
  },
  {
   "cell_type": "markdown",
   "metadata": {},
   "source": [
    "### step 6) \n",
    "* Calculate the AUC.\n",
    "* Hint 1: Make sure to pass the predicted probabilities to roc_auc_score, not the predicted classes.\n",
    "* Hint 2: roc_auc_score will get confused if y_test contains fives and ones, so you will need to create a new object that contains ones and zeros instead."
   ]
  },
  {
   "cell_type": "code",
   "execution_count": 36,
   "metadata": {
    "collapsed": false
   },
   "outputs": [],
   "source": [
    "y_pred_prob = nb.predict_proba(Xtest_dtm)"
   ]
  },
  {
   "cell_type": "code",
   "execution_count": 37,
   "metadata": {
    "collapsed": false,
    "scrolled": true
   },
   "outputs": [
    {
     "name": "stdout",
     "output_type": "stream",
     "text": [
      "[[  6.21708191e-13   1.00000000e+00]\n",
      " [  2.40125920e-04   9.99759874e-01]\n",
      " [  2.04567380e-10   1.00000000e+00]\n",
      " ..., \n",
      " [  2.86600345e-13   1.00000000e+00]\n",
      " [  1.00000000e+00   1.05200807e-19]\n",
      " [  8.46839316e-05   9.99915316e-01]]\n",
      "(1022, 2)\n"
     ]
    }
   ],
   "source": [
    "print y_pred_prob\n",
    "print y_pred_prob.shape"
   ]
  },
  {
   "cell_type": "code",
   "execution_count": 48,
   "metadata": {
    "collapsed": false
   },
   "outputs": [
    {
     "data": {
      "text/plain": [
       "(1022,)"
      ]
     },
     "execution_count": 48,
     "metadata": {},
     "output_type": "execute_result"
    }
   ],
   "source": [
    "y_pred_prob[:,1].shape"
   ]
  },
  {
   "cell_type": "code",
   "execution_count": 49,
   "metadata": {
    "collapsed": false,
    "scrolled": false
   },
   "outputs": [
    {
     "data": {
      "text/plain": [
       "1    838\n",
       "0    184\n",
       "Name: label, dtype: int64"
      ]
     },
     "execution_count": 49,
     "metadata": {},
     "output_type": "execute_result"
    }
   ],
   "source": [
    "ytest.value_counts()"
   ]
  },
  {
   "cell_type": "code",
   "execution_count": 50,
   "metadata": {
    "collapsed": false
   },
   "outputs": [
    {
     "name": "stdout",
     "output_type": "stream",
     "text": [
      "0.940353585141\n"
     ]
    }
   ],
   "source": [
    "print metrics.roc_auc_score(ytest, y_pred_prob[:,1])"
   ]
  },
  {
   "cell_type": "code",
   "execution_count": 51,
   "metadata": {
    "collapsed": false
   },
   "outputs": [
    {
     "data": {
      "text/plain": [
       "0.94035358514060385"
      ]
     },
     "execution_count": 51,
     "metadata": {},
     "output_type": "execute_result"
    }
   ],
   "source": [
    "metrics.roc_auc_score(ytest.values, y_pred_prob[:,1])"
   ]
  },
  {
   "cell_type": "code",
   "execution_count": 67,
   "metadata": {
    "collapsed": false
   },
   "outputs": [
    {
     "data": {
      "text/plain": [
       "array([[126,  58],\n",
       "       [ 25, 813]])"
      ]
     },
     "execution_count": 67,
     "metadata": {},
     "output_type": "execute_result"
    }
   ],
   "source": [
    "metrics.confusion_matrix(ytest, y_pred_class)"
   ]
  },
  {
   "cell_type": "code",
   "execution_count": 70,
   "metadata": {
    "collapsed": false
   },
   "outputs": [
    {
     "data": {
      "text/plain": [
       "58"
      ]
     },
     "execution_count": 70,
     "metadata": {},
     "output_type": "execute_result"
    }
   ],
   "source": [
    "sum(y_pred_class>ytest)"
   ]
  },
  {
   "cell_type": "markdown",
   "metadata": {},
   "source": [
    "### step 7) \n",
    "* Plot the ROC curve"
   ]
  },
  {
   "cell_type": "code",
   "execution_count": 199,
   "metadata": {
    "collapsed": false
   },
   "outputs": [
    {
     "data": {
      "text/plain": [
       "array([1, 1, 1, ..., 1, 1, 1])"
      ]
     },
     "execution_count": 199,
     "metadata": {},
     "output_type": "execute_result"
    }
   ],
   "source": [
    "ytest.values"
   ]
  },
  {
   "cell_type": "code",
   "execution_count": 200,
   "metadata": {
    "collapsed": false
   },
   "outputs": [],
   "source": [
    "import sklearn.metrics\n",
    "fpr, tpr, thresholds = sklearn.metrics.roc_curve(ytest.values, y_pred_prob[:,1])"
   ]
  },
  {
   "cell_type": "code",
   "execution_count": 201,
   "metadata": {
    "collapsed": false,
    "scrolled": false
   },
   "outputs": [
    {
     "data": {
      "text/plain": [
       "[<matplotlib.lines.Line2D at 0x7f57def37e90>]"
      ]
     },
     "execution_count": 201,
     "metadata": {},
     "output_type": "execute_result"
    },
    {
     "data": {
      "image/png": "[encoded data removed]",
      "text/plain": [
       "<matplotlib.figure.Figure at 0x7f57def37c50>"
      ]
     },
     "metadata": {},
     "output_type": "display_data"
    }
   ],
   "source": [
    "import matplotlib.pyplot as plt\n",
    "plt.plot([0, 1], [0, 1], 'k--')\n",
    "plt.plot(fpr, tpr)"
   ]
  },
  {
   "cell_type": "code",
   "execution_count": 243,
   "metadata": {
    "collapsed": false
   },
   "outputs": [
    {
     "name": "stdout",
     "output_type": "stream",
     "text": [
      "1.0\n",
      "0.184782608696\n",
      "0.815217391304\n",
      "0.997613365155\n"
     ]
    }
   ],
   "source": [
    "print 1 - fpr[0]\n",
    "print 1 - fpr[452]\n",
    "print fpr[452]\n",
    "print tpr[452]"
   ]
  },
  {
   "cell_type": "code",
   "execution_count": 202,
   "metadata": {
    "collapsed": false
   },
   "outputs": [
    {
     "name": "stdout",
     "output_type": "stream",
     "text": [
      "0.970167064439 0.679347826087\n"
     ]
    }
   ],
   "source": [
    "# this is just at threshold approx 0.5\n",
    "specificity = 1-fpr[338]\n",
    "sensitivity = tpr[338]\n",
    "print sensitivity, specificity"
   ]
  },
  {
   "cell_type": "markdown",
   "metadata": {},
   "source": [
    "### Below was my attempt to do this by hand but miscalculated something... \n",
    "* reverted to sklearn above\n",
    "* my plot did not come out quite right unless I decrease the step size to something really small"
   ]
  },
  {
   "cell_type": "code",
   "execution_count": 46,
   "metadata": {
    "collapsed": false
   },
   "outputs": [
    {
     "data": {
      "text/plain": [
       "array([ True,  True,  True, ...,  True, False,  True], dtype=bool)"
      ]
     },
     "execution_count": 46,
     "metadata": {},
     "output_type": "execute_result"
    }
   ],
   "source": [
    "y_pred_prob[:,1] > 0.5"
   ]
  },
  {
   "cell_type": "code",
   "execution_count": 308,
   "metadata": {
    "collapsed": false,
    "scrolled": true
   },
   "outputs": [
    {
     "name": "stdout",
     "output_type": "stream",
     "text": [
      "# of actual positives:  (1022,) 838\n",
      "# of detected postives using predicted proba:  871\n",
      "sensitivity =  0.970167064439\n",
      "false negatives =  25\n",
      "[[126  58]\n",
      " [ 25 813]]\n"
     ]
    }
   ],
   "source": [
    "# Calculate sensitivity at 0.5\n",
    "# get all tests actuals where label == 1 (star 5)\n",
    "\n",
    "import numpy as np\n",
    "print \"# of actual positives: \", ytest.shape, sum(ytest==1);\n",
    "\n",
    "# for test set determine which have predicted probability > 0.5 \n",
    "y_pred_thresh = y_pred_prob[:,1] > 0.5  # Look at only the predicted results for star 5 ratings\n",
    "print \"# of detected postives using predicted proba: \", sum(y_pred_thresh);\n",
    "\n",
    "sensitivity = sum((ytest == 1) & (ytest == y_pred_thresh)) / float(sum(ytest==1)) # pred pos / tot true pos\n",
    "\n",
    "print 'sensitivity = ', sensitivity;\n",
    "print 'false negatives = ', sum(y_pred_thresh < ytest);\n",
    "print metrics.confusion_matrix(ytest, y_pred_thresh)\n"
   ]
  },
  {
   "cell_type": "code",
   "execution_count": 209,
   "metadata": {
    "collapsed": false
   },
   "outputs": [],
   "source": [
    "# sensitivity is true pos detected / all true pos\n",
    "# create function from above. Assumes you have ytest and y_pred_prob same for all threshold\n",
    "def sensitivity(threshold):\n",
    "    # get all tests actuals where label == 1 (star 5)\n",
    "    #print \"# of actual positives: \", ytest.shape, sum(ytest == 1);\n",
    "    \n",
    "    # Calculate results with new threshold\n",
    "    y_pred_threshold = y_pred_prob[:,1] >= threshold\n",
    "    true_pos = (y_pred_threshold == ytest) & (ytest == 1)\n",
    "    #print \"# of detected postives using predicted proba threshold of %4.2f = %d\" %(threshold, sum(true_pos));\n",
    "    sensitivity = sum(true_pos) / float(sum(ytest==1))\n",
    "    false_neg_errors = sum(y_pred_threshold < ytest)\n",
    "    #print \"THRESHOLD: %3.3f sensitivity: %2.5f\\n\\tfalse_neg: %d true_pos: %d\" %(threshold, sensitivity, false_neg_errors, sum(true_pos));   \n",
    "    #print metrics.confusion_matrix(ytest, y_pred_threshold);\n",
    "    return sensitivity, false_neg_errors"
   ]
  },
  {
   "cell_type": "code",
   "execution_count": 211,
   "metadata": {
    "collapsed": false,
    "scrolled": true
   },
   "outputs": [
    {
     "data": {
      "text/plain": [
       "(0.95465393794749398, 38)"
      ]
     },
     "execution_count": 211,
     "metadata": {},
     "output_type": "execute_result"
    }
   ],
   "source": [
    "sensitivity(0.9)"
   ]
  },
  {
   "cell_type": "code",
   "execution_count": 145,
   "metadata": {
    "collapsed": false,
    "scrolled": true
   },
   "outputs": [
    {
     "data": {
      "text/plain": [
       "218"
      ]
     },
     "execution_count": 145,
     "metadata": {},
     "output_type": "execute_result"
    }
   ],
   "source": [
    "sum(y_pred_prob[:,1] >= 1.0)"
   ]
  },
  {
   "cell_type": "code",
   "execution_count": 247,
   "metadata": {
    "collapsed": true
   },
   "outputs": [
    {
     "name": "stdout",
     "output_type": "stream",
     "text": [
      "(0.25656324582338902, 623)\n",
      "(0.95465393794749398, 38)\n",
      "(0.96181384248210022, 32)\n",
      "(0.96658711217183768, 28)\n",
      "(0.9701670644391408, 25)\n",
      "(0.9701670644391408, 25)\n",
      "(0.97136038186157514, 24)\n",
      "(0.97255369928400959, 23)\n",
      "(0.9761336515513126, 20)\n",
      "(0.9761336515513126, 20)\n",
      "(1.0, 0)\n"
     ]
    }
   ],
   "source": [
    "for i in range (10, -1, -1):\n",
    "    print sensitivity(i * 0.1)"
   ]
  },
  {
   "cell_type": "code",
   "execution_count": 227,
   "metadata": {
    "collapsed": false
   },
   "outputs": [],
   "source": [
    "# specificity is true neg detected / all true negs\n",
    "# create similar function, assumes you have ytest and y_pred_prob already generated\n",
    "def specificity(threshold):\n",
    "    # get all tests actuals where label == 1 (star 5)\n",
    "    #print \"# of actual negatives: \", ytest.shape, sum(ytest == 0);\n",
    "\n",
    "    # for test set determine which have predicted probability < 0.5 \n",
    "    y_pred_thresh = y_pred_prob[:,1] > threshold\n",
    "    true_neg = (ytest == 0) & (y_pred_thresh == ytest)\n",
    "    #print \"# of detected negativies using predicted proba: \", sum(true_neg);\n",
    "    \n",
    "    spec = sum(true_neg) / float(sum(ytest == 0))\n",
    "    false_pos_errors = sum(y_pred_thresh > ytest)\n",
    "    #print \"THRESHOLD: %3.3f specificity: %2.5f\\n\\tfalse_pos: %d true_neg: %d\" %(threshold, spec, false_pos_errors, sum(true_neg));   \n",
    "    #print metrics.confusion_matrix(ytest, y_pred_thresh);\n",
    "    return spec, false_pos_errors"
   ]
  },
  {
   "cell_type": "code",
   "execution_count": 248,
   "metadata": {
    "collapsed": true
   },
   "outputs": [
    {
     "name": "stdout",
     "output_type": "stream",
     "text": [
      "10 (1.0, 0)\n",
      "9 (0.76086956521739135, 44)\n",
      "8 (0.73369565217391308, 49)\n",
      "7 (0.70652173913043481, 54)\n",
      "6 (0.69565217391304346, 56)\n",
      "5 (0.68478260869565222, 58)\n",
      "4 (0.67391304347826086, 60)\n",
      "3 (0.65217391304347827, 64)\n",
      "2 (0.64130434782608692, 66)\n",
      "1 (0.61413043478260865, 71)\n",
      "0 (0.0, 184)\n"
     ]
    }
   ],
   "source": [
    "for i in range(10, -1, -1):\n",
    "    print i, specificity(i*0.1)"
   ]
  },
  {
   "cell_type": "code",
   "execution_count": 245,
   "metadata": {
    "collapsed": false,
    "scrolled": true
   },
   "outputs": [
    {
     "name": "stdout",
     "output_type": "stream",
     "text": [
      "(0.82065217391304346, 33)\n",
      "(0.91527446300715987, 71)\n"
     ]
    }
   ],
   "source": [
    "print specificity(.99)\n",
    "print sensitivity(.99)\n",
    "#print 1-specificity(0.5)[0]"
   ]
  },
  {
   "cell_type": "raw",
   "metadata": {
    "collapsed": true
   },
   "source": [
    "# tpr_list = []\n",
    "fpr_list = []\n",
    "for i in np.arange(0, 1, .00001):\n",
    "    t = sensitivity(i)[0]\n",
    "    f = specificity(i)[0]\n",
    "    #print (f, 1-f, t)\n",
    "    tpr_list.append(t)\n",
    "    fpr_list.append(f)\n",
    "\n",
    "# last one in the list\n",
    "tpr_list.append(0)\n",
    "fpr_list.append(1)\n",
    "tpr_arr = np.array(tpr_list)\n",
    "fpr_arr = np.array(fpr_list)"
   ]
  },
  {
   "cell_type": "code",
   "execution_count": 196,
   "metadata": {
    "collapsed": true
   },
   "outputs": [],
   "source": [
    "import matplotlib.pyplot as plt\n",
    "%matplotlib inline"
   ]
  },
  {
   "cell_type": "code",
   "execution_count": 266,
   "metadata": {
    "collapsed": false,
    "scrolled": false
   },
   "outputs": [
    {
     "data": {
      "text/plain": [
       "[<matplotlib.lines.Line2D at 0x7f57ba8d9410>]"
      ]
     },
     "execution_count": 266,
     "metadata": {},
     "output_type": "execute_result"
    },
    {
     "data": {
      "image/png": "[encoded data removed]",
      "text/plain": [
       "<matplotlib.figure.Figure at 0x7f57ba8d9250>"
      ]
     },
     "metadata": {},
     "output_type": "display_data"
    }
   ],
   "source": [
    "plt.plot([0, 1], [0, 1], 'k--')\n",
    "plt.plot(1.0 - fpr_arr, tpr_arr)"
   ]
  },
  {
   "cell_type": "markdown",
   "metadata": {},
   "source": [
    "### step 8)\n",
    "* Print the confusion matrix, and calculate the sensitivity and specificity. Comment on the results.\n"
   ]
  },
  {
   "cell_type": "code",
   "execution_count": 280,
   "metadata": {
    "collapsed": false,
    "scrolled": false
   },
   "outputs": [
    {
     "name": "stdout",
     "output_type": "stream",
     "text": [
      "threshold = 1.0\n",
      "[[184   0]\n",
      " [838   0]]\n",
      "threshold = 0.9\n",
      "[[140  44]\n",
      " [ 38 800]]\n",
      "threshold = 0.8\n",
      "[[135  49]\n",
      " [ 32 806]]\n",
      "threshold = 0.7\n",
      "[[130  54]\n",
      " [ 28 810]]\n",
      "threshold = 0.6\n",
      "[[128  56]\n",
      " [ 25 813]]\n",
      "threshold = 0.5\n",
      "[[126  58]\n",
      " [ 25 813]]\n",
      "threshold = 0.4\n",
      "[[124  60]\n",
      " [ 24 814]]\n",
      "threshold = 0.3\n",
      "[[120  64]\n",
      " [ 23 815]]\n",
      "threshold = 0.2\n",
      "[[118  66]\n",
      " [ 20 818]]\n",
      "threshold = 0.1\n",
      "[[113  71]\n",
      " [ 20 818]]\n",
      "threshold = 2.22044604925e-16\n",
      "[[  9 175]\n",
      " [  2 836]]\n"
     ]
    }
   ],
   "source": [
    "# The confusion matrix is different depending on the threshold:\n",
    "for t in np.arange(1.0, -0.1, -0.1):\n",
    "    y_pred_threshold = y_pred_prob[:,1] > t\n",
    "    print 'threshold =', t\n",
    "    print metrics.confusion_matrix(ytest, y_pred_threshold)"
   ]
  },
  {
   "cell_type": "code",
   "execution_count": 43,
   "metadata": {
    "collapsed": false,
    "scrolled": false
   },
   "outputs": [
    {
     "data": {
      "text/plain": [
       "array([[126,  58],\n",
       "       [ 25, 813]])"
      ]
     },
     "execution_count": 43,
     "metadata": {},
     "output_type": "execute_result"
    }
   ],
   "source": [
    "# the default is 0.5\n",
    "metrics.confusion_matrix(ytest.values, y_pred_class)"
   ]
  },
  {
   "cell_type": "markdown",
   "metadata": {},
   "source": [
    "**Comments:**\n",
    "* Sensitivity and specificity is calculated in tpr_arr and fpr_arr below for thresholds at 0.1 increments.  \n",
    "* 0.5 threshold is used by default when calling sklearn's predict method.  \n",
    "* When using the Naive Bayes multinomial distribution, it defaults to 0.5 threshold.  You have to use the ROC curve yourself to figure out the ideal theshold."
   ]
  },
  {
   "cell_type": "markdown",
   "metadata": {},
   "source": [
    "### step 8:\n",
    "* Browse through the review text for some of the false positives and false negatives. Based on your knowledge of how Naive Bayes works, do you have any theories about why the model is incorrectly classifying these reviews?\n",
    "\n",
    "**Comments:**\n",
    "* I think it is because we used the default 0.5 threshold.  If we changed the threshold, it is possible erros might be improved.  But has to be tested.  \n",
    "* There are other things that could be done such as include sentiment word dictionaries as well as use n-gram option becuase some of the text includes 'good' words, but with the word 'not' in front of it"
   ]
  },
  {
   "cell_type": "code",
   "execution_count": 373,
   "metadata": {
    "collapsed": true
   },
   "outputs": [
    {
     "name": "stdout",
     "output_type": "stream",
     "text": [
      "58\n"
     ]
    },
    {
     "data": {
      "text/plain": [
       "2175    This has to be the worst restaurant in terms of hygiene. Two of my friends had food -poisoning after having dinner here. The food is just unhealthy with tons of oil floating on the top of curries,...\n",
       "1781                                                                                    If you like the stuck up Scottsdale vibe this is a good place for you. The food isn't impressive. Nice outdoor seating.\n",
       "2674    I'm sorry to be what seems to be the lone one star review.  Either I got there on the worst day in their history, or everyone drank the Koolaid, or I just have different expectations and taste bud...\n",
       "9984    Went last night to Whore Foods to get basics to make pizza with, most clutch to the process was a three pack of yeast. Low and behold, the dirty hippie kids they have working there again didn't pu...\n",
       "3392    I found Lisa G's while driving through phoenix with a friend. The exterior looked promising and we prepared ourselves for a treat. We were in for a a shock! We ordered the antipasto plate and whil...\n",
       "8283    Don't know where I should start. Grand opening was on September 17th, 2010. We went to try this new Dim Sum place at the Mekong Plaza as they heavily advertised in the chinese newspapers and were ...\n",
       "2765                                        Went last week, and ordered a dozen variety. I didn't care for any of them, very dry, the frosting wasn't very good,even my 9 yr old daughter spit her cupcake out!\n",
       "2839    Never Again,\\nI brought my Mountain Bike in (which I bought 1 week earlier from Walmart) to have them replace my flat inner tubes with puncture resistant tubes.)  I came back 20 minutes later when...\n",
       "321     My wife and I live around the corner, hadn't eaten here in a few months. We got food for take out, Mongolian beef,kung po chicken,pad Thai noodles.  Mongolian beef, there were more white onions th...\n",
       "1919                                                                                                                                                                                               D-scust-ing.\n",
       "2490              Lazy Q CLOSED in 2010.  New Owners cleaned up the place and its called JESTERS BILLIARDS.  Tons of beer, AC smoking patio with pool tables.  Re-did tables and got new cues.  Its rockin now.\n",
       "9125    La Grande Orange Grocery has a problem. It can't decide what it wants to be when it grows up, and that makes the overall experience iffy. Is it a quick mart? A grocery store? A restaurant? A coffe...\n",
       "9185    For frozen yogurt quality, I give this place a one. Honestly, it's small, there's very little variety in terms of toppings, and the yogurt tastes cheap... Probably because it's a big franchise. Th...\n",
       "436     this another place that i would give no stars to if possible. \\nit's been on the corner of mill and university for as long as i can remember, which is impressive since nothing older than ten years...\n",
       "2051    Sadly with new owners comes changes on menu.  My fav Barbecue chicken salad\\nno longer has a hint of the same taste. It should now be called flavor of tomato. \\n Also sad to find out that the most...\n",
       "1721    This is the closest to a New York hipster style coffee shop I've seen in Arizona.  They serve beer too.  Problem is that the espresso was unbelievably bitter.  Cookie happy hour is pretty cool tho...\n",
       "3447    If you want a school that cares more about your financial aid money than you, this is the school for you. Education is horrible. If you are a democrat, don't speak your mind; you will be considere...\n",
       "842     Boy is the name a temptation.Seriously :)  I'll try to be fair though but I'm writing at a time were this restaurant was truly life changing. So much so that I'm buying a dining room table, additi...\n",
       "6159    Really, if I could, I would give this place zero stars, because it is a disgrace. If you need an emergency vet in the Scottsdale/Paradise Valley area, go to Sonora Veterinary Specialists on Cactus...\n",
       "943                                                                                                                         Don't waste your time...Arrowhead mall on the other side of town is so much better!\n",
       "5977    You want good food? You'd be better off smuggling goat cheese in your boot and risking an anal cavity search for doing so than eating at this airport.\\n\\nYou want scenery? Try desert.\\n\\n\\nYou wan...\n",
       "8833                                                      The owner has changed hands & this place isn't what it used to be.  If you want up to date paper & quality product...go to Scrap Happy OR Crop Girls!\n",
       "6584                                                                            Jimmy Johns is cheaper and better ... The Capriotti food is heavy ... and it doesn't taste as good as you think it should taste\n",
       "1899    Buca Di Beppo is literally, italian restaurant hell. You know how all big box chain restaurants throw junk up on the walls in an attempt to make the space feel vintage? Buca Di Beppo throws junk, ...\n",
       "9953    \"Hipster,Trendy\" ????-I think NOT !!!! Very disappointing......weird crowd ( older men on the prowl? ) , and unfriendly bartenders w/ lots of attitude. I've given this a few tries thinking I just ...\n",
       "2060                                                                                                                                                                      This place is closed.  Good riddance.\n",
       "3082    Currently having a liquidation sale, but it's not really worth the trip.  I found that most books were cheaper at Amazon then the sale price.  A few were even cheaper at Barnes and Noble then the ...\n",
       "8220    Maybe I ate at a different restaurant than the other people, or once they got through the \"soft opening\"  they gave up, because this place was not good.\\n\\nThe service was mediocre at best, they s...\n",
       "3634    Seriously?! With grocery stores like Fresh & Easy, Trader Joe's, and even Safeway around here, I wouldn't go to Whole Foods regularly, for ANYTHING, unless I was a bajillionaire. 1. It's wayyyy ov...\n",
       "3266                                                                                                                                           Absolutely awful... these guys have NO idea what they are doing!\n",
       "7397    This place sucks!! I moved to the valley and have yet to find that \"go to \" chinese spot, sooo I decided to give this spot a try. I called my order in and was assured by the employee that all the ...\n",
       "4473    It is what you would expect from any themed place called \"Heart Attack Grill\".  Mirrors on the bottom part of the bar so you can see up the skimpy outfits the \"nurses\" wear at the bar.  Van in the...\n",
       "5502    Angry Bro Bar !  Please go here if you wear size smedium affliction shirts you will love it. The bar is lame. Kid you not there was not five minutes that went by where two people didn't try and fi...\n",
       "2615    Great in its day, now leaves a lot to be desired.  Deserves credit as a Phoenix landmark Chinese restaurant.  \\n\\nThis restaurant has been here for 38 years.  I've been going here off and on for 3...\n",
       "3413    I purchased the Enotria groupon when it was released last year and had a horrible experience at the restaurant.\\n\\n1) I ordered a cheese platter. The platter was very much overpriced at over $18.0...\n",
       "2999    I can't even believe I actually went to this restaurant.  My feeling was that if the Tommy Bahama clothing and its wearers were any indication of the dining experience, it was going to be unorigin...\n",
       "1372    No offense to everyone who gave this place 5 stars, but the Tempe Cinema staff needs a swift kick in the ass. During school hours, this place is regularly crawling with hooligan truants. Maybe tho...\n",
       "1291                                                       Every time I come here the staff is so rude! Its the closest bar to my gate so I'm kinda stuck. Hey staff, can you please pretend to like people????\n",
       "6222                                                                                                                              My mother always told me, if I didn't have anything nice to say, say nothing!\n",
       "9296    My boyfriend and I tried this place last year and we haven't been back since. The food was really unspectacular, they weren't really that hot. The price is a bit high since there's a restaurant by...\n",
       "7975    What are you all talking about?! This place is awful. Theres a reason why these sandwiches are $3. I can't believe so many people like this place, (although the place was filled with the Chinese p...\n",
       "4630    I used to always go here for tires until my mechanic noticed my tires were the incorrect size.  Back to Discount I go to correct the problem, and they blamed me. I was told that I must have chosen...\n",
       "7130                                                                                                                       I was not impressed. The food was bad & expensive. The wait is ridiculous. Don't go.\n",
       "5818    Most horrible buffet I have ever been to.\\n\\nMy boyfriend and I are big chinese buffet fans. A ton of them have raised their prices recently (and, not surprisingly, have been closing down left and...\n",
       "3704                                                                                                                        Staff is nice, and that's it.\\nThey use very cheap tires that only last for a year.\n",
       "8741                                                                                       They served us stale rice.  Average main dishes, not as flavorful.  Not enough meat in the lamb dishes.  Overpriced.\n",
       "3938    We were so disappointed!  We were on vacation in Scottsdale and wanted to try a Brazilian restaurant.  It was nothing like the one we have had home.  Actually it was completely worse than all thre...\n",
       "7631    this is a business located in the fry's grocery strip mall on mckellips and recker I wont say much but don't bother the waitless girl was about as pleasent as a hemroid the beer selection sucked. ...\n",
       "8681    As I promised myself, I'd go back again to try it again. Yyyeeaahhhh...sooooo....the food is still not good. I got the mongolian beef and it's like \"wha? really? is this IRL?\" \\n\\nI'm a chinese fo...\n",
       "1532    Cold, under done chips. If a Mexican food restaurant can not get this staple right how can I expect them to get much more right.  I arrived for a party that my autocross group was having. Every ta...\n",
       "113     Unless you are a regular or look like your wallet is fat don't expect the best service.  Entrees cost about 20-38 bucks and Anti pasta runs between 5-20 desserts are all 8 bucks unless you get age...\n",
       "4165    OMG! what is the rave about? this place is disgusting! it's dirty and the food is not worth it! i came here with my family and we each order a little bit of everything that is suppose to be good a...\n",
       "9299    The salad plates were not chilled... As they usually are it however is a busy night but something's are expected at the olive garden... The food tasted like it was under a hot lamp for so long it ...\n",
       "4311    Donuts are really good, if they have any when you get there!!!  Went in on a Tuesday morning at 1030, and they only had a total of 10 donuts. Drove out of my way to go there and still ended up at ...\n",
       "7035    Totally excited to try this place out, my grandparents, my mom and I (4 of us) came here for some Korean food. It wasn't too busy; just pairs of people from nearby offices coming in and out. \\n\\nU...\n",
       "8000    Still a place that is unacceptable in my book--especially when a server there goes out of their way to message me privately on Yelp to complain about my punctuation, and signing off--every so \"sin...\n",
       "3755    Have been going to LGO since 2003 and have always enjoyed the cuisine. Several times - either when ordering in the grocery or dining at the Pizzeria - the music has been so headsplitting as to wip...\n",
       "507     HELLISH HELLISH SUMMER WEATHER (March thru October)\\nit hurts my lungs to breath.\\n\\nI couldn't get transcripts because I had a parking ticket I needed to pay.\\nThe problem is... *i DON'T OWN A CA...\n",
       "Name: text, dtype: object"
      ]
     },
     "execution_count": 373,
     "metadata": {},
     "output_type": "execute_result"
    }
   ],
   "source": [
    "# How to find false positivites\n",
    "pd.options.display.max_colwidth = 200\n",
    "false_pos = Xtest[ytest < y_pred_class]\n",
    "print len(false_pos)\n",
    "false_pos"
   ]
  },
  {
   "cell_type": "code",
   "execution_count": 374,
   "metadata": {
    "collapsed": true
   },
   "outputs": [
    {
     "name": "stdout",
     "output_type": "stream",
     "text": [
      "25\n"
     ]
    },
    {
     "data": {
      "text/plain": [
       "7148    I now consider myself an Arizonian. If you drive a lot on the 101 or 51 like I do, you'll get your fair share of chips on your windshield. You'll also have to replace a windshield like I had to do...\n",
       "4963    This is by far my favourite department store, hands down. I have had nothing but perfect experiences in this store, without exception, no matter what department I'm in. The shoe SA's will bend ove...\n",
       "6318    Since I have ranted recently on poor customer service, and in the spirit of balance, here is a shining example of how easy it really is.\\n\\nLate last summer  I came home and was shocked to see two...\n",
       "380     This is a must try for any Mani Pedi fan. I use to drive to Scottsdale for all of my services until I found this spot. Get the pedi, no metal file pedi once - and you will NEVER go any where else....\n",
       "5565    I`ve had work done by this shop a few times thruoghout the past few years. My latest experience was when my sons car broke its timing belt and needed substantial repairs. Bob informed us that he c...\n",
       "3448    I was there last week with my sisters and while we ordered our steaks cooked medium, all of them came out well done. Kind of disappointed, but oh well.\\n\\nSo last night my fiance and I had a buy-o...\n",
       "6050    I went to sears today to check on a layaway that I placed online but was going to pickup here. Margaret, the associate couldn't find me in her system so she personally called the sears.com help li...\n",
       "2504    I've passed by prestige nails in walmart 100s of times but never really thought of having a pedicure there (even though they are always busy!) As I stared at my feet, long overdue for a pedicure, ...\n",
       "2475    This place is so great! I am a nanny and had to bring in a dance outfit to get the straps shorten for the girl I care for. The woman did this for no charge! It was only the second time I went ther...\n",
       "241     I was sad to come back to lai lai's and they no longer had the Mongolian :( boo,, but i took my mom there and we were starving so we decided to order off the menu. My mom is allergic to  msg and t...\n",
       "3149    I was told to see Greg after a local shop diagnosed my exhaust problem.  He took a few minutes to look at my car, told me what I needed and what it would cost. I went back a week later, he did the...\n",
       "423     These guys helped me out with my rear windshield wiper.  They could have just shrugged their shoulders and said they didn't have the part, but they worked with me and tried a couple of different o...\n",
       "763     Here's the deal. I said I was done with OT, but a friend told me the management had changed and it was worth another shot. \\n\\nMy friend was right.\\n\\nEverything I had a problem with before was re...\n",
       "8956    I took my computer to RedSeven recently when my friends were calling and telling me I had a nasty virus that was sending out gobs of email every fifteen mins.  I had no idea my computer was infect...\n",
       "750     This store has the most pleasant employees of any Forever 21 I have ever been to. The girls are always smiling and they take the time to esquire if you need help. The other day, I went in and an e...\n",
       "9765                                                                                                           You can't give anything less than 5 stars to a place that sells bra's and panties to hot chicks.\n",
       "6334    I came here today for a manicure and pedicure... I have been here quite a few times; it is a place my girlfriends like to come to so when I want to hang with my girlfriends and get a mani/pedi thi...\n",
       "1282                                                         Loved my haircut. Walked in and waited for just a minute. The stylist cut exactly like I wanted and I walked out paying 20 which included the tip.\n",
       "1266    I've never been to this location before. My husband had taken his car here previously, and asked me to take it in today (there was a nail a front tire). The second I stepped through the doorway I ...\n",
       "402     Once again Wildflower proves why it's my favorite breakfast hangout! Jeff the Manager on staff today rocks! \\n\\nSome of us hangout at a restaurant to make it a working meal...and sometimes, during...\n",
       "4034    \"Fine dining\" is not just a setting.  it isn't just good food.  It is many things that add up to an attitude. I have had the opportunity to find it in different cities. I found it the other night ...\n",
       "2444    EXCELLENT CUSTOMER SERVICE! \\n\\nEven with Happy Hour in full swing and the place full of parched Winkies, the service at our large table was spot on. We barely had time to settle our bums and push...\n",
       "2494    What a great surprise stumbling across this bank!  Open 7 days a week with lobby service\\n\\nI have banked with the Mega Uber Banks and have been nickeled and dimed (literally) with service fees.\\n...\n",
       "5736    Thank goodness for Sue at Mill Avenue Travel. We contacted Sue to book our honeymoon trip to St. Lucia at one of the Sandals resort.  She was great with setting everything up, booking airfare etc....\n",
       "7903    First, I'm sorry this review is lengthy, but i really want people to understand how far a little kindness can go. \\n\\nI entered Mimi's Cafe at the end of possibly worst day ever. I came in looking...\n",
       "Name: text, dtype: object"
      ]
     },
     "execution_count": 374,
     "metadata": {},
     "output_type": "execute_result"
    }
   ],
   "source": [
    "# How to find false negatives\n",
    "false_neg = Xtest[ytest > y_pred_class]\n",
    "print len(false_neg)\n",
    "false_neg"
   ]
  },
  {
   "cell_type": "code",
   "execution_count": 284,
   "metadata": {
    "collapsed": false
   },
   "outputs": [],
   "source": [
    "tot_err = []\n",
    "for t in np.arange(1.0, -0.1, -0.1):\n",
    "    tot_err.append( (t, sensitivity(t)[1] + specificity(t)[1]) )"
   ]
  },
  {
   "cell_type": "code",
   "execution_count": 302,
   "metadata": {
    "collapsed": false
   },
   "outputs": [
    {
     "data": {
      "text/plain": [
       "[(1.0, 623),\n",
       " (0.90000000000000002, 82),\n",
       " (0.80000000000000004, 81),\n",
       " (0.70000000000000007, 82),\n",
       " (0.60000000000000009, 81),\n",
       " (0.50000000000000011, 83),\n",
       " (0.40000000000000013, 84),\n",
       " (0.30000000000000016, 87),\n",
       " (0.20000000000000018, 86),\n",
       " (0.1000000000000002, 91),\n",
       " (2.2204460492503131e-16, 177)]"
      ]
     },
     "execution_count": 302,
     "metadata": {},
     "output_type": "execute_result"
    }
   ],
   "source": [
    "# lowest threshold is 0.6 or 0.8\n",
    "tot_err"
   ]
  },
  {
   "cell_type": "markdown",
   "metadata": {},
   "source": [
    "### step 10:\n",
    "* Let's pretend that you want to balance sensitivity and specificity. You can achieve this by changing the threshold for predicting a 5-star review. What threshold approximately balances sensitivity and specificity?\n",
    "\n",
    "** Comments:** \n",
    "* Looking at just the ytest set, if you set threshold to 0.6 or 0.8 you will get a slightly lower raw error rate (83 errors vs. 81 errors)\n",
    "* Or if I want to look specifically at the false negatives or false positives, I could split those out and look at those.\n"
   ]
  },
  {
   "cell_type": "code",
   "execution_count": 305,
   "metadata": {
    "collapsed": false
   },
   "outputs": [],
   "source": [
    "err = []\n",
    "ss = []\n",
    "for i in range(0, 11):\n",
    "    sens, false_neg = sensitivity(0.1*i)\n",
    "    spec, false_pos = specificity(0.1*i)\n",
    "    err.append(false_neg + false_pos)\n",
    "    ss.append((sens, spec))"
   ]
  },
  {
   "cell_type": "code",
   "execution_count": 306,
   "metadata": {
    "collapsed": false,
    "scrolled": true
   },
   "outputs": [
    {
     "data": {
      "text/plain": [
       "[184, 91, 86, 87, 84, 83, 81, 82, 81, 82, 623]"
      ]
     },
     "execution_count": 306,
     "metadata": {},
     "output_type": "execute_result"
    }
   ],
   "source": [
    "err"
   ]
  },
  {
   "cell_type": "code",
   "execution_count": 307,
   "metadata": {
    "collapsed": false
   },
   "outputs": [
    {
     "data": {
      "text/plain": [
       "[(1.0, 0.0),\n",
       " (0.9761336515513126, 0.61413043478260865),\n",
       " (0.9761336515513126, 0.64130434782608692),\n",
       " (0.97255369928400959, 0.65217391304347827),\n",
       " (0.97136038186157514, 0.67391304347826086),\n",
       " (0.9701670644391408, 0.68478260869565222),\n",
       " (0.9701670644391408, 0.69565217391304346),\n",
       " (0.96658711217183768, 0.70652173913043481),\n",
       " (0.96181384248210022, 0.73369565217391308),\n",
       " (0.95465393794749398, 0.76086956521739135),\n",
       " (0.25656324582338902, 1.0)]"
      ]
     },
     "execution_count": 307,
     "metadata": {},
     "output_type": "execute_result"
    }
   ],
   "source": [
    "ss"
   ]
  },
  {
   "cell_type": "markdown",
   "metadata": {},
   "source": [
    "### step 11:\n",
    "\n",
    "* Let's see how well Naive Bayes performs when all reviews are included, rather than just 1-star and 5-star reviews:\n",
    "  - Define X and y using the original DataFrame from step 1. (y should contain 5 different classes.)\n",
    "  - Split the data into training and testing sets.\n",
    "  - Calculate the testing accuracy of a Naive Bayes model.\n",
    "  - Compare the testing accuracy with the null accuracy.\n",
    "  - Print the confusion matrix.\n",
    "  - Comment on the results.\n",
    "\n",
    "** Comments: **\n",
    "* Question: Is null accuracy the average across ytest or is it taking which value occurs more and always using that\n",
    "* Null accuracy is better for stars 2, 3, 4\n",
    "* Tends to have high false negatives \n",
    "* Possibly reduce the false negatives by increasing sensitivity"
   ]
  },
  {
   "cell_type": "code",
   "execution_count": 439,
   "metadata": {
    "collapsed": false
   },
   "outputs": [],
   "source": [
    "def one_to_all(star):\n",
    "    # load yelp dataframe\n",
    "    yelp = pd.read_csv('../DAT-DC-10/data/yelp.csv', sep=',', header=0)\n",
    "    \n",
    "    # map 1 to the star rating we care about, others 0\n",
    "    yelp['label'] = map(lambda x: 1 if x == star else 0, yelp.stars)\n",
    "    print \"\\nSTAR = \", star\n",
    "    #print \"Yelp shape:\", yelp.shape\n",
    "    \n",
    "    # feature matrix and response vector\n",
    "    X = yelp.text\n",
    "    y = yelp.label  \n",
    "    \n",
    "    # train and test sets\n",
    "    Xtrain, Xtest, ytrain, ytest = cross_validation.train_test_split(X, y, random_state = 1)\n",
    "    #print \"Test shapes: \", Xtrain.shape, ytrain.shape, Xtest.shape, ytest.shape\n",
    " \n",
    "    # create doc-term-matrix using countVectorizer\n",
    "    cv = CountVectorizer()\n",
    "    cv.fit(Xtrain.values)\n",
    "    #print \"1st 10 Feat:\", cv.get_feature_names()[0:10], len(cv.get_feature_names())\n",
    "    Xtrain_dtm = cv.transform(Xtrain.values)\n",
    "    #print \"Xtrain_dtm shape:\", Xtrain_dtm.shape\n",
    "\n",
    "    # NB model fit to Xtrain_dtm\n",
    "    nb = MultinomialNB()\n",
    "    nb.fit(Xtrain_dtm, ytrain)        \n",
    "\n",
    "    # Predict using Xtest\n",
    "    Xtest_dtm = cv.transform(Xtest.values)\n",
    "    #print \"Xtest_dtm shape:\", Xtest_dtm.shape\n",
    "    ypred = nb.predict(Xtest_dtm)\n",
    "    #print \"Ypred shape:\", ypred.shape\n",
    "\n",
    "    # Accuracy\n",
    "    print \"Calc accuracy:\", sum(ypred == ytest) / float(len(ytest))\n",
    "    print \"Sklearn accuracy:\", metrics.accuracy_score(ytest, ypred)\n",
    "\n",
    "    # Null accuracy, predicting the most frequent class\n",
    "    null = 1 if sum(ytest == 1) > sum(ytest == 0) else 0\n",
    "    nully = pd.Series([null for x in range(len(ytest))])\n",
    "    print \"Null accuracy1:\", metrics.accuracy_score(ytest, nully)\n",
    "    \n",
    "    # another way to calculate null accuracy\n",
    "    null_acc = max(ytest.mean(), 1 - ytest.mean())\n",
    "    print \"Null accuracy2:\", null_acc\n",
    "\n",
    "    # Confusion matrix\n",
    "    print \"False positive:\", sum(ypred > ytest)\n",
    "    print \"False negative:\", sum(ypred < ytest)\n",
    "    print \"True positive:\", sum((ytest == 1) & (ytest == ypred))\n",
    "    print \"True negative:\", sum((ytest == 0) & (ytest ==  ypred))\n",
    "    print \"Sklearn conf mat:\\n\", metrics.confusion_matrix(ytest, ypred)"
   ]
  },
  {
   "cell_type": "code",
   "execution_count": 440,
   "metadata": {
    "collapsed": false
   },
   "outputs": [
    {
     "name": "stdout",
     "output_type": "stream",
     "text": [
      "\n",
      "STAR =  1\n",
      "Calc accuracy: 0.9316\n",
      "Sklearn accuracy: 0.9316\n",
      "Null accuracy1: 0.926\n",
      "Null accuracy2: 0.926\n",
      "False positive: 23\n",
      "False negative: 148\n",
      "True positive: 37\n",
      "True negative: 2292\n",
      "Sklearn conf mat:\n",
      "[[2292   23]\n",
      " [ 148   37]]\n"
     ]
    }
   ],
   "source": [
    "one_to_all(1)"
   ]
  },
  {
   "cell_type": "code",
   "execution_count": 441,
   "metadata": {
    "collapsed": false
   },
   "outputs": [
    {
     "name": "stdout",
     "output_type": "stream",
     "text": [
      "\n",
      "STAR =  2\n",
      "Calc accuracy: 0.9044\n",
      "Sklearn accuracy: 0.9044\n",
      "Null accuracy1: 0.9064\n",
      "Null accuracy2: 0.9064\n",
      "False positive: 12\n",
      "False negative: 227\n",
      "True positive: 7\n",
      "True negative: 2254\n",
      "Sklearn conf mat:\n",
      "[[2254   12]\n",
      " [ 227    7]]\n"
     ]
    }
   ],
   "source": [
    "one_to_all(2)"
   ]
  },
  {
   "cell_type": "code",
   "execution_count": 437,
   "metadata": {
    "collapsed": false
   },
   "outputs": [
    {
     "name": "stdout",
     "output_type": "stream",
     "text": [
      "\n",
      "STAR =  3\n",
      "Calc accuracy: 0.8512\n",
      "Sklearn accuracy: 0.8512\n",
      "Null accuracy1: 0.854\n",
      "Null accurace2: 0.854\n",
      "False positive: 20\n",
      "False negative: 352\n",
      "True positive: 13\n",
      "True negative: 2115\n",
      "Sklearn conf mat:\n",
      "[[2115   20]\n",
      " [ 352   13]]\n"
     ]
    }
   ],
   "source": [
    "one_to_all(3)"
   ]
  },
  {
   "cell_type": "code",
   "execution_count": 429,
   "metadata": {
    "collapsed": false
   },
   "outputs": [
    {
     "name": "stdout",
     "output_type": "stream",
     "text": [
      "\n",
      "STAR =  4\n",
      "Calc accuracy: 0.6416\n",
      "Sklearn accuracy: 0.6416\n",
      "Null accuracy: 0.6464\n",
      "False positive: 418\n",
      "False negative: 478\n",
      "True positive: 406\n",
      "True negative: 1198\n",
      "Sklearn conf mat:\n",
      "[[1198  418]\n",
      " [ 478  406]]\n"
     ]
    }
   ],
   "source": [
    "one_to_all(4)"
   ]
  },
  {
   "cell_type": "code",
   "execution_count": 430,
   "metadata": {
    "collapsed": false
   },
   "outputs": [
    {
     "name": "stdout",
     "output_type": "stream",
     "text": [
      "\n",
      "STAR =  5\n",
      "Calc accuracy: 0.7432\n",
      "Sklearn accuracy: 0.7432\n",
      "Null accuracy: 0.6672\n",
      "False positive: 206\n",
      "False negative: 436\n",
      "True positive: 396\n",
      "True negative: 1462\n",
      "Sklearn conf mat:\n",
      "[[1462  206]\n",
      " [ 436  396]]\n"
     ]
    }
   ],
   "source": [
    "one_to_all(5)"
   ]
  },
  {
   "cell_type": "markdown",
   "metadata": {},
   "source": [
    "## Using TFIDF"
   ]
  },
  {
   "cell_type": "code",
   "execution_count": 47,
   "metadata": {
    "collapsed": false
   },
   "outputs": [],
   "source": [
    "import pandas as pd\n",
    "import numpy as np\n",
    "from sklearn.feature_extraction.text import TfidfVectorizer\n",
    "from sklearn.cross_validation import train_test_split"
   ]
  },
  {
   "cell_type": "code",
   "execution_count": 10,
   "metadata": {
    "collapsed": false
   },
   "outputs": [],
   "source": [
    "yelp = pd.read_csv('/home/anna/DAT-DC-10/data/yelp.csv', sep=',', header=0)"
   ]
  },
  {
   "cell_type": "markdown",
   "metadata": {},
   "source": [
    "### 1) Generating TF/IDF by creating TF and IDF dataframes"
   ]
  },
  {
   "cell_type": "code",
   "execution_count": 31,
   "metadata": {
    "collapsed": true
   },
   "outputs": [],
   "source": [
    "from sklearn.feature_extraction.text import CountVectorizer\n",
    "vect = CountVectorizer()\n",
    "dtm = vect.fit_transform(yelp.text)\n",
    "features = vect.get_feature_names()"
   ]
  },
  {
   "cell_type": "code",
   "execution_count": 32,
   "metadata": {
    "collapsed": false
   },
   "outputs": [],
   "source": [
    "# Get term frequency (tf)\n",
    "tf = pd.DataFrame(dtm.toarray(), columns=vect.get_feature_names())"
   ]
  },
  {
   "cell_type": "code",
   "execution_count": 33,
   "metadata": {
    "collapsed": false,
    "scrolled": true
   },
   "outputs": [
    {
     "data": {
      "text/html": [
       "<div>\n",
       "<table border=\"1\" class=\"dataframe\">\n",
       "  <thead>\n",
       "    <tr style=\"text-align: right;\">\n",
       "      <th></th>\n",
       "      <th>00</th>\n",
       "      <th>000</th>\n",
       "      <th>007</th>\n",
       "      <th>00a</th>\n",
       "      <th>00am</th>\n",
       "      <th>00pm</th>\n",
       "      <th>01</th>\n",
       "      <th>02</th>\n",
       "      <th>03</th>\n",
       "      <th>03342</th>\n",
       "      <th>...</th>\n",
       "      <th>zuzus</th>\n",
       "      <th>zweigel</th>\n",
       "      <th>zwiebel</th>\n",
       "      <th>zy</th>\n",
       "      <th>zzed</th>\n",
       "      <th>zzzzzzzzzzzzzzzzz</th>\n",
       "      <th>éclairs</th>\n",
       "      <th>école</th>\n",
       "      <th>ém</th>\n",
       "      <th>òc</th>\n",
       "    </tr>\n",
       "  </thead>\n",
       "  <tbody>\n",
       "    <tr>\n",
       "      <th>0</th>\n",
       "      <td>0</td>\n",
       "      <td>0</td>\n",
       "      <td>0</td>\n",
       "      <td>0</td>\n",
       "      <td>0</td>\n",
       "      <td>0</td>\n",
       "      <td>0</td>\n",
       "      <td>0</td>\n",
       "      <td>0</td>\n",
       "      <td>0</td>\n",
       "      <td>...</td>\n",
       "      <td>0</td>\n",
       "      <td>0</td>\n",
       "      <td>0</td>\n",
       "      <td>0</td>\n",
       "      <td>0</td>\n",
       "      <td>0</td>\n",
       "      <td>0</td>\n",
       "      <td>0</td>\n",
       "      <td>0</td>\n",
       "      <td>0</td>\n",
       "    </tr>\n",
       "    <tr>\n",
       "      <th>1</th>\n",
       "      <td>0</td>\n",
       "      <td>0</td>\n",
       "      <td>0</td>\n",
       "      <td>0</td>\n",
       "      <td>0</td>\n",
       "      <td>0</td>\n",
       "      <td>0</td>\n",
       "      <td>1</td>\n",
       "      <td>0</td>\n",
       "      <td>0</td>\n",
       "      <td>...</td>\n",
       "      <td>0</td>\n",
       "      <td>0</td>\n",
       "      <td>0</td>\n",
       "      <td>0</td>\n",
       "      <td>0</td>\n",
       "      <td>0</td>\n",
       "      <td>0</td>\n",
       "      <td>0</td>\n",
       "      <td>0</td>\n",
       "      <td>0</td>\n",
       "    </tr>\n",
       "    <tr>\n",
       "      <th>2</th>\n",
       "      <td>0</td>\n",
       "      <td>0</td>\n",
       "      <td>0</td>\n",
       "      <td>0</td>\n",
       "      <td>0</td>\n",
       "      <td>0</td>\n",
       "      <td>0</td>\n",
       "      <td>0</td>\n",
       "      <td>0</td>\n",
       "      <td>0</td>\n",
       "      <td>...</td>\n",
       "      <td>0</td>\n",
       "      <td>0</td>\n",
       "      <td>0</td>\n",
       "      <td>0</td>\n",
       "      <td>0</td>\n",
       "      <td>0</td>\n",
       "      <td>0</td>\n",
       "      <td>0</td>\n",
       "      <td>0</td>\n",
       "      <td>0</td>\n",
       "    </tr>\n",
       "  </tbody>\n",
       "</table>\n",
       "<p>3 rows × 29185 columns</p>\n",
       "</div>"
      ],
      "text/plain": [
       "   00  000  007  00a  00am  00pm  01  02  03  03342 ...  zuzus  zweigel  \\\n",
       "0   0    0    0    0     0     0   0   0   0      0 ...      0        0   \n",
       "1   0    0    0    0     0     0   0   1   0      0 ...      0        0   \n",
       "2   0    0    0    0     0     0   0   0   0      0 ...      0        0   \n",
       "\n",
       "   zwiebel  zy  zzed  zzzzzzzzzzzzzzzzz  éclairs  école  ém  òc  \n",
       "0        0   0     0                  0        0      0   0   0  \n",
       "1        0   0     0                  0        0      0   0   0  \n",
       "2        0   0     0                  0        0      0   0   0  \n",
       "\n",
       "[3 rows x 29185 columns]"
      ]
     },
     "execution_count": 33,
     "metadata": {},
     "output_type": "execute_result"
    }
   ],
   "source": [
    "tf.head(3)"
   ]
  },
  {
   "cell_type": "code",
   "execution_count": 34,
   "metadata": {
    "collapsed": false
   },
   "outputs": [],
   "source": [
    "# get document frequency (df), in how many docs does word appear\n",
    "df_arr = dtm.toarray().sum(axis=0).reshape(1, len(features))\n",
    "docfreq_df = pd.DataFrame(df_arr, columns=vect.get_feature_names())"
   ]
  },
  {
   "cell_type": "code",
   "execution_count": 35,
   "metadata": {
    "collapsed": false
   },
   "outputs": [
    {
     "data": {
      "text/plain": [
       "(1, 29185)"
      ]
     },
     "execution_count": 35,
     "metadata": {},
     "output_type": "execute_result"
    }
   ],
   "source": [
    "df_arr.shape"
   ]
  },
  {
   "cell_type": "code",
   "execution_count": 36,
   "metadata": {
    "collapsed": false
   },
   "outputs": [
    {
     "data": {
      "text/html": [
       "<div>\n",
       "<table border=\"1\" class=\"dataframe\">\n",
       "  <thead>\n",
       "    <tr style=\"text-align: right;\">\n",
       "      <th></th>\n",
       "      <th>00</th>\n",
       "      <th>000</th>\n",
       "      <th>007</th>\n",
       "      <th>00a</th>\n",
       "      <th>00am</th>\n",
       "      <th>00pm</th>\n",
       "      <th>01</th>\n",
       "      <th>02</th>\n",
       "      <th>03</th>\n",
       "      <th>03342</th>\n",
       "      <th>...</th>\n",
       "      <th>zuzus</th>\n",
       "      <th>zweigel</th>\n",
       "      <th>zwiebel</th>\n",
       "      <th>zy</th>\n",
       "      <th>zzed</th>\n",
       "      <th>zzzzzzzzzzzzzzzzz</th>\n",
       "      <th>éclairs</th>\n",
       "      <th>école</th>\n",
       "      <th>ém</th>\n",
       "      <th>òc</th>\n",
       "    </tr>\n",
       "  </thead>\n",
       "  <tbody>\n",
       "    <tr>\n",
       "      <th>0</th>\n",
       "      <td>224</td>\n",
       "      <td>24</td>\n",
       "      <td>1</td>\n",
       "      <td>1</td>\n",
       "      <td>7</td>\n",
       "      <td>13</td>\n",
       "      <td>6</td>\n",
       "      <td>4</td>\n",
       "      <td>1</td>\n",
       "      <td>1</td>\n",
       "      <td>...</td>\n",
       "      <td>1</td>\n",
       "      <td>1</td>\n",
       "      <td>1</td>\n",
       "      <td>1</td>\n",
       "      <td>1</td>\n",
       "      <td>1</td>\n",
       "      <td>1</td>\n",
       "      <td>1</td>\n",
       "      <td>1</td>\n",
       "      <td>1</td>\n",
       "    </tr>\n",
       "  </tbody>\n",
       "</table>\n",
       "<p>1 rows × 29185 columns</p>\n",
       "</div>"
      ],
      "text/plain": [
       "    00  000  007  00a  00am  00pm  01  02  03  03342 ...  zuzus  zweigel  \\\n",
       "0  224   24    1    1     7    13   6   4   1      1 ...      1        1   \n",
       "\n",
       "   zwiebel  zy  zzed  zzzzzzzzzzzzzzzzz  éclairs  école  ém  òc  \n",
       "0        1   1     1                  1        1      1   1   1  \n",
       "\n",
       "[1 rows x 29185 columns]"
      ]
     },
     "execution_count": 36,
     "metadata": {},
     "output_type": "execute_result"
    }
   ],
   "source": [
    "docfreq_df"
   ]
  },
  {
   "cell_type": "code",
   "execution_count": 38,
   "metadata": {
    "collapsed": false
   },
   "outputs": [],
   "source": [
    "tidf = tf/docfreq_df.values[0]"
   ]
  },
  {
   "cell_type": "code",
   "execution_count": 41,
   "metadata": {
    "collapsed": false,
    "scrolled": false
   },
   "outputs": [
    {
     "data": {
      "text/plain": [
       "0"
      ]
     },
     "execution_count": 41,
     "metadata": {},
     "output_type": "execute_result"
    }
   ],
   "source": [
    "tidf.apply(np.isnan).sum().sum()"
   ]
  },
  {
   "cell_type": "code",
   "execution_count": 43,
   "metadata": {
    "collapsed": true
   },
   "outputs": [
    {
     "data": {
      "text/html": [
       "<div>\n",
       "<table border=\"1\" class=\"dataframe\">\n",
       "  <thead>\n",
       "    <tr style=\"text-align: right;\">\n",
       "      <th></th>\n",
       "      <th>00</th>\n",
       "      <th>000</th>\n",
       "      <th>007</th>\n",
       "      <th>00a</th>\n",
       "      <th>00am</th>\n",
       "      <th>00pm</th>\n",
       "      <th>01</th>\n",
       "      <th>02</th>\n",
       "      <th>03</th>\n",
       "      <th>03342</th>\n",
       "      <th>...</th>\n",
       "      <th>zuzus</th>\n",
       "      <th>zweigel</th>\n",
       "      <th>zwiebel</th>\n",
       "      <th>zy</th>\n",
       "      <th>zzed</th>\n",
       "      <th>zzzzzzzzzzzzzzzzz</th>\n",
       "      <th>éclairs</th>\n",
       "      <th>école</th>\n",
       "      <th>ém</th>\n",
       "      <th>òc</th>\n",
       "    </tr>\n",
       "  </thead>\n",
       "  <tbody>\n",
       "    <tr>\n",
       "      <th>0</th>\n",
       "      <td>0</td>\n",
       "      <td>0</td>\n",
       "      <td>0</td>\n",
       "      <td>0</td>\n",
       "      <td>0</td>\n",
       "      <td>0</td>\n",
       "      <td>0</td>\n",
       "      <td>0.00</td>\n",
       "      <td>0</td>\n",
       "      <td>0</td>\n",
       "      <td>...</td>\n",
       "      <td>0</td>\n",
       "      <td>0</td>\n",
       "      <td>0</td>\n",
       "      <td>0</td>\n",
       "      <td>0</td>\n",
       "      <td>0</td>\n",
       "      <td>0</td>\n",
       "      <td>0</td>\n",
       "      <td>0</td>\n",
       "      <td>0</td>\n",
       "    </tr>\n",
       "    <tr>\n",
       "      <th>1</th>\n",
       "      <td>0</td>\n",
       "      <td>0</td>\n",
       "      <td>0</td>\n",
       "      <td>0</td>\n",
       "      <td>0</td>\n",
       "      <td>0</td>\n",
       "      <td>0</td>\n",
       "      <td>0.25</td>\n",
       "      <td>0</td>\n",
       "      <td>0</td>\n",
       "      <td>...</td>\n",
       "      <td>0</td>\n",
       "      <td>0</td>\n",
       "      <td>0</td>\n",
       "      <td>0</td>\n",
       "      <td>0</td>\n",
       "      <td>0</td>\n",
       "      <td>0</td>\n",
       "      <td>0</td>\n",
       "      <td>0</td>\n",
       "      <td>0</td>\n",
       "    </tr>\n",
       "    <tr>\n",
       "      <th>2</th>\n",
       "      <td>0</td>\n",
       "      <td>0</td>\n",
       "      <td>0</td>\n",
       "      <td>0</td>\n",
       "      <td>0</td>\n",
       "      <td>0</td>\n",
       "      <td>0</td>\n",
       "      <td>0.00</td>\n",
       "      <td>0</td>\n",
       "      <td>0</td>\n",
       "      <td>...</td>\n",
       "      <td>0</td>\n",
       "      <td>0</td>\n",
       "      <td>0</td>\n",
       "      <td>0</td>\n",
       "      <td>0</td>\n",
       "      <td>0</td>\n",
       "      <td>0</td>\n",
       "      <td>0</td>\n",
       "      <td>0</td>\n",
       "      <td>0</td>\n",
       "    </tr>\n",
       "    <tr>\n",
       "      <th>3</th>\n",
       "      <td>0</td>\n",
       "      <td>0</td>\n",
       "      <td>0</td>\n",
       "      <td>0</td>\n",
       "      <td>0</td>\n",
       "      <td>0</td>\n",
       "      <td>0</td>\n",
       "      <td>0.00</td>\n",
       "      <td>0</td>\n",
       "      <td>0</td>\n",
       "      <td>...</td>\n",
       "      <td>0</td>\n",
       "      <td>0</td>\n",
       "      <td>0</td>\n",
       "      <td>0</td>\n",
       "      <td>0</td>\n",
       "      <td>0</td>\n",
       "      <td>0</td>\n",
       "      <td>0</td>\n",
       "      <td>0</td>\n",
       "      <td>0</td>\n",
       "    </tr>\n",
       "    <tr>\n",
       "      <th>4</th>\n",
       "      <td>0</td>\n",
       "      <td>0</td>\n",
       "      <td>0</td>\n",
       "      <td>0</td>\n",
       "      <td>0</td>\n",
       "      <td>0</td>\n",
       "      <td>0</td>\n",
       "      <td>0.00</td>\n",
       "      <td>0</td>\n",
       "      <td>0</td>\n",
       "      <td>...</td>\n",
       "      <td>0</td>\n",
       "      <td>0</td>\n",
       "      <td>0</td>\n",
       "      <td>0</td>\n",
       "      <td>0</td>\n",
       "      <td>0</td>\n",
       "      <td>0</td>\n",
       "      <td>0</td>\n",
       "      <td>0</td>\n",
       "      <td>0</td>\n",
       "    </tr>\n",
       "    <tr>\n",
       "      <th>5</th>\n",
       "      <td>0</td>\n",
       "      <td>0</td>\n",
       "      <td>0</td>\n",
       "      <td>0</td>\n",
       "      <td>0</td>\n",
       "      <td>0</td>\n",
       "      <td>0</td>\n",
       "      <td>0.00</td>\n",
       "      <td>0</td>\n",
       "      <td>0</td>\n",
       "      <td>...</td>\n",
       "      <td>0</td>\n",
       "      <td>0</td>\n",
       "      <td>0</td>\n",
       "      <td>0</td>\n",
       "      <td>0</td>\n",
       "      <td>0</td>\n",
       "      <td>0</td>\n",
       "      <td>0</td>\n",
       "      <td>0</td>\n",
       "      <td>0</td>\n",
       "    </tr>\n",
       "    <tr>\n",
       "      <th>6</th>\n",
       "      <td>0</td>\n",
       "      <td>0</td>\n",
       "      <td>0</td>\n",
       "      <td>0</td>\n",
       "      <td>0</td>\n",
       "      <td>0</td>\n",
       "      <td>0</td>\n",
       "      <td>0.00</td>\n",
       "      <td>0</td>\n",
       "      <td>0</td>\n",
       "      <td>...</td>\n",
       "      <td>0</td>\n",
       "      <td>0</td>\n",
       "      <td>0</td>\n",
       "      <td>0</td>\n",
       "      <td>0</td>\n",
       "      <td>0</td>\n",
       "      <td>0</td>\n",
       "      <td>0</td>\n",
       "      <td>0</td>\n",
       "      <td>0</td>\n",
       "    </tr>\n",
       "    <tr>\n",
       "      <th>7</th>\n",
       "      <td>0</td>\n",
       "      <td>0</td>\n",
       "      <td>0</td>\n",
       "      <td>0</td>\n",
       "      <td>0</td>\n",
       "      <td>0</td>\n",
       "      <td>0</td>\n",
       "      <td>0.00</td>\n",
       "      <td>0</td>\n",
       "      <td>0</td>\n",
       "      <td>...</td>\n",
       "      <td>0</td>\n",
       "      <td>0</td>\n",
       "      <td>0</td>\n",
       "      <td>0</td>\n",
       "      <td>0</td>\n",
       "      <td>0</td>\n",
       "      <td>0</td>\n",
       "      <td>0</td>\n",
       "      <td>0</td>\n",
       "      <td>0</td>\n",
       "    </tr>\n",
       "    <tr>\n",
       "      <th>8</th>\n",
       "      <td>0</td>\n",
       "      <td>0</td>\n",
       "      <td>0</td>\n",
       "      <td>0</td>\n",
       "      <td>0</td>\n",
       "      <td>0</td>\n",
       "      <td>0</td>\n",
       "      <td>0.00</td>\n",
       "      <td>0</td>\n",
       "      <td>0</td>\n",
       "      <td>...</td>\n",
       "      <td>0</td>\n",
       "      <td>0</td>\n",
       "      <td>0</td>\n",
       "      <td>0</td>\n",
       "      <td>0</td>\n",
       "      <td>0</td>\n",
       "      <td>0</td>\n",
       "      <td>0</td>\n",
       "      <td>0</td>\n",
       "      <td>0</td>\n",
       "    </tr>\n",
       "    <tr>\n",
       "      <th>9</th>\n",
       "      <td>0</td>\n",
       "      <td>0</td>\n",
       "      <td>0</td>\n",
       "      <td>0</td>\n",
       "      <td>0</td>\n",
       "      <td>0</td>\n",
       "      <td>0</td>\n",
       "      <td>0.00</td>\n",
       "      <td>0</td>\n",
       "      <td>0</td>\n",
       "      <td>...</td>\n",
       "      <td>0</td>\n",
       "      <td>0</td>\n",
       "      <td>0</td>\n",
       "      <td>0</td>\n",
       "      <td>0</td>\n",
       "      <td>0</td>\n",
       "      <td>0</td>\n",
       "      <td>0</td>\n",
       "      <td>0</td>\n",
       "      <td>0</td>\n",
       "    </tr>\n",
       "    <tr>\n",
       "      <th>10</th>\n",
       "      <td>0</td>\n",
       "      <td>0</td>\n",
       "      <td>0</td>\n",
       "      <td>0</td>\n",
       "      <td>0</td>\n",
       "      <td>0</td>\n",
       "      <td>0</td>\n",
       "      <td>0.00</td>\n",
       "      <td>0</td>\n",
       "      <td>0</td>\n",
       "      <td>...</td>\n",
       "      <td>0</td>\n",
       "      <td>0</td>\n",
       "      <td>0</td>\n",
       "      <td>0</td>\n",
       "      <td>0</td>\n",
       "      <td>0</td>\n",
       "      <td>0</td>\n",
       "      <td>0</td>\n",
       "      <td>0</td>\n",
       "      <td>0</td>\n",
       "    </tr>\n",
       "    <tr>\n",
       "      <th>11</th>\n",
       "      <td>0</td>\n",
       "      <td>0</td>\n",
       "      <td>0</td>\n",
       "      <td>0</td>\n",
       "      <td>0</td>\n",
       "      <td>0</td>\n",
       "      <td>0</td>\n",
       "      <td>0.00</td>\n",
       "      <td>0</td>\n",
       "      <td>0</td>\n",
       "      <td>...</td>\n",
       "      <td>0</td>\n",
       "      <td>0</td>\n",
       "      <td>0</td>\n",
       "      <td>0</td>\n",
       "      <td>0</td>\n",
       "      <td>0</td>\n",
       "      <td>0</td>\n",
       "      <td>0</td>\n",
       "      <td>0</td>\n",
       "      <td>0</td>\n",
       "    </tr>\n",
       "    <tr>\n",
       "      <th>12</th>\n",
       "      <td>0</td>\n",
       "      <td>0</td>\n",
       "      <td>0</td>\n",
       "      <td>0</td>\n",
       "      <td>0</td>\n",
       "      <td>0</td>\n",
       "      <td>0</td>\n",
       "      <td>0.00</td>\n",
       "      <td>0</td>\n",
       "      <td>0</td>\n",
       "      <td>...</td>\n",
       "      <td>0</td>\n",
       "      <td>0</td>\n",
       "      <td>0</td>\n",
       "      <td>0</td>\n",
       "      <td>0</td>\n",
       "      <td>0</td>\n",
       "      <td>0</td>\n",
       "      <td>0</td>\n",
       "      <td>0</td>\n",
       "      <td>0</td>\n",
       "    </tr>\n",
       "    <tr>\n",
       "      <th>13</th>\n",
       "      <td>0</td>\n",
       "      <td>0</td>\n",
       "      <td>0</td>\n",
       "      <td>0</td>\n",
       "      <td>0</td>\n",
       "      <td>0</td>\n",
       "      <td>0</td>\n",
       "      <td>0.00</td>\n",
       "      <td>0</td>\n",
       "      <td>0</td>\n",
       "      <td>...</td>\n",
       "      <td>0</td>\n",
       "      <td>0</td>\n",
       "      <td>0</td>\n",
       "      <td>0</td>\n",
       "      <td>0</td>\n",
       "      <td>0</td>\n",
       "      <td>0</td>\n",
       "      <td>0</td>\n",
       "      <td>0</td>\n",
       "      <td>0</td>\n",
       "    </tr>\n",
       "    <tr>\n",
       "      <th>14</th>\n",
       "      <td>0</td>\n",
       "      <td>0</td>\n",
       "      <td>0</td>\n",
       "      <td>0</td>\n",
       "      <td>0</td>\n",
       "      <td>0</td>\n",
       "      <td>0</td>\n",
       "      <td>0.00</td>\n",
       "      <td>0</td>\n",
       "      <td>0</td>\n",
       "      <td>...</td>\n",
       "      <td>0</td>\n",
       "      <td>0</td>\n",
       "      <td>0</td>\n",
       "      <td>0</td>\n",
       "      <td>0</td>\n",
       "      <td>0</td>\n",
       "      <td>0</td>\n",
       "      <td>0</td>\n",
       "      <td>0</td>\n",
       "      <td>0</td>\n",
       "    </tr>\n",
       "    <tr>\n",
       "      <th>15</th>\n",
       "      <td>0</td>\n",
       "      <td>0</td>\n",
       "      <td>0</td>\n",
       "      <td>0</td>\n",
       "      <td>0</td>\n",
       "      <td>0</td>\n",
       "      <td>0</td>\n",
       "      <td>0.00</td>\n",
       "      <td>0</td>\n",
       "      <td>0</td>\n",
       "      <td>...</td>\n",
       "      <td>0</td>\n",
       "      <td>0</td>\n",
       "      <td>0</td>\n",
       "      <td>0</td>\n",
       "      <td>0</td>\n",
       "      <td>0</td>\n",
       "      <td>0</td>\n",
       "      <td>0</td>\n",
       "      <td>0</td>\n",
       "      <td>0</td>\n",
       "    </tr>\n",
       "    <tr>\n",
       "      <th>16</th>\n",
       "      <td>0</td>\n",
       "      <td>0</td>\n",
       "      <td>0</td>\n",
       "      <td>0</td>\n",
       "      <td>0</td>\n",
       "      <td>0</td>\n",
       "      <td>0</td>\n",
       "      <td>0.00</td>\n",
       "      <td>0</td>\n",
       "      <td>0</td>\n",
       "      <td>...</td>\n",
       "      <td>0</td>\n",
       "      <td>0</td>\n",
       "      <td>0</td>\n",
       "      <td>0</td>\n",
       "      <td>0</td>\n",
       "      <td>0</td>\n",
       "      <td>0</td>\n",
       "      <td>0</td>\n",
       "      <td>0</td>\n",
       "      <td>0</td>\n",
       "    </tr>\n",
       "    <tr>\n",
       "      <th>17</th>\n",
       "      <td>0</td>\n",
       "      <td>0</td>\n",
       "      <td>0</td>\n",
       "      <td>0</td>\n",
       "      <td>0</td>\n",
       "      <td>0</td>\n",
       "      <td>0</td>\n",
       "      <td>0.00</td>\n",
       "      <td>0</td>\n",
       "      <td>0</td>\n",
       "      <td>...</td>\n",
       "      <td>0</td>\n",
       "      <td>0</td>\n",
       "      <td>0</td>\n",
       "      <td>0</td>\n",
       "      <td>0</td>\n",
       "      <td>0</td>\n",
       "      <td>0</td>\n",
       "      <td>0</td>\n",
       "      <td>0</td>\n",
       "      <td>0</td>\n",
       "    </tr>\n",
       "    <tr>\n",
       "      <th>18</th>\n",
       "      <td>0</td>\n",
       "      <td>0</td>\n",
       "      <td>0</td>\n",
       "      <td>0</td>\n",
       "      <td>0</td>\n",
       "      <td>0</td>\n",
       "      <td>0</td>\n",
       "      <td>0.00</td>\n",
       "      <td>0</td>\n",
       "      <td>0</td>\n",
       "      <td>...</td>\n",
       "      <td>0</td>\n",
       "      <td>0</td>\n",
       "      <td>0</td>\n",
       "      <td>0</td>\n",
       "      <td>0</td>\n",
       "      <td>0</td>\n",
       "      <td>0</td>\n",
       "      <td>0</td>\n",
       "      <td>0</td>\n",
       "      <td>0</td>\n",
       "    </tr>\n",
       "    <tr>\n",
       "      <th>19</th>\n",
       "      <td>0</td>\n",
       "      <td>0</td>\n",
       "      <td>0</td>\n",
       "      <td>0</td>\n",
       "      <td>0</td>\n",
       "      <td>0</td>\n",
       "      <td>0</td>\n",
       "      <td>0.00</td>\n",
       "      <td>0</td>\n",
       "      <td>0</td>\n",
       "      <td>...</td>\n",
       "      <td>0</td>\n",
       "      <td>0</td>\n",
       "      <td>0</td>\n",
       "      <td>0</td>\n",
       "      <td>0</td>\n",
       "      <td>0</td>\n",
       "      <td>0</td>\n",
       "      <td>0</td>\n",
       "      <td>0</td>\n",
       "      <td>0</td>\n",
       "    </tr>\n",
       "    <tr>\n",
       "      <th>20</th>\n",
       "      <td>0</td>\n",
       "      <td>0</td>\n",
       "      <td>0</td>\n",
       "      <td>0</td>\n",
       "      <td>0</td>\n",
       "      <td>0</td>\n",
       "      <td>0</td>\n",
       "      <td>0.00</td>\n",
       "      <td>0</td>\n",
       "      <td>0</td>\n",
       "      <td>...</td>\n",
       "      <td>0</td>\n",
       "      <td>0</td>\n",
       "      <td>0</td>\n",
       "      <td>0</td>\n",
       "      <td>0</td>\n",
       "      <td>0</td>\n",
       "      <td>0</td>\n",
       "      <td>0</td>\n",
       "      <td>0</td>\n",
       "      <td>0</td>\n",
       "    </tr>\n",
       "    <tr>\n",
       "      <th>21</th>\n",
       "      <td>0</td>\n",
       "      <td>0</td>\n",
       "      <td>0</td>\n",
       "      <td>0</td>\n",
       "      <td>0</td>\n",
       "      <td>0</td>\n",
       "      <td>0</td>\n",
       "      <td>0.00</td>\n",
       "      <td>0</td>\n",
       "      <td>0</td>\n",
       "      <td>...</td>\n",
       "      <td>0</td>\n",
       "      <td>0</td>\n",
       "      <td>0</td>\n",
       "      <td>0</td>\n",
       "      <td>0</td>\n",
       "      <td>0</td>\n",
       "      <td>0</td>\n",
       "      <td>0</td>\n",
       "      <td>0</td>\n",
       "      <td>0</td>\n",
       "    </tr>\n",
       "    <tr>\n",
       "      <th>22</th>\n",
       "      <td>0</td>\n",
       "      <td>0</td>\n",
       "      <td>0</td>\n",
       "      <td>0</td>\n",
       "      <td>0</td>\n",
       "      <td>0</td>\n",
       "      <td>0</td>\n",
       "      <td>0.00</td>\n",
       "      <td>0</td>\n",
       "      <td>0</td>\n",
       "      <td>...</td>\n",
       "      <td>0</td>\n",
       "      <td>0</td>\n",
       "      <td>0</td>\n",
       "      <td>0</td>\n",
       "      <td>0</td>\n",
       "      <td>0</td>\n",
       "      <td>0</td>\n",
       "      <td>0</td>\n",
       "      <td>0</td>\n",
       "      <td>0</td>\n",
       "    </tr>\n",
       "    <tr>\n",
       "      <th>23</th>\n",
       "      <td>0</td>\n",
       "      <td>0</td>\n",
       "      <td>0</td>\n",
       "      <td>0</td>\n",
       "      <td>0</td>\n",
       "      <td>0</td>\n",
       "      <td>0</td>\n",
       "      <td>0.00</td>\n",
       "      <td>0</td>\n",
       "      <td>0</td>\n",
       "      <td>...</td>\n",
       "      <td>0</td>\n",
       "      <td>0</td>\n",
       "      <td>0</td>\n",
       "      <td>0</td>\n",
       "      <td>0</td>\n",
       "      <td>0</td>\n",
       "      <td>0</td>\n",
       "      <td>0</td>\n",
       "      <td>0</td>\n",
       "      <td>0</td>\n",
       "    </tr>\n",
       "    <tr>\n",
       "      <th>24</th>\n",
       "      <td>0</td>\n",
       "      <td>0</td>\n",
       "      <td>0</td>\n",
       "      <td>0</td>\n",
       "      <td>0</td>\n",
       "      <td>0</td>\n",
       "      <td>0</td>\n",
       "      <td>0.00</td>\n",
       "      <td>0</td>\n",
       "      <td>0</td>\n",
       "      <td>...</td>\n",
       "      <td>0</td>\n",
       "      <td>0</td>\n",
       "      <td>0</td>\n",
       "      <td>0</td>\n",
       "      <td>0</td>\n",
       "      <td>0</td>\n",
       "      <td>0</td>\n",
       "      <td>0</td>\n",
       "      <td>0</td>\n",
       "      <td>0</td>\n",
       "    </tr>\n",
       "  </tbody>\n",
       "</table>\n",
       "<p>25 rows × 29185 columns</p>\n",
       "</div>"
      ],
      "text/plain": [
       "    00  000  007  00a  00am  00pm  01    02  03  03342 ...  zuzus  zweigel  \\\n",
       "0    0    0    0    0     0     0   0  0.00   0      0 ...      0        0   \n",
       "1    0    0    0    0     0     0   0  0.25   0      0 ...      0        0   \n",
       "2    0    0    0    0     0     0   0  0.00   0      0 ...      0        0   \n",
       "3    0    0    0    0     0     0   0  0.00   0      0 ...      0        0   \n",
       "4    0    0    0    0     0     0   0  0.00   0      0 ...      0        0   \n",
       "5    0    0    0    0     0     0   0  0.00   0      0 ...      0        0   \n",
       "6    0    0    0    0     0     0   0  0.00   0      0 ...      0        0   \n",
       "7    0    0    0    0     0     0   0  0.00   0      0 ...      0        0   \n",
       "8    0    0    0    0     0     0   0  0.00   0      0 ...      0        0   \n",
       "9    0    0    0    0     0     0   0  0.00   0      0 ...      0        0   \n",
       "10   0    0    0    0     0     0   0  0.00   0      0 ...      0        0   \n",
       "11   0    0    0    0     0     0   0  0.00   0      0 ...      0        0   \n",
       "12   0    0    0    0     0     0   0  0.00   0      0 ...      0        0   \n",
       "13   0    0    0    0     0     0   0  0.00   0      0 ...      0        0   \n",
       "14   0    0    0    0     0     0   0  0.00   0      0 ...      0        0   \n",
       "15   0    0    0    0     0     0   0  0.00   0      0 ...      0        0   \n",
       "16   0    0    0    0     0     0   0  0.00   0      0 ...      0        0   \n",
       "17   0    0    0    0     0     0   0  0.00   0      0 ...      0        0   \n",
       "18   0    0    0    0     0     0   0  0.00   0      0 ...      0        0   \n",
       "19   0    0    0    0     0     0   0  0.00   0      0 ...      0        0   \n",
       "20   0    0    0    0     0     0   0  0.00   0      0 ...      0        0   \n",
       "21   0    0    0    0     0     0   0  0.00   0      0 ...      0        0   \n",
       "22   0    0    0    0     0     0   0  0.00   0      0 ...      0        0   \n",
       "23   0    0    0    0     0     0   0  0.00   0      0 ...      0        0   \n",
       "24   0    0    0    0     0     0   0  0.00   0      0 ...      0        0   \n",
       "\n",
       "    zwiebel  zy  zzed  zzzzzzzzzzzzzzzzz  éclairs  école  ém  òc  \n",
       "0         0   0     0                  0        0      0   0   0  \n",
       "1         0   0     0                  0        0      0   0   0  \n",
       "2         0   0     0                  0        0      0   0   0  \n",
       "3         0   0     0                  0        0      0   0   0  \n",
       "4         0   0     0                  0        0      0   0   0  \n",
       "5         0   0     0                  0        0      0   0   0  \n",
       "6         0   0     0                  0        0      0   0   0  \n",
       "7         0   0     0                  0        0      0   0   0  \n",
       "8         0   0     0                  0        0      0   0   0  \n",
       "9         0   0     0                  0        0      0   0   0  \n",
       "10        0   0     0                  0        0      0   0   0  \n",
       "11        0   0     0                  0        0      0   0   0  \n",
       "12        0   0     0                  0        0      0   0   0  \n",
       "13        0   0     0                  0        0      0   0   0  \n",
       "14        0   0     0                  0        0      0   0   0  \n",
       "15        0   0     0                  0        0      0   0   0  \n",
       "16        0   0     0                  0        0      0   0   0  \n",
       "17        0   0     0                  0        0      0   0   0  \n",
       "18        0   0     0                  0        0      0   0   0  \n",
       "19        0   0     0                  0        0      0   0   0  \n",
       "20        0   0     0                  0        0      0   0   0  \n",
       "21        0   0     0                  0        0      0   0   0  \n",
       "22        0   0     0                  0        0      0   0   0  \n",
       "23        0   0     0                  0        0      0   0   0  \n",
       "24        0   0     0                  0        0      0   0   0  \n",
       "\n",
       "[25 rows x 29185 columns]"
      ]
     },
     "execution_count": 43,
     "metadata": {},
     "output_type": "execute_result"
    }
   ],
   "source": [
    "tidf.head(25)"
   ]
  },
  {
   "cell_type": "markdown",
   "metadata": {},
   "source": [
    "### 2) Using TFIDF vectorizer"
   ]
  },
  {
   "cell_type": "code",
   "execution_count": 112,
   "metadata": {
    "collapsed": true
   },
   "outputs": [],
   "source": [
    "yelp = pd.read_csv('/home/anna/DAT-DC-10/data/yelp.csv', sep=',', header=0)"
   ]
  },
  {
   "cell_type": "code",
   "execution_count": 113,
   "metadata": {
    "collapsed": false
   },
   "outputs": [],
   "source": [
    "yelp = yelp[(yelp.stars == 1) | (yelp.stars == 5)]"
   ]
  },
  {
   "cell_type": "code",
   "execution_count": 114,
   "metadata": {
    "collapsed": false,
    "scrolled": true
   },
   "outputs": [
    {
     "data": {
      "text/plain": [
       "5    3337\n",
       "1     749\n",
       "Name: stars, dtype: int64"
      ]
     },
     "execution_count": 114,
     "metadata": {},
     "output_type": "execute_result"
    }
   ],
   "source": [
    "yelp.stars.value_counts()"
   ]
  },
  {
   "cell_type": "code",
   "execution_count": 138,
   "metadata": {
    "collapsed": false
   },
   "outputs": [],
   "source": [
    "yelp['result'] = yelp.stars.map({1:0,5:1})"
   ]
  },
  {
   "cell_type": "code",
   "execution_count": 139,
   "metadata": {
    "collapsed": true
   },
   "outputs": [
    {
     "data": {
      "text/html": [
       "<div>\n",
       "<table border=\"1\" class=\"dataframe\">\n",
       "  <thead>\n",
       "    <tr style=\"text-align: right;\">\n",
       "      <th></th>\n",
       "      <th>business_id</th>\n",
       "      <th>date</th>\n",
       "      <th>review_id</th>\n",
       "      <th>stars</th>\n",
       "      <th>text</th>\n",
       "      <th>type</th>\n",
       "      <th>user_id</th>\n",
       "      <th>cool</th>\n",
       "      <th>useful</th>\n",
       "      <th>funny</th>\n",
       "      <th>result</th>\n",
       "    </tr>\n",
       "  </thead>\n",
       "  <tbody>\n",
       "    <tr>\n",
       "      <th>0</th>\n",
       "      <td>9yKzy9PApeiPPOUJEtnvkg</td>\n",
       "      <td>2011-01-26</td>\n",
       "      <td>fWKvX83p0-ka4JS3dc6E5A</td>\n",
       "      <td>5</td>\n",
       "      <td>My wife took me here on my birthday for breakf...</td>\n",
       "      <td>review</td>\n",
       "      <td>rLtl8ZkDX5vH5nAx9C3q5Q</td>\n",
       "      <td>2</td>\n",
       "      <td>5</td>\n",
       "      <td>0</td>\n",
       "      <td>1</td>\n",
       "    </tr>\n",
       "    <tr>\n",
       "      <th>1</th>\n",
       "      <td>ZRJwVLyzEJq1VAihDhYiow</td>\n",
       "      <td>2011-07-27</td>\n",
       "      <td>IjZ33sJrzXqU-0X6U8NwyA</td>\n",
       "      <td>5</td>\n",
       "      <td>I have no idea why some people give bad review...</td>\n",
       "      <td>review</td>\n",
       "      <td>0a2KyEL0d3Yb1V6aivbIuQ</td>\n",
       "      <td>0</td>\n",
       "      <td>0</td>\n",
       "      <td>0</td>\n",
       "      <td>1</td>\n",
       "    </tr>\n",
       "    <tr>\n",
       "      <th>3</th>\n",
       "      <td>_1QQZuf4zZOyFCvXc0o6Vg</td>\n",
       "      <td>2010-05-27</td>\n",
       "      <td>G-WvGaISbqqaMHlNnByodA</td>\n",
       "      <td>5</td>\n",
       "      <td>Rosie, Dakota, and I LOVE Chaparral Dog Park!!...</td>\n",
       "      <td>review</td>\n",
       "      <td>uZetl9T0NcROGOyFfughhg</td>\n",
       "      <td>1</td>\n",
       "      <td>2</td>\n",
       "      <td>0</td>\n",
       "      <td>1</td>\n",
       "    </tr>\n",
       "  </tbody>\n",
       "</table>\n",
       "</div>"
      ],
      "text/plain": [
       "              business_id        date               review_id  stars  \\\n",
       "0  9yKzy9PApeiPPOUJEtnvkg  2011-01-26  fWKvX83p0-ka4JS3dc6E5A      5   \n",
       "1  ZRJwVLyzEJq1VAihDhYiow  2011-07-27  IjZ33sJrzXqU-0X6U8NwyA      5   \n",
       "3  _1QQZuf4zZOyFCvXc0o6Vg  2010-05-27  G-WvGaISbqqaMHlNnByodA      5   \n",
       "\n",
       "                                                text    type  \\\n",
       "0  My wife took me here on my birthday for breakf...  review   \n",
       "1  I have no idea why some people give bad review...  review   \n",
       "3  Rosie, Dakota, and I LOVE Chaparral Dog Park!!...  review   \n",
       "\n",
       "                  user_id  cool  useful  funny  result  \n",
       "0  rLtl8ZkDX5vH5nAx9C3q5Q     2       5      0       1  \n",
       "1  0a2KyEL0d3Yb1V6aivbIuQ     0       0      0       1  \n",
       "3  uZetl9T0NcROGOyFfughhg     1       2      0       1  "
      ]
     },
     "execution_count": 139,
     "metadata": {},
     "output_type": "execute_result"
    }
   ],
   "source": [
    "yelp.head(3)"
   ]
  },
  {
   "cell_type": "code",
   "execution_count": 140,
   "metadata": {
    "collapsed": false
   },
   "outputs": [
    {
     "data": {
      "text/plain": [
       "1    3337\n",
       "0     749\n",
       "Name: result, dtype: int64"
      ]
     },
     "execution_count": 140,
     "metadata": {},
     "output_type": "execute_result"
    }
   ],
   "source": [
    "yelp.result.value_counts()"
   ]
  },
  {
   "cell_type": "code",
   "execution_count": 141,
   "metadata": {
    "collapsed": true
   },
   "outputs": [],
   "source": [
    "X = yelp.text\n",
    "y = yelp.result"
   ]
  },
  {
   "cell_type": "code",
   "execution_count": 142,
   "metadata": {
    "collapsed": true
   },
   "outputs": [],
   "source": [
    "Xtrain, Xtest, ytrain, ytest = train_test_split(X, y, random_state = 1)"
   ]
  },
  {
   "cell_type": "code",
   "execution_count": 143,
   "metadata": {
    "collapsed": false
   },
   "outputs": [
    {
     "name": "stdout",
     "output_type": "stream",
     "text": [
      "(3064,) (3064,)\n",
      "(1022,) (1022,)\n"
     ]
    }
   ],
   "source": [
    "print Xtrain.shape, ytrain.shape\n",
    "print Xtest.shape, ytest.shape"
   ]
  },
  {
   "cell_type": "code",
   "execution_count": 168,
   "metadata": {
    "collapsed": false
   },
   "outputs": [],
   "source": [
    "from sklearn.feature_extraction.text import TfidfTransformer\n",
    "from sklearn import naive_bayes\n",
    "\n",
    "vect = TfidfVectorizer(stop_words = 'english')\n",
    "\n",
    "Xtrain_dtm = vect.fit_transform(Xtrain, ytrain)\n",
    "Xtest_dtm = vect.transform(Xtest)\n",
    "features = vect.get_feature_names()\n",
    "\n",
    "model = naive_bayes.BernoulliNB()\n",
    "NBfit = model.fit(Xtrain_dtm, ytrain)\n",
    "\n",
    "ypred_test = NBfit.predict(Xtest_dtm)"
   ]
  },
  {
   "cell_type": "code",
   "execution_count": 163,
   "metadata": {
    "collapsed": false
   },
   "outputs": [
    {
     "name": "stdout",
     "output_type": "stream",
     "text": [
      "0.853228962818\n"
     ]
    }
   ],
   "source": [
    "from sklearn import metrics\n",
    "print metrics.accuracy_score(ytest, ypred_test)"
   ]
  },
  {
   "cell_type": "code",
   "execution_count": 71,
   "metadata": {
    "collapsed": true
   },
   "outputs": [],
   "source": [
    "#tfidf = pd.DataFrame(Xtrain_dtm.toarray(), columns=vect.get_feature_names())"
   ]
  },
  {
   "cell_type": "code",
   "execution_count": 164,
   "metadata": {
    "collapsed": true
   },
   "outputs": [],
   "source": [
    "null_df = pd.Series(1, index = np.arange(len(ytest)))"
   ]
  },
  {
   "cell_type": "code",
   "execution_count": 165,
   "metadata": {
    "collapsed": false
   },
   "outputs": [
    {
     "name": "stdout",
     "output_type": "stream",
     "text": [
      "0.819960861057\n"
     ]
    }
   ],
   "source": [
    "print metrics.accuracy_score(ytest, null_df)"
   ]
  },
  {
   "cell_type": "code",
   "execution_count": 169,
   "metadata": {
    "collapsed": false,
    "scrolled": true
   },
   "outputs": [
    {
     "data": {
      "text/plain": [
       "array([[ 67, 117],\n",
       "       [ 33, 805]])"
      ]
     },
     "execution_count": 169,
     "metadata": {},
     "output_type": "execute_result"
    }
   ],
   "source": [
    "metrics.confusion_matrix(ytest, ypred_test)"
   ]
  },
  {
   "cell_type": "code",
   "execution_count": 171,
   "metadata": {
    "collapsed": false
   },
   "outputs": [
    {
     "name": "stdout",
     "output_type": "stream",
     "text": [
      "(1022, 2)\n"
     ]
    }
   ],
   "source": [
    "y_pred_proba = NBfit.predict_proba(Xtest_dtm)\n",
    "print y_pred_proba.shape"
   ]
  },
  {
   "cell_type": "code",
   "execution_count": 173,
   "metadata": {
    "collapsed": false
   },
   "outputs": [],
   "source": [
    "tfidf_fpr, tfidf_tpr, thresholds = metrics.roc_curve(ytest.values, y_pred_proba[:,1])"
   ]
  },
  {
   "cell_type": "code",
   "execution_count": 176,
   "metadata": {
    "collapsed": false
   },
   "outputs": [
    {
     "data": {
      "text/plain": [
       "[<matplotlib.lines.Line2D at 0x7f6f06a3a790>]"
      ]
     },
     "execution_count": 176,
     "metadata": {},
     "output_type": "execute_result"
    },
    {
     "data": {
      "image/png": "[encoded data removed]",
      "text/plain": [
       "<matplotlib.figure.Figure at 0x7f7142aa4590>"
      ]
     },
     "metadata": {},
     "output_type": "display_data"
    }
   ],
   "source": [
    "import matplotlib.pyplot as plt\n",
    "%matplotlib inline\n",
    "plt.plot([0, 1], [0, 1], 'k--')\n",
    "plt.plot(tfidf_fpr, tfidf_tpr)"
   ]
  },
  {
   "cell_type": "code",
   "execution_count": 177,
   "metadata": {
    "collapsed": false
   },
   "outputs": [
    {
     "data": {
      "text/plain": [
       "158"
      ]
     },
     "execution_count": 177,
     "metadata": {},
     "output_type": "execute_result"
    }
   ],
   "source": [
    "len(tfidf_fpr)"
   ]
  },
  {
   "cell_type": "code",
   "execution_count": null,
   "metadata": {
    "collapsed": true
   },
   "outputs": [],
   "source": []
  }
 ],
 "metadata": {
  "kernelspec": {
   "display_name": "Python 2",
   "language": "python",
   "name": "python2"
  },
  "language_info": {
   "codemirror_mode": {
    "name": "ipython",
    "version": 2
   },
   "file_extension": ".py",
   "mimetype": "text/x-python",
   "name": "python",
   "nbconvert_exporter": "python",
   "pygments_lexer": "ipython2",
   "version": "2.7.11"
  }
 },
 "nbformat": 4,
 "nbformat_minor": 0
}
