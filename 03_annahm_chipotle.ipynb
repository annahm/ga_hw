{
 "cells": [
  {
   "cell_type": "code",
   "execution_count": 2,
   "metadata": {
    "collapsed": true
   },
   "outputs": [],
   "source": [
    "import csv\n",
    "import sys"
   ]
  },
  {
   "cell_type": "markdown",
   "metadata": {},
   "source": [
    "Part 1:"
   ]
  },
  {
   "cell_type": "code",
   "execution_count": 4,
   "metadata": {
    "collapsed": false
   },
   "outputs": [],
   "source": [
    "with open(\"/home/anna/DAT-DC-10/data/chipotle.tsv\", 'r') as f:\n",
    "    reader = csv.reader(f, delimiter='\\t')\n",
    "\n",
    "    file_nested_list = []\n",
    "    for row in reader:\n",
    "        file_nested_list.append(row)"
   ]
  },
  {
   "cell_type": "markdown",
   "metadata": {
    "collapsed": true
   },
   "source": [
    "Used with in order to make sure file is closed after with block ends"
   ]
  },
  {
   "cell_type": "markdown",
   "metadata": {},
   "source": [
    "Part 2:"
   ]
  },
  {
   "cell_type": "code",
   "execution_count": 46,
   "metadata": {
    "collapsed": true
   },
   "outputs": [],
   "source": [
    "header = file_nested_list[0]\n",
    "data = file_nested_list[1:len(file_nested_list)]"
   ]
  },
  {
   "cell_type": "code",
   "execution_count": 47,
   "metadata": {
    "collapsed": false
   },
   "outputs": [
    {
     "data": {
      "text/plain": [
       "4623"
      ]
     },
     "execution_count": 47,
     "metadata": {},
     "output_type": "execute_result"
    }
   ],
   "source": [
    "len(header)\n",
    "len(data)\n",
    "len(file_nested_list)"
   ]
  },
  {
   "cell_type": "code",
   "execution_count": 51,
   "metadata": {
    "collapsed": false
   },
   "outputs": [
    {
     "data": {
      "text/plain": [
       "4622"
      ]
     },
     "execution_count": 51,
     "metadata": {},
     "output_type": "execute_result"
    }
   ],
   "source": [
    "len(data)"
   ]
  },
  {
   "cell_type": "code",
   "execution_count": 49,
   "metadata": {
    "collapsed": false
   },
   "outputs": [
    {
     "data": {
      "text/plain": [
       "5"
      ]
     },
     "execution_count": 49,
     "metadata": {},
     "output_type": "execute_result"
    }
   ],
   "source": [
    "len(header)"
   ]
  },
  {
   "cell_type": "code",
   "execution_count": 59,
   "metadata": {
    "collapsed": false,
    "scrolled": true
   },
   "outputs": [
    {
     "name": "stdout",
     "output_type": "stream",
     "text": [
      "[(1831, 4.3), (1832, 6.6), (1833, 11.75), (1834, 9.58)]\n"
     ]
    }
   ],
   "source": [
    "row = 0\n",
    "ord_avg = []\n",
    "n_rows = len(data) # 4623\n",
    "for id in range(1, int(data[len(data)-1][0]) + 1): # 1834 + 1\n",
    "    qty = 0\n",
    "    tot = 0.0\n",
    "    avg = 0.0\n",
    "    while (int(data[row][0]) == id):\n",
    "        tot = tot + float(data[row][4].strip(\" \").strip(\"$\"))\n",
    "        qty = qty + int(data[row][1])\n",
    "        avg = tot / qty  # seems like you have to use qty to get avg.\n",
    "        row = row + 1\n",
    "        if row >= n_rows:\n",
    "            break;\n",
    "        \n",
    "    tup = (id, float(format(avg, \".2f\")))\n",
    "    ord_avg.append(tup)\n",
    "\n",
    "print ord_avg[1830:1835]"
   ]
  },
  {
   "cell_type": "markdown",
   "metadata": {},
   "source": [
    "Part 4"
   ]
  },
  {
   "cell_type": "code",
   "execution_count": 67,
   "metadata": {
    "collapsed": false
   },
   "outputs": [],
   "source": [
    "sodas = []\n",
    "sodas = [i[3].strip(\"[\").strip(\"]\") for i in data if i[2] == \"Canned Soda\"]   "
   ]
  },
  {
   "cell_type": "code",
   "execution_count": 68,
   "metadata": {
    "collapsed": false
   },
   "outputs": [
    {
     "data": {
      "text/plain": [
       "{'Coca Cola',\n",
       " 'Diet Coke',\n",
       " 'Diet Dr. Pepper',\n",
       " 'Dr. Pepper',\n",
       " 'Mountain Dew',\n",
       " 'Sprite'}"
      ]
     },
     "execution_count": 68,
     "metadata": {},
     "output_type": "execute_result"
    }
   ],
   "source": [
    "unique_sodas = set(sodas)"
   ]
  },
  {
   "cell_type": "markdown",
   "metadata": {},
   "source": [
    "Part 5"
   ]
  },
  {
   "cell_type": "code",
   "execution_count": 80,
   "metadata": {
    "collapsed": true
   },
   "outputs": [],
   "source": [
    "l = []\n",
    "l = [i[2] for i in data if i[2].find(\"Burrito\") != -1]\n",
    "unique_b = list(set(l))"
   ]
  },
  {
   "cell_type": "code",
   "execution_count": 81,
   "metadata": {
    "collapsed": false
   },
   "outputs": [
    {
     "data": {
      "text/plain": [
       "['Burrito',\n",
       " 'Barbacoa Burrito',\n",
       " 'Veggie Burrito',\n",
       " 'Steak Burrito',\n",
       " 'Carnitas Burrito',\n",
       " 'Chicken Burrito']"
      ]
     },
     "execution_count": 81,
     "metadata": {},
     "output_type": "execute_result"
    }
   ],
   "source": [
    "unique_b"
   ]
  },
  {
   "cell_type": "code",
   "execution_count": 105,
   "metadata": {
    "collapsed": false
   },
   "outputs": [],
   "source": [
    "import re\n",
    "from __future__ import division\n",
    "d_ords = {}\n",
    "d_tops = {}\n",
    "d_avg = {}\n",
    "for item in data:\n",
    "    if item[2] in unique_b:\n",
    "        if item[2] in d_ords:\n",
    "            d_ords[item[2]] = d_ords[item[2]] + 1\n",
    "            d_tops[item[2]] = d_tops[item[2]] + len([m.start() for m in re.finditer(',', item[3])])\n",
    "        else:\n",
    "            d_ords[item[2]] = 1\n",
    "            d_tops[item[2]] = len([m.start() for m in re.finditer(',', item[3])])\n",
    "\n",
    "for i in d_ords:\n",
    "    d_avg[i] = format(d_tops[i] / d_ords[i], \".2f\")"
   ]
  },
  {
   "cell_type": "markdown",
   "metadata": {},
   "source": [
    "KeyError occurs when attempting to enter first item in dict because used dictionary class vs defaultdict."
   ]
  },
  {
   "cell_type": "code",
   "execution_count": 93,
   "metadata": {
    "collapsed": false
   },
   "outputs": [
    {
     "data": {
      "text/plain": [
       "{'Barbacoa Burrito': 91,\n",
       " 'Burrito': 6,\n",
       " 'Carnitas Burrito': 59,\n",
       " 'Chicken Burrito': 553,\n",
       " 'Steak Burrito': 368,\n",
       " 'Veggie Burrito': 95}"
      ]
     },
     "execution_count": 93,
     "metadata": {},
     "output_type": "execute_result"
    }
   ],
   "source": [
    "d_ords"
   ]
  },
  {
   "cell_type": "code",
   "execution_count": 94,
   "metadata": {
    "collapsed": false
   },
   "outputs": [
    {
     "data": {
      "text/plain": [
       "{'Barbacoa Burrito': 377,\n",
       " 'Burrito': 29,\n",
       " 'Carnitas Burrito': 258,\n",
       " 'Chicken Burrito': 2394,\n",
       " 'Steak Burrito': 1622,\n",
       " 'Veggie Burrito': 471}"
      ]
     },
     "execution_count": 94,
     "metadata": {},
     "output_type": "execute_result"
    }
   ],
   "source": [
    "d_tops"
   ]
  },
  {
   "cell_type": "code",
   "execution_count": 106,
   "metadata": {
    "collapsed": false
   },
   "outputs": [
    {
     "data": {
      "text/plain": [
       "{'Barbacoa Burrito': '4.14',\n",
       " 'Burrito': '4.83',\n",
       " 'Carnitas Burrito': '4.37',\n",
       " 'Chicken Burrito': '4.33',\n",
       " 'Steak Burrito': '4.41',\n",
       " 'Veggie Burrito': '4.96'}"
      ]
     },
     "execution_count": 106,
     "metadata": {},
     "output_type": "execute_result"
    }
   ],
   "source": [
    "d_avg"
   ]
  },
  {
   "cell_type": "markdown",
   "metadata": {},
   "source": [
    "Part 6:"
   ]
  },
  {
   "cell_type": "code",
   "execution_count": 109,
   "metadata": {
    "collapsed": false
   },
   "outputs": [],
   "source": [
    "from collections import defaultdict\n",
    "d = defaultdict(int)\n",
    "for item in data:\n",
    "    found = len([m.start() for m in re.finditer('Chip', item[2])])\n",
    "    if found > 0:\n",
    "        d[item[2]] = d[item[2]] + int(item[1])\n",
    "    "
   ]
  },
  {
   "cell_type": "code",
   "execution_count": 110,
   "metadata": {
    "collapsed": false
   },
   "outputs": [
    {
     "data": {
      "text/plain": [
       "defaultdict(int,\n",
       "            {'Chips': 230,\n",
       "             'Chips and Fresh Tomato Salsa': 130,\n",
       "             'Chips and Guacamole': 506,\n",
       "             'Chips and Mild Fresh Tomato Salsa': 1,\n",
       "             'Chips and Roasted Chili Corn Salsa': 23,\n",
       "             'Chips and Roasted Chili-Corn Salsa': 18,\n",
       "             'Chips and Tomatillo Green Chili Salsa': 45,\n",
       "             'Chips and Tomatillo Red Chili Salsa': 50,\n",
       "             'Chips and Tomatillo-Green Chili Salsa': 33,\n",
       "             'Chips and Tomatillo-Red Chili Salsa': 25,\n",
       "             'Side of Chips': 110})"
      ]
     },
     "execution_count": 110,
     "metadata": {},
     "output_type": "execute_result"
    }
   ],
   "source": [
    "d"
   ]
  },
  {
   "cell_type": "code",
   "execution_count": null,
   "metadata": {
    "collapsed": true
   },
   "outputs": [],
   "source": []
  }
 ],
 "metadata": {
  "kernelspec": {
   "display_name": "Python 2",
   "language": "python",
   "name": "python2"
  },
  "language_info": {
   "codemirror_mode": {
    "name": "ipython",
    "version": 2
   },
   "file_extension": ".py",
   "mimetype": "text/x-python",
   "name": "python",
   "nbconvert_exporter": "python",
   "pygments_lexer": "ipython2",
   "version": "2.7.10"
  }
 },
 "nbformat": 4,
 "nbformat_minor": 0
}
