{
 "cells": [
  {
   "cell_type": "markdown",
   "metadata": {},
   "source": [
    "# Web Scraping with BeautifulSoup\n",
    "http://www.crummy.com/software/BeautifulSoup/bs4/doc/#"
   ]
  },
  {
   "cell_type": "markdown",
   "metadata": {},
   "source": [
    "What is web scraping?\n",
    "- Extracting information from websites (simulates a human copying and pasting)\n",
    "- Based on finding patterns in website code (usually HTML)\n",
    "\n",
    "What are best practices for web scraping?\n",
    "- Scraping too many pages too fast can get your IP address blocked\n",
    "- Pay attention to the robots exclusion standard (robots.txt)\n",
    "- Let's look at http://www.imdb.com/robots.txt\n",
    "\n",
    "What is HTML?\n",
    "- Code interpreted by a web browser to produce (\"render\") a web page\n",
    "- Let's look at example.html\n",
    "- Tags are opened and closed\n",
    "- Tags have optional attributes\n",
    "\n",
    "How to view HTML code:\n",
    "- To view the entire page: \"View Source\" or \"View Page Source\" or \"Show Page Source\"\n",
    "- To view a specific part: \"Inspect Element\"\n",
    "- Safari users: Safari menu, Preferences, Advanced, Show Develop menu in menu bar\n",
    "- Let's inspect example.html"
   ]
  },
  {
   "cell_type": "markdown",
   "metadata": {},
   "source": [
    "### Aquire Your Data"
   ]
  },
  {
   "cell_type": "code",
   "execution_count": 305,
   "metadata": {
    "collapsed": false
   },
   "outputs": [],
   "source": [
    "# read the HTML code for a web page and save as a string\n",
    "with open('../data/example.html', 'rU') as f:\n",
    "    html = f.read()"
   ]
  },
  {
   "cell_type": "markdown",
   "metadata": {},
   "source": [
    "### Look at / Explorre Your Data (html)"
   ]
  },
  {
   "cell_type": "code",
   "execution_count": 306,
   "metadata": {
    "collapsed": false
   },
   "outputs": [],
   "source": [
    "#print html"
   ]
  },
  {
   "cell_type": "code",
   "execution_count": 308,
   "metadata": {
    "collapsed": false
   },
   "outputs": [],
   "source": [
    "# convert HTML into a structured Soup object\n",
    "from bs4 import BeautifulSoup\n",
    "b = BeautifulSoup(html, 'html.parser')"
   ]
  },
  {
   "cell_type": "code",
   "execution_count": 309,
   "metadata": {
    "collapsed": false
   },
   "outputs": [
    {
     "data": {
      "text/plain": [
       "bs4.BeautifulSoup"
      ]
     },
     "execution_count": 309,
     "metadata": {},
     "output_type": "execute_result"
    }
   ],
   "source": [
    "# print out the object\n",
    "#print b\n",
    "#print b.prettify()\n",
    "type(b)"
   ]
  },
  {
   "cell_type": "markdown",
   "metadata": {},
   "source": [
    "#### 'find' method returns the first matching Tag (and everything inside of it)"
   ]
  },
  {
   "cell_type": "code",
   "execution_count": 310,
   "metadata": {
    "collapsed": false
   },
   "outputs": [
    {
     "data": {
      "text/plain": [
       "<h1 id=\"main\">DAT10 Class 6</h1>"
      ]
     },
     "execution_count": 310,
     "metadata": {},
     "output_type": "execute_result"
    }
   ],
   "source": [
    "b.find(name='body')\n",
    "b.find(name='h1')"
   ]
  },
  {
   "cell_type": "code",
   "execution_count": 311,
   "metadata": {
    "collapsed": false,
    "scrolled": true
   },
   "outputs": [
    {
     "name": "stdout",
     "output_type": "stream",
     "text": [
      "<type 'unicode'>\n"
     ]
    },
    {
     "data": {
      "text/plain": [
       "u'DAT10 Class 6'"
      ]
     },
     "execution_count": 311,
     "metadata": {},
     "output_type": "execute_result"
    }
   ],
   "source": [
    "# Tags allow you to access the 'inside text'\n",
    "h1_text = b.find(name='h1').text\n",
    "print type(h1_text)\n",
    "h1_text"
   ]
  },
  {
   "cell_type": "code",
   "execution_count": 312,
   "metadata": {
    "collapsed": false
   },
   "outputs": [
    {
     "data": {
      "text/plain": [
       "u'main'"
      ]
     },
     "execution_count": 312,
     "metadata": {},
     "output_type": "execute_result"
    }
   ],
   "source": [
    "# Tags also allow you to access their attributes\n",
    "b.find(name='h1')['id']"
   ]
  },
  {
   "cell_type": "markdown",
   "metadata": {},
   "source": [
    "#### 'find_all' method is useful for finding all matching Tags"
   ]
  },
  {
   "cell_type": "code",
   "execution_count": 313,
   "metadata": {
    "collapsed": false
   },
   "outputs": [
    {
     "data": {
      "text/plain": [
       "5"
      ]
     },
     "execution_count": 313,
     "metadata": {},
     "output_type": "execute_result"
    }
   ],
   "source": [
    "list_p = b.find_all(name='p')    # returns a ResultSet (like a list of Tags)\n",
    "len(list_p)"
   ]
  },
  {
   "cell_type": "markdown",
   "metadata": {},
   "source": [
    "### Quiz: What is the datatype returned by 'find_all'? What kinds of operations can we do on that datatype?"
   ]
  },
  {
   "cell_type": "code",
   "execution_count": 314,
   "metadata": {
    "collapsed": false
   },
   "outputs": [],
   "source": [
    "# Note you can't do b.find_all(name='p')['id'], but you can do this with a \n",
    "# single find result (see above or example below)"
   ]
  },
  {
   "cell_type": "markdown",
   "metadata": {},
   "source": [
    "Hint: ResultSets can be sliced"
   ]
  },
  {
   "cell_type": "code",
   "execution_count": 315,
   "metadata": {
    "collapsed": false
   },
   "outputs": [
    {
     "name": "stdout",
     "output_type": "stream",
     "text": [
      "5\n",
      "<p class=\"topic\" id=\"api\">First, we are covering APIs, which are useful for getting data.</p>\n",
      "First, we are covering APIs, which are useful for getting data.\n"
     ]
    },
    {
     "data": {
      "text/plain": [
       "[u'topic']"
      ]
     },
     "execution_count": 315,
     "metadata": {},
     "output_type": "execute_result"
    }
   ],
   "source": [
    "print len(b.find_all(name='p'))\n",
    "print b.find_all(name='p')[0]\n",
    "print b.find_all(name='p')[0].text\n",
    "b.find_all(name='p')[0]['id']\n",
    "b.find_all(name='p')[1]['class']"
   ]
  },
  {
   "cell_type": "code",
   "execution_count": 316,
   "metadata": {
    "collapsed": false
   },
   "outputs": [
    {
     "name": "stdout",
     "output_type": "stream",
     "text": [
      "First, we are covering APIs, which are useful for getting data.\n",
      "Then, we are covering web scraping, which is a more flexible way to get data.\n",
      "Finally, I will ask you to fill out yet another feedback form!\n",
      "Here are some helpful API resources:\n",
      "Here are some helpful web scraping resources:\n"
     ]
    }
   ],
   "source": [
    "# iterate over a ResultSet\n",
    "results = b.find_all(name='p')\n",
    "for tag in results:\n",
    "    print tag.text"
   ]
  },
  {
   "cell_type": "markdown",
   "metadata": {},
   "source": [
    "### Quiz: How would you write the above as a list comprenhension?"
   ]
  },
  {
   "cell_type": "code",
   "execution_count": 317,
   "metadata": {
    "collapsed": false
   },
   "outputs": [
    {
     "name": "stdout",
     "output_type": "stream",
     "text": [
      "First, we are covering APIs, which are useful for getting data.\n",
      "Then, we are covering web scraping, which is a more flexible way to get data.\n",
      "Finally, I will ask you to fill out yet another feedback form!\n",
      "Here are some helpful API resources:\n",
      "Here are some helpful web scraping resources:\n",
      "\n"
     ]
    }
   ],
   "source": [
    "str = [tag.text+'\\n' for tag in b.find_all(name='p')]\n",
    "print ''.join(str)"
   ]
  },
  {
   "cell_type": "markdown",
   "metadata": {},
   "source": [
    "### Limit search by Tag attribute"
   ]
  },
  {
   "cell_type": "code",
   "execution_count": 318,
   "metadata": {
    "collapsed": false
   },
   "outputs": [
    {
     "data": {
      "text/plain": [
       "<p class=\"topic\" id=\"scraping\">Then, we are covering web scraping, which is a more flexible way to get data.</p>"
      ]
     },
     "execution_count": 318,
     "metadata": {},
     "output_type": "execute_result"
    }
   ],
   "source": [
    "b.find(name='p', attrs={'id':'scraping'})"
   ]
  },
  {
   "cell_type": "code",
   "execution_count": 319,
   "metadata": {
    "collapsed": false
   },
   "outputs": [
    {
     "data": {
      "text/plain": [
       "[<p class=\"topic\" id=\"api\">First, we are covering APIs, which are useful for getting data.</p>,\n",
       " <p class=\"topic\" id=\"scraping\">Then, we are covering web scraping, which is a more flexible way to get data.</p>,\n",
       " <p class=\"topic\" id=\"feedback\">Finally, I will ask you to fill out yet another feedback form!</p>]"
      ]
     },
     "execution_count": 319,
     "metadata": {},
     "output_type": "execute_result"
    }
   ],
   "source": [
    "# this returns the same answer\n",
    "b.find_all(name='p', attrs={'class':'topic'})\n",
    "b.find_all(attrs={'class':'topic'})"
   ]
  },
  {
   "cell_type": "markdown",
   "metadata": {},
   "source": [
    "### Limit search to specific sections"
   ]
  },
  {
   "cell_type": "code",
   "execution_count": 320,
   "metadata": {
    "collapsed": false
   },
   "outputs": [
    {
     "data": {
      "text/plain": [
       "[<li>Web scraping resource 1</li>, <li>Web scraping resource 2</li>]"
      ]
     },
     "execution_count": 320,
     "metadata": {},
     "output_type": "execute_result"
    }
   ],
   "source": [
    "b.find_all(name='li')\n",
    "b.find(name='ul', attrs={'id':'scraping'}).find_all(name='li')"
   ]
  },
  {
   "cell_type": "markdown",
   "metadata": {},
   "source": [
    "## In Class Exercise"
   ]
  },
  {
   "cell_type": "markdown",
   "metadata": {},
   "source": [
    "1) Find the 'h2' tag and then print its text"
   ]
  },
  {
   "cell_type": "code",
   "execution_count": 321,
   "metadata": {
    "collapsed": false
   },
   "outputs": [
    {
     "data": {
      "text/plain": [
       "u'Resource List'"
      ]
     },
     "execution_count": 321,
     "metadata": {},
     "output_type": "execute_result"
    }
   ],
   "source": [
    "b.find('h2').text"
   ]
  },
  {
   "cell_type": "markdown",
   "metadata": {},
   "source": [
    "2) Find the 'p' tag with an 'id' value of 'feedback' and then print its text\n"
   ]
  },
  {
   "cell_type": "code",
   "execution_count": 322,
   "metadata": {
    "collapsed": false
   },
   "outputs": [
    {
     "data": {
      "text/plain": [
       "[<p class=\"topic\" id=\"feedback\">Finally, I will ask you to fill out yet another feedback form!</p>]"
      ]
     },
     "execution_count": 322,
     "metadata": {},
     "output_type": "execute_result"
    }
   ],
   "source": [
    "b.find_all(name='p', attrs={'id':'feedback'})"
   ]
  },
  {
   "cell_type": "markdown",
   "metadata": {},
   "source": [
    "3) Find the first 'p' tag and then print the value of the 'id' attribute\n"
   ]
  },
  {
   "cell_type": "code",
   "execution_count": 323,
   "metadata": {
    "collapsed": false
   },
   "outputs": [
    {
     "name": "stdout",
     "output_type": "stream",
     "text": [
      "<p class=\"topic\" id=\"api\">First, we are covering APIs, which are useful for getting data.</p>\n",
      "api\n"
     ]
    }
   ],
   "source": [
    "print b.find('p')\n",
    "print b.find('p')['id']"
   ]
  },
  {
   "cell_type": "markdown",
   "metadata": {},
   "source": [
    "4) Print the text of all four resources"
   ]
  },
  {
   "cell_type": "code",
   "execution_count": 324,
   "metadata": {
    "collapsed": false
   },
   "outputs": [
    {
     "data": {
      "text/plain": [
       "[<li>API resource 1</li>,\n",
       " <li>API resource 2</li>,\n",
       " <li>Web scraping resource 1</li>,\n",
       " <li>Web scraping resource 2</li>]"
      ]
     },
     "execution_count": 324,
     "metadata": {},
     "output_type": "execute_result"
    }
   ],
   "source": [
    "b.find_all('li')"
   ]
  },
  {
   "cell_type": "markdown",
   "metadata": {},
   "source": [
    "5) Using a list comprehension can you extract the text of only the API resources?"
   ]
  },
  {
   "cell_type": "code",
   "execution_count": 325,
   "metadata": {
    "collapsed": false
   },
   "outputs": [
    {
     "data": {
      "text/plain": [
       "[u'API resource 1', u'API resource 2']"
      ]
     },
     "execution_count": 325,
     "metadata": {},
     "output_type": "execute_result"
    }
   ],
   "source": [
    "api = b.find_all(name='ul', attrs={'id':'api'})[0].find_all('li')\n",
    "[a.text for a in api] "
   ]
  },
  {
   "cell_type": "markdown",
   "metadata": {},
   "source": [
    "### Tool: Selector Gadget\n",
    "http://selectorgadget.com/"
   ]
  },
  {
   "cell_type": "markdown",
   "metadata": {},
   "source": [
    "## Scraping IMDB"
   ]
  },
  {
   "cell_type": "markdown",
   "metadata": {},
   "source": [
    "#### First open your browser and look at the website and the html structure\n",
    "\n",
    "http://www.imdb.com/title/tt0111161/"
   ]
  },
  {
   "cell_type": "markdown",
   "metadata": {},
   "source": [
    "#### Get the HTML from the Shawshank Redemption page"
   ]
  },
  {
   "cell_type": "code",
   "execution_count": 326,
   "metadata": {
    "collapsed": false
   },
   "outputs": [
    {
     "data": {
      "text/plain": [
       "200"
      ]
     },
     "execution_count": 326,
     "metadata": {},
     "output_type": "execute_result"
    }
   ],
   "source": [
    "import requests\n",
    "r = requests.get('http://www.imdb.com/title/tt0111161/')\n",
    "r.status_code"
   ]
  },
  {
   "cell_type": "markdown",
   "metadata": {},
   "source": [
    "#### What is r? What can we do with it?"
   ]
  },
  {
   "cell_type": "code",
   "execution_count": 327,
   "metadata": {
    "collapsed": false
   },
   "outputs": [],
   "source": [
    "#r.text"
   ]
  },
  {
   "cell_type": "markdown",
   "metadata": {},
   "source": [
    "#### convert HTML into Soup"
   ]
  },
  {
   "cell_type": "code",
   "execution_count": 328,
   "metadata": {
    "collapsed": false
   },
   "outputs": [],
   "source": [
    "b = BeautifulSoup(r.text, 'html.parser')\n",
    "#print b"
   ]
  },
  {
   "cell_type": "code",
   "execution_count": 329,
   "metadata": {
    "collapsed": true
   },
   "outputs": [],
   "source": [
    "# run this code if you have encoding errors\n",
    "import sys\n",
    "reload(sys)\n",
    "sys.setdefaultencoding('utf8')"
   ]
  },
  {
   "cell_type": "markdown",
   "metadata": {},
   "source": [
    "#### Get the title"
   ]
  },
  {
   "cell_type": "code",
   "execution_count": 330,
   "metadata": {
    "collapsed": false
   },
   "outputs": [
    {
     "data": {
      "text/plain": [
       "u'The Shawshank Redemption\\n                   (1994)\\n                   \\n'"
      ]
     },
     "execution_count": 330,
     "metadata": {},
     "output_type": "execute_result"
    }
   ],
   "source": [
    "b.find('h1').text"
   ]
  },
  {
   "cell_type": "markdown",
   "metadata": {},
   "source": [
    "#### Get the Star Rating (as a float)"
   ]
  },
  {
   "cell_type": "raw",
   "metadata": {},
   "source": []
  },
  {
   "cell_type": "code",
   "execution_count": 331,
   "metadata": {
    "collapsed": false,
    "scrolled": false
   },
   "outputs": [
    {
     "data": {
      "text/plain": [
       "[]"
      ]
     },
     "execution_count": 331,
     "metadata": {},
     "output_type": "execute_result"
    }
   ],
   "source": [
    "# get the star rating (as a float)\n",
    "float(b.find(name='span', attrs={'itemprop':'ratingValue'}).text)\n",
    "# Couldn't see to find this:\n",
    "# <div class=\"titlePageSprite star-box-giga-star\"> 9.3 </div>\n",
    "b.find_all('div', {'class':'titlePageSprite star-box-giga-star'})"
   ]
  },
  {
   "cell_type": "markdown",
   "metadata": {},
   "source": [
    "#### Get the Movie Rating"
   ]
  },
  {
   "cell_type": "code",
   "execution_count": 332,
   "metadata": {
    "collapsed": false
   },
   "outputs": [
    {
     "data": {
      "text/plain": [
       "u'R\\n| \\n                        2h 22min\\n                    \\n|\\nCrime, \\nDrama\\n|\\n14 October 1994 (USA)\\n\\n '"
      ]
     },
     "execution_count": 332,
     "metadata": {},
     "output_type": "execute_result"
    }
   ],
   "source": [
    "panel = b.find('meta', attrs={'itemprop':'contentRating'}) # too many\n",
    "panel.text"
   ]
  },
  {
   "cell_type": "code",
   "execution_count": null,
   "metadata": {
    "collapsed": true
   },
   "outputs": [],
   "source": []
  },
  {
   "cell_type": "markdown",
   "metadata": {},
   "source": [
    "### In-Class Exercise\n",
    "\n",
    "#### Intro Level:\n",
    "\n",
    "Using the Omdbapi, request all years of the 1000 movies in the CSV. Answer the questions below.\n",
    "\n",
    "Challege Challenge Level:\n",
    "\n",
    "Can you scrape the IMDB Top 250 list (http://www.imdb.com/chart/top?ref_=nv_mv_250_6) and return a Data frame with the movide name, rating, year and the unique movie identifier ie('tt0111161')? Use the function above to scrape each of the movie pages.\n",
    "\n",
    "#### Questions:\n",
    "* How many of the Top movies are rated 'R'?\n",
    "* What is the average duration of movies with a star_rating above 9?\n",
    "* What is the average duration of movies before 1985 and after?"
   ]
  },
  {
   "cell_type": "code",
   "execution_count": 338,
   "metadata": {
    "collapsed": false
   },
   "outputs": [],
   "source": [
    "# Using the Omdbapi, request all years of the 1000 movies in the CSV. Answer the questions below.\n",
    "# http://www.omdbapi.com/?t=Minion&y=&plot=short&r=json\n",
    "\n",
    "import requests\n",
    "def getYearOMDB(title):\n",
    "    try:\n",
    "        r = requests.get('http://www.omdbapi.com/?t='+title+'&y=&plot=short&r=json')\n",
    "        if r.status_code == 200:\n",
    "            a = int(r.json()['Year'])\n",
    "            print title, a\n",
    "            return a\n",
    "        else:\n",
    "            a = 0\n",
    "            print title, a\n",
    "            return a\n",
    "    except:\n",
    "        a = 0\n",
    "        print \"Exiting...\", title, a\n",
    "        return a"
   ]
  },
  {
   "cell_type": "code",
   "execution_count": 339,
   "metadata": {
    "collapsed": false
   },
   "outputs": [
    {
     "data": {
      "text/plain": [
       "(979, 6)"
      ]
     },
     "execution_count": 339,
     "metadata": {},
     "output_type": "execute_result"
    }
   ],
   "source": [
    "import pandas as pd\n",
    "movies = pd.read_csv('/home/anna/DAT-DC-10/data/imdb_1000.csv', header=0, na_filter=False)\n",
    "movies.shape"
   ]
  },
  {
   "cell_type": "code",
   "execution_count": 340,
   "metadata": {
    "collapsed": false,
    "scrolled": true
   },
   "outputs": [
    {
     "data": {
      "text/plain": [
       "1957"
      ]
     },
     "execution_count": 340,
     "metadata": {},
     "output_type": "execute_result"
    }
   ],
   "source": [
    "getYearOMDB(\"12 Angry Men\")"
   ]
  },
  {
   "cell_type": "code",
   "execution_count": 341,
   "metadata": {
    "collapsed": false
   },
   "outputs": [
    {
     "data": {
      "text/plain": [
       "(979, 6)"
      ]
     },
     "execution_count": 341,
     "metadata": {},
     "output_type": "execute_result"
    }
   ],
   "source": [
    "movies.loc[0,'title']\n",
    "movies.shape"
   ]
  },
  {
   "cell_type": "code",
   "execution_count": 16,
   "metadata": {
    "collapsed": false,
    "scrolled": true
   },
   "outputs": [
    {
     "name": "stdout",
     "output_type": "stream",
     "text": [
      "The Shawshank Redemption 1994\n",
      "The Godfather 1972\n",
      "The Godfather: Part II 1974\n",
      "The Dark Knight 2008\n",
      "Pulp Fiction 1994\n",
      "12 Angry Men 1957\n",
      "The Good, the Bad and the Ugly 1966\n",
      "The Lord of the Rings: The Return of the King 2003\n",
      "Schindler's List 1993\n",
      "Fight Club 1999\n",
      "The Lord of the Rings: The Fellowship of the Ring 2001\n",
      "Inception 2010\n",
      "Star Wars: Episode V - The Empire Strikes Back 1980\n",
      "Forrest Gump 1994\n",
      "The Lord of the Rings: The Two Towers 2002\n",
      "Interstellar 2014\n",
      "One Flew Over the Cuckoo's Nest 1975\n",
      "Seven Samurai 1954\n",
      "Goodfellas 1990\n",
      "Star Wars 1983\n",
      "The Matrix 1999\n",
      "City of God 2002\n",
      "It's a Wonderful Life 1946\n",
      "The Usual Suspects 1995\n",
      "Se7en 1995\n",
      "Life Is Beautiful 1997\n",
      "Once Upon a Time in the West 1968\n",
      "The Silence of the Lambs 1991\n",
      "Leon: The Professional 1994\n",
      "City Lights 1931\n",
      "Spirited Away 2001\n",
      "The Intouchables 2011\n",
      "Casablanca 1942\n",
      "Whiplash 2014\n",
      "American History X 1998\n",
      "Modern Times 1936\n",
      "Saving Private Ryan 1998\n",
      "Raiders of the Lost Ark 1981\n",
      "Rear Window 1954\n",
      "Psycho 1960\n",
      "The Green Mile 1999\n",
      "Sunset Blvd. 1950\n",
      "The Pianist 2002\n",
      "The Dark Knight Rises 2012\n",
      "Gladiator 2000\n",
      "Terminator 2: Judgment Day 1991\n",
      "Memento 2000\n",
      "Exiting... Taare Zameen Par 0\n",
      "Dr. Strangelove or: How I Learned to Stop Worrying and Love the Bomb 1964\n",
      "The Departed 2006\n",
      "Cinema Paradiso 1988\n",
      "Apocalypse Now 1979\n",
      "The Great Dictator 1940\n",
      "The Prestige 2006\n",
      "Back to the Future 1985\n",
      "The Lion King 1994\n",
      "The Lives of Others 2006\n",
      "Alien 1979\n",
      "Paths of Glory 1957\n",
      "Django Unchained 2012\n",
      "3 Idiots 2009\n",
      "Grave of the Fireflies 1988\n",
      "The Shining 1980\n",
      "Exiting... M 0\n",
      "WALL-E 2008\n",
      "Witness for the Prosecution 1957\n",
      "Munna Bhai M.B.B.S. 2003\n",
      "American Beauty 1999\n",
      "Das Boot 1981\n",
      "Princess Mononoke 1997\n",
      "Amelie 2005\n",
      "North by Northwest 1959\n",
      "Rang De Basanti 2006\n",
      "Exiting... Jodaeiye Nader az Simin 0\n",
      "Citizen Kane 1941\n",
      "Aliens 1986\n",
      "Vertigo 1958\n",
      "Exiting... Oldeuboi 0\n",
      "Once Upon a Time in America 1984\n",
      "Double Indemnity 1973\n",
      "Star Wars: Episode VI - Return of the Jedi 1983\n",
      "Toy Story 3 2010\n",
      "Braveheart 1995\n",
      "To Kill a Mockingbird 1962\n",
      "Requiem for a Dream 2000\n",
      "Lawrence of Arabia 1962\n",
      "A Clockwork Orange 1971\n",
      "Bicycle Thieves 1948\n",
      "The Kid 1921\n",
      "Swades 2004\n",
      "Reservoir Dogs 1992\n",
      "Eternal Sunshine of the Spotless Mind 2004\n",
      "Taxi Driver 1976\n",
      "Dilwale Dulhania Le Jayenge 1995\n",
      "Singin' in the Rain 1952\n",
      "All About Eve 1950\n",
      "Yojimbo 1961\n",
      "The Sting 1973\n",
      "Rashomon 1950\n",
      "Amadeus 1984\n",
      "The Treasure of the Sierra Madre 1948\n",
      "Monty Python and the Holy Grail 1975\n",
      "Full Metal Jacket 1987\n",
      "The Apartment 1960\n",
      "Ikiru 1952\n",
      "The Third Man 1949\n",
      "Snatch. 2000\n",
      "For a Few Dollars More 1965\n",
      "Metropolis 1927\n",
      "Dil Chahta Hai 2001\n",
      "2001: A Space Odyssey 1968\n",
      "Some Like It Hot 1959\n",
      "L.A. Confidential 1997\n",
      "Batman Begins 2005\n",
      "Inglourious Basterds 2009\n",
      "Scarface 1983\n",
      "Mr. Smith Goes to Washington 1939\n",
      "Toy Story 1995\n",
      "Indiana Jones and the Last Crusade 1989\n",
      "Unforgiven 1992\n",
      "The Great Escape 1963\n",
      "Exiting... Jagten 0\n",
      "On the Waterfront 1954\n",
      "The General 1926\n",
      "Raging Bull 1980\n",
      "Downfall 2004\n",
      "Up 2009\n",
      "Wild Strawberries 1957\n",
      "The Gold Rush 1925\n",
      "Ran 1985\n",
      "Chinatown 1974\n",
      "My Neighbor Totoro 1988\n",
      "Judgment at Nuremberg 1961\n",
      "Barfi! 2012\n",
      "The Seventh Seal 1957\n",
      "Heat 1995\n",
      "Pan's Labyrinth 2006\n",
      "The Bridge on the River Kwai 1957\n",
      "Die Hard 1988\n",
      "Good Will Hunting 1997\n",
      "The Wages of Fear 1953\n",
      "The Secret in Their Eyes 2009\n",
      "Lagaan: Once Upon a Time in India 2001\n",
      "The Wolf of Wall Street 2013\n",
      "It Happened One Night 1958\n",
      "Blade Runner 1982\n",
      "Warrior 2011\n",
      "Howl's Moving Castle 2004\n",
      "The Elephant Man 1980\n",
      "Rebecca 1940\n",
      "Incendies 2010\n",
      "Lock, Stock and Two Smoking Barrels 1998\n",
      "V for Vendetta 2005\n",
      "The Big Lebowski 1998\n",
      "Cool Hand Luke 1967\n",
      "Exiting... Relatos salvajes 0\n",
      "Casino 1995\n",
      "Gone with the Wind 1939\n",
      "Gone Girl 2014\n",
      "The Best Years of Our Lives 1946\n",
      "How to Train Your Dragon 2010\n",
      "Diabolique 1955\n",
      "Gran Torino 2008\n",
      "Rush 2013\n",
      "Into the Wild 2007\n",
      "My Sassy Girl 2001\n",
      "The Deer Hunter 1978\n",
      "Mary and Max 2009\n",
      "Hachi: A Dog's Tale 2009\n",
      "The Maltese Falcon 1941\n",
      "A Beautiful Mind 2001\n",
      "Dial M for Murder 1954\n",
      "Trainspotting 1996\n",
      "Tae Guk Gi: The Brotherhood of War 2004\n",
      "Persona 1966\n",
      "Touch of Evil 1958\n",
      "Fargo 1996\n",
      "The Avengers 2012\n",
      "The 400 Blows 1959\n",
      "The Princess Bride 1987\n",
      "Hotel Rwanda 2004\n",
      "Stalker 1979\n",
      "The Battle of Algiers 1966\n",
      "Underground 1995\n",
      "Fanny and Alexander 1982\n",
      "Network 1976\n",
      "The Thing 1982\n",
      "Butch Cassidy and the Sundance Kid 1969\n",
      "The Grapes of Wrath 1940\n",
      "Black Cat, White Cat 1998\n",
      "Life of Brian 1979\n",
      "The Sixth Sense 1999\n",
      "Finding Nemo 2003\n",
      "Nausicaa of the Valley of the Wind 2005\n",
      "Kingsman: The Secret Service 2014\n",
      "Platoon 1986\n",
      "Guardians of the Galaxy 2014\n",
      "In the Name of the Father 1993\n",
      "Kill Bill: Vol. 1 2003\n",
      "No Country for Old Men 2007\n",
      "Le Samourai 1967\n",
      "12 Years a Slave 2013\n",
      "Exiting... La leggenda del pianista sull'oceano 0\n",
      "8 1/2 2013\n",
      "Ben-Hur 1959\n",
      "Amores Perros 2000\n",
      "Stand by Me 1986\n",
      "What Ever Happened to Baby Jane? 1962\n",
      "Annie Hall 1977\n",
      "The Imitation Game 2014\n",
      "Laura 1944\n",
      "Departures 2008\n",
      "Infernal Affairs 2002\n",
      "There Will Be Blood 2007\n",
      "The Grand Budapest Hotel 2014\n",
      "La Strada 1954\n",
      "Sin City 2005\n",
      "Memories of Murder 2003\n",
      "Donnie Darko 2001\n",
      "Who's Afraid of Virginia Woolf? 1966\n",
      "Gandhi 1982\n",
      "Solaris 2002\n",
      "Harry Potter and the Deathly Hallows: Part 2 2011\n",
      "Paris, Texas 1984\n",
      "The Wizard of Oz 1939\n",
      "3-Iron 2004\n",
      "Boyhood 2014\n",
      "Million Dollar Baby 2004\n",
      "The Last Picture Show 1971\n",
      "Strangers on a Train 1951\n",
      "Cat on a Hot Tin Roof 1958\n",
      "La Dolce Vita 1960\n",
      "Chungking Express 1994\n",
      "The Night of the Hunter 1955\n",
      "La Haine 1995\n",
      "Exiting... Yip Man 0\n",
      "High Noon 1952\n",
      "Notorious 1946\n",
      "Before Sunrise 1995\n",
      "Elite Squad: The Enemy Within 2010\n",
      "The Bourne Ultimatum 2007\n",
      "Castle in the Sky 1986\n",
      "The Celebration 1998\n",
      "Spring, Summer, Fall, Winter... and Spring 2003\n",
      "Shutter Island 2010\n",
      "Barry Lyndon 1975\n",
      "Stalag 17 1953\n",
      "Three Colors: Red 1994\n",
      "X-Men: Days of Future Past 2014\n",
      "Sleuth 1972\n",
      "In the Mood for Love 2000\n",
      "The Man Who Shot Liberty Valance 1962\n",
      "Arsenic and Old Lace 1944\n",
      "The Big Sleep 1946\n",
      "Roman Holiday 1953\n",
      "The Philadelphia Story 1940\n",
      "Akira 1988\n",
      "Anatomy of a Murder 1959\n",
      "The Cabinet of Dr. Caligari 1920\n",
      "The Help 2011\n",
      "The Sea Inside 2004\n",
      "Elite Squad 2007\n",
      "The Hustler 1961\n",
      "Rio Bravo 1959\n",
      "Twelve Monkeys 1995\n",
      "Harvey 1950\n",
      "A Christmas Story 1983\n",
      "Jaws 1975\n",
      "The Raid 2 2014\n",
      "Rocky 1976\n",
      "Wings of Desire 1987\n",
      "Pirates of the Caribbean: The Curse of the Black Pearl 2003\n",
      "Exiting... The Killing 0\n",
      "Papillon 1973\n",
      "The King's Speech 2010\n",
      "Groundhog Day 1993\n",
      "A Fistful of Dollars 1964\n",
      "Monsters, Inc. 2001\n",
      "Dog Day Afternoon 1975\n",
      "The Perks of Being a Wallflower 2012\n",
      "Young Frankenstein 1974\n",
      "The Terminator 1984\n",
      "Harold and Maude 1971\n",
      "Before Sunset 2004\n",
      "A Streetcar Named Desire 1951\n",
      "Bringing Up Baby 1938\n",
      "The Diving Bell and the Butterfly 2007\n",
      "His Girl Friday 1940\n",
      "Sling Blade 1996\n",
      "All Quiet on the Western Front 1930\n",
      "Prisoners 2013\n",
      "The Return 2003\n",
      "The Manchurian Candidate 2004\n",
      "Duck Soup 1933\n",
      "Beauty and the Beast 1991\n",
      "The Truman Show 1998\n",
      "The Wild Bunch 1969\n",
      "Rope 1948\n",
      "The Graduate 1967\n",
      "Jurassic Park 1993\n",
      "Dogville 2003\n",
      "Furious 7 2015\n",
      "Patton 1970\n",
      "The Nightmare Before Christmas 1993\n",
      "Being There 1979\n",
      "Persepolis 2007\n",
      "This Is Spinal Tap 1984\n",
      "East of Eden 1955\n",
      "Pink Floyd The Wall 1982\n",
      "Blood Diamond 2006\n",
      "Big Fish 2003\n",
      "Slumdog Millionaire 2008\n",
      "Star Trek 2009\n",
      "The Straight Story 1999\n",
      "Crimes and Misdemeanors 1989\n",
      "Charade 1963\n",
      "JFK 1991\n",
      "Dawn of the Dead 2004\n",
      "Magnolia 1999\n",
      "Manhattan 1979\n",
      "Central Station 1998\n",
      "Brazil 1985\n",
      "The Exorcist 1973\n",
      "Her 2013\n",
      "Dancer in the Dark 2000\n",
      "Rain Man 1988\n",
      "Talk to Her 2002\n",
      "The Adventures of Robin Hood 1938\n",
      "Aguirre, the Wrath of God 1972\n",
      "In the Heat of the Night 1967\n",
      "Nosferatu 1922\n",
      "Black Swan 2010\n",
      "Ratatouille 2007\n",
      "The Searchers 1956\n",
      "Short Term 12 2013\n",
      "Doctor Zhivago 1965\n",
      "Life of Pi 2012\n",
      "All the President's Men 1976\n",
      "Battleship Potemkin 1925\n",
      "Dances with Wolves 1990\n",
      "Catch Me If You Can 2002\n",
      "Cinderella Man 2005\n",
      "Dead Poets Society 1989\n",
      "Ghost in the Shell 1995\n",
      "Head-On 2004\n",
      "No Man's Land 2001\n",
      "Dallas Buyers Club 2013\n",
      "Days of Heaven 1978\n",
      "The Sound of Music 1965\n",
      "District 9 2009\n",
      "Shadow of a Doubt 1943\n",
      "Frankenstein 1931\n",
      "Shaun of the Dead 2004\n",
      "Night of the Living Dead 1968\n",
      "Kill Bill: Vol. 2 2004\n",
      "Secrets & Lies 1933\n",
      "The Artist 2011\n",
      "Aladdin 1992\n",
      "The Lady Vanishes 1938\n",
      "The Hobbit: The Desolation of Smaug 2013\n",
      "Let the Right One In 2008\n",
      "Fiddler on the Roof 1971\n",
      "The Hobbit: An Unexpected Journey 2012\n",
      "Three Colors: Blue 1993\n",
      "Rosemary's Baby 1968\n",
      "Mystic River 2003\n",
      "Serenity 2005\n",
      "Amarcord 1973\n",
      "Planet of the Apes 2001\n",
      "True Romance 1993\n",
      "Hannah and Her Sisters 1986\n",
      "Moon 2009\n",
      "Before Midnight 2013\n",
      "My Name Is Khan 2010\n",
      "Scent of a Woman 1992\n",
      "Mulholland Dr. 1999\n",
      "King Kong 2005\n",
      "The Fault in Our Stars 2014\n",
      "The Incredibles 2004\n",
      "Edward Scissorhands 1990\n",
      "Casino Royale 2006\n",
      "How to Train Your Dragon 2 2014\n",
      "In Bruges 2008\n",
      "The Untouchables 1987\n",
      "Breathless 1960\n",
      "Spartacus 1960\n",
      "The Iron Giant 1999\n",
      "Midnight Cowboy 1969\n",
      "The Blues Brothers 1980\n",
      "Freaks 1932\n",
      "Letters from Iwo Jima 2006\n",
      "Edge of Tomorrow 2014\n",
      "Glory 1989\n",
      "The African Queen 1951\n",
      "Birdman: Or (The Unexpected Virtue of Ignorance) 2014\n",
      "Big Hero 6 2014\n",
      "Almost Famous 2000\n",
      "The Notebook 2004\n",
      "The Conversation 1974\n",
      "The Breakfast Club 1985\n",
      "The Pursuit of Happyness 2006\n",
      "The Killer 1989\n",
      "Once 2006\n",
      "Ying xiong 1986\n",
      "The Remains of the Day 1993\n",
      "The Bride of Frankenstein 2013\n",
      "The Wrestler 2008\n",
      "Nightcrawler 2014\n",
      "Gravity 2013\n",
      "Hard Boiled 1992\n",
      "Bonnie and Clyde 1967\n",
      "The Bourne Identity 2002\n",
      "Key Largo 1948\n",
      "Nine Queens 2000\n",
      "Toy Story 2 1999\n",
      "The Killing Fields 1984\n",
      "All About My Mother 1999\n",
      "Cowboy Bebop: The Movie 2001\n",
      "Ed Wood 1994\n",
      "Stagecoach 1939\n",
      "The Man Who Would Be King 1975\n",
      "The Outlaw Josey Wales 1976\n",
      "Children of Men 2006\n",
      "The Insider 1999\n",
      "The Right Stuff 1983\n",
      "Badlands 1973\n",
      "A Prophet 2009\n",
      "4 Months, 3 Weeks and 2 Days 2007\n",
      "Le passe 1977\n",
      "The Fall 2006\n",
      "Breaking the Waves 1996\n",
      "Mr. Nobody 2009\n",
      "Crash 2004\n",
      "Avatar 2009\n",
      "Iron Man 2008\n",
      "Do the Right Thing 1989\n",
      "Carlito's Way 1993\n",
      "Crouching Tiger, Hidden Dragon 2000\n",
      "Lilya 4-Ever 2002\n",
      "The Chorus 2004\n",
      "The Boondock Saints 1999\n",
      "Miller's Crossing 1990\n",
      "Walk the Line 2005\n",
      "Shrek 2001\n",
      "My Fair Lady 1964\n",
      "The Ten Commandments 1956\n",
      "The Fighter 2010\n",
      "Captain Phillips 2013\n",
      "Cabaret 1972\n",
      "Halloween 1978\n",
      "My Left Foot 1989\n",
      "Miracle on 34th Street 1947\n",
      "The Man from Nowhere 2010\n",
      "Exiting... Toki o kakeru shojo 0\n",
      "Little Miss Sunshine 2006\n",
      "Taken 2008\n",
      "Blue Is the Warmest Color 2013\n",
      "Boogie Nights 1997\n",
      "Hot Fuzz 2007\n",
      "Ferris Bueller's Day Off 1986\n",
      "The World's Fastest Indian 2005\n",
      "Kiki's Delivery Service 1989\n",
      "Down by Law 1986\n",
      "Glengarry Glen Ross 1992\n",
      "Clerks 1994\n",
      "Adam's Apples 2005\n",
      "The Girl with the Dragon Tattoo 2009\n",
      "The 39 Steps 1935\n",
      "E.T. the Extra-Terrestrial 1982\n",
      "Tombstone 1993\n",
      "Predator 1987\n",
      "Tangled 2010\n",
      "Guess Who's Coming to Dinner 1967\n",
      "Ordinary People 1980\n",
      "The Best Offer 2013\n",
      "Silver Linings Playbook 2012\n",
      "Hamlet 1996\n",
      "Amour 2012\n",
      "I Saw the Devil 2010\n",
      "The Motorcycle Diaries 2004\n",
      "Office Space 1999\n",
      "Evil 2003\n",
      "The Girl with the Dragon Tattoo 2009\n",
      "Withnail & I 1987\n",
      "The Day the Earth Stood Still 2008\n",
      "Black Book 2006\n",
      "Evil Dead II 1987\n",
      "Kaze tachinu 1976\n",
      "Star Trek Into Darkness 2013\n",
      "The Triplets of Belleville 2003\n",
      "Open Your Eyes 1997\n",
      "The Magnificent Seven 1960\n",
      "Drive 2011\n",
      "Mississippi Burning 1988\n",
      "The Lego Movie 2014\n",
      "The Day of the Jackal 1973\n",
      "Misery 1990\n",
      "Willy Wonka & the Chocolate Factory 1971\n",
      "Fantasia 1940\n",
      "Gattaca 1997\n",
      "American Gangster 2007\n",
      "Porco Rosso 1992\n",
      "The French Connection 1971\n",
      "The Boy in the Striped Pajamas 2008\n",
      "Empire of the Sun 1987\n",
      "About Time 2013\n",
      "Blue Velvet 1986\n",
      "In America 2002\n",
      "The Curious Case of Benjamin Button 2008\n",
      "The Last of the Mohicans 1992\n",
      "Moonrise Kingdom 2012\n",
      "Rebel Without a Cause 1955\n",
      "Fantastic Mr. Fox 2009\n",
      "Invasion of the Body Snatchers 1978\n",
      "October Sky 1999\n",
      "Dirty Harry 1971\n",
      "Ghostbusters 1984\n",
      "Captain America: The Winter Soldier 2014\n",
      "Wreck-It Ralph 2012\n",
      "The Hangover 2009\n",
      "Back to the Future Part II 1989\n",
      "Belle de Jour 1967\n",
      "O Brother, Where Art Thou? 2000\n",
      "Repulsion 1965\n",
      "Airplane! 1980\n",
      "Pride & Prejudice 2014\n",
      "Zulu 1964\n",
      "Night on Earth 1991\n",
      "From Here to Eternity 1953\n",
      "Apocalypto 2006\n",
      "Atonement 2007\n",
      "The Dirty Dozen 1967\n",
      "X-Men: First Class 2011\n",
      "Run Lola Run 1998\n",
      "The Longest Day 1962\n",
      "Zelig 1983\n",
      "The Last Emperor 1987\n",
      "The Goonies 1985\n",
      "The White Ribbon 2009\n",
      "The Fugitive 1993\n",
      "The Color Purple 1985\n",
      "South Park: Bigger Longer & Uncut 1999\n",
      "(500) Days of Summer 2009\n",
      "Lost in Translation 2003\n",
      "Argo 2012\n",
      "Blazing Saddles 1974\n",
      "Breakfast at Tiffany's 1961\n",
      "Finding Neverland 2004\n",
      "The Experiment 2001\n",
      "Lucky Number Slevin 2006\n",
      "The Theory of Everything 2014\n",
      "Harry Potter and the Prisoner of Azkaban 2004\n",
      "Kung Fu Hustle 2004\n",
      "Being John Malkovich 1999\n",
      "The Social Network 2010\n",
      "3:10 to Yuma 2007\n",
      "The Name of the Rose 1986\n",
      "Mary Poppins 1964\n",
      "The Game 1997\n",
      "Changeling 2008\n",
      "Donnie Brasco 1997\n",
      "Serpico 1973\n",
      "What's Eating Gilbert Grape 1993\n",
      "Goldfinger 1964\n",
      "Nebraska 2013\n",
      "The Sandlot 1993\n",
      "Boyz n the Hood 1991\n",
      "The Bourne Supremacy 2004\n",
      "Skyfall 2012\n",
      "Ray 2004\n",
      "300 2006\n",
      "A Bronx Tale 1993\n",
      "The Birds 1963\n",
      "Battle Royale 2000\n",
      "Control 2007\n",
      "Kramer vs. Kramer 1979\n",
      "Deliverance 1972\n",
      "Ocean's Eleven 2001\n",
      "As Good as It Gets 1997\n",
      "Awakenings 1990\n",
      "The King of Comedy 1982\n",
      "Man on Fire 2004\n",
      "Sabrina 1954\n",
      "Dark City 1998\n",
      "Good Bye Lenin! 2003\n",
      "Remember the Titans 2000\n",
      "Star Trek II: The Wrath of Khan 1982\n",
      "Road to Perdition 2002\n",
      "Rushmore 1998\n",
      "The Machinist 2004\n",
      "Flipped 2010\n",
      "The Count of Monte Cristo 2002\n",
      "Detachment 2011\n",
      "Love Me If You Dare 2003\n",
      "Dead Man 1995\n",
      "The Purple Rose of Cairo 1985\n",
      "21 Grams 2003\n",
      "50/50 2011\n",
      "Kick-Ass 2010\n",
      "Delicatessen 1991\n",
      "Barton Fink 1991\n",
      "The Last King of Scotland 2006\n",
      "Adaptation. 2002\n",
      "A Very Long Engagement 2004\n",
      "Mysterious Skin 2004\n",
      "Stardust 2007\n",
      "Black Hawk Down 2001\n",
      "Paprika 2006\n",
      "Fear and Loathing in Las Vegas 1998\n",
      "Frost/Nixon 2008\n",
      "Enter the Dragon 1973\n",
      "Short Cuts 1993\n",
      "A Hard Day's Night 1964\n",
      "The Last Samurai 2003\n",
      "The Station Agent 2003\n",
      "Zombieland 2009\n",
      "Sympathy for Mr. Vengeance 2002\n",
      "Despicable Me 2010\n",
      "Shane 1953\n",
      "Forbidden Planet 1956\n",
      "Titanic 1997\n",
      "Gone Baby Gone 2007\n",
      "The Dinner Game 1998\n",
      "Dawn of the Planet of the Apes 2014\n",
      "25th Hour 2002\n",
      "Ponyo 2008\n",
      "Shine 1996\n",
      "The Blind Side 2009\n",
      "Brokeback Mountain 2005\n",
      "Cast Away 2000\n",
      "Malcolm X 1992\n",
      "Show Me Love 1998\n",
      "Boy A 2007\n",
      "The Warriors 1979\n",
      "Close Encounters of the Third Kind 1977\n",
      "Match Point 2005\n",
      "Training Day 2001\n",
      "The Butterfly Effect 2004\n",
      "The City of Lost Children 1995\n",
      "Billy Elliot 2000\n",
      "Love Actually 2003\n",
      "The Producers 1967\n",
      "Harry Potter and the Deathly Hallows: Part 1 2010\n",
      "The Visitor 2007\n",
      "Philadelphia 1993\n",
      "Sense and Sensibility 1995\n",
      "Three Colors: White 1994\n",
      "Exiting... La grande bellezza 0\n",
      "Primal Fear 1996\n",
      "Where Eagles Dare 1968\n",
      "Dazed and Confused 1993\n",
      "Blood Simple. 1984\n",
      "This Is England 2006\n",
      "Fearless 2006\n",
      "Dangerous Liaisons 1988\n",
      "Saw 2004\n",
      "Snow White and the Seven Dwarfs 1937\n",
      "Coraline 2009\n",
      "The Hunger Games: Catching Fire 2013\n",
      "Sophie's Choice 1982\n",
      "La Vie en Rose 2007\n",
      "Star Wars: Episode III - Revenge of the Sith 2005\n",
      "True Grit 2010\n",
      "After Hours 1985\n",
      "Frozen 2013\n",
      "Lolita 1962\n",
      "Eastern Promises 2007\n",
      "Midnight in Paris 2011\n",
      "The Muppet Christmas Carol 1992\n",
      "Who Framed Roger Rabbit 1988\n",
      "Sympathy for Lady Vengeance 2005\n",
      "Grindhouse 2007\n",
      "In a Better World 2010\n",
      "Blow-Up 1966\n",
      "The Secret World of Arrietty 2010\n",
      "Kiss Kiss Bang Bang 2005\n",
      "Lost Highway 2003\n",
      "Zodiac 2007\n",
      "Les Miserables 1978\n",
      "Moulin Rouge! 2001\n",
      "Whale Rider 2002\n",
      "End of Watch 2012\n",
      "Philomena 2013\n",
      "Fury 2014\n",
      "The Big Blue 1988\n",
      "First Blood 1982\n",
      "Minority Report 2002\n",
      "Spellbound 1945\n",
      "The Wicker Man 2006\n",
      "Seven Pounds 2008\n",
      "Midnight Express 1978\n",
      "Kelly's Heroes 1970\n",
      "MASH 1970\n",
      "The Player 1992\n",
      "Traffic 2000\n",
      "Y Tu Mama Tambien 2012\n",
      "Stranger Than Fiction 2006\n",
      "Inside Man 2006\n",
      "127 Hours 2010\n",
      "The Fifth Element 1997\n",
      "Milk 2008\n",
      "United 93 2006\n",
      "Exiting... Jin ling shi san chai 0\n",
      "Dracula 1992\n",
      "High Plains Drifter 1973\n",
      "I Am Sam 2001\n",
      "Fried Green Tomatoes 1991\n",
      "Watchmen 2009\n",
      "28 Days Later... 2002\n",
      "The Illusionist 2006\n",
      "Superbad 2007\n",
      "The Godfather: Part III 1990\n",
      "The Royal Tenenbaums 2001\n",
      "The Jungle Book 1967\n",
      "Thank You for Smoking 2005\n",
      "Man Bites Dog 1992\n",
      "A Few Good Men 1992\n",
      "The Legend of Drunken Master 1994\n",
      "The Kite Runner 2007\n",
      "When Harry Met Sally... 1989\n",
      "Munich 2005\n",
      "House of Sand and Fog 2003\n",
      "Lethal Weapon 1987\n",
      "Animal House 1978\n",
      "Lord of War 2005\n",
      "Blow 2001\n",
      "Sherlock Holmes 2009\n",
      "Harry Potter and the Goblet of Fire 2005\n",
      "Exiting... La piel que habito 0\n",
      "The Crow 1994\n",
      "West Side Story 1961\n",
      "The Thin Red Line 1998\n",
      "American Psycho 2000\n",
      "The Blind Swordsman: Zatoichi 2003\n",
      "The Last Temptation of Christ 1988\n",
      "The Naked Gun: From the Files of Police Squad! 1988\n",
      "The Others 2001\n",
      "The Party 1968\n",
      "Army of Darkness 1992\n",
      "The Hurt Locker 2008\n",
      "The Raid: Redemption 2011\n",
      "Volver 2006\n",
      "Following 1998\n",
      "Kung Fu Panda 2008\n",
      "Mad Max 2: The Road Warrior 1981\n",
      "Jusan-nin no shikaku 1963\n",
      "The Man Who Wasn't There 2001\n",
      "The Counterfeiters 2007\n",
      "The Hunt for Red October 1990\n",
      "Lone Survivor 2013\n",
      "A Fish Called Wanda 1988\n",
      "The Impossible 2012\n",
      "Garden State 2004\n",
      "Escape from Alcatraz 1979\n",
      "Apollo 13 1995\n",
      "Lust, Caution 2007\n",
      "Selma 2014\n",
      "Funny Games 2007\n",
      "The Abyss 1989\n",
      "Robin Hood 2010\n",
      "Enemy at the Gates 2001\n",
      "Falling Down 1993\n",
      "Little Children 2006\n",
      "Hunger 2008\n",
      "Indiana Jones and the Temple of Doom 1984\n",
      "Ip Man 2 2010\n",
      "The Little Mermaid 1989\n",
      "It's a Mad, Mad, Mad, Mad World 1963\n",
      "The Reader 2008\n",
      "The Omen 1976\n",
      "A Royal Affair 2012\n",
      "Braindead 1987\n",
      "Secondhand Lions 2003\n",
      "Disconnect 2012\n",
      "A Single Man 2009\n",
      "Hoosiers 1986\n",
      "Moneyball 2011\n",
      "The Book Thief 2013\n",
      "Die Hard: With a Vengeance 1995\n",
      "Interview with the Vampire: The Vampire Chronicles 1994\n",
      "Midnight Run 1988\n",
      "An American Werewolf in London 1981\n",
      "The Great Debaters 2007\n",
      "Tucker and Dale vs. Evil 2010\n",
      "Dead Man Walking 1995\n",
      "The Piano 1993\n",
      "The Town 2010\n",
      "Rise of the Planet of the Apes 2011\n",
      "Boys Don't Cry 1999\n",
      "Ice Age 2002\n",
      "Of Mice and Men 1992\n",
      "Sideways 2004\n",
      "High Fidelity 2000\n",
      "The Meaning of Life 1983\n",
      "Hugo 2011\n",
      "Leaving Las Vegas 1995\n",
      "The Evil Dead 1981\n",
      "Collateral 2004\n",
      "Planes, Trains & Automobiles 1987\n",
      "Exiting... Hodejegerne 0\n",
      "Field of Dreams 1989\n",
      "Batman 1989\n",
      "Tell No One 2006\n",
      "Ghost Dog: The Way of the Samurai 1999\n",
      "Chaplin 1992\n",
      "Keith 2008\n",
      "Juno 2007\n",
      "The Assassination of Jesse James by the Coward Robert Ford 2007\n",
      "The Fisher King 1991\n",
      "House of Flying Daggers 2004\n",
      "The Hours 2002\n",
      "The Damned United 2009\n",
      "Star Trek: First Contact 1996\n",
      "The Natural 1984\n",
      "The Hobbit: The Battle of the Five Armies 2014\n",
      "Equilibrium 2002\n",
      "August Rush 2007\n",
      "Saving Mr. Banks 2013\n",
      "The Hurricane 1999\n",
      "Jacob's Ladder 1990\n",
      "The Curse of the Were-Rabbit 2005\n",
      "Christmas Vacation 1989\n",
      "Good Night, and Good Luck. 2005\n",
      "Straw Dogs 1971\n",
      "42 2013\n",
      "Rudy 1993\n",
      "Sleepers 1996\n",
      "The Wind That Shakes the Barley 2006\n",
      "Gangs of New York 2002\n",
      "Elizabeth 1998\n",
      "Green Street Hooligans 2005\n",
      "Reign Over Me 2007\n",
      "RoboCop 2014\n",
      "The Life of David Gale 2003\n",
      "Life as a House 2001\n",
      "Despicable Me 2 2013\n",
      "Jackie Brown 1997\n",
      "Menace II Society 1993\n",
      "The Class 2008\n",
      "Bullets Over Broadway 1994\n",
      "American Splendor 2003\n",
      "Perfume: The Story of a Murderer 2006\n",
      "Cloud Atlas 2012\n",
      "Marathon Man 1976\n",
      "Pinocchio 1940\n",
      "The Painted Veil 1934\n",
      "A Simple Plan 1998\n",
      "The Conjuring 2013\n",
      "The Man Who Knew Too Much 1956\n",
      "Quiz Show 1994\n",
      "American Graffiti 1973\n",
      "The Bridges of Madison County 1995\n",
      "Gallipoli 1981\n",
      "Exiting... L'illusionniste 0\n",
      "Miracle 2004\n",
      "Maria Full of Grace 2004\n",
      "Scott Pilgrim vs. the World 2010\n",
      "Pleasantville 1998\n",
      "Sherlock Holmes: A Game of Shadows 2011\n",
      "Doubt 2008\n",
      "The Fly 1986\n",
      "The Orphanage 2007\n",
      "Malena 2003\n",
      "Three Days of the Condor 1975\n",
      "[Rec] 2007\n",
      "A Perfect World 1993\n",
      "To Catch a Thief 1955\n",
      "Best in Show 2000\n",
      "Everything Is Illuminated 2005\n",
      "A Nightmare on Elm Street 1984\n",
      "The Ice Storm 1997\n",
      "X2 2003\n",
      "We Need to Talk About Kevin 2011\n",
      "Felon 2008\n",
      "Still Alice 2014\n",
      "Rust and Bone 2012\n",
      "Freedom Writers 2007\n",
      "Legends of the Fall 1994\n",
      "Buffalo '66 1998\n",
      "The Constant Gardener 2005\n",
      "My Cousin Vinny 1992\n",
      "The Texas Chain Saw Massacre 1974\n",
      "Mulan 1998\n",
      "A History of Violence 2005\n",
      "Open Range 2003\n",
      "Total Recall 1990\n",
      "Pi 1998\n",
      "The Devil's Backbone 2001\n",
      "The Aviator 2004\n",
      "Devil's Advocate 1995\n",
      "The Adventures of Priscilla, Queen of the Desert 1994\n",
      "Harry Potter and the Half-Blood Prince 2009\n",
      "Fruitvale Station 2013\n",
      "In the Bedroom 2001\n",
      "Source Code 2011\n",
      "Biutiful 2010\n",
      "From Russia with Love 1963\n",
      "Calvary 2014\n",
      "The Mission 1986\n",
      "In the Loop 2009\n",
      "The Three Burials of Melquiades Estrada 2005\n",
      "Babel 2006\n",
      "Frenzy 1972\n",
      "Heavenly Creatures 1994\n",
      "Sweeney Todd: The Demon Barber of Fleet Street 2007\n",
      "Dracula 1992\n",
      "Looper 2012\n",
      "The Proposition 2005\n",
      "Bullitt 1968\n",
      "Harry Potter and the Sorcerer's Stone 2001\n",
      "2046 2004\n",
      "Transamerica 2005\n",
      "Smoke 1995\n",
      "Suspiria 1977\n",
      "The Judge 2014\n",
      "Bad Education 2004\n",
      "Up in the Air 2009\n",
      "Begin Again 2013\n",
      "Running Scared 2006\n",
      "Ghost World 2001\n",
      "Witness 1985\n",
      "Trading Places 1983\n",
      "Mud 2012\n",
      "Across the Universe 2007\n",
      "Les Miserables 1978\n",
      "Notes on a Scandal 2006\n",
      "Inside Llewyn Davis 2013\n",
      "Brick 2005\n",
      "Clerks II 2006\n",
      "Say Anything... 1989\n",
      "Man on the Moon 1999\n",
      "Mean Streets 1973\n",
      "Harry Potter and the Order of the Phoenix 2007\n",
      "Beetlejuice 1988\n",
      "Crazy, Stupid, Love. 2011\n",
      "Excalibur 1981\n",
      "True Grit 2010\n",
      "Labyrinth 1986\n",
      "Alice in Wonderland 2010\n",
      "Predestination 2014\n",
      "Much Ado About Nothing 1993\n",
      "A Bridge Too Far 1977\n",
      "Raising Arizona 1987\n",
      "The Bucket List 2007\n",
      "Terms of Endearment 1983\n",
      "Take Shelter 2011\n",
      "Far from Heaven 2002\n",
      "Eraserhead 1977\n",
      "Frances Ha 2012\n",
      "Home Alone 1990\n",
      "Bound 1996\n",
      "Sleepy Hollow 1999\n",
      "Pirate Radio 2009\n",
      "The NeverEnding Story 1984\n",
      "X-Men 2000\n",
      "Zero Dark Thirty 2012\n",
      "Manhattan Murder Mystery 1993\n",
      "National Lampoon's Vacation 1983\n",
      "My Sister's Keeper 2009\n",
      "Deconstructing Harry 1997\n",
      "The Way Way Back 2013\n",
      "Capote 2005\n",
      "Driving Miss Daisy 1989\n",
      "La Femme Nikita 1990\n",
      "Lincoln 2012\n",
      "Limitless 2011\n",
      "The Simpsons Movie 2007\n",
      "The Rock 1996\n",
      "The English Patient 1996\n",
      "Law Abiding Citizen 2009\n",
      "Wonder Boys 2000\n",
      "Death at a Funeral 2007\n",
      "Blue Valentine 2010\n",
      "The Cider House Rules 1999\n",
      "Tootsie 1982\n",
      "Back to the Future Part III 1990\n",
      "Master and Commander: The Far Side of the World 2003\n",
      "Poltergeist 1982\n",
      "Wall Street 1987\n"
     ]
    }
   ],
   "source": [
    "import time\n",
    "\n",
    "for i,row in movies.iterrows():\n",
    "    time.sleep(20) if i % 42 == 0 else time.sleep(3)\n",
    "    a = getYearOMDB(row['title'])\n",
    "    movies.loc[i,'Year'] = a\n"
   ]
  },
  {
   "cell_type": "code",
   "execution_count": 337,
   "metadata": {
    "collapsed": false
   },
   "outputs": [
    {
     "ename": "AttributeError",
     "evalue": "'DataFrame' object has no attribute 'Year'",
     "output_type": "error",
     "traceback": [
      "\u001b[1;31m---------------------------------------------------------------------------\u001b[0m",
      "\u001b[1;31mAttributeError\u001b[0m                            Traceback (most recent call last)",
      "\u001b[1;32m<ipython-input-337-80f1e21fde62>\u001b[0m in \u001b[0;36m<module>\u001b[1;34m()\u001b[0m\n\u001b[0;32m      1\u001b[0m \u001b[1;32mimport\u001b[0m \u001b[0mnumpy\u001b[0m\u001b[1;33m\u001b[0m\u001b[0m\n\u001b[0;32m      2\u001b[0m \u001b[1;31m#movies.Year1\u001b[0m\u001b[1;33m\u001b[0m\u001b[1;33m\u001b[0m\u001b[0m\n\u001b[1;32m----> 3\u001b[1;33m \u001b[0mnull_bool\u001b[0m \u001b[1;33m=\u001b[0m \u001b[0mmovies\u001b[0m\u001b[1;33m.\u001b[0m\u001b[0mYear\u001b[0m \u001b[1;33m!=\u001b[0m \u001b[0mNone\u001b[0m\u001b[1;33m\u001b[0m\u001b[0m\n\u001b[0m\u001b[0;32m      4\u001b[0m \u001b[0msum\u001b[0m\u001b[1;33m(\u001b[0m\u001b[0mnull_bool\u001b[0m\u001b[1;33m)\u001b[0m\u001b[1;33m\u001b[0m\u001b[0m\n",
      "\u001b[1;32m/home/anna/anaconda2/lib/python2.7/site-packages/pandas/core/generic.pyc\u001b[0m in \u001b[0;36m__getattr__\u001b[1;34m(self, name)\u001b[0m\n\u001b[0;32m   2358\u001b[0m                 \u001b[1;32mreturn\u001b[0m \u001b[0mself\u001b[0m\u001b[1;33m[\u001b[0m\u001b[0mname\u001b[0m\u001b[1;33m]\u001b[0m\u001b[1;33m\u001b[0m\u001b[0m\n\u001b[0;32m   2359\u001b[0m             raise AttributeError(\"'%s' object has no attribute '%s'\" %\n\u001b[1;32m-> 2360\u001b[1;33m                                  (type(self).__name__, name))\n\u001b[0m\u001b[0;32m   2361\u001b[0m \u001b[1;33m\u001b[0m\u001b[0m\n\u001b[0;32m   2362\u001b[0m     \u001b[1;32mdef\u001b[0m \u001b[0m__setattr__\u001b[0m\u001b[1;33m(\u001b[0m\u001b[0mself\u001b[0m\u001b[1;33m,\u001b[0m \u001b[0mname\u001b[0m\u001b[1;33m,\u001b[0m \u001b[0mvalue\u001b[0m\u001b[1;33m)\u001b[0m\u001b[1;33m:\u001b[0m\u001b[1;33m\u001b[0m\u001b[0m\n",
      "\u001b[1;31mAttributeError\u001b[0m: 'DataFrame' object has no attribute 'Year'"
     ]
    }
   ],
   "source": [
    "import numpy\n",
    "#movies.Year1\n",
    "null_bool = movies.Year != None\n",
    "sum(null_bool)\n"
   ]
  },
  {
   "cell_type": "markdown",
   "metadata": {
    "collapsed": true
   },
   "source": [
    "#### Questions for all movies in IMDB_1000.csv\n",
    "* How many of the movies are rated 'R'? \n",
    "* What is the average duration of movies with a star_rating above 9? \n",
    "* What is the average duration of movies before 1985 and after?"
   ]
  },
  {
   "cell_type": "code",
   "execution_count": 342,
   "metadata": {
    "collapsed": false
   },
   "outputs": [
    {
     "data": {
      "text/plain": [
       "460"
      ]
     },
     "execution_count": 342,
     "metadata": {},
     "output_type": "execute_result"
    }
   ],
   "source": [
    "# How many of the movies are rated 'R'? \n",
    "l = [True for i, r in movies.iterrows() if movies.loc[i, 'content_rating'] == 'R']\n",
    "sum(l)"
   ]
  },
  {
   "cell_type": "code",
   "execution_count": 343,
   "metadata": {
    "collapsed": false
   },
   "outputs": [],
   "source": [
    "# What is the average duration of movies with a star_rating above 9?\n",
    "rates = [movies.loc[i, 'duration'] for i, r in movies.iterrows() if movies.loc[i, 'star_rating'] > 9]\n",
    "print sum(rates), '/', len(rates), ' ==> ', sum(rates) / float(len(rates))"
   ]
  },
  {
   "cell_type": "code",
   "execution_count": 344,
   "metadata": {
    "collapsed": false,
    "scrolled": true
   },
   "outputs": [
    {
     "ename": "KeyError",
     "evalue": "'the label [Year] is not in the [index]'",
     "output_type": "error",
     "traceback": [
      "\u001b[1;31m---------------------------------------------------------------------------\u001b[0m",
      "\u001b[1;31mKeyError\u001b[0m                                  Traceback (most recent call last)",
      "\u001b[1;32m<ipython-input-344-5176de1922f4>\u001b[0m in \u001b[0;36m<module>\u001b[1;34m()\u001b[0m\n\u001b[0;32m      1\u001b[0m \u001b[1;31m# What is the average duration of movies before 1985 and after?\u001b[0m\u001b[1;33m\u001b[0m\u001b[1;33m\u001b[0m\u001b[0m\n\u001b[1;32m----> 2\u001b[1;33m \u001b[0mrates\u001b[0m \u001b[1;33m=\u001b[0m \u001b[1;33m[\u001b[0m\u001b[0mmovies\u001b[0m\u001b[1;33m.\u001b[0m\u001b[0mloc\u001b[0m\u001b[1;33m[\u001b[0m\u001b[0mi\u001b[0m\u001b[1;33m,\u001b[0m \u001b[1;34m'duration'\u001b[0m\u001b[1;33m]\u001b[0m \u001b[1;32mfor\u001b[0m \u001b[0mi\u001b[0m\u001b[1;33m,\u001b[0m \u001b[0mr\u001b[0m \u001b[1;32min\u001b[0m \u001b[0mmovies\u001b[0m\u001b[1;33m.\u001b[0m\u001b[0miterrows\u001b[0m\u001b[1;33m(\u001b[0m\u001b[1;33m)\u001b[0m \u001b[1;32mif\u001b[0m \u001b[1;33m(\u001b[0m\u001b[0mmovies\u001b[0m\u001b[1;33m.\u001b[0m\u001b[0mloc\u001b[0m\u001b[1;33m[\u001b[0m\u001b[0mi\u001b[0m\u001b[1;33m,\u001b[0m \u001b[1;34m'Year'\u001b[0m\u001b[1;33m]\u001b[0m \u001b[1;33m!=\u001b[0m \u001b[1;36m1985\u001b[0m\u001b[1;33m)\u001b[0m\u001b[1;33m]\u001b[0m\u001b[1;33m\u001b[0m\u001b[0m\n\u001b[0m\u001b[0;32m      3\u001b[0m \u001b[1;32mprint\u001b[0m \u001b[0msum\u001b[0m\u001b[1;33m(\u001b[0m\u001b[0mrates\u001b[0m\u001b[1;33m)\u001b[0m\u001b[1;33m,\u001b[0m \u001b[1;34m'/'\u001b[0m\u001b[1;33m,\u001b[0m \u001b[0mlen\u001b[0m\u001b[1;33m(\u001b[0m\u001b[0mrates\u001b[0m\u001b[1;33m)\u001b[0m\u001b[1;33m,\u001b[0m \u001b[1;34m' ==> '\u001b[0m\u001b[1;33m,\u001b[0m \u001b[0msum\u001b[0m\u001b[1;33m(\u001b[0m\u001b[0mrates\u001b[0m\u001b[1;33m)\u001b[0m \u001b[1;33m/\u001b[0m \u001b[0mfloat\u001b[0m\u001b[1;33m(\u001b[0m\u001b[0mlen\u001b[0m\u001b[1;33m(\u001b[0m\u001b[0mrates\u001b[0m\u001b[1;33m)\u001b[0m\u001b[1;33m)\u001b[0m\u001b[1;33m\u001b[0m\u001b[0m\n",
      "\u001b[1;32m/home/anna/anaconda2/lib/python2.7/site-packages/pandas/core/indexing.pyc\u001b[0m in \u001b[0;36m__getitem__\u001b[1;34m(self, key)\u001b[0m\n\u001b[0;32m   1223\u001b[0m     \u001b[1;32mdef\u001b[0m \u001b[0m__getitem__\u001b[0m\u001b[1;33m(\u001b[0m\u001b[0mself\u001b[0m\u001b[1;33m,\u001b[0m \u001b[0mkey\u001b[0m\u001b[1;33m)\u001b[0m\u001b[1;33m:\u001b[0m\u001b[1;33m\u001b[0m\u001b[0m\n\u001b[0;32m   1224\u001b[0m         \u001b[1;32mif\u001b[0m \u001b[0mtype\u001b[0m\u001b[1;33m(\u001b[0m\u001b[0mkey\u001b[0m\u001b[1;33m)\u001b[0m \u001b[1;32mis\u001b[0m \u001b[0mtuple\u001b[0m\u001b[1;33m:\u001b[0m\u001b[1;33m\u001b[0m\u001b[0m\n\u001b[1;32m-> 1225\u001b[1;33m             \u001b[1;32mreturn\u001b[0m \u001b[0mself\u001b[0m\u001b[1;33m.\u001b[0m\u001b[0m_getitem_tuple\u001b[0m\u001b[1;33m(\u001b[0m\u001b[0mkey\u001b[0m\u001b[1;33m)\u001b[0m\u001b[1;33m\u001b[0m\u001b[0m\n\u001b[0m\u001b[0;32m   1226\u001b[0m         \u001b[1;32melse\u001b[0m\u001b[1;33m:\u001b[0m\u001b[1;33m\u001b[0m\u001b[0m\n\u001b[0;32m   1227\u001b[0m             \u001b[1;32mreturn\u001b[0m \u001b[0mself\u001b[0m\u001b[1;33m.\u001b[0m\u001b[0m_getitem_axis\u001b[0m\u001b[1;33m(\u001b[0m\u001b[0mkey\u001b[0m\u001b[1;33m,\u001b[0m \u001b[0maxis\u001b[0m\u001b[1;33m=\u001b[0m\u001b[1;36m0\u001b[0m\u001b[1;33m)\u001b[0m\u001b[1;33m\u001b[0m\u001b[0m\n",
      "\u001b[1;32m/home/anna/anaconda2/lib/python2.7/site-packages/pandas/core/indexing.pyc\u001b[0m in \u001b[0;36m_getitem_tuple\u001b[1;34m(self, tup)\u001b[0m\n\u001b[0;32m    736\u001b[0m     \u001b[1;32mdef\u001b[0m \u001b[0m_getitem_tuple\u001b[0m\u001b[1;33m(\u001b[0m\u001b[0mself\u001b[0m\u001b[1;33m,\u001b[0m \u001b[0mtup\u001b[0m\u001b[1;33m)\u001b[0m\u001b[1;33m:\u001b[0m\u001b[1;33m\u001b[0m\u001b[0m\n\u001b[0;32m    737\u001b[0m         \u001b[1;32mtry\u001b[0m\u001b[1;33m:\u001b[0m\u001b[1;33m\u001b[0m\u001b[0m\n\u001b[1;32m--> 738\u001b[1;33m             \u001b[1;32mreturn\u001b[0m \u001b[0mself\u001b[0m\u001b[1;33m.\u001b[0m\u001b[0m_getitem_lowerdim\u001b[0m\u001b[1;33m(\u001b[0m\u001b[0mtup\u001b[0m\u001b[1;33m)\u001b[0m\u001b[1;33m\u001b[0m\u001b[0m\n\u001b[0m\u001b[0;32m    739\u001b[0m         \u001b[1;32mexcept\u001b[0m \u001b[0mIndexingError\u001b[0m\u001b[1;33m:\u001b[0m\u001b[1;33m\u001b[0m\u001b[0m\n\u001b[0;32m    740\u001b[0m             \u001b[1;32mpass\u001b[0m\u001b[1;33m\u001b[0m\u001b[0m\n",
      "\u001b[1;32m/home/anna/anaconda2/lib/python2.7/site-packages/pandas/core/indexing.pyc\u001b[0m in \u001b[0;36m_getitem_lowerdim\u001b[1;34m(self, tup)\u001b[0m\n\u001b[0;32m    886\u001b[0m \u001b[1;33m\u001b[0m\u001b[0m\n\u001b[0;32m    887\u001b[0m                 \u001b[1;31m# This is an elided recursive call to iloc/loc/etc'\u001b[0m\u001b[1;33m\u001b[0m\u001b[1;33m\u001b[0m\u001b[0m\n\u001b[1;32m--> 888\u001b[1;33m                 \u001b[1;32mreturn\u001b[0m \u001b[0mgetattr\u001b[0m\u001b[1;33m(\u001b[0m\u001b[0msection\u001b[0m\u001b[1;33m,\u001b[0m \u001b[0mself\u001b[0m\u001b[1;33m.\u001b[0m\u001b[0mname\u001b[0m\u001b[1;33m)\u001b[0m\u001b[1;33m[\u001b[0m\u001b[0mnew_key\u001b[0m\u001b[1;33m]\u001b[0m\u001b[1;33m\u001b[0m\u001b[0m\n\u001b[0m\u001b[0;32m    889\u001b[0m \u001b[1;33m\u001b[0m\u001b[0m\n\u001b[0;32m    890\u001b[0m         \u001b[1;32mraise\u001b[0m \u001b[0mIndexingError\u001b[0m\u001b[1;33m(\u001b[0m\u001b[1;34m'not applicable'\u001b[0m\u001b[1;33m)\u001b[0m\u001b[1;33m\u001b[0m\u001b[0m\n",
      "\u001b[1;32m/home/anna/anaconda2/lib/python2.7/site-packages/pandas/core/indexing.pyc\u001b[0m in \u001b[0;36m__getitem__\u001b[1;34m(self, key)\u001b[0m\n\u001b[0;32m   1225\u001b[0m             \u001b[1;32mreturn\u001b[0m \u001b[0mself\u001b[0m\u001b[1;33m.\u001b[0m\u001b[0m_getitem_tuple\u001b[0m\u001b[1;33m(\u001b[0m\u001b[0mkey\u001b[0m\u001b[1;33m)\u001b[0m\u001b[1;33m\u001b[0m\u001b[0m\n\u001b[0;32m   1226\u001b[0m         \u001b[1;32melse\u001b[0m\u001b[1;33m:\u001b[0m\u001b[1;33m\u001b[0m\u001b[0m\n\u001b[1;32m-> 1227\u001b[1;33m             \u001b[1;32mreturn\u001b[0m \u001b[0mself\u001b[0m\u001b[1;33m.\u001b[0m\u001b[0m_getitem_axis\u001b[0m\u001b[1;33m(\u001b[0m\u001b[0mkey\u001b[0m\u001b[1;33m,\u001b[0m \u001b[0maxis\u001b[0m\u001b[1;33m=\u001b[0m\u001b[1;36m0\u001b[0m\u001b[1;33m)\u001b[0m\u001b[1;33m\u001b[0m\u001b[0m\n\u001b[0m\u001b[0;32m   1228\u001b[0m \u001b[1;33m\u001b[0m\u001b[0m\n\u001b[0;32m   1229\u001b[0m     \u001b[1;32mdef\u001b[0m \u001b[0m_getitem_axis\u001b[0m\u001b[1;33m(\u001b[0m\u001b[0mself\u001b[0m\u001b[1;33m,\u001b[0m \u001b[0mkey\u001b[0m\u001b[1;33m,\u001b[0m \u001b[0maxis\u001b[0m\u001b[1;33m=\u001b[0m\u001b[1;36m0\u001b[0m\u001b[1;33m)\u001b[0m\u001b[1;33m:\u001b[0m\u001b[1;33m\u001b[0m\u001b[0m\n",
      "\u001b[1;32m/home/anna/anaconda2/lib/python2.7/site-packages/pandas/core/indexing.pyc\u001b[0m in \u001b[0;36m_getitem_axis\u001b[1;34m(self, key, axis)\u001b[0m\n\u001b[0;32m   1369\u001b[0m \u001b[1;33m\u001b[0m\u001b[0m\n\u001b[0;32m   1370\u001b[0m         \u001b[1;31m# fall thru to straight lookup\u001b[0m\u001b[1;33m\u001b[0m\u001b[1;33m\u001b[0m\u001b[0m\n\u001b[1;32m-> 1371\u001b[1;33m         \u001b[0mself\u001b[0m\u001b[1;33m.\u001b[0m\u001b[0m_has_valid_type\u001b[0m\u001b[1;33m(\u001b[0m\u001b[0mkey\u001b[0m\u001b[1;33m,\u001b[0m \u001b[0maxis\u001b[0m\u001b[1;33m)\u001b[0m\u001b[1;33m\u001b[0m\u001b[0m\n\u001b[0m\u001b[0;32m   1372\u001b[0m         \u001b[1;32mreturn\u001b[0m \u001b[0mself\u001b[0m\u001b[1;33m.\u001b[0m\u001b[0m_get_label\u001b[0m\u001b[1;33m(\u001b[0m\u001b[0mkey\u001b[0m\u001b[1;33m,\u001b[0m \u001b[0maxis\u001b[0m\u001b[1;33m=\u001b[0m\u001b[0maxis\u001b[0m\u001b[1;33m)\u001b[0m\u001b[1;33m\u001b[0m\u001b[0m\n\u001b[0;32m   1373\u001b[0m \u001b[1;33m\u001b[0m\u001b[0m\n",
      "\u001b[1;32m/home/anna/anaconda2/lib/python2.7/site-packages/pandas/core/indexing.pyc\u001b[0m in \u001b[0;36m_has_valid_type\u001b[1;34m(self, key, axis)\u001b[0m\n\u001b[0;32m   1331\u001b[0m                 \u001b[1;32mraise\u001b[0m\u001b[1;33m\u001b[0m\u001b[0m\n\u001b[0;32m   1332\u001b[0m             \u001b[1;32mexcept\u001b[0m\u001b[1;33m:\u001b[0m\u001b[1;33m\u001b[0m\u001b[0m\n\u001b[1;32m-> 1333\u001b[1;33m                 \u001b[0merror\u001b[0m\u001b[1;33m(\u001b[0m\u001b[1;33m)\u001b[0m\u001b[1;33m\u001b[0m\u001b[0m\n\u001b[0m\u001b[0;32m   1334\u001b[0m \u001b[1;33m\u001b[0m\u001b[0m\n\u001b[0;32m   1335\u001b[0m         \u001b[1;32mreturn\u001b[0m \u001b[0mTrue\u001b[0m\u001b[1;33m\u001b[0m\u001b[0m\n",
      "\u001b[1;32m/home/anna/anaconda2/lib/python2.7/site-packages/pandas/core/indexing.pyc\u001b[0m in \u001b[0;36merror\u001b[1;34m()\u001b[0m\n\u001b[0;32m   1318\u001b[0m                         \"cannot use label indexing with a null key\")\n\u001b[0;32m   1319\u001b[0m                 raise KeyError(\"the label [%s] is not in the [%s]\" %\n\u001b[1;32m-> 1320\u001b[1;33m                                (key, self.obj._get_axis_name(axis)))\n\u001b[0m\u001b[0;32m   1321\u001b[0m \u001b[1;33m\u001b[0m\u001b[0m\n\u001b[0;32m   1322\u001b[0m             \u001b[1;32mtry\u001b[0m\u001b[1;33m:\u001b[0m\u001b[1;33m\u001b[0m\u001b[0m\n",
      "\u001b[1;31mKeyError\u001b[0m: 'the label [Year] is not in the [index]'"
     ]
    }
   ],
   "source": [
    "# What is the average duration of movies before 1985 and after?\n",
    "rates = [movies.loc[i, 'duration'] for i, r in movies.iterrows() if (movies.loc[i, 'Year'] != 1985)]\n",
    "print sum(rates), '/', len(rates), ' ==> ', sum(rates) / float(len(rates))"
   ]
  },
  {
   "cell_type": "code",
   "execution_count": 74,
   "metadata": {
    "collapsed": false,
    "scrolled": true
   },
   "outputs": [
    {
     "data": {
      "text/plain": [
       "9"
      ]
     },
     "execution_count": 74,
     "metadata": {},
     "output_type": "execute_result"
    }
   ],
   "source": [
    "yr_1985 = movies.Year == 1985\n",
    "sum(yr_1985)"
   ]
  },
  {
   "cell_type": "markdown",
   "metadata": {},
   "source": [
    "### Optional Wed Scraping Homework\n",
    "\n",
    "First, define a function that accepts an IMDb ID and returns a dictionary of\n",
    "movie information: title, star_rating, description, content_rating, duration.\n",
    "The function should gather this information by scraping the IMDb website, not\n",
    "by calling the OMDb API. (This is really just a wrapper of the web scraping\n",
    "code we wrote above.)\n",
    "\n",
    "For example, `get_movie_info('tt0111161')` should return:\n",
    "```\n",
    "{'content_rating': 'R',\n",
    " 'description': u'Two imprisoned men bond over a number of years...',\n",
    " 'duration': 142,\n",
    " 'star_rating': 9.3,\n",
    " 'title': u'The Shawshank Redemption'}\n",
    " ```\n",
    "\n",
    "Then, open the file imdb_ids.txt using Python, and write a for loop that builds\n",
    "a list in which each element is a dictionary of movie information.\n",
    "Finally, convert that list into a DataFrame.\n",
    "\n",
    "\n"
   ]
  },
  {
   "cell_type": "code",
   "execution_count": 1,
   "metadata": {
    "collapsed": true
   },
   "outputs": [],
   "source": [
    "import requests\n",
    "from bs4 import BeautifulSoup\n",
    "\n",
    "url = 'http://www.imdb.com/chart/top?ref_=nv_mv_250_6'\n",
    "r = requests.get(url)\n",
    "bs = BeautifulSoup(r.text, 'html.parser')\n",
    "\n",
    "# getting all of the paragraphs that match attrs, there are 250\n",
    "td = bs.find_all(attrs={'class':'titleColumn'})\n"
   ]
  },
  {
   "cell_type": "code",
   "execution_count": 2,
   "metadata": {
    "collapsed": false
   },
   "outputs": [
    {
     "data": {
      "text/plain": [
       "<td class=\"titleColumn\">\\n      1.\\n      <a href=\"/title/tt0111161/?pf_rd_m=A2FGELUUNOQJNL&amp;pf_rd_p=2239792642&amp;pf_rd_r=10KHY9RXVY2XAZ6N0CDR&amp;pf_rd_s=center-1&amp;pf_rd_t=15506&amp;pf_rd_i=top&amp;ref_=chttp_tt_1\" title=\"Frank Darabont (dir.), Tim Robbins, Morgan Freeman\">The Shawshank Redemption</a>\\n<span class=\"secondaryInfo\">(1994)</span>\\n</td>"
      ]
     },
     "execution_count": 2,
     "metadata": {},
     "output_type": "execute_result"
    }
   ],
   "source": [
    "td[0]"
   ]
  },
  {
   "cell_type": "code",
   "execution_count": 3,
   "metadata": {
    "collapsed": false
   },
   "outputs": [
    {
     "data": {
      "text/plain": [
       "u'/title/tt0111161/?pf_rd_m=A2FGELUUNOQJNL&pf_rd_p=2239792642&pf_rd_r=10KHY9RXVY2XAZ6N0CDR&pf_rd_s=center-1&pf_rd_t=15506&pf_rd_i=top&ref_=chttp_tt_1'"
      ]
     },
     "execution_count": 3,
     "metadata": {},
     "output_type": "execute_result"
    }
   ],
   "source": [
    "td[0].find(name='a')['href']"
   ]
  },
  {
   "cell_type": "code",
   "execution_count": 4,
   "metadata": {
    "collapsed": true
   },
   "outputs": [],
   "source": [
    "strings = td[0].find(name='a')['href'].split('/')"
   ]
  },
  {
   "cell_type": "code",
   "execution_count": 5,
   "metadata": {
    "collapsed": false
   },
   "outputs": [
    {
     "data": {
      "text/plain": [
       "[u'',\n",
       " u'title',\n",
       " u'tt0111161',\n",
       " u'?pf_rd_m=A2FGELUUNOQJNL&pf_rd_p=2239792642&pf_rd_r=10KHY9RXVY2XAZ6N0CDR&pf_rd_s=center-1&pf_rd_t=15506&pf_rd_i=top&ref_=chttp_tt_1']"
      ]
     },
     "execution_count": 5,
     "metadata": {},
     "output_type": "execute_result"
    }
   ],
   "source": [
    "strings"
   ]
  },
  {
   "cell_type": "code",
   "execution_count": 6,
   "metadata": {
    "collapsed": false
   },
   "outputs": [
    {
     "data": {
      "text/plain": [
       "u'tt0111161'"
      ]
     },
     "execution_count": 6,
     "metadata": {},
     "output_type": "execute_result"
    }
   ],
   "source": [
    "strings[2]"
   ]
  },
  {
   "cell_type": "code",
   "execution_count": 236,
   "metadata": {
    "collapsed": false
   },
   "outputs": [],
   "source": [
    "import requests\n",
    "from bs4 import BeautifulSoup\n",
    "\n",
    "def getTop250Ids():\n",
    "    url = 'http://www.imdb.com/chart/top?ref_=nv_mv_250_6'\n",
    "    r = requests.get(url)\n",
    "    bs = BeautifulSoup(r.text, 'html.parser')\n",
    "    list_250 = []\n",
    "    \n",
    "    # getting all of the paragraphs that match attrs, there are 250\n",
    "    td = bs.find_all(attrs={'class':'titleColumn'}) \n",
    "    for i in td:\n",
    "        strings = i.find(name='a')['href'].split('/')\n",
    "        list_250.append((i.find('a').text, strings[2]))\n",
    "    \n",
    "    return list_250\n"
   ]
  },
  {
   "cell_type": "code",
   "execution_count": 231,
   "metadata": {
    "collapsed": false
   },
   "outputs": [
    {
     "data": {
      "text/plain": [
       "u'The Shawshank Redemption'"
      ]
     },
     "execution_count": 231,
     "metadata": {},
     "output_type": "execute_result"
    }
   ],
   "source": [
    "td[0].find('a').text"
   ]
  },
  {
   "cell_type": "code",
   "execution_count": 244,
   "metadata": {
    "collapsed": false
   },
   "outputs": [],
   "source": [
    "import pandas as pd\n",
    "mylist = getTop250Ids()\n",
    "df_movies = pd.DataFrame(mylist, columns=['title','idx'])"
   ]
  },
  {
   "cell_type": "code",
   "execution_count": 245,
   "metadata": {
    "collapsed": false,
    "scrolled": true
   },
   "outputs": [
    {
     "data": {
      "text/html": [
       "<div>\n",
       "<table border=\"1\" class=\"dataframe\">\n",
       "  <thead>\n",
       "    <tr style=\"text-align: right;\">\n",
       "      <th></th>\n",
       "      <th>title</th>\n",
       "      <th>idx</th>\n",
       "    </tr>\n",
       "  </thead>\n",
       "  <tbody>\n",
       "    <tr>\n",
       "      <th>0</th>\n",
       "      <td>The Shawshank Redemption</td>\n",
       "      <td>tt0111161</td>\n",
       "    </tr>\n",
       "    <tr>\n",
       "      <th>1</th>\n",
       "      <td>The Godfather</td>\n",
       "      <td>tt0068646</td>\n",
       "    </tr>\n",
       "    <tr>\n",
       "      <th>2</th>\n",
       "      <td>The Godfather: Part II</td>\n",
       "      <td>tt0071562</td>\n",
       "    </tr>\n",
       "    <tr>\n",
       "      <th>3</th>\n",
       "      <td>The Dark Knight</td>\n",
       "      <td>tt0468569</td>\n",
       "    </tr>\n",
       "    <tr>\n",
       "      <th>4</th>\n",
       "      <td>12 Angry Men</td>\n",
       "      <td>tt0050083</td>\n",
       "    </tr>\n",
       "    <tr>\n",
       "      <th>5</th>\n",
       "      <td>Schindler's List</td>\n",
       "      <td>tt0108052</td>\n",
       "    </tr>\n",
       "    <tr>\n",
       "      <th>6</th>\n",
       "      <td>Pulp Fiction</td>\n",
       "      <td>tt0110912</td>\n",
       "    </tr>\n",
       "    <tr>\n",
       "      <th>7</th>\n",
       "      <td>The Good, the Bad and the Ugly</td>\n",
       "      <td>tt0060196</td>\n",
       "    </tr>\n",
       "    <tr>\n",
       "      <th>8</th>\n",
       "      <td>The Lord of the Rings: The Return of the King</td>\n",
       "      <td>tt0167260</td>\n",
       "    </tr>\n",
       "    <tr>\n",
       "      <th>9</th>\n",
       "      <td>Fight Club</td>\n",
       "      <td>tt0137523</td>\n",
       "    </tr>\n",
       "    <tr>\n",
       "      <th>10</th>\n",
       "      <td>The Lord of the Rings: The Fellowship of the Ring</td>\n",
       "      <td>tt0120737</td>\n",
       "    </tr>\n",
       "    <tr>\n",
       "      <th>11</th>\n",
       "      <td>Star Wars: Episode V - The Empire Strikes Back</td>\n",
       "      <td>tt0080684</td>\n",
       "    </tr>\n",
       "    <tr>\n",
       "      <th>12</th>\n",
       "      <td>Forrest Gump</td>\n",
       "      <td>tt0109830</td>\n",
       "    </tr>\n",
       "    <tr>\n",
       "      <th>13</th>\n",
       "      <td>Inception</td>\n",
       "      <td>tt1375666</td>\n",
       "    </tr>\n",
       "    <tr>\n",
       "      <th>14</th>\n",
       "      <td>One Flew Over the Cuckoo's Nest</td>\n",
       "      <td>tt0073486</td>\n",
       "    </tr>\n",
       "    <tr>\n",
       "      <th>15</th>\n",
       "      <td>The Lord of the Rings: The Two Towers</td>\n",
       "      <td>tt0167261</td>\n",
       "    </tr>\n",
       "    <tr>\n",
       "      <th>16</th>\n",
       "      <td>The Matrix</td>\n",
       "      <td>tt0133093</td>\n",
       "    </tr>\n",
       "    <tr>\n",
       "      <th>17</th>\n",
       "      <td>Goodfellas</td>\n",
       "      <td>tt0099685</td>\n",
       "    </tr>\n",
       "    <tr>\n",
       "      <th>18</th>\n",
       "      <td>Star Wars</td>\n",
       "      <td>tt0076759</td>\n",
       "    </tr>\n",
       "    <tr>\n",
       "      <th>19</th>\n",
       "      <td>Seven Samurai</td>\n",
       "      <td>tt0047478</td>\n",
       "    </tr>\n",
       "    <tr>\n",
       "      <th>20</th>\n",
       "      <td>City of God</td>\n",
       "      <td>tt0317248</td>\n",
       "    </tr>\n",
       "    <tr>\n",
       "      <th>21</th>\n",
       "      <td>Se7en</td>\n",
       "      <td>tt0114369</td>\n",
       "    </tr>\n",
       "    <tr>\n",
       "      <th>22</th>\n",
       "      <td>The Silence of the Lambs</td>\n",
       "      <td>tt0102926</td>\n",
       "    </tr>\n",
       "    <tr>\n",
       "      <th>23</th>\n",
       "      <td>The Usual Suspects</td>\n",
       "      <td>tt0114814</td>\n",
       "    </tr>\n",
       "    <tr>\n",
       "      <th>24</th>\n",
       "      <td>It's a Wonderful Life</td>\n",
       "      <td>tt0038650</td>\n",
       "    </tr>\n",
       "    <tr>\n",
       "      <th>25</th>\n",
       "      <td>Life Is Beautiful</td>\n",
       "      <td>tt0118799</td>\n",
       "    </tr>\n",
       "    <tr>\n",
       "      <th>26</th>\n",
       "      <td>Léon: The Professional</td>\n",
       "      <td>tt0110413</td>\n",
       "    </tr>\n",
       "    <tr>\n",
       "      <th>27</th>\n",
       "      <td>Star Wars: The Force Awakens</td>\n",
       "      <td>tt2488496</td>\n",
       "    </tr>\n",
       "    <tr>\n",
       "      <th>28</th>\n",
       "      <td>Once Upon a Time in the West</td>\n",
       "      <td>tt0064116</td>\n",
       "    </tr>\n",
       "    <tr>\n",
       "      <th>29</th>\n",
       "      <td>Interstellar</td>\n",
       "      <td>tt0816692</td>\n",
       "    </tr>\n",
       "    <tr>\n",
       "      <th>...</th>\n",
       "      <td>...</td>\n",
       "      <td>...</td>\n",
       "    </tr>\n",
       "    <tr>\n",
       "      <th>220</th>\n",
       "      <td>Barry Lyndon</td>\n",
       "      <td>tt0072684</td>\n",
       "    </tr>\n",
       "    <tr>\n",
       "      <th>221</th>\n",
       "      <td>Fanny and Alexander</td>\n",
       "      <td>tt0083922</td>\n",
       "    </tr>\n",
       "    <tr>\n",
       "      <th>222</th>\n",
       "      <td>La Haine</td>\n",
       "      <td>tt0113247</td>\n",
       "    </tr>\n",
       "    <tr>\n",
       "      <th>223</th>\n",
       "      <td>Throne of Blood</td>\n",
       "      <td>tt0050613</td>\n",
       "    </tr>\n",
       "    <tr>\n",
       "      <th>224</th>\n",
       "      <td>Guardians of the Galaxy</td>\n",
       "      <td>tt2015381</td>\n",
       "    </tr>\n",
       "    <tr>\n",
       "      <th>225</th>\n",
       "      <td>Yip Man</td>\n",
       "      <td>tt1220719</td>\n",
       "    </tr>\n",
       "    <tr>\n",
       "      <th>226</th>\n",
       "      <td>The Imitation Game</td>\n",
       "      <td>tt2084970</td>\n",
       "    </tr>\n",
       "    <tr>\n",
       "      <th>227</th>\n",
       "      <td>The King's Speech</td>\n",
       "      <td>tt1504320</td>\n",
       "    </tr>\n",
       "    <tr>\n",
       "      <th>228</th>\n",
       "      <td>A Fistful of Dollars</td>\n",
       "      <td>tt0058461</td>\n",
       "    </tr>\n",
       "    <tr>\n",
       "      <th>229</th>\n",
       "      <td>High Noon</td>\n",
       "      <td>tt0044706</td>\n",
       "    </tr>\n",
       "    <tr>\n",
       "      <th>230</th>\n",
       "      <td>Prisoners</td>\n",
       "      <td>tt1392214</td>\n",
       "    </tr>\n",
       "    <tr>\n",
       "      <th>231</th>\n",
       "      <td>Pirates of the Caribbean: The Curse of the Bla...</td>\n",
       "      <td>tt0325980</td>\n",
       "    </tr>\n",
       "    <tr>\n",
       "      <th>232</th>\n",
       "      <td>Castle in the Sky</td>\n",
       "      <td>tt0092067</td>\n",
       "    </tr>\n",
       "    <tr>\n",
       "      <th>233</th>\n",
       "      <td>The Help</td>\n",
       "      <td>tt1454029</td>\n",
       "    </tr>\n",
       "    <tr>\n",
       "      <th>234</th>\n",
       "      <td>Notorious</td>\n",
       "      <td>tt0038787</td>\n",
       "    </tr>\n",
       "    <tr>\n",
       "      <th>235</th>\n",
       "      <td>Roman Holiday</td>\n",
       "      <td>tt0046250</td>\n",
       "    </tr>\n",
       "    <tr>\n",
       "      <th>236</th>\n",
       "      <td>Who's Afraid of Virginia Woolf?</td>\n",
       "      <td>tt0061184</td>\n",
       "    </tr>\n",
       "    <tr>\n",
       "      <th>237</th>\n",
       "      <td>Papillon</td>\n",
       "      <td>tt0070511</td>\n",
       "    </tr>\n",
       "    <tr>\n",
       "      <th>238</th>\n",
       "      <td>Spring, Summer, Fall, Winter... and Spring</td>\n",
       "      <td>tt0374546</td>\n",
       "    </tr>\n",
       "    <tr>\n",
       "      <th>239</th>\n",
       "      <td>Beauty and the Beast</td>\n",
       "      <td>tt0101414</td>\n",
       "    </tr>\n",
       "    <tr>\n",
       "      <th>240</th>\n",
       "      <td>The Night of the Hunter</td>\n",
       "      <td>tt0048424</td>\n",
       "    </tr>\n",
       "    <tr>\n",
       "      <th>241</th>\n",
       "      <td>Anatomy of a Murder</td>\n",
       "      <td>tt0052561</td>\n",
       "    </tr>\n",
       "    <tr>\n",
       "      <th>242</th>\n",
       "      <td>Before Sunset</td>\n",
       "      <td>tt0381681</td>\n",
       "    </tr>\n",
       "    <tr>\n",
       "      <th>243</th>\n",
       "      <td>Catch Me If You Can</td>\n",
       "      <td>tt0264464</td>\n",
       "    </tr>\n",
       "    <tr>\n",
       "      <th>244</th>\n",
       "      <td>Lagaan: Once Upon a Time in India</td>\n",
       "      <td>tt0169102</td>\n",
       "    </tr>\n",
       "    <tr>\n",
       "      <th>245</th>\n",
       "      <td>Three Colors: Red</td>\n",
       "      <td>tt0111495</td>\n",
       "    </tr>\n",
       "    <tr>\n",
       "      <th>246</th>\n",
       "      <td>Gangs of Wasseypur</td>\n",
       "      <td>tt1954470</td>\n",
       "    </tr>\n",
       "    <tr>\n",
       "      <th>247</th>\n",
       "      <td>La Strada</td>\n",
       "      <td>tt0047528</td>\n",
       "    </tr>\n",
       "    <tr>\n",
       "      <th>248</th>\n",
       "      <td>Akira</td>\n",
       "      <td>tt0094625</td>\n",
       "    </tr>\n",
       "    <tr>\n",
       "      <th>249</th>\n",
       "      <td>The Killing</td>\n",
       "      <td>tt0049406</td>\n",
       "    </tr>\n",
       "  </tbody>\n",
       "</table>\n",
       "<p>250 rows × 2 columns</p>\n",
       "</div>"
      ],
      "text/plain": [
       "                                                 title        idx\n",
       "0                             The Shawshank Redemption  tt0111161\n",
       "1                                        The Godfather  tt0068646\n",
       "2                               The Godfather: Part II  tt0071562\n",
       "3                                      The Dark Knight  tt0468569\n",
       "4                                         12 Angry Men  tt0050083\n",
       "5                                     Schindler's List  tt0108052\n",
       "6                                         Pulp Fiction  tt0110912\n",
       "7                       The Good, the Bad and the Ugly  tt0060196\n",
       "8        The Lord of the Rings: The Return of the King  tt0167260\n",
       "9                                           Fight Club  tt0137523\n",
       "10   The Lord of the Rings: The Fellowship of the Ring  tt0120737\n",
       "11      Star Wars: Episode V - The Empire Strikes Back  tt0080684\n",
       "12                                        Forrest Gump  tt0109830\n",
       "13                                           Inception  tt1375666\n",
       "14                     One Flew Over the Cuckoo's Nest  tt0073486\n",
       "15               The Lord of the Rings: The Two Towers  tt0167261\n",
       "16                                          The Matrix  tt0133093\n",
       "17                                          Goodfellas  tt0099685\n",
       "18                                           Star Wars  tt0076759\n",
       "19                                       Seven Samurai  tt0047478\n",
       "20                                         City of God  tt0317248\n",
       "21                                               Se7en  tt0114369\n",
       "22                            The Silence of the Lambs  tt0102926\n",
       "23                                  The Usual Suspects  tt0114814\n",
       "24                               It's a Wonderful Life  tt0038650\n",
       "25                                   Life Is Beautiful  tt0118799\n",
       "26                              Léon: The Professional  tt0110413\n",
       "27                        Star Wars: The Force Awakens  tt2488496\n",
       "28                        Once Upon a Time in the West  tt0064116\n",
       "29                                        Interstellar  tt0816692\n",
       "..                                                 ...        ...\n",
       "220                                       Barry Lyndon  tt0072684\n",
       "221                                Fanny and Alexander  tt0083922\n",
       "222                                           La Haine  tt0113247\n",
       "223                                    Throne of Blood  tt0050613\n",
       "224                            Guardians of the Galaxy  tt2015381\n",
       "225                                            Yip Man  tt1220719\n",
       "226                                 The Imitation Game  tt2084970\n",
       "227                                  The King's Speech  tt1504320\n",
       "228                               A Fistful of Dollars  tt0058461\n",
       "229                                          High Noon  tt0044706\n",
       "230                                          Prisoners  tt1392214\n",
       "231  Pirates of the Caribbean: The Curse of the Bla...  tt0325980\n",
       "232                                  Castle in the Sky  tt0092067\n",
       "233                                           The Help  tt1454029\n",
       "234                                          Notorious  tt0038787\n",
       "235                                      Roman Holiday  tt0046250\n",
       "236                    Who's Afraid of Virginia Woolf?  tt0061184\n",
       "237                                           Papillon  tt0070511\n",
       "238         Spring, Summer, Fall, Winter... and Spring  tt0374546\n",
       "239                               Beauty and the Beast  tt0101414\n",
       "240                            The Night of the Hunter  tt0048424\n",
       "241                                Anatomy of a Murder  tt0052561\n",
       "242                                      Before Sunset  tt0381681\n",
       "243                                Catch Me If You Can  tt0264464\n",
       "244                  Lagaan: Once Upon a Time in India  tt0169102\n",
       "245                                  Three Colors: Red  tt0111495\n",
       "246                                 Gangs of Wasseypur  tt1954470\n",
       "247                                          La Strada  tt0047528\n",
       "248                                              Akira  tt0094625\n",
       "249                                        The Killing  tt0049406\n",
       "\n",
       "[250 rows x 2 columns]"
      ]
     },
     "execution_count": 245,
     "metadata": {},
     "output_type": "execute_result"
    }
   ],
   "source": [
    "df_movies"
   ]
  },
  {
   "cell_type": "code",
   "execution_count": 251,
   "metadata": {
    "collapsed": false
   },
   "outputs": [
    {
     "name": "stdout",
     "output_type": "stream",
     "text": [
      "The Shawshank Redemption\n",
      "tt0111161\n",
      "The Killing\n"
     ]
    }
   ],
   "source": [
    "#some_rsp = findMovieInfo(df_movies[0].id, df_movies[0])\n",
    "print df_movies.iloc[0,0]\n",
    "print df_movies.idx[0]\n",
    "print df_movies.title[249]"
   ]
  },
  {
   "cell_type": "code",
   "execution_count": 285,
   "metadata": {
    "collapsed": false
   },
   "outputs": [],
   "source": [
    "# www.imdb.com/title/<imdb_id>\n",
    "# title <span class=\"itemprop\" itemprop=\"name\">The Godfather</span>\n",
    "# rating <meta itemprop=\"contentRating\" content=\"R\">\n",
    "# star <span itemprop=\"ratingValue\">9.2</span>\n",
    "# duration <time itemprop=\"duration\" datetime=\"PT175M\">175 min</time>\n",
    "# description <p itemprop=\"description\">The aging patriarch of an organized crime dynasty transfers control of his clandestine empire to his reluctant son.</p>\n",
    "import requests\n",
    "from bs4 import BeautifulSoup\n",
    "\n",
    "# id ==> df.id[0] or df.iloc[0][0] or df.iloc[0,0]\n",
    "# Question:  Is it better to pass in the DataFrame by reference (can this be done?), or pass the values back via list\n",
    "# and have the calling function populate the DataFrame?  Or make the DataFrame global parameter (yuck)\n",
    "def findMovieInfo(i):  #row):\n",
    "    return_list = []\n",
    "    url = 'http://www.imdb.com/title/' + i\n",
    "    try:\n",
    "        r = requests.get(url)\n",
    "        bs = BeautifulSoup(r.text, 'html.parser')\n",
    "        title  = bs.find(name='h1').text.split('\\n')[0]\n",
    "        star   = bs.find(name='span', attrs={'itemprop':'ratingValue'})\n",
    "        r_star = 0 if star == None else float(star.text)\n",
    "        rating = bs.find(name='meta', attrs={'itemprop':'contentRating'})\n",
    "        c_rate = 0 if rating == None else rating.text.split('\\n')[0]\n",
    "        descr  = bs.find(name='div', attrs={'class':'summary_text','itemprop':'description'}).text.strip()\n",
    "        #This works for everything, except one entry.  Have to derive another way\n",
    "        #time   = bs.find_all(name='time', attrs={'itemprop':'duration'})\n",
    "        #minute = 0 if time == None else time[1].text\n",
    "        #duration = int(minute.split(' ')[0])\n",
    "        duration = int(bs.find(name='time')['datetime'][2:-1])\n",
    "        # print i, title, bs.find(name='time')['datetime'], c_rate, r_star, duration, '\\n'\n",
    "    \n",
    "        # Question:  This doesn't work... is row just a copy ?\n",
    "        #row['title'] = title\n",
    "        return_list.append(('title',title))\n",
    "        #row['content_rating'] = rating\n",
    "        return_list.append(('rating', c_rate))\n",
    "        #row['star_rating'] = star\n",
    "        return_list.append(('star', r_star))\n",
    "        #row['duration'] = duration\n",
    "        return_list.append(('duration', duration))\n",
    "        #row['description'] = descr\n",
    "        return_list.append(('description', descr))\n",
    "    \n",
    "        return(return_list)\n",
    "\n",
    "    except:\n",
    "        print \"errors with: \", title, i\n",
    "        pass\n",
    "    "
   ]
  },
  {
   "cell_type": "code",
   "execution_count": 302,
   "metadata": {
    "collapsed": false,
    "scrolled": true
   },
   "outputs": [
    {
     "name": "stdout",
     "output_type": "stream",
     "text": [
      " . . . . . . . . . . . . . . . . . . . . . . . . . . . . . . . . . . . . . . . . . . . . . . . . . .\n",
      ". . . . . . . . . . . . . . . . . . . . . . . . . . . . . . . . . . . . . . . . . . . . . . . . . .\n",
      ". . . . . . . . . . . . . . . . . . . . . . . . . . . . . . . . . . . . . . . . . . . . . . . . . .\n",
      ". . . . . . . . . . . . . . . . . . . . . . . . . . . . . . . . . . . . . . . . . . . . . . . . . .\n",
      ". . . . . . . . . . . . . . . . . . . . . . . . . . . . . . . . . . . . . . . . . . . . . . . . . .\n",
      "\n",
      "Complete! View the \"partial\" dataframe!\n"
     ]
    }
   ],
   "source": [
    "# Side Note:  Have to use index, row for dataframe.iterrows()\n",
    "# This is a test function\n",
    "count = 0\n",
    "partial = df_movies[0:250]\n",
    "for i, row in partial.iterrows():\n",
    "    values_list = []\n",
    "    url = 'http://www.imdb.com/title/' + row.idx\n",
    "    values_list = findMovieInfo(row.idx)\n",
    "    if (i+1)%50 == 0:\n",
    "        print '.'\n",
    "    else:\n",
    "        print'.',\n",
    "    for tup in values_list:\n",
    "        partial.loc[i,tup[0]] = tup[1]\n",
    "print '\\nComplete! View the \"partial\" dataframe!'"
   ]
  },
  {
   "cell_type": "code",
   "execution_count": 303,
   "metadata": {
    "collapsed": false
   },
   "outputs": [
    {
     "data": {
      "text/html": [
       "<div>\n",
       "<table border=\"1\" class=\"dataframe\">\n",
       "  <thead>\n",
       "    <tr style=\"text-align: right;\">\n",
       "      <th></th>\n",
       "      <th>title</th>\n",
       "      <th>idx</th>\n",
       "      <th>rating</th>\n",
       "      <th>star</th>\n",
       "      <th>duration</th>\n",
       "      <th>description</th>\n",
       "    </tr>\n",
       "  </thead>\n",
       "  <tbody>\n",
       "    <tr>\n",
       "      <th>0</th>\n",
       "      <td>The Shawshank Redemption</td>\n",
       "      <td>tt0111161</td>\n",
       "      <td>R</td>\n",
       "      <td>9.3</td>\n",
       "      <td>142</td>\n",
       "      <td>Two imprisoned men bond over a number of years...</td>\n",
       "    </tr>\n",
       "    <tr>\n",
       "      <th>1</th>\n",
       "      <td>The Godfather</td>\n",
       "      <td>tt0068646</td>\n",
       "      <td>R</td>\n",
       "      <td>9.2</td>\n",
       "      <td>175</td>\n",
       "      <td>The aging patriarch of an organized crime dyna...</td>\n",
       "    </tr>\n",
       "    <tr>\n",
       "      <th>2</th>\n",
       "      <td>The Godfather: Part II</td>\n",
       "      <td>tt0071562</td>\n",
       "      <td>R</td>\n",
       "      <td>9.0</td>\n",
       "      <td>202</td>\n",
       "      <td>The early life and career of Vito Corleone in ...</td>\n",
       "    </tr>\n",
       "    <tr>\n",
       "      <th>3</th>\n",
       "      <td>The Dark Knight</td>\n",
       "      <td>tt0468569</td>\n",
       "      <td>PG-13</td>\n",
       "      <td>9.0</td>\n",
       "      <td>152</td>\n",
       "      <td>When the menace known as the Joker wreaks havo...</td>\n",
       "    </tr>\n",
       "    <tr>\n",
       "      <th>4</th>\n",
       "      <td>12 Angry Men</td>\n",
       "      <td>tt0050083</td>\n",
       "      <td>Not Rated</td>\n",
       "      <td>8.9</td>\n",
       "      <td>96</td>\n",
       "      <td>A dissenting juror in a murder trial slowly ma...</td>\n",
       "    </tr>\n",
       "  </tbody>\n",
       "</table>\n",
       "</div>"
      ],
      "text/plain": [
       "                      title        idx     rating  star  duration  \\\n",
       "0  The Shawshank Redemption  tt0111161          R   9.3       142   \n",
       "1             The Godfather  tt0068646          R   9.2       175   \n",
       "2    The Godfather: Part II  tt0071562          R   9.0       202   \n",
       "3           The Dark Knight  tt0468569      PG-13   9.0       152   \n",
       "4              12 Angry Men  tt0050083  Not Rated   8.9        96   \n",
       "\n",
       "                                         description  \n",
       "0  Two imprisoned men bond over a number of years...  \n",
       "1  The aging patriarch of an organized crime dyna...  \n",
       "2  The early life and career of Vito Corleone in ...  \n",
       "3  When the menace known as the Joker wreaks havo...  \n",
       "4  A dissenting juror in a murder trial slowly ma...  "
      ]
     },
     "execution_count": 303,
     "metadata": {},
     "output_type": "execute_result"
    }
   ],
   "source": [
    "partial.head(5)"
   ]
  },
  {
   "cell_type": "markdown",
   "metadata": {},
   "source": [
    "### Note A:  Ways to get fields from HTML page"
   ]
  },
  {
   "cell_type": "code",
   "execution_count": 192,
   "metadata": {
    "collapsed": false
   },
   "outputs": [
    {
     "data": {
      "text/plain": [
       "u'tt0169102'"
      ]
     },
     "execution_count": 192,
     "metadata": {},
     "output_type": "execute_result"
    }
   ],
   "source": [
    "df_movies.idx[244]"
   ]
  },
  {
   "cell_type": "code",
   "execution_count": 265,
   "metadata": {
    "collapsed": false
   },
   "outputs": [
    {
     "data": {
      "text/plain": [
       "[<time datetime=\"PT146M\" itemprop=\"duration\">\\n                        2h 26min\\n                    </time>]"
      ]
     },
     "execution_count": 265,
     "metadata": {},
     "output_type": "execute_result"
    }
   ],
   "source": [
    "# this method of finding the duration does not always work\n",
    "time   = bs.find_all(name='time', attrs={'itemprop':'duration'})\n",
    "# Problematic Result:\n",
    "# [<time datetime=\"PT146M\" itemprop=\"duration\">\\n                        2h 26min\\n                    </time>]\n",
    "minute = 0 if time == None else time[1].text\n",
    "duration = int(minute.split(' ')[0])"
   ]
  },
  {
   "cell_type": "code",
   "execution_count": 268,
   "metadata": {
    "collapsed": false
   },
   "outputs": [
    {
     "data": {
      "text/plain": [
       "146"
      ]
     },
     "execution_count": 268,
     "metadata": {},
     "output_type": "execute_result"
    }
   ],
   "source": [
    "int(bs.find(name='time')['datetime'][2:-1])"
   ]
  },
  {
   "cell_type": "code",
   "execution_count": 257,
   "metadata": {
    "collapsed": false
   },
   "outputs": [
    {
     "data": {
      "text/plain": [
       "u'PT146M'"
      ]
     },
     "execution_count": 257,
     "metadata": {},
     "output_type": "execute_result"
    }
   ],
   "source": [
    "bs.find(\"time\")['datetime']"
   ]
  },
  {
   "cell_type": "code",
   "execution_count": 260,
   "metadata": {
    "collapsed": false,
    "scrolled": true
   },
   "outputs": [
    {
     "data": {
      "text/plain": [
       "u'PG-13'"
      ]
     },
     "execution_count": 260,
     "metadata": {},
     "output_type": "execute_result"
    }
   ],
   "source": [
    "cr = bs.find('meta', attrs={'itemprop':'contentRating'}) #.text.split('\\n')[0]\n",
    "#bs.find(name='meta', attrs={'itemprop':'contentRating'}).text.split('\\n')[0]\n",
    "#l = bs.find_all(name='div')\n",
    "#l[1]\n",
    "cr.text.split('\\n')[0]"
   ]
  },
  {
   "cell_type": "code",
   "execution_count": 256,
   "metadata": {
    "collapsed": false,
    "scrolled": true
   },
   "outputs": [],
   "source": [
    "# Using prettify() in order to figure out how to parse the html and know what attributes and tags I need.\n",
    "# tt1454029 (#244)\n",
    "url = 'http://www.imdb.com/title/' + 'tt1454029' #df_movies.idx[245]\n",
    "r = requests.get(url)\n",
    "bs = BeautifulSoup(r.text,'html.parser')\n"
   ]
  },
  {
   "cell_type": "markdown",
   "metadata": {},
   "source": [
    "###  Note B:  How to extract data from Pandas dataframe using df.iloc and df.loc"
   ]
  },
  {
   "cell_type": "code",
   "execution_count": 152,
   "metadata": {
    "collapsed": false
   },
   "outputs": [
    {
     "data": {
      "text/plain": [
       "u'tt0111161'"
      ]
     },
     "execution_count": 152,
     "metadata": {},
     "output_type": "execute_result"
    }
   ],
   "source": [
    "# Using integer indexing, df.iloc[row index range, col index range]\n",
    "df_movies.iloc[0,0]"
   ]
  },
  {
   "cell_type": "code",
   "execution_count": 133,
   "metadata": {
    "collapsed": false
   },
   "outputs": [
    {
     "data": {
      "text/plain": [
       "u'tt0111161'"
      ]
     },
     "execution_count": 133,
     "metadata": {},
     "output_type": "execute_result"
    }
   ],
   "source": [
    "# Using integer indexing, df.iloc[single row index][col index range]\n",
    "df_movies.iloc[0][0]"
   ]
  },
  {
   "cell_type": "code",
   "execution_count": 158,
   "metadata": {
    "collapsed": false
   },
   "outputs": [
    {
     "data": {
      "text/plain": [
       "0    tt0111161\n",
       "1    tt0068646\n",
       "2    tt0071562\n",
       "Name: id, dtype: object"
      ]
     },
     "execution_count": 158,
     "metadata": {},
     "output_type": "execute_result"
    }
   ],
   "source": [
    "# Using dataframe attribute name and row index range\n",
    "df_movies.id[0:3]"
   ]
  },
  {
   "cell_type": "code",
   "execution_count": 159,
   "metadata": {
    "collapsed": false
   },
   "outputs": [
    {
     "data": {
      "text/plain": [
       "0    tt0111161\n",
       "1    tt0068646\n",
       "2    tt0071562\n",
       "3    tt0468569\n",
       "4    tt0050083\n",
       "Name: id, dtype: object"
      ]
     },
     "execution_count": 159,
     "metadata": {},
     "output_type": "execute_result"
    }
   ],
   "source": [
    "# Using dataframe NAME or INTEGER index, df.loc[row index range, col index range]\n",
    "# Can also do the following with NAMEs,  df.loc[row index range, 'col name start':'col name end']\n",
    "df_movies.loc[0:4,'id']"
   ]
  },
  {
   "cell_type": "code",
   "execution_count": 174,
   "metadata": {
    "collapsed": false
   },
   "outputs": [
    {
     "data": {
      "text/plain": [
       "23              The Usual Suspects\n",
       "24                           Se7en\n",
       "25               Life Is Beautiful\n",
       "26    Once Upon a Time in the West\n",
       "Name: title, dtype: object"
      ]
     },
     "execution_count": 174,
     "metadata": {},
     "output_type": "execute_result"
    }
   ],
   "source": [
    "#### Note what DOES NOTE work is dataframe[0].  Have to use dataframe.iloc[0,0] or dataframe.loc[0,0] \n",
    "#### or dataframe.<attribute>[0]\n",
    "# this does not work ==>  movies[0]\n",
    "# this does not work ==>  df_movies[0]\n",
    "# this DOES WORK !!! ==>  movies.title[23:27]\n",
    "movies.title[23:27]"
   ]
  },
  {
   "cell_type": "code",
   "execution_count": null,
   "metadata": {
    "collapsed": true
   },
   "outputs": [],
   "source": []
  }
 ],
 "metadata": {
  "kernelspec": {
   "display_name": "Python 2",
   "language": "python",
   "name": "python2"
  },
  "language_info": {
   "codemirror_mode": {
    "name": "ipython",
    "version": 2
   },
   "file_extension": ".py",
   "mimetype": "text/x-python",
   "name": "python",
   "nbconvert_exporter": "python",
   "pygments_lexer": "ipython2",
   "version": "2.7.11"
  }
 },
 "nbformat": 4,
 "nbformat_minor": 0
}
