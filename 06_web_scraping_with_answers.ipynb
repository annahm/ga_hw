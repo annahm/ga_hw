{
 "cells": [
  {
   "cell_type": "markdown",
   "metadata": {},
   "source": [
    "# Web Scraping with BeautifulSoup\n",
    "http://www.crummy.com/software/BeautifulSoup/bs4/doc/#"
   ]
  },
  {
   "cell_type": "markdown",
   "metadata": {},
   "source": [
    "What is web scraping?\n",
    "- Extracting information from websites (simulates a human copying and pasting)\n",
    "- Based on finding patterns in website code (usually HTML)\n",
    "\n",
    "What are best practices for web scraping?\n",
    "- Scraping too many pages too fast can get your IP address blocked\n",
    "- Pay attention to the robots exclusion standard (robots.txt)\n",
    "- Let's look at http://www.imdb.com/robots.txt\n",
    "\n",
    "What is HTML?\n",
    "- Code interpreted by a web browser to produce (\"render\") a web page\n",
    "- Let's look at example.html\n",
    "- Tags are opened and closed\n",
    "- Tags have optional attributes\n",
    "\n",
    "How to view HTML code:\n",
    "- To view the entire page: \"View Source\" or \"View Page Source\" or \"Show Page Source\"\n",
    "- To view a specific part: \"Inspect Element\"\n",
    "- Safari users: Safari menu, Preferences, Advanced, Show Develop menu in menu bar\n",
    "- Let's inspect example.html"
   ]
  },
  {
   "cell_type": "markdown",
   "metadata": {},
   "source": [
    "### Aquire Your Data"
   ]
  },
  {
   "cell_type": "code",
   "execution_count": 114,
   "metadata": {
    "collapsed": false
   },
   "outputs": [],
   "source": [
    "# read the HTML code for a web page and save as a string\n",
    "with open('../data/example.html', 'rU') as f:\n",
    "    html = f.read()"
   ]
  },
  {
   "cell_type": "markdown",
   "metadata": {},
   "source": [
    "### Look at / Explorre Your Data (html)"
   ]
  },
  {
   "cell_type": "code",
   "execution_count": 117,
   "metadata": {
    "collapsed": false
   },
   "outputs": [
    {
     "data": {
      "text/plain": [
       "\"<!DOCTYPE html>\\n<html lang='en'>\\n\\n<head>\\n    <title>Example Web Page</title>\\n</head>\\n\\n<body>\\n\\n    <h1 id='main'>DAT10 Class 6</h1>\\n\\n    <p class='topic' id='api'>First, we are covering APIs, which are useful for getting data.</p>\\n    <p class='topic' id='scraping'>Then, we are covering web scraping, which is a more flexible way to get data.</p>\\n    <p class='topic' id='feedback'>Finally, I will ask you to fill out yet another feedback form!</p>\\n\\n    <h2>Resource List</h2>\\n\\n    <p>Here are some helpful API resources:</p>\\n\\n    <ul id='api'>\\n        <li>API resource 1</li>\\n        <li>API resource 2</li>\\n    </ul>\\n\\n    <p>Here are some helpful web scraping resources:</p>\\n\\n    <ul id='scraping'>\\n        <li>Web scraping resource 1</li>\\n        <li>Web scraping resource 2</li>\\n    </ul>\\n\\n</body>\\n\\n</html>\\n\""
      ]
     },
     "execution_count": 117,
     "metadata": {},
     "output_type": "execute_result"
    }
   ],
   "source": [
    "html"
   ]
  },
  {
   "cell_type": "code",
   "execution_count": 120,
   "metadata": {
    "collapsed": false
   },
   "outputs": [],
   "source": [
    "# convert HTML into a structured Soup object\n",
    "from bs4 import BeautifulSoup\n",
    "b = BeautifulSoup(html, 'html.parser')"
   ]
  },
  {
   "cell_type": "code",
   "execution_count": 125,
   "metadata": {
    "collapsed": false
   },
   "outputs": [
    {
     "data": {
      "text/plain": [
       "u'<!DOCTYPE html>\\n<html lang=\"en\">\\n <head>\\n  <title>\\n   Example Web Page\\n  </title>\\n </head>\\n <body>\\n  <h1 id=\"main\">\\n   DAT10 Class 6\\n  </h1>\\n  <p class=\"topic\" id=\"api\">\\n   First, we are covering APIs, which are useful for getting data.\\n  </p>\\n  <p class=\"topic\" id=\"scraping\">\\n   Then, we are covering web scraping, which is a more flexible way to get data.\\n  </p>\\n  <p class=\"topic\" id=\"feedback\">\\n   Finally, I will ask you to fill out yet another feedback form!\\n  </p>\\n  <h2>\\n   Resource List\\n  </h2>\\n  <p>\\n   Here are some helpful API resources:\\n  </p>\\n  <ul id=\"api\">\\n   <li>\\n    API resource 1\\n   </li>\\n   <li>\\n    API resource 2\\n   </li>\\n  </ul>\\n  <p>\\n   Here are some helpful web scraping resources:\\n  </p>\\n  <ul id=\"scraping\">\\n   <li>\\n    Web scraping resource 1\\n   </li>\\n   <li>\\n    Web scraping resource 2\\n   </li>\\n  </ul>\\n </body>\\n</html>\\n'"
      ]
     },
     "execution_count": 125,
     "metadata": {},
     "output_type": "execute_result"
    }
   ],
   "source": [
    "# print out the object\n",
    "# b\n",
    "b.prettify()"
   ]
  },
  {
   "cell_type": "markdown",
   "metadata": {},
   "source": [
    "#### 'find' method returns the first matching Tag (and everything inside of it)"
   ]
  },
  {
   "cell_type": "code",
   "execution_count": 131,
   "metadata": {
    "collapsed": false
   },
   "outputs": [
    {
     "data": {
      "text/plain": [
       "u'DAT10 Class 6'"
      ]
     },
     "execution_count": 131,
     "metadata": {},
     "output_type": "execute_result"
    }
   ],
   "source": [
    "b.find(name='body')\n",
    "title = b.find(name='h1')\n",
    "title.text"
   ]
  },
  {
   "cell_type": "code",
   "execution_count": 133,
   "metadata": {
    "collapsed": false
   },
   "outputs": [
    {
     "data": {
      "text/plain": [
       "<h1 id=\"main\">DAT10 Class 6</h1>"
      ]
     },
     "execution_count": 133,
     "metadata": {},
     "output_type": "execute_result"
    }
   ],
   "source": [
    "# Tags allow you to access the 'inside text'\n",
    "b.find(name='h1')"
   ]
  },
  {
   "cell_type": "code",
   "execution_count": 132,
   "metadata": {
    "collapsed": false
   },
   "outputs": [
    {
     "data": {
      "text/plain": [
       "u'main'"
      ]
     },
     "execution_count": 132,
     "metadata": {},
     "output_type": "execute_result"
    }
   ],
   "source": [
    "# Tags also allow you to access their attributes\n",
    "b.find(name='h1')['id']"
   ]
  },
  {
   "cell_type": "markdown",
   "metadata": {},
   "source": [
    "#### 'find_all' method is useful for finding all matching Tags"
   ]
  },
  {
   "cell_type": "code",
   "execution_count": 134,
   "metadata": {
    "collapsed": false
   },
   "outputs": [
    {
     "data": {
      "text/plain": [
       "[<p class=\"topic\" id=\"api\">First, we are covering APIs, which are useful for getting data.</p>,\n",
       " <p class=\"topic\" id=\"scraping\">Then, we are covering web scraping, which is a more flexible way to get data.</p>,\n",
       " <p class=\"topic\" id=\"feedback\">Finally, I will ask you to fill out yet another feedback form!</p>,\n",
       " <p>Here are some helpful API resources:</p>,\n",
       " <p>Here are some helpful web scraping resources:</p>]"
      ]
     },
     "execution_count": 134,
     "metadata": {},
     "output_type": "execute_result"
    }
   ],
   "source": [
    "b.find_all(name='p')    # returns a ResultSet (like a list of Tags)"
   ]
  },
  {
   "cell_type": "markdown",
   "metadata": {},
   "source": [
    "### Quiz: What is the datatype returned by 'find_all'? What kinds of operations can we do on that datatype?"
   ]
  },
  {
   "cell_type": "code",
   "execution_count": 138,
   "metadata": {
    "collapsed": false
   },
   "outputs": [
    {
     "data": {
      "text/plain": [
       "<p class=\"topic\" id=\"api\">First, we are covering APIs, which are useful for getting data.</p>"
      ]
     },
     "execution_count": 138,
     "metadata": {},
     "output_type": "execute_result"
    }
   ],
   "source": [
    "tag = b.find_all(name='p')[0]\n",
    "tag"
   ]
  },
  {
   "cell_type": "markdown",
   "metadata": {},
   "source": [
    "Hint: ResultSets can be sliced"
   ]
  },
  {
   "cell_type": "code",
   "execution_count": 142,
   "metadata": {
    "collapsed": false
   },
   "outputs": [
    {
     "data": {
      "text/plain": [
       "u'api'"
      ]
     },
     "execution_count": 142,
     "metadata": {},
     "output_type": "execute_result"
    }
   ],
   "source": [
    "# len(b.find_all(name='p'))\n",
    "# b.find_all(name='p')[0]\n",
    "# b.find_all(name='p')[0].text\n",
    "b.find_all(name='p')[0]['id']"
   ]
  },
  {
   "cell_type": "code",
   "execution_count": 143,
   "metadata": {
    "collapsed": false
   },
   "outputs": [],
   "source": [
    "# iterate over a ResultSet\n",
    "results = b.find_all(name='p')\n",
    "# for tag in results:\n",
    "#     print tag.text"
   ]
  },
  {
   "cell_type": "markdown",
   "metadata": {},
   "source": [
    "### Quiz: How would you write the above as a list comprenhension?\n",
    "\n",
    "#### Part II - Make a string with each tag.text separated by a new line character '\\n'"
   ]
  },
  {
   "cell_type": "code",
   "execution_count": 153,
   "metadata": {
    "collapsed": false
   },
   "outputs": [
    {
     "data": {
      "text/plain": [
       "u'First, we are covering APIs, which are useful for getting data.!!!!!Then, we are covering web scraping, which is a more flexible way to get data.!!!!!Finally, I will ask you to fill out yet another feedback form!!!!!!Here are some helpful API resources:!!!!!Here are some helpful web scraping resources:'"
      ]
     },
     "execution_count": 153,
     "metadata": {},
     "output_type": "execute_result"
    }
   ],
   "source": [
    "[tag.text for tag in results if len(tag.text) > 0]\n",
    "\n",
    "[tag.text for tag in b.find_all(name='p')]\n",
    "\n",
    "bstring = ''\n",
    "for tag in results:\n",
    "    bstring += tag.text + '\\n '\n",
    "bstring\n",
    "\n",
    "'!!!!!'.join([tag.text for tag in b.find_all(name='p')])\n",
    "\n"
   ]
  },
  {
   "cell_type": "markdown",
   "metadata": {},
   "source": [
    "### Limit search by Tag attribute"
   ]
  },
  {
   "cell_type": "code",
   "execution_count": 154,
   "metadata": {
    "collapsed": false
   },
   "outputs": [
    {
     "data": {
      "text/plain": [
       "<p class=\"topic\" id=\"scraping\">Then, we are covering web scraping, which is a more flexible way to get data.</p>"
      ]
     },
     "execution_count": 154,
     "metadata": {},
     "output_type": "execute_result"
    }
   ],
   "source": [
    "b.find(name='p', attrs={'id':'scraping'})"
   ]
  },
  {
   "cell_type": "code",
   "execution_count": 156,
   "metadata": {
    "collapsed": false
   },
   "outputs": [
    {
     "data": {
      "text/plain": [
       "[<p class=\"topic\" id=\"api\">First, we are covering APIs, which are useful for getting data.</p>,\n",
       " <p class=\"topic\" id=\"scraping\">Then, we are covering web scraping, which is a more flexible way to get data.</p>,\n",
       " <p class=\"topic\" id=\"feedback\">Finally, I will ask you to fill out yet another feedback form!</p>]"
      ]
     },
     "execution_count": 156,
     "metadata": {},
     "output_type": "execute_result"
    }
   ],
   "source": [
    "# b.find_all(name='p', attrs={'class':'topic'})\n",
    "b.find_all(attrs={'class':'topic'})"
   ]
  },
  {
   "cell_type": "markdown",
   "metadata": {},
   "source": [
    "### Limit search to specific sections"
   ]
  },
  {
   "cell_type": "code",
   "execution_count": 160,
   "metadata": {
    "collapsed": false
   },
   "outputs": [
    {
     "data": {
      "text/plain": [
       "[<li>Web scraping resource 1</li>, <li>Web scraping resource 2</li>]"
      ]
     },
     "execution_count": 160,
     "metadata": {},
     "output_type": "execute_result"
    }
   ],
   "source": [
    "# b.find_all(name='li')\n",
    "b.find(name='ul', attrs={'id':'scraping'}).find_all(name='li')"
   ]
  },
  {
   "cell_type": "markdown",
   "metadata": {},
   "source": [
    "## In Class Exercise"
   ]
  },
  {
   "cell_type": "markdown",
   "metadata": {},
   "source": [
    "1) Find the 'h2' tag and then print its text"
   ]
  },
  {
   "cell_type": "code",
   "execution_count": 161,
   "metadata": {
    "collapsed": false
   },
   "outputs": [
    {
     "data": {
      "text/plain": [
       "u'Resource List'"
      ]
     },
     "execution_count": 161,
     "metadata": {},
     "output_type": "execute_result"
    }
   ],
   "source": [
    "b.find('h2').text"
   ]
  },
  {
   "cell_type": "markdown",
   "metadata": {},
   "source": [
    "2) Find the 'p' tag with an 'id' value of 'feedback' and then print its text\n"
   ]
  },
  {
   "cell_type": "code",
   "execution_count": 163,
   "metadata": {
    "collapsed": false
   },
   "outputs": [
    {
     "data": {
      "text/plain": [
       "u'Finally, I will ask you to fill out yet another feedback form!'"
      ]
     },
     "execution_count": 163,
     "metadata": {},
     "output_type": "execute_result"
    }
   ],
   "source": [
    "b.find('p', attrs={'id':'feedback'}).text"
   ]
  },
  {
   "cell_type": "markdown",
   "metadata": {},
   "source": [
    "3) Find the first 'p' tag and then print the value of the 'id' attribute\n"
   ]
  },
  {
   "cell_type": "code",
   "execution_count": 164,
   "metadata": {
    "collapsed": false
   },
   "outputs": [
    {
     "data": {
      "text/plain": [
       "u'api'"
      ]
     },
     "execution_count": 164,
     "metadata": {},
     "output_type": "execute_result"
    }
   ],
   "source": [
    "b.find('p')['id']"
   ]
  },
  {
   "cell_type": "markdown",
   "metadata": {},
   "source": [
    "4) Print the text of all four resources"
   ]
  },
  {
   "cell_type": "code",
   "execution_count": 165,
   "metadata": {
    "collapsed": false
   },
   "outputs": [
    {
     "data": {
      "text/plain": [
       "[u'API resource 1',\n",
       " u'API resource 2',\n",
       " u'Web scraping resource 1',\n",
       " u'Web scraping resource 2']"
      ]
     },
     "execution_count": 165,
     "metadata": {},
     "output_type": "execute_result"
    }
   ],
   "source": [
    "[tag.text for tag in b.findAll(name='li')]"
   ]
  },
  {
   "cell_type": "markdown",
   "metadata": {},
   "source": [
    "5) Using a list comprehension can you extract the text of only the API resources?"
   ]
  },
  {
   "cell_type": "code",
   "execution_count": 166,
   "metadata": {
    "collapsed": false
   },
   "outputs": [
    {
     "data": {
      "text/plain": [
       "[u'API resource 1', u'API resource 2']"
      ]
     },
     "execution_count": 166,
     "metadata": {},
     "output_type": "execute_result"
    }
   ],
   "source": [
    "[tag.text for tag in b.findAll(name='li') if 'API' in tag.text]"
   ]
  },
  {
   "cell_type": "markdown",
   "metadata": {},
   "source": [
    "### Tool: Selector Gadget\n",
    "http://selectorgadget.com/"
   ]
  },
  {
   "cell_type": "code",
   "execution_count": null,
   "metadata": {
    "collapsed": true
   },
   "outputs": [],
   "source": []
  },
  {
   "cell_type": "code",
   "execution_count": null,
   "metadata": {
    "collapsed": true
   },
   "outputs": [],
   "source": []
  },
  {
   "cell_type": "markdown",
   "metadata": {},
   "source": [
    "## Scraping IMDB"
   ]
  },
  {
   "cell_type": "markdown",
   "metadata": {},
   "source": [
    "#### First open your browser and look at the website and the html structure\n",
    "\n",
    "http://www.imdb.com/title/tt0111161/"
   ]
  },
  {
   "cell_type": "markdown",
   "metadata": {},
   "source": [
    "#### Get the HTML from the Shawshank Redemption page"
   ]
  },
  {
   "cell_type": "code",
   "execution_count": 167,
   "metadata": {
    "collapsed": true
   },
   "outputs": [],
   "source": [
    "import requests\n",
    "r = requests.get('http://www.imdb.com/title/tt0111161/')"
   ]
  },
  {
   "cell_type": "markdown",
   "metadata": {},
   "source": [
    "#### What is r? What can we do with it?"
   ]
  },
  {
   "cell_type": "code",
   "execution_count": null,
   "metadata": {
    "collapsed": false
   },
   "outputs": [],
   "source": []
  },
  {
   "cell_type": "markdown",
   "metadata": {},
   "source": [
    "#### convert HTML into Soup"
   ]
  },
  {
   "cell_type": "code",
   "execution_count": 170,
   "metadata": {
    "collapsed": false
   },
   "outputs": [],
   "source": [
    "b = BeautifulSoup(r.text, 'html.parser')\n",
    "print b"
   ]
  },
  {
   "cell_type": "code",
   "execution_count": 171,
   "metadata": {
    "collapsed": true
   },
   "outputs": [],
   "source": [
    "# run this code if you have encoding errors\n",
    "import sys\n",
    "reload(sys)\n",
    "sys.setdefaultencoding('utf8')"
   ]
  },
  {
   "cell_type": "markdown",
   "metadata": {},
   "source": [
    "#### Get the title"
   ]
  },
  {
   "cell_type": "code",
   "execution_count": 183,
   "metadata": {
    "collapsed": false
   },
   "outputs": [
    {
     "data": {
      "text/plain": [
       "u'The Shawshank Redemption'"
      ]
     },
     "execution_count": 183,
     "metadata": {},
     "output_type": "execute_result"
    }
   ],
   "source": [
    "b.find('h1').text"
   ]
  },
  {
   "cell_type": "markdown",
   "metadata": {},
   "source": [
    "#### Get the Star Rating (as a float)"
   ]
  },
  {
   "cell_type": "code",
   "execution_count": 182,
   "metadata": {
    "collapsed": false
   },
   "outputs": [],
   "source": [
    "# get the star rating (as a float)\n",
    "b.find(name='span', attrs={'itemprop':'ratingValue'})\n",
    "\n",
    "# <div class=\"titlePageSprite star-box-giga-star\"> 9.3 </div>\n",
    "b.find( class_='star-box-giga-star')"
   ]
  },
  {
   "cell_type": "markdown",
   "metadata": {},
   "source": [
    "#### Get the Movie Rating"
   ]
  },
  {
   "cell_type": "code",
   "execution_count": 95,
   "metadata": {
    "collapsed": false
   },
   "outputs": [
    {
     "data": {
      "text/plain": [
       "u'R\\n| \\n                        2h 22min\\n                    \\n|\\nCrime, \\nDrama\\n|\\n14 October 1994 (USA)\\n\\n '"
      ]
     },
     "execution_count": 95,
     "metadata": {},
     "output_type": "execute_result"
    }
   ],
   "source": [
    "panel = b.find('meta', attrs={'itemprop':'contentRating'}) # too many\n",
    "<meta itemprop=\"contentRating\" content=\"R\">\n",
    "\n",
    "panel.text"
   ]
  },
  {
   "cell_type": "code",
   "execution_count": null,
   "metadata": {
    "collapsed": true
   },
   "outputs": [],
   "source": []
  },
  {
   "cell_type": "markdown",
   "metadata": {
    "collapsed": true
   },
   "source": [
    "### In-Class Exercise\n",
    "\n",
    "#### Intro Level: \n",
    "Using the Omdbapi, request all years of the 1000 movies in the CSV. Answer the questions below.\n",
    "    \n",
    "#### Challege Challenge Level:\n",
    "Can you scrape the IMDB Top 250 list (http://www.imdb.com/chart/top?ref_=nv_mv_250_6) and return a Data frame with the movide name, rating, year and the unique movie identifier ie('tt0111161')?\n",
    "Use the function above to scrape each of the movie pages.\n",
    "\n",
    "\n",
    "**Questions:**\n",
    "\n",
    "How many of the Top movies are rated 'R'?\n",
    "\n",
    "What is the average duration of movies with a star_rating above 9?\n",
    "\n",
    "What is the average duration of movies before 1985 and after?\n"
   ]
  },
  {
   "cell_type": "markdown",
   "metadata": {},
   "source": [
    "### Optional Wed Scraping Homework\n",
    "\n",
    "First, define a function that accepts an IMDb ID and returns a dictionary of\n",
    "movie information: title, star_rating, description, content_rating, duration.\n",
    "The function should gather this information by scraping the IMDb website, not\n",
    "by calling the OMDb API. (This is really just a wrapper of the web scraping\n",
    "code we wrote above.)\n",
    "\n",
    "For example, `get_movie_info('tt0111161')` should return:\n",
    "```\n",
    "{'content_rating': 'R',\n",
    " 'description': u'Two imprisoned men bond over a number of years...',\n",
    " 'duration': 142,\n",
    " 'star_rating': 9.3,\n",
    " 'title': u'The Shawshank Redemption'}\n",
    " ```\n",
    "\n",
    "Then, open the file imdb_ids.txt using Python, and write a for loop that builds\n",
    "a list in which each element is a dictionary of movie information.\n",
    "Finally, convert that list into a DataFrame.\n",
    "\n",
    "\n"
   ]
  },
  {
   "cell_type": "code",
   "execution_count": null,
   "metadata": {
    "collapsed": true
   },
   "outputs": [],
   "source": []
  },
  {
   "cell_type": "code",
   "execution_count": null,
   "metadata": {
    "collapsed": true
   },
   "outputs": [],
   "source": []
  },
  {
   "cell_type": "code",
   "execution_count": null,
   "metadata": {
    "collapsed": false
   },
   "outputs": [],
   "source": []
  },
  {
   "cell_type": "code",
   "execution_count": 110,
   "metadata": {
    "collapsed": false
   },
   "outputs": [],
   "source": []
  },
  {
   "cell_type": "code",
   "execution_count": null,
   "metadata": {
    "collapsed": true
   },
   "outputs": [],
   "source": []
  }
 ],
 "metadata": {
  "kernelspec": {
   "display_name": "Python 2",
   "language": "python",
   "name": "python2"
  },
  "language_info": {
   "codemirror_mode": {
    "name": "ipython",
    "version": 2
   },
   "file_extension": ".py",
   "mimetype": "text/x-python",
   "name": "python",
   "nbconvert_exporter": "python",
   "pygments_lexer": "ipython2",
   "version": "2.7.10"
  }
 },
 "nbformat": 4,
 "nbformat_minor": 0
}
