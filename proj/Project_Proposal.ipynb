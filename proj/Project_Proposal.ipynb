{
 "cells": [
  {
   "cell_type": "markdown",
   "metadata": {},
   "source": [
    "### Project Proposal: Profile behaviors using cybersecurity data\n"
   ]
  },
  {
   "cell_type": "markdown",
   "metadata": {},
   "source": [
    "I am interested in using machine learning to gain insights from cybersecurity data.  This will help identify normal and abnormal behaviors that will require additional research and follow-up.  \n",
    "\n",
    "There are several data sets I plan on using obtained from a variety of different open-source and research sites:\n",
    "* Bluecoat Proxy logs:  These are security logs that track internet activity, including disposition and action.  They were obtained from the devices and redacted for privacy reasons.\n",
    "* Netflow data:  This is a curated set of files from a university organization, that labels the data set based on types of attacks staged within their cyber range lab.\n",
    "* Malware: This is also a set of data from a mix of known malware.  The dataset includes both training and test set. The goal is to group files and identify respective families, detect those that are malicious. \n",
    "\n",
    "The goals of this project are as follows:\n",
    "* Become familiar with a wide variety of different types of cyberdata, including the data-cleaning, manipulating, reformatting, and overall preparation of data in order to apply various ML techniques.\n",
    "* Use exploratory data analysis techniques to understand the data and help determine which ML techniques make the most sense to use.\n",
    "* Apply variety of supervised and unsupervised algorithms to the data set to help provide insights into what is happening on the network.  For example, some questions from the bluecoat data \"might\" be:  \n",
    "    - Is it possible to identify what the access policies are\n",
    "    - Is it possible to determine browsing habits of specific client IP's\n",
    "    - Can you cluster groups of clients\n",
    "    - Is it possible perform a time series analysis using the data set to serve as a model for prediction or anomaly detection\n",
    "* Lastly, learn to display results in manner that helps explain and communicate findings.\n",
    "\n",
    "The challenges within cyber is that often one is given datasets (audit logs, image extracted from a computer) that must be analyzed but minimal context is given (or known); this is often the case for commercial companies that provide operational cyber-security support to their customers.  While one may have a series of questions in mind ahead of time, the questions can change during the exploration process.\n"
   ]
  },
  {
   "cell_type": "code",
   "execution_count": null,
   "metadata": {
    "collapsed": true
   },
   "outputs": [],
   "source": []
  }
 ],
 "metadata": {
  "kernelspec": {
   "display_name": "Python 2",
   "language": "python",
   "name": "python2"
  },
  "language_info": {
   "codemirror_mode": {
    "name": "ipython",
    "version": 2
   },
   "file_extension": ".py",
   "mimetype": "text/x-python",
   "name": "python",
   "nbconvert_exporter": "python",
   "pygments_lexer": "ipython2",
   "version": "2.7.11"
  }
 },
 "nbformat": 4,
 "nbformat_minor": 0
}
