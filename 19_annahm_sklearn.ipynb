{
 "cells": [
  {
   "cell_type": "markdown",
   "metadata": {},
   "source": [
    "# Advanced scikit-learn"
   ]
  },
  {
   "cell_type": "markdown",
   "metadata": {},
   "source": [
    "## Agenda\n",
    "\n",
    "- StandardScaler\n",
    "- Pipeline"
   ]
  },
  {
   "cell_type": "markdown",
   "metadata": {},
   "source": [
    "## StandardScaler\n",
    "\n",
    "### What is the problem we're trying to solve?"
   ]
  },
  {
   "cell_type": "code",
   "execution_count": 1,
   "metadata": {
    "collapsed": true
   },
   "outputs": [],
   "source": [
    "# fake data\n",
    "import pandas as pd\n",
    "train = pd.DataFrame({'id':[0,1,2], 'length':[0.9,0.3,0.6], 'mass':[0.1,0.2,0.8], 'rings':[40,50,60]})\n",
    "test = pd.DataFrame({'length':[0.59], 'mass':[0.79], 'rings':[54]})"
   ]
  },
  {
   "cell_type": "code",
   "execution_count": 2,
   "metadata": {
    "collapsed": false
   },
   "outputs": [
    {
     "data": {
      "text/html": [
       "<div>\n",
       "<table border=\"1\" class=\"dataframe\">\n",
       "  <thead>\n",
       "    <tr style=\"text-align: right;\">\n",
       "      <th></th>\n",
       "      <th>id</th>\n",
       "      <th>length</th>\n",
       "      <th>mass</th>\n",
       "      <th>rings</th>\n",
       "    </tr>\n",
       "  </thead>\n",
       "  <tbody>\n",
       "    <tr>\n",
       "      <th>0</th>\n",
       "      <td>0</td>\n",
       "      <td>0.9</td>\n",
       "      <td>0.1</td>\n",
       "      <td>40</td>\n",
       "    </tr>\n",
       "    <tr>\n",
       "      <th>1</th>\n",
       "      <td>1</td>\n",
       "      <td>0.3</td>\n",
       "      <td>0.2</td>\n",
       "      <td>50</td>\n",
       "    </tr>\n",
       "    <tr>\n",
       "      <th>2</th>\n",
       "      <td>2</td>\n",
       "      <td>0.6</td>\n",
       "      <td>0.8</td>\n",
       "      <td>60</td>\n",
       "    </tr>\n",
       "  </tbody>\n",
       "</table>\n",
       "</div>"
      ],
      "text/plain": [
       "   id  length  mass  rings\n",
       "0   0     0.9   0.1     40\n",
       "1   1     0.3   0.2     50\n",
       "2   2     0.6   0.8     60"
      ]
     },
     "execution_count": 2,
     "metadata": {},
     "output_type": "execute_result"
    }
   ],
   "source": [
    "# training data\n",
    "train"
   ]
  },
  {
   "cell_type": "code",
   "execution_count": 3,
   "metadata": {
    "collapsed": false
   },
   "outputs": [
    {
     "data": {
      "text/html": [
       "<div>\n",
       "<table border=\"1\" class=\"dataframe\">\n",
       "  <thead>\n",
       "    <tr style=\"text-align: right;\">\n",
       "      <th></th>\n",
       "      <th>length</th>\n",
       "      <th>mass</th>\n",
       "      <th>rings</th>\n",
       "    </tr>\n",
       "  </thead>\n",
       "  <tbody>\n",
       "    <tr>\n",
       "      <th>0</th>\n",
       "      <td>0.59</td>\n",
       "      <td>0.79</td>\n",
       "      <td>54</td>\n",
       "    </tr>\n",
       "  </tbody>\n",
       "</table>\n",
       "</div>"
      ],
      "text/plain": [
       "   length  mass  rings\n",
       "0    0.59  0.79     54"
      ]
     },
     "execution_count": 3,
     "metadata": {},
     "output_type": "execute_result"
    }
   ],
   "source": [
    "# testing data\n",
    "test"
   ]
  },
  {
   "cell_type": "code",
   "execution_count": 4,
   "metadata": {
    "collapsed": true
   },
   "outputs": [],
   "source": [
    "# define X and y\n",
    "feature_cols = ['length', 'mass', 'rings']\n",
    "X = train[feature_cols]\n",
    "y = train.id"
   ]
  },
  {
   "cell_type": "code",
   "execution_count": 5,
   "metadata": {
    "collapsed": false
   },
   "outputs": [
    {
     "data": {
      "text/plain": [
       "KNeighborsClassifier(algorithm='auto', leaf_size=30, metric='minkowski',\n",
       "           metric_params=None, n_neighbors=1, p=2, weights='uniform')"
      ]
     },
     "execution_count": 5,
     "metadata": {},
     "output_type": "execute_result"
    }
   ],
   "source": [
    "# KNN with K=1\n",
    "from sklearn.neighbors import KNeighborsClassifier\n",
    "knn = KNeighborsClassifier(n_neighbors=1)\n",
    "knn.fit(X, y)"
   ]
  },
  {
   "cell_type": "code",
   "execution_count": 6,
   "metadata": {
    "collapsed": false
   },
   "outputs": [
    {
     "data": {
      "text/plain": [
       "array([1])"
      ]
     },
     "execution_count": 6,
     "metadata": {},
     "output_type": "execute_result"
    }
   ],
   "source": [
    "# what \"should\" it predict?\n",
    "knn.predict(test)"
   ]
  },
  {
   "cell_type": "code",
   "execution_count": 7,
   "metadata": {
    "collapsed": true
   },
   "outputs": [],
   "source": [
    "# allow plots to appear in the notebook\n",
    "%matplotlib inline\n",
    "import matplotlib.pyplot as plt\n",
    "plt.rcParams['font.size'] = 14\n",
    "plt.rcParams['figure.figsize'] = (5, 5)"
   ]
  },
  {
   "cell_type": "code",
   "execution_count": 8,
   "metadata": {
    "collapsed": true
   },
   "outputs": [],
   "source": [
    "# create a \"colors\" array for plotting\n",
    "import numpy as np\n",
    "colors = np.array(['red', 'green', 'blue'])"
   ]
  },
  {
   "cell_type": "code",
   "execution_count": 9,
   "metadata": {
    "collapsed": false
   },
   "outputs": [
    {
     "data": {
      "text/plain": [
       "<matplotlib.text.Text at 0x7fa74fbf4090>"
      ]
     },
     "execution_count": 9,
     "metadata": {},
     "output_type": "execute_result"
    },
    {
     "data": {
      "image/png": "[encoded data removed]",
      "text/plain": [
       "<matplotlib.figure.Figure at 0x7fa75a67ff50>"
      ]
     },
     "metadata": {},
     "output_type": "display_data"
    }
   ],
   "source": [
    "# scatter plot of training data, colored by id (0=red, 1=green, 2=blue)\n",
    "plt.scatter(train.mass, train.rings, c=colors[train.id], s=50)\n",
    "\n",
    "# testing data\n",
    "plt.scatter(test.mass, test.rings, c='white', s=50)\n",
    "\n",
    "# add labels\n",
    "plt.xlabel('mass')\n",
    "plt.ylabel('rings')\n",
    "plt.title('How we interpret the data')"
   ]
  },
  {
   "cell_type": "code",
   "execution_count": 10,
   "metadata": {
    "collapsed": false
   },
   "outputs": [
    {
     "data": {
      "text/plain": [
       "(0, 30)"
      ]
     },
     "execution_count": 10,
     "metadata": {},
     "output_type": "execute_result"
    },
    {
     "data": {
      "image/png": "[encoded data removed]",
      "text/plain": [
       "<matplotlib.figure.Figure at 0x7fa7519f4690>"
      ]
     },
     "metadata": {},
     "output_type": "display_data"
    }
   ],
   "source": [
    "# adjust the x-limits\n",
    "plt.scatter(train.mass, train.rings, c=colors[train.id], s=50)\n",
    "plt.scatter(test.mass, test.rings, c='white', s=50)\n",
    "plt.xlabel('mass')\n",
    "plt.ylabel('rings')\n",
    "plt.title('How KNN interprets the data')\n",
    "plt.xlim(0, 30)"
   ]
  },
  {
   "cell_type": "markdown",
   "metadata": {},
   "source": [
    "### How does StandardScaler solve the problem?\n",
    "\n",
    "[StandardScaler](http://scikit-learn.org/stable/modules/generated/sklearn.preprocessing.StandardScaler.html) is used for the \"standardization\" of features, also known as \"center and scale\" or \"z-score normalization\"."
   ]
  },
  {
   "cell_type": "code",
   "execution_count": 17,
   "metadata": {
    "collapsed": true
   },
   "outputs": [],
   "source": [
    "# standardize the features\n",
    "from sklearn.preprocessing import StandardScaler\n",
    "scaler = StandardScaler()\n",
    "scaler.fit(X)\n",
    "X_scaled = scaler.transform(X)"
   ]
  },
  {
   "cell_type": "code",
   "execution_count": 18,
   "metadata": {
    "collapsed": true
   },
   "outputs": [
    {
     "data": {
      "text/plain": [
       "array([[  5.64000000e+00,   1.06500000e+03],\n",
       "       [  4.38000000e+00,   1.05000000e+03],\n",
       "       [  5.68000000e+00,   1.18500000e+03],\n",
       "       [  7.80000000e+00,   1.48000000e+03],\n",
       "       [  4.32000000e+00,   7.35000000e+02],\n",
       "       [  6.75000000e+00,   1.45000000e+03],\n",
       "       [  5.25000000e+00,   1.29000000e+03],\n",
       "       [  5.05000000e+00,   1.29500000e+03],\n",
       "       [  5.20000000e+00,   1.04500000e+03],\n",
       "       [  7.22000000e+00,   1.04500000e+03],\n",
       "       [  5.75000000e+00,   1.51000000e+03],\n",
       "       [  5.00000000e+00,   1.28000000e+03],\n",
       "       [  5.60000000e+00,   1.32000000e+03],\n",
       "       [  5.40000000e+00,   1.15000000e+03],\n",
       "       [  7.50000000e+00,   1.54700000e+03],\n",
       "       [  7.30000000e+00,   1.31000000e+03],\n",
       "       [  6.20000000e+00,   1.28000000e+03],\n",
       "       [  6.60000000e+00,   1.13000000e+03],\n",
       "       [  8.70000000e+00,   1.68000000e+03],\n",
       "       [  5.10000000e+00,   8.45000000e+02],\n",
       "       [  5.65000000e+00,   7.80000000e+02],\n",
       "       [  4.50000000e+00,   7.70000000e+02],\n",
       "       [  3.80000000e+00,   1.03500000e+03],\n",
       "       [  3.93000000e+00,   1.01500000e+03],\n",
       "       [  3.52000000e+00,   8.45000000e+02],\n",
       "       [  3.58000000e+00,   8.30000000e+02],\n",
       "       [  4.80000000e+00,   1.19500000e+03],\n",
       "       [  3.95000000e+00,   1.28500000e+03],\n",
       "       [  4.50000000e+00,   9.15000000e+02],\n",
       "       [  4.70000000e+00,   1.03500000e+03],\n",
       "       [  5.70000000e+00,   1.28500000e+03],\n",
       "       [  6.90000000e+00,   1.51500000e+03],\n",
       "       [  3.84000000e+00,   9.90000000e+02],\n",
       "       [  5.40000000e+00,   1.23500000e+03],\n",
       "       [  4.20000000e+00,   1.09500000e+03],\n",
       "       [  5.10000000e+00,   9.20000000e+02],\n",
       "       [  4.60000000e+00,   8.80000000e+02],\n",
       "       [  4.25000000e+00,   1.10500000e+03],\n",
       "       [  3.70000000e+00,   1.02000000e+03],\n",
       "       [  5.10000000e+00,   7.60000000e+02],\n",
       "       [  6.13000000e+00,   7.95000000e+02],\n",
       "       [  4.28000000e+00,   1.03500000e+03],\n",
       "       [  5.43000000e+00,   1.09500000e+03],\n",
       "       [  4.36000000e+00,   6.80000000e+02],\n",
       "       [  5.04000000e+00,   8.85000000e+02],\n",
       "       [  5.24000000e+00,   1.08000000e+03],\n",
       "       [  4.90000000e+00,   1.06500000e+03],\n",
       "       [  6.10000000e+00,   9.85000000e+02],\n",
       "       [  6.20000000e+00,   1.06000000e+03],\n",
       "       [  8.90000000e+00,   1.26000000e+03],\n",
       "       [  7.20000000e+00,   1.15000000e+03],\n",
       "       [  5.60000000e+00,   1.26500000e+03],\n",
       "       [  7.05000000e+00,   1.19000000e+03],\n",
       "       [  6.30000000e+00,   1.37500000e+03],\n",
       "       [  5.85000000e+00,   1.06000000e+03],\n",
       "       [  6.25000000e+00,   1.12000000e+03],\n",
       "       [  6.38000000e+00,   9.70000000e+02],\n",
       "       [  6.00000000e+00,   1.27000000e+03],\n",
       "       [  6.80000000e+00,   1.28500000e+03],\n",
       "       [  1.95000000e+00,   5.20000000e+02],\n",
       "       [  3.27000000e+00,   6.80000000e+02],\n",
       "       [  5.75000000e+00,   4.50000000e+02],\n",
       "       [  3.80000000e+00,   6.30000000e+02],\n",
       "       [  4.45000000e+00,   4.20000000e+02],\n",
       "       [  2.95000000e+00,   3.55000000e+02],\n",
       "       [  4.60000000e+00,   6.78000000e+02],\n",
       "       [  5.30000000e+00,   5.02000000e+02],\n",
       "       [  4.68000000e+00,   5.10000000e+02],\n",
       "       [  3.17000000e+00,   7.50000000e+02],\n",
       "       [  2.85000000e+00,   7.18000000e+02],\n",
       "       [  3.05000000e+00,   8.70000000e+02],\n",
       "       [  3.38000000e+00,   4.10000000e+02],\n",
       "       [  3.74000000e+00,   4.72000000e+02],\n",
       "       [  3.35000000e+00,   9.85000000e+02],\n",
       "       [  3.21000000e+00,   8.86000000e+02],\n",
       "       [  3.80000000e+00,   4.28000000e+02],\n",
       "       [  4.60000000e+00,   3.92000000e+02],\n",
       "       [  2.65000000e+00,   5.00000000e+02],\n",
       "       [  3.40000000e+00,   7.50000000e+02],\n",
       "       [  2.57000000e+00,   4.63000000e+02],\n",
       "       [  2.50000000e+00,   2.78000000e+02],\n",
       "       [  3.90000000e+00,   7.14000000e+02],\n",
       "       [  2.20000000e+00,   6.30000000e+02],\n",
       "       [  4.80000000e+00,   5.15000000e+02],\n",
       "       [  3.05000000e+00,   5.20000000e+02],\n",
       "       [  2.62000000e+00,   4.50000000e+02],\n",
       "       [  2.45000000e+00,   4.95000000e+02],\n",
       "       [  2.60000000e+00,   5.62000000e+02],\n",
       "       [  2.80000000e+00,   6.80000000e+02],\n",
       "       [  1.74000000e+00,   6.25000000e+02],\n",
       "       [  2.40000000e+00,   4.80000000e+02],\n",
       "       [  3.60000000e+00,   4.50000000e+02],\n",
       "       [  3.05000000e+00,   4.95000000e+02],\n",
       "       [  2.15000000e+00,   2.90000000e+02],\n",
       "       [  3.25000000e+00,   3.45000000e+02],\n",
       "       [  2.60000000e+00,   9.37000000e+02],\n",
       "       [  2.50000000e+00,   6.25000000e+02],\n",
       "       [  2.90000000e+00,   4.28000000e+02],\n",
       "       [  4.50000000e+00,   6.60000000e+02],\n",
       "       [  2.30000000e+00,   4.06000000e+02],\n",
       "       [  3.30000000e+00,   7.10000000e+02],\n",
       "       [  2.45000000e+00,   5.62000000e+02],\n",
       "       [  2.80000000e+00,   4.38000000e+02],\n",
       "       [  2.06000000e+00,   4.15000000e+02],\n",
       "       [  2.94000000e+00,   6.72000000e+02],\n",
       "       [  2.70000000e+00,   3.15000000e+02],\n",
       "       [  3.40000000e+00,   5.10000000e+02],\n",
       "       [  3.30000000e+00,   4.88000000e+02],\n",
       "       [  2.70000000e+00,   3.12000000e+02],\n",
       "       [  2.65000000e+00,   6.80000000e+02],\n",
       "       [  2.90000000e+00,   5.62000000e+02],\n",
       "       [  2.00000000e+00,   3.25000000e+02],\n",
       "       [  3.80000000e+00,   6.07000000e+02],\n",
       "       [  3.08000000e+00,   4.34000000e+02],\n",
       "       [  2.90000000e+00,   3.85000000e+02],\n",
       "       [  1.90000000e+00,   4.07000000e+02],\n",
       "       [  1.95000000e+00,   4.95000000e+02],\n",
       "       [  2.06000000e+00,   3.45000000e+02],\n",
       "       [  3.40000000e+00,   3.72000000e+02],\n",
       "       [  1.28000000e+00,   5.64000000e+02],\n",
       "       [  3.25000000e+00,   6.25000000e+02],\n",
       "       [  6.00000000e+00,   4.65000000e+02],\n",
       "       [  2.08000000e+00,   3.65000000e+02],\n",
       "       [  2.60000000e+00,   3.80000000e+02],\n",
       "       [  2.80000000e+00,   3.80000000e+02],\n",
       "       [  2.76000000e+00,   3.78000000e+02],\n",
       "       [  3.94000000e+00,   3.52000000e+02],\n",
       "       [  3.00000000e+00,   4.66000000e+02],\n",
       "       [  2.12000000e+00,   3.42000000e+02],\n",
       "       [  2.60000000e+00,   5.80000000e+02],\n",
       "       [  4.10000000e+00,   6.30000000e+02],\n",
       "       [  5.40000000e+00,   5.30000000e+02],\n",
       "       [  5.70000000e+00,   5.60000000e+02],\n",
       "       [  5.00000000e+00,   6.00000000e+02],\n",
       "       [  5.45000000e+00,   6.50000000e+02],\n",
       "       [  7.10000000e+00,   6.95000000e+02],\n",
       "       [  3.85000000e+00,   7.20000000e+02],\n",
       "       [  5.00000000e+00,   5.15000000e+02],\n",
       "       [  5.70000000e+00,   5.80000000e+02],\n",
       "       [  4.92000000e+00,   5.90000000e+02],\n",
       "       [  4.60000000e+00,   6.00000000e+02],\n",
       "       [  5.60000000e+00,   7.80000000e+02],\n",
       "       [  4.35000000e+00,   5.20000000e+02],\n",
       "       [  4.40000000e+00,   5.50000000e+02],\n",
       "       [  8.21000000e+00,   8.55000000e+02],\n",
       "       [  4.00000000e+00,   8.30000000e+02],\n",
       "       [  4.90000000e+00,   4.15000000e+02],\n",
       "       [  7.65000000e+00,   6.25000000e+02],\n",
       "       [  8.42000000e+00,   6.50000000e+02],\n",
       "       [  9.40000000e+00,   5.50000000e+02],\n",
       "       [  8.60000000e+00,   5.00000000e+02],\n",
       "       [  1.08000000e+01,   4.80000000e+02],\n",
       "       [  7.10000000e+00,   4.25000000e+02],\n",
       "       [  1.05200000e+01,   6.75000000e+02],\n",
       "       [  7.60000000e+00,   6.40000000e+02],\n",
       "       [  7.90000000e+00,   7.25000000e+02],\n",
       "       [  9.01000000e+00,   4.80000000e+02],\n",
       "       [  7.50000000e+00,   8.80000000e+02],\n",
       "       [  1.30000000e+01,   6.60000000e+02],\n",
       "       [  1.17500000e+01,   6.20000000e+02],\n",
       "       [  7.65000000e+00,   5.20000000e+02],\n",
       "       [  5.88000000e+00,   6.80000000e+02],\n",
       "       [  5.58000000e+00,   5.70000000e+02],\n",
       "       [  5.28000000e+00,   6.75000000e+02],\n",
       "       [  9.58000000e+00,   6.15000000e+02],\n",
       "       [  6.62000000e+00,   5.20000000e+02],\n",
       "       [  1.06800000e+01,   6.95000000e+02],\n",
       "       [  1.02600000e+01,   6.85000000e+02],\n",
       "       [  8.66000000e+00,   7.50000000e+02],\n",
       "       [  8.50000000e+00,   6.30000000e+02],\n",
       "       [  5.50000000e+00,   5.10000000e+02],\n",
       "       [  9.89999900e+00,   4.70000000e+02],\n",
       "       [  9.70000000e+00,   6.60000000e+02],\n",
       "       [  7.70000000e+00,   7.40000000e+02],\n",
       "       [  7.30000000e+00,   7.50000000e+02],\n",
       "       [  1.02000000e+01,   8.35000000e+02],\n",
       "       [  9.30000000e+00,   8.40000000e+02],\n",
       "       [  9.20000000e+00,   5.60000000e+02]])"
      ]
     },
     "execution_count": 18,
     "metadata": {},
     "output_type": "execute_result"
    }
   ],
   "source": [
    "# original values\n",
    "X.values"
   ]
  },
  {
   "cell_type": "code",
   "execution_count": 19,
   "metadata": {
    "collapsed": true
   },
   "outputs": [
    {
     "data": {
      "text/plain": [
       "array([[ 0.25171685,  1.01300893],\n",
       "       [-0.29332133,  0.96524152],\n",
       "       [ 0.26901965,  1.39514818],\n",
       "       [ 1.18606801,  2.33457383],\n",
       "       [-0.31927553, -0.03787401],\n",
       "       [ 0.73186953,  2.23903902],\n",
       "       [ 0.08301456,  1.72952002],\n",
       "       [-0.00349944,  1.74544249],\n",
       "       [ 0.06138606,  0.94931905],\n",
       "       [ 0.93517742,  0.94931905],\n",
       "       [ 0.29929955,  2.43010864],\n",
       "       [-0.02512794,  1.69767508],\n",
       "       [ 0.23441405,  1.82505483],\n",
       "       [ 0.14790005,  1.28369089],\n",
       "       [ 1.05629702,  2.54793491],\n",
       "       [ 0.96978302,  1.79320989],\n",
       "       [ 0.49395604,  1.69767508],\n",
       "       [ 0.66698403,  1.22000102],\n",
       "       [ 1.575381  ,  2.97147258],\n",
       "       [ 0.01812906,  0.3124203 ],\n",
       "       [ 0.25604255,  0.10542821],\n",
       "       [-0.24141293,  0.07358327],\n",
       "       [-0.54421192,  0.91747411],\n",
       "       [-0.48797782,  0.85378424],\n",
       "       [-0.66533151,  0.3124203 ],\n",
       "       [-0.63937732,  0.2646529 ],\n",
       "       [-0.11164194,  1.42699311],\n",
       "       [-0.47932642,  1.71359755],\n",
       "       [-0.24141293,  0.53533487],\n",
       "       [-0.15489893,  0.91747411],\n",
       "       [ 0.27767105,  1.71359755],\n",
       "       [ 0.79675503,  2.44603111],\n",
       "       [-0.52690912,  0.7741719 ],\n",
       "       [ 0.14790005,  1.55437286],\n",
       "       [-0.37118393,  1.10854374],\n",
       "       [ 0.01812906,  0.55125733],\n",
       "       [-0.19815593,  0.42387759],\n",
       "       [-0.34955543,  1.14038868],\n",
       "       [-0.58746892,  0.86970671],\n",
       "       [ 0.01812906,  0.04173834],\n",
       "       [ 0.46367614,  0.15319562],\n",
       "       [-0.33657833,  0.91747411],\n",
       "       [ 0.16087715,  1.10854374],\n",
       "       [-0.30197273, -0.21302116],\n",
       "       [-0.00782514,  0.43980005],\n",
       "       [ 0.07868886,  1.06077633],\n",
       "       [-0.06838494,  1.01300893],\n",
       "       [ 0.45069904,  0.75824943],\n",
       "       [ 0.49395604,  0.99708646],\n",
       "       [ 1.66189499,  1.63398521],\n",
       "       [ 0.92652602,  1.28369089],\n",
       "       [ 0.23441405,  1.64990767],\n",
       "       [ 0.86164053,  1.41107064],\n",
       "       [ 0.53721304,  2.00020199],\n",
       "       [ 0.34255655,  0.99708646],\n",
       "       [ 0.51558454,  1.18815608],\n",
       "       [ 0.57181864,  0.71048202],\n",
       "       [ 0.40744204,  1.66583014],\n",
       "       [ 0.75349803,  1.71359755],\n",
       "       [-1.34446639, -0.72254016],\n",
       "       [-0.77347401, -0.21302116],\n",
       "       [ 0.29929955, -0.94545472],\n",
       "       [-0.54421192, -0.37224585],\n",
       "       [-0.26304143, -1.04098953],\n",
       "       [-0.9118964 , -1.24798163],\n",
       "       [-0.19815593, -0.21939015],\n",
       "       [ 0.10464306, -0.77986105],\n",
       "       [-0.16355033, -0.7543851 ],\n",
       "       [-0.81673101,  0.0098934 ],\n",
       "       [-0.9551534 , -0.0920104 ],\n",
       "       [-0.86863941,  0.39203265],\n",
       "       [-0.72589131, -1.07283447],\n",
       "       [-0.57016612, -0.87539586],\n",
       "       [-0.73886841,  0.75824943],\n",
       "       [-0.79942821,  0.44298455],\n",
       "       [-0.54421192, -1.01551358],\n",
       "       [-0.19815593, -1.13015536],\n",
       "       [-1.0416674 , -0.78623004],\n",
       "       [-0.71723991,  0.0098934 ],\n",
       "       [-1.076273  , -0.9040563 ],\n",
       "       [-1.1065529 , -1.49318765],\n",
       "       [-0.50095492, -0.10474838],\n",
       "       [-1.23632389, -0.37224585],\n",
       "       [-0.11164194, -0.73846263],\n",
       "       [-0.86863941, -0.72254016],\n",
       "       [-1.0546445 , -0.94545472],\n",
       "       [-1.1281814 , -0.8021525 ],\n",
       "       [-1.0632959 , -0.58879142],\n",
       "       [-0.9767819 , -0.21302116],\n",
       "       [-1.43530608, -0.38816832],\n",
       "       [-1.14980989, -0.84991991],\n",
       "       [-0.63072592, -0.94545472],\n",
       "       [-0.86863941, -0.8021525 ],\n",
       "       [-1.25795239, -1.45497372],\n",
       "       [-0.78212541, -1.27982657],\n",
       "       [-1.0632959 ,  0.60539373],\n",
       "       [-1.1065529 , -0.38816832],\n",
       "       [-0.9335249 , -1.01551358],\n",
       "       [-0.24141293, -0.27671104],\n",
       "       [-1.19306689, -1.08557245],\n",
       "       [-0.76049691, -0.11748635],\n",
       "       [-1.1281814 , -0.58879142],\n",
       "       [-0.9767819 , -0.98366865],\n",
       "       [-1.29688369, -1.056912  ],\n",
       "       [-0.9162221 , -0.23849711],\n",
       "       [-1.0200389 , -1.37536138],\n",
       "       [-0.71723991, -0.7543851 ],\n",
       "       [-0.76049691, -0.82444396],\n",
       "       [-1.0200389 , -1.38491486],\n",
       "       [-1.0416674 , -0.21302116],\n",
       "       [-0.9335249 , -0.58879142],\n",
       "       [-1.32283789, -1.34351644],\n",
       "       [-0.54421192, -0.44548921],\n",
       "       [-0.85566231, -0.99640662],\n",
       "       [-0.9335249 , -1.15244682],\n",
       "       [-1.36609489, -1.08238795],\n",
       "       [-1.34446639, -0.8021525 ],\n",
       "       [-1.29688369, -1.27982657],\n",
       "       [-0.71723991, -1.19384523],\n",
       "       [-1.63428828, -0.58242244],\n",
       "       [-0.78212541, -0.38816832],\n",
       "       [ 0.40744204, -0.89768732],\n",
       "       [-1.28823229, -1.21613669],\n",
       "       [-1.0632959 , -1.16836928],\n",
       "       [-0.9767819 , -1.16836928],\n",
       "       [-0.9940847 , -1.17473827],\n",
       "       [-0.48365212, -1.25753511],\n",
       "       [-0.89026791, -0.89450282],\n",
       "       [-1.27092949, -1.28938005],\n",
       "       [-1.0632959 , -0.53147054],\n",
       "       [-0.41444092, -0.37224585],\n",
       "       [ 0.14790005, -0.69069522],\n",
       "       [ 0.27767105, -0.59516041],\n",
       "       [-0.02512794, -0.46778066],\n",
       "       [ 0.16952855, -0.30855597],\n",
       "       [ 0.88326902, -0.16525376],\n",
       "       [-0.52258342, -0.08564141],\n",
       "       [-0.02512794, -0.73846263],\n",
       "       [ 0.27767105, -0.53147054],\n",
       "       [-0.05973354, -0.4996256 ],\n",
       "       [-0.19815593, -0.46778066],\n",
       "       [ 0.23441405,  0.10542821],\n",
       "       [-0.30629843, -0.72254016],\n",
       "       [-0.28466993, -0.62700535],\n",
       "       [ 1.36342171,  0.34426524],\n",
       "       [-0.45769792,  0.2646529 ],\n",
       "       [-0.06838494, -1.056912  ],\n",
       "       [ 1.12118252, -0.38816832],\n",
       "       [ 1.4542614 , -0.30855597],\n",
       "       [ 1.87817999, -0.62700535],\n",
       "       [ 1.532124  , -0.78623004],\n",
       "       [ 2.48377796, -0.84991991],\n",
       "       [ 0.88326902, -1.02506707],\n",
       "       [ 2.36265837, -0.22894363],\n",
       "       [ 1.09955402, -0.34040091],\n",
       "       [ 1.22932501, -0.06971894],\n",
       "       [ 1.70947769, -0.84991991],\n",
       "       [ 1.05629702,  0.42387759],\n",
       "       [ 3.43543192, -0.27671104],\n",
       "       [ 2.89471945, -0.40409079],\n",
       "       [ 1.12118252, -0.72254016],\n",
       "       [ 0.35553365, -0.21302116],\n",
       "       [ 0.22576265, -0.56331547],\n",
       "       [ 0.09599166, -0.22894363],\n",
       "       [ 1.95604258, -0.42001326],\n",
       "       [ 0.67563543, -0.72254016],\n",
       "       [ 2.43186956, -0.16525376],\n",
       "       [ 2.25019017, -0.19709869],\n",
       "       [ 1.5580782 ,  0.0098934 ],\n",
       "       [ 1.488867  , -0.37224585],\n",
       "       [ 0.19115705, -0.7543851 ],\n",
       "       [ 2.09446454, -0.88176485],\n",
       "       [ 2.00795098, -0.27671104],\n",
       "       [ 1.14281101, -0.02195154],\n",
       "       [ 0.96978302,  0.0098934 ],\n",
       "       [ 2.22423597,  0.28057537],\n",
       "       [ 1.83492299,  0.29649784],\n",
       "       [ 1.79166599, -0.59516041]])"
      ]
     },
     "execution_count": 19,
     "metadata": {},
     "output_type": "execute_result"
    }
   ],
   "source": [
    "# standardized values\n",
    "X_scaled"
   ]
  },
  {
   "cell_type": "code",
   "execution_count": 20,
   "metadata": {
    "collapsed": false
   },
   "outputs": [
    {
     "name": "stdout",
     "output_type": "stream",
     "text": [
      "[   5.05808988  746.89325843]\n",
      "[   2.31176466  314.02165684]\n"
     ]
    }
   ],
   "source": [
    "# figure out how it standardized\n",
    "print scaler.mean_\n",
    "print scaler.std_"
   ]
  },
  {
   "cell_type": "code",
   "execution_count": 21,
   "metadata": {
    "collapsed": true
   },
   "outputs": [
    {
     "data": {
      "text/plain": [
       "array([[ 0.25171685,  1.01300893],\n",
       "       [-0.29332133,  0.96524152],\n",
       "       [ 0.26901965,  1.39514818],\n",
       "       [ 1.18606801,  2.33457383],\n",
       "       [-0.31927553, -0.03787401],\n",
       "       [ 0.73186953,  2.23903902],\n",
       "       [ 0.08301456,  1.72952002],\n",
       "       [-0.00349944,  1.74544249],\n",
       "       [ 0.06138606,  0.94931905],\n",
       "       [ 0.93517742,  0.94931905],\n",
       "       [ 0.29929955,  2.43010864],\n",
       "       [-0.02512794,  1.69767508],\n",
       "       [ 0.23441405,  1.82505483],\n",
       "       [ 0.14790005,  1.28369089],\n",
       "       [ 1.05629702,  2.54793491],\n",
       "       [ 0.96978302,  1.79320989],\n",
       "       [ 0.49395604,  1.69767508],\n",
       "       [ 0.66698403,  1.22000102],\n",
       "       [ 1.575381  ,  2.97147258],\n",
       "       [ 0.01812906,  0.3124203 ],\n",
       "       [ 0.25604255,  0.10542821],\n",
       "       [-0.24141293,  0.07358327],\n",
       "       [-0.54421192,  0.91747411],\n",
       "       [-0.48797782,  0.85378424],\n",
       "       [-0.66533151,  0.3124203 ],\n",
       "       [-0.63937732,  0.2646529 ],\n",
       "       [-0.11164194,  1.42699311],\n",
       "       [-0.47932642,  1.71359755],\n",
       "       [-0.24141293,  0.53533487],\n",
       "       [-0.15489893,  0.91747411],\n",
       "       [ 0.27767105,  1.71359755],\n",
       "       [ 0.79675503,  2.44603111],\n",
       "       [-0.52690912,  0.7741719 ],\n",
       "       [ 0.14790005,  1.55437286],\n",
       "       [-0.37118393,  1.10854374],\n",
       "       [ 0.01812906,  0.55125733],\n",
       "       [-0.19815593,  0.42387759],\n",
       "       [-0.34955543,  1.14038868],\n",
       "       [-0.58746892,  0.86970671],\n",
       "       [ 0.01812906,  0.04173834],\n",
       "       [ 0.46367614,  0.15319562],\n",
       "       [-0.33657833,  0.91747411],\n",
       "       [ 0.16087715,  1.10854374],\n",
       "       [-0.30197273, -0.21302116],\n",
       "       [-0.00782514,  0.43980005],\n",
       "       [ 0.07868886,  1.06077633],\n",
       "       [-0.06838494,  1.01300893],\n",
       "       [ 0.45069904,  0.75824943],\n",
       "       [ 0.49395604,  0.99708646],\n",
       "       [ 1.66189499,  1.63398521],\n",
       "       [ 0.92652602,  1.28369089],\n",
       "       [ 0.23441405,  1.64990767],\n",
       "       [ 0.86164053,  1.41107064],\n",
       "       [ 0.53721304,  2.00020199],\n",
       "       [ 0.34255655,  0.99708646],\n",
       "       [ 0.51558454,  1.18815608],\n",
       "       [ 0.57181864,  0.71048202],\n",
       "       [ 0.40744204,  1.66583014],\n",
       "       [ 0.75349803,  1.71359755],\n",
       "       [-1.34446639, -0.72254016],\n",
       "       [-0.77347401, -0.21302116],\n",
       "       [ 0.29929955, -0.94545472],\n",
       "       [-0.54421192, -0.37224585],\n",
       "       [-0.26304143, -1.04098953],\n",
       "       [-0.9118964 , -1.24798163],\n",
       "       [-0.19815593, -0.21939015],\n",
       "       [ 0.10464306, -0.77986105],\n",
       "       [-0.16355033, -0.7543851 ],\n",
       "       [-0.81673101,  0.0098934 ],\n",
       "       [-0.9551534 , -0.0920104 ],\n",
       "       [-0.86863941,  0.39203265],\n",
       "       [-0.72589131, -1.07283447],\n",
       "       [-0.57016612, -0.87539586],\n",
       "       [-0.73886841,  0.75824943],\n",
       "       [-0.79942821,  0.44298455],\n",
       "       [-0.54421192, -1.01551358],\n",
       "       [-0.19815593, -1.13015536],\n",
       "       [-1.0416674 , -0.78623004],\n",
       "       [-0.71723991,  0.0098934 ],\n",
       "       [-1.076273  , -0.9040563 ],\n",
       "       [-1.1065529 , -1.49318765],\n",
       "       [-0.50095492, -0.10474838],\n",
       "       [-1.23632389, -0.37224585],\n",
       "       [-0.11164194, -0.73846263],\n",
       "       [-0.86863941, -0.72254016],\n",
       "       [-1.0546445 , -0.94545472],\n",
       "       [-1.1281814 , -0.8021525 ],\n",
       "       [-1.0632959 , -0.58879142],\n",
       "       [-0.9767819 , -0.21302116],\n",
       "       [-1.43530608, -0.38816832],\n",
       "       [-1.14980989, -0.84991991],\n",
       "       [-0.63072592, -0.94545472],\n",
       "       [-0.86863941, -0.8021525 ],\n",
       "       [-1.25795239, -1.45497372],\n",
       "       [-0.78212541, -1.27982657],\n",
       "       [-1.0632959 ,  0.60539373],\n",
       "       [-1.1065529 , -0.38816832],\n",
       "       [-0.9335249 , -1.01551358],\n",
       "       [-0.24141293, -0.27671104],\n",
       "       [-1.19306689, -1.08557245],\n",
       "       [-0.76049691, -0.11748635],\n",
       "       [-1.1281814 , -0.58879142],\n",
       "       [-0.9767819 , -0.98366865],\n",
       "       [-1.29688369, -1.056912  ],\n",
       "       [-0.9162221 , -0.23849711],\n",
       "       [-1.0200389 , -1.37536138],\n",
       "       [-0.71723991, -0.7543851 ],\n",
       "       [-0.76049691, -0.82444396],\n",
       "       [-1.0200389 , -1.38491486],\n",
       "       [-1.0416674 , -0.21302116],\n",
       "       [-0.9335249 , -0.58879142],\n",
       "       [-1.32283789, -1.34351644],\n",
       "       [-0.54421192, -0.44548921],\n",
       "       [-0.85566231, -0.99640662],\n",
       "       [-0.9335249 , -1.15244682],\n",
       "       [-1.36609489, -1.08238795],\n",
       "       [-1.34446639, -0.8021525 ],\n",
       "       [-1.29688369, -1.27982657],\n",
       "       [-0.71723991, -1.19384523],\n",
       "       [-1.63428828, -0.58242244],\n",
       "       [-0.78212541, -0.38816832],\n",
       "       [ 0.40744204, -0.89768732],\n",
       "       [-1.28823229, -1.21613669],\n",
       "       [-1.0632959 , -1.16836928],\n",
       "       [-0.9767819 , -1.16836928],\n",
       "       [-0.9940847 , -1.17473827],\n",
       "       [-0.48365212, -1.25753511],\n",
       "       [-0.89026791, -0.89450282],\n",
       "       [-1.27092949, -1.28938005],\n",
       "       [-1.0632959 , -0.53147054],\n",
       "       [-0.41444092, -0.37224585],\n",
       "       [ 0.14790005, -0.69069522],\n",
       "       [ 0.27767105, -0.59516041],\n",
       "       [-0.02512794, -0.46778066],\n",
       "       [ 0.16952855, -0.30855597],\n",
       "       [ 0.88326902, -0.16525376],\n",
       "       [-0.52258342, -0.08564141],\n",
       "       [-0.02512794, -0.73846263],\n",
       "       [ 0.27767105, -0.53147054],\n",
       "       [-0.05973354, -0.4996256 ],\n",
       "       [-0.19815593, -0.46778066],\n",
       "       [ 0.23441405,  0.10542821],\n",
       "       [-0.30629843, -0.72254016],\n",
       "       [-0.28466993, -0.62700535],\n",
       "       [ 1.36342171,  0.34426524],\n",
       "       [-0.45769792,  0.2646529 ],\n",
       "       [-0.06838494, -1.056912  ],\n",
       "       [ 1.12118252, -0.38816832],\n",
       "       [ 1.4542614 , -0.30855597],\n",
       "       [ 1.87817999, -0.62700535],\n",
       "       [ 1.532124  , -0.78623004],\n",
       "       [ 2.48377796, -0.84991991],\n",
       "       [ 0.88326902, -1.02506707],\n",
       "       [ 2.36265837, -0.22894363],\n",
       "       [ 1.09955402, -0.34040091],\n",
       "       [ 1.22932501, -0.06971894],\n",
       "       [ 1.70947769, -0.84991991],\n",
       "       [ 1.05629702,  0.42387759],\n",
       "       [ 3.43543192, -0.27671104],\n",
       "       [ 2.89471945, -0.40409079],\n",
       "       [ 1.12118252, -0.72254016],\n",
       "       [ 0.35553365, -0.21302116],\n",
       "       [ 0.22576265, -0.56331547],\n",
       "       [ 0.09599166, -0.22894363],\n",
       "       [ 1.95604258, -0.42001326],\n",
       "       [ 0.67563543, -0.72254016],\n",
       "       [ 2.43186956, -0.16525376],\n",
       "       [ 2.25019017, -0.19709869],\n",
       "       [ 1.5580782 ,  0.0098934 ],\n",
       "       [ 1.488867  , -0.37224585],\n",
       "       [ 0.19115705, -0.7543851 ],\n",
       "       [ 2.09446454, -0.88176485],\n",
       "       [ 2.00795098, -0.27671104],\n",
       "       [ 1.14281101, -0.02195154],\n",
       "       [ 0.96978302,  0.0098934 ],\n",
       "       [ 2.22423597,  0.28057537],\n",
       "       [ 1.83492299,  0.29649784],\n",
       "       [ 1.79166599, -0.59516041]])"
      ]
     },
     "execution_count": 21,
     "metadata": {},
     "output_type": "execute_result"
    }
   ],
   "source": [
    "# manually standardize\n",
    "(X.values - scaler.mean_) / scaler.std_"
   ]
  },
  {
   "cell_type": "markdown",
   "metadata": {},
   "source": [
    "### Exercise: Applying StandardScaler to a real dataset\n",
    "\n",
    "- Wine dataset from the UCI Machine Learning Repository: [data](http://archive.ics.uci.edu/ml/machine-learning-databases/wine/wine.data), [data dictionary](http://archive.ics.uci.edu/ml/datasets/Wine)\n",
    "- **Goal:** Predict the origin of wine using chemical analysis"
   ]
  },
  {
   "cell_type": "code",
   "execution_count": 22,
   "metadata": {
    "collapsed": false
   },
   "outputs": [],
   "source": [
    "# read three columns from the dataset into a DataFrame\n",
    "url = 'http://archive.ics.uci.edu/ml/machine-learning-databases/wine/wine.data'\n",
    "col_names = ['label', 'color', 'proline']\n",
    "wine = pd.read_csv(url, header=None, names=col_names, usecols=[0, 10, 13])"
   ]
  },
  {
   "cell_type": "code",
   "execution_count": 23,
   "metadata": {
    "collapsed": false
   },
   "outputs": [
    {
     "data": {
      "text/html": [
       "<div>\n",
       "<table border=\"1\" class=\"dataframe\">\n",
       "  <thead>\n",
       "    <tr style=\"text-align: right;\">\n",
       "      <th></th>\n",
       "      <th>label</th>\n",
       "      <th>color</th>\n",
       "      <th>proline</th>\n",
       "    </tr>\n",
       "  </thead>\n",
       "  <tbody>\n",
       "    <tr>\n",
       "      <th>0</th>\n",
       "      <td>1</td>\n",
       "      <td>5.64</td>\n",
       "      <td>1065</td>\n",
       "    </tr>\n",
       "    <tr>\n",
       "      <th>1</th>\n",
       "      <td>1</td>\n",
       "      <td>4.38</td>\n",
       "      <td>1050</td>\n",
       "    </tr>\n",
       "    <tr>\n",
       "      <th>2</th>\n",
       "      <td>1</td>\n",
       "      <td>5.68</td>\n",
       "      <td>1185</td>\n",
       "    </tr>\n",
       "  </tbody>\n",
       "</table>\n",
       "</div>"
      ],
      "text/plain": [
       "   label  color  proline\n",
       "0      1   5.64     1065\n",
       "1      1   4.38     1050\n",
       "2      1   5.68     1185"
      ]
     },
     "execution_count": 23,
     "metadata": {},
     "output_type": "execute_result"
    }
   ],
   "source": [
    "# look at a few rows of this DataFrame\n",
    "wine.head(3)"
   ]
  },
  {
   "cell_type": "code",
   "execution_count": 24,
   "metadata": {
    "collapsed": false
   },
   "outputs": [
    {
     "data": {
      "text/html": [
       "<div>\n",
       "<table border=\"1\" class=\"dataframe\">\n",
       "  <thead>\n",
       "    <tr style=\"text-align: right;\">\n",
       "      <th></th>\n",
       "      <th>label</th>\n",
       "      <th>color</th>\n",
       "      <th>proline</th>\n",
       "    </tr>\n",
       "  </thead>\n",
       "  <tbody>\n",
       "    <tr>\n",
       "      <th>count</th>\n",
       "      <td>178.000000</td>\n",
       "      <td>178.000000</td>\n",
       "      <td>178.000000</td>\n",
       "    </tr>\n",
       "    <tr>\n",
       "      <th>mean</th>\n",
       "      <td>1.938202</td>\n",
       "      <td>5.058090</td>\n",
       "      <td>746.893258</td>\n",
       "    </tr>\n",
       "    <tr>\n",
       "      <th>std</th>\n",
       "      <td>0.775035</td>\n",
       "      <td>2.318286</td>\n",
       "      <td>314.907474</td>\n",
       "    </tr>\n",
       "    <tr>\n",
       "      <th>min</th>\n",
       "      <td>1.000000</td>\n",
       "      <td>1.280000</td>\n",
       "      <td>278.000000</td>\n",
       "    </tr>\n",
       "    <tr>\n",
       "      <th>25%</th>\n",
       "      <td>1.000000</td>\n",
       "      <td>3.220000</td>\n",
       "      <td>500.500000</td>\n",
       "    </tr>\n",
       "    <tr>\n",
       "      <th>50%</th>\n",
       "      <td>2.000000</td>\n",
       "      <td>4.690000</td>\n",
       "      <td>673.500000</td>\n",
       "    </tr>\n",
       "    <tr>\n",
       "      <th>75%</th>\n",
       "      <td>3.000000</td>\n",
       "      <td>6.200000</td>\n",
       "      <td>985.000000</td>\n",
       "    </tr>\n",
       "    <tr>\n",
       "      <th>max</th>\n",
       "      <td>3.000000</td>\n",
       "      <td>13.000000</td>\n",
       "      <td>1680.000000</td>\n",
       "    </tr>\n",
       "  </tbody>\n",
       "</table>\n",
       "</div>"
      ],
      "text/plain": [
       "            label       color      proline\n",
       "count  178.000000  178.000000   178.000000\n",
       "mean     1.938202    5.058090   746.893258\n",
       "std      0.775035    2.318286   314.907474\n",
       "min      1.000000    1.280000   278.000000\n",
       "25%      1.000000    3.220000   500.500000\n",
       "50%      2.000000    4.690000   673.500000\n",
       "75%      3.000000    6.200000   985.000000\n",
       "max      3.000000   13.000000  1680.000000"
      ]
     },
     "execution_count": 24,
     "metadata": {},
     "output_type": "execute_result"
    }
   ],
   "source": [
    "# use .describe() to check out the mean and variance (and other stats) of each column\n",
    "wine.describe()"
   ]
  },
  {
   "cell_type": "code",
   "execution_count": 25,
   "metadata": {
    "collapsed": true
   },
   "outputs": [],
   "source": [
    "# define X and y\n",
    "feature_cols = ['color', 'proline']\n",
    "X = wine[feature_cols]\n",
    "y = wine.label"
   ]
  },
  {
   "cell_type": "code",
   "execution_count": 26,
   "metadata": {
    "collapsed": true
   },
   "outputs": [],
   "source": [
    "# split into training and testing sets\n",
    "from sklearn.cross_validation import train_test_split\n",
    "X_train, X_test, y_train, y_test = train_test_split(X, y, random_state = 1)"
   ]
  },
  {
   "cell_type": "code",
   "execution_count": 27,
   "metadata": {
    "collapsed": false
   },
   "outputs": [
    {
     "name": "stdout",
     "output_type": "stream",
     "text": [
      "(133, 2) (133,)\n",
      "(45, 2) (45,)\n"
     ]
    }
   ],
   "source": [
    "print X_train.shape, y_train.shape\n",
    "print X_test.shape, y_test.shape\n",
    "# fit a StanardScaler object to the X_train data\n",
    "# create a new DF called X_train_scaled, which is the scaled version of the original data\n",
    "scaler = StandardScaler()\n",
    "scaler.fit(X_train)\n",
    "X_train_scaled = scaler.transform(X_train)\n",
    "X_train_scaled_df = pd.DataFrame(X_train_scaled, columns = feature_cols)"
   ]
  },
  {
   "cell_type": "code",
   "execution_count": 28,
   "metadata": {
    "collapsed": false
   },
   "outputs": [
    {
     "data": {
      "text/html": [
       "<div>\n",
       "<table border=\"1\" class=\"dataframe\">\n",
       "  <thead>\n",
       "    <tr style=\"text-align: right;\">\n",
       "      <th></th>\n",
       "      <th>color</th>\n",
       "      <th>proline</th>\n",
       "    </tr>\n",
       "  </thead>\n",
       "  <tbody>\n",
       "    <tr>\n",
       "      <th>count</th>\n",
       "      <td>1.330000e+02</td>\n",
       "      <td>1.330000e+02</td>\n",
       "    </tr>\n",
       "    <tr>\n",
       "      <th>mean</th>\n",
       "      <td>-3.785610e-16</td>\n",
       "      <td>1.702898e-16</td>\n",
       "    </tr>\n",
       "    <tr>\n",
       "      <th>std</th>\n",
       "      <td>1.003781e+00</td>\n",
       "      <td>1.003781e+00</td>\n",
       "    </tr>\n",
       "    <tr>\n",
       "      <th>min</th>\n",
       "      <td>-1.574511e+00</td>\n",
       "      <td>-1.539270e+00</td>\n",
       "    </tr>\n",
       "    <tr>\n",
       "      <th>25%</th>\n",
       "      <td>-8.332440e-01</td>\n",
       "      <td>-7.973283e-01</td>\n",
       "    </tr>\n",
       "    <tr>\n",
       "      <th>50%</th>\n",
       "      <td>-1.841122e-01</td>\n",
       "      <td>-2.243108e-01</td>\n",
       "    </tr>\n",
       "    <tr>\n",
       "      <th>75%</th>\n",
       "      <td>4.022003e-01</td>\n",
       "      <td>6.434959e-01</td>\n",
       "    </tr>\n",
       "    <tr>\n",
       "      <th>max</th>\n",
       "      <td>3.333763e+00</td>\n",
       "      <td>3.104490e+00</td>\n",
       "    </tr>\n",
       "  </tbody>\n",
       "</table>\n",
       "</div>"
      ],
      "text/plain": [
       "              color       proline\n",
       "count  1.330000e+02  1.330000e+02\n",
       "mean  -3.785610e-16  1.702898e-16\n",
       "std    1.003781e+00  1.003781e+00\n",
       "min   -1.574511e+00 -1.539270e+00\n",
       "25%   -8.332440e-01 -7.973283e-01\n",
       "50%   -1.841122e-01 -2.243108e-01\n",
       "75%    4.022003e-01  6.434959e-01\n",
       "max    3.333763e+00  3.104490e+00"
      ]
     },
     "execution_count": 28,
     "metadata": {},
     "output_type": "execute_result"
    }
   ],
   "source": [
    "# check that it standardized properly, examine the mean() and std() of the columns of X_train_scaled\n",
    "X_train_scaled_df.describe()\n"
   ]
  },
  {
   "cell_type": "code",
   "execution_count": 29,
   "metadata": {
    "collapsed": false
   },
   "outputs": [],
   "source": [
    "# now create a scaled version of the test data\n",
    "scaler.fit(X_train)\n",
    "X_test_scaled = scaler.transform(X_test)"
   ]
  },
  {
   "cell_type": "code",
   "execution_count": 30,
   "metadata": {
    "collapsed": false
   },
   "outputs": [
    {
     "name": "stdout",
     "output_type": "stream",
     "text": [
      "0.0426215958696 1.01812505041\n"
     ]
    }
   ],
   "source": [
    "# check the mean() and std() of these columns. Seem different?\n",
    "print X_test_scaled.mean(), X_test_scaled.std()\n",
    "# Verifies that X_train did not leak into X_test data"
   ]
  },
  {
   "cell_type": "code",
   "execution_count": 31,
   "metadata": {
    "collapsed": false
   },
   "outputs": [
    {
     "name": "stdout",
     "output_type": "stream",
     "text": [
      "0.644444444444\n"
     ]
    }
   ],
   "source": [
    "# KNN accuracy on original data\n",
    "knn = KNeighborsClassifier(n_neighbors=3)\n",
    "knn.fit(X_train, y_train)\n",
    "y_pred_class = knn.predict(X_test)\n",
    "from sklearn import metrics\n",
    "print metrics.accuracy_score(y_test, y_pred_class)"
   ]
  },
  {
   "cell_type": "code",
   "execution_count": 52,
   "metadata": {
    "collapsed": false
   },
   "outputs": [
    {
     "name": "stdout",
     "output_type": "stream",
     "text": [
      "0.866666666667\n"
     ]
    }
   ],
   "source": [
    "# KNN accuracy on scaled data\n",
    "# In Regression Beta weights for features is relative to the scale, if you standardize\n",
    "# feature then you can compare beta weights to determine which variables are more highly correlated\n",
    "knn = KNeighborsClassifier(n_neighbors=3)\n",
    "knn.fit(X_train_scaled, y_train)\n",
    "y_pred_class = knn.predict(X_test_scaled)\n",
    "from sklearn import metrics\n",
    "print metrics.accuracy_score(y_test, y_pred_class)"
   ]
  },
  {
   "cell_type": "code",
   "execution_count": 53,
   "metadata": {
    "collapsed": true
   },
   "outputs": [],
   "source": [
    "# For Naive Bayes, don't do feature scaling because want counts in the DTM"
   ]
  },
  {
   "cell_type": "markdown",
   "metadata": {},
   "source": [
    "## Pipeline \n",
    "### What is the problem we're trying to solve?"
   ]
  },
  {
   "cell_type": "code",
   "execution_count": 15,
   "metadata": {
    "collapsed": false
   },
   "outputs": [],
   "source": [
    "# define X and y\n",
    "feature_cols = ['color', 'proline']\n",
    "X = wine[feature_cols]\n",
    "y = wine.label"
   ]
  },
  {
   "cell_type": "code",
   "execution_count": 18,
   "metadata": {
    "collapsed": false
   },
   "outputs": [
    {
     "data": {
      "text/plain": [
       "0.71983168041991563"
      ]
     },
     "execution_count": 18,
     "metadata": {},
     "output_type": "execute_result"
    }
   ],
   "source": [
    "# proper cross-validation on the original (unscaled) data\n",
    "knn = KNeighborsClassifier(n_neighbors=3)\n",
    "from sklearn.cross_validation import cross_val_score\n",
    "# This has 5-folds and does it for you\n",
    "cross_val_score(knn, X, y, cv=5, scoring='accuracy').mean()"
   ]
  },
  {
   "cell_type": "code",
   "execution_count": 21,
   "metadata": {
    "collapsed": false
   },
   "outputs": [
    {
     "data": {
      "text/plain": [
       "0.90104247104247115"
      ]
     },
     "execution_count": 21,
     "metadata": {},
     "output_type": "execute_result"
    }
   ],
   "source": [
    "# why is this improper cross-validation on the scaled data?\n",
    "scaler = StandardScaler()\n",
    "X_scaled = scaler.fit_transform(X)\n",
    "# Train data is leaking into the Test data since scaler is seeing all test data\n",
    "cross_val_score(knn, X_scaled, y, cv=5, scoring='accuracy').mean()"
   ]
  },
  {
   "cell_type": "markdown",
   "metadata": {},
   "source": [
    "### How does Pipeline solve the problem?\n",
    "\n",
    "[Pipeline](http://scikit-learn.org/stable/modules/pipeline.html) is used for chaining steps together:"
   ]
  },
  {
   "cell_type": "code",
   "execution_count": 22,
   "metadata": {
    "collapsed": false
   },
   "outputs": [
    {
     "data": {
      "text/plain": [
       "0.89516011810129448"
      ]
     },
     "execution_count": 22,
     "metadata": {},
     "output_type": "execute_result"
    }
   ],
   "source": [
    "# fix the cross-validation process using Pipeline\n",
    "from sklearn.pipeline import make_pipeline\n",
    "pipe = make_pipeline(StandardScaler(), KNeighborsClassifier(n_neighbors=3))\n",
    "cross_val_score(pipe, X, y, cv=5, scoring='accuracy').mean()"
   ]
  },
  {
   "cell_type": "markdown",
   "metadata": {},
   "source": [
    "Pipeline can also be used with [GridSearchCV](http://scikit-learn.org/stable/modules/generated/sklearn.grid_search.GridSearchCV.html) for parameter searching:"
   ]
  },
  {
   "cell_type": "code",
   "execution_count": 23,
   "metadata": {
    "collapsed": false
   },
   "outputs": [
    {
     "name": "stdout",
     "output_type": "stream",
     "text": [
      "0.910112359551\n",
      "{'kneighborsclassifier__n_neighbors': 1}\n"
     ]
    }
   ],
   "source": [
    "# search for an optimal n_neighbors value using GridSearchCV\n",
    "neighbors_range = range(1, 21)\n",
    "param_grid = dict(kneighborsclassifier__n_neighbors=neighbors_range)\n",
    "from sklearn.grid_search import GridSearchCV\n",
    "grid = GridSearchCV(pipe, param_grid, cv=5, scoring='accuracy')\n",
    "grid.fit(X, y)\n",
    "print grid.best_score_\n",
    "print grid.best_params_"
   ]
  },
  {
   "cell_type": "code",
   "execution_count": null,
   "metadata": {
    "collapsed": true
   },
   "outputs": [],
   "source": []
  }
 ],
 "metadata": {
  "kernelspec": {
   "display_name": "Python 2",
   "language": "python",
   "name": "python2"
  },
  "language_info": {
   "codemirror_mode": {
    "name": "ipython",
    "version": 2
   },
   "file_extension": ".py",
   "mimetype": "text/x-python",
   "name": "python",
   "nbconvert_exporter": "python",
   "pygments_lexer": "ipython2",
   "version": "2.7.11"
  }
 },
 "nbformat": 4,
 "nbformat_minor": 0
}
