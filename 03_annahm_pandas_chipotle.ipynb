{
 "cells": [
  {
   "cell_type": "code",
   "execution_count": 3,
   "metadata": {
    "collapsed": true
   },
   "outputs": [],
   "source": [
    "import csv\n",
    "import sys\n",
    "import numpy\n",
    "import pandas as pd"
   ]
  },
  {
   "cell_type": "markdown",
   "metadata": {},
   "source": [
    "### PART 1:\n",
    "Read in the file with csv.reader() and store it in an object called 'file_nested_list'.\n",
    "Hint: This is a TSV file, and csv.reader() needs to be told how to handle it.\n",
    "      https://docs.python.org/2/library/csv.html"
   ]
  },
  {
   "cell_type": "code",
   "execution_count": 72,
   "metadata": {
    "collapsed": false
   },
   "outputs": [],
   "source": [
    "with open(\"/home/anna/DAT-DC-10/data/chipotle.tsv\", 'r') as f:\n",
    "    reader = csv.reader(f, delimiter='\\t')\n",
    "    l = [row for row in reader]"
   ]
  },
  {
   "cell_type": "code",
   "execution_count": 55,
   "metadata": {
    "collapsed": false
   },
   "outputs": [],
   "source": [
    "# PANDAS:\n",
    "# Do I need to use with for this?  Or does pandas.read_table take care of f.close()?\n",
    "chip = pd.read_table(\"/home/anna/DAT-DC-10/data/chipotle.tsv\", sep = '\\t')"
   ]
  },
  {
   "cell_type": "markdown",
   "metadata": {},
   "source": [
    "### PART 2: \n",
    "Separate 'file_nested_list' into the 'header' and the 'data'."
   ]
  },
  {
   "cell_type": "code",
   "execution_count": 144,
   "metadata": {
    "collapsed": false
   },
   "outputs": [
    {
     "data": {
      "text/plain": [
       "['order_id', 'quantity', 'item_name', 'choice_description', 'item_price']"
      ]
     },
     "execution_count": 144,
     "metadata": {},
     "output_type": "execute_result"
    }
   ],
   "source": [
    "file_nested_list = l\n",
    "header = file_nested_list[0]\n",
    "data = file_nested_list[1:]\n",
    "header"
   ]
  },
  {
   "cell_type": "code",
   "execution_count": 74,
   "metadata": {
    "collapsed": false
   },
   "outputs": [
    {
     "name": "stdout",
     "output_type": "stream",
     "text": [
      "5 4622 4623\n"
     ]
    }
   ],
   "source": [
    "print len(header), len(data), len(file_nested_list)"
   ]
  },
  {
   "cell_type": "code",
   "execution_count": 10,
   "metadata": {
    "collapsed": false
   },
   "outputs": [
    {
     "data": {
      "text/html": [
       "<div>\n",
       "<table border=\"1\" class=\"dataframe\">\n",
       "  <thead>\n",
       "    <tr style=\"text-align: right;\">\n",
       "      <th></th>\n",
       "      <th>order_id</th>\n",
       "      <th>quantity</th>\n",
       "      <th>item_name</th>\n",
       "      <th>choice_description</th>\n",
       "      <th>item_price</th>\n",
       "    </tr>\n",
       "  </thead>\n",
       "  <tbody>\n",
       "    <tr>\n",
       "      <th>0</th>\n",
       "      <td>1</td>\n",
       "      <td>1</td>\n",
       "      <td>Chips and Fresh Tomato Salsa</td>\n",
       "      <td>NaN</td>\n",
       "      <td>$2.39</td>\n",
       "    </tr>\n",
       "    <tr>\n",
       "      <th>1</th>\n",
       "      <td>1</td>\n",
       "      <td>1</td>\n",
       "      <td>Izze</td>\n",
       "      <td>[Clementine]</td>\n",
       "      <td>$3.39</td>\n",
       "    </tr>\n",
       "    <tr>\n",
       "      <th>2</th>\n",
       "      <td>1</td>\n",
       "      <td>1</td>\n",
       "      <td>Nantucket Nectar</td>\n",
       "      <td>[Apple]</td>\n",
       "      <td>$3.39</td>\n",
       "    </tr>\n",
       "  </tbody>\n",
       "</table>\n",
       "</div>"
      ],
      "text/plain": [
       "   order_id  quantity                     item_name choice_description  \\\n",
       "0         1         1  Chips and Fresh Tomato Salsa                NaN   \n",
       "1         1         1                          Izze       [Clementine]   \n",
       "2         1         1              Nantucket Nectar            [Apple]   \n",
       "\n",
       "  item_price  \n",
       "0     $2.39   \n",
       "1     $3.39   \n",
       "2     $3.39   "
      ]
     },
     "execution_count": 10,
     "metadata": {},
     "output_type": "execute_result"
    }
   ],
   "source": [
    "# PANDAS:\n",
    "chip[0:3]"
   ]
  },
  {
   "cell_type": "markdown",
   "metadata": {},
   "source": [
    "### PART 3: \n",
    "\n",
    "Calculate the average price of an order.\n",
    "Hint: Examine the data to see if the 'quantity' column is relevant to this calculation.\n",
    "Hint: Think carefully about the simplest way to do this!\n",
    "\n",
    "* count the number of unique order_id's.  note: you could assume this is 1834 since that's the maximum order_id, but it's best to check\n",
    "* create a list of prices.  note: ignore the 'quantity' column because the 'item_price' takes quantity into account\n",
    "* calculate the average price of an order and round to 2 digits"
   ]
  },
  {
   "cell_type": "code",
   "execution_count": 157,
   "metadata": {
    "collapsed": false
   },
   "outputs": [
    {
     "name": "stdout",
     "output_type": "stream",
     "text": [
      "first five order sum =  [[1, 11.56], [2, 16.98], [3, 12.67], [4, 21.0], [5, 13.7], [6, 17.5]] \n",
      "last five order sum =  [[1830, 23.0], [1831, 12.9], [1832, 13.2], [1833, 23.5], [1834, 28.75]]\n",
      "Average of all order sums= $18.81\n"
     ]
    }
   ],
   "source": [
    "# Answer #1:\n",
    "# I initially interpreted the question to be the average price per each order in a list (i.e. 1834)\n",
    "# Using list comprehension after discussion in class:\n",
    "l = []\n",
    "for i in range(1, int(data[-1][0])+1):\n",
    "    a = [float(price[1:-1]) for id,_,name,_,price in data if int(id) == i]\n",
    "    l.append([i, round(numpy.sum(a),2)])\n",
    "# Printing out the first five and last five entries\n",
    "print \"first five order sum = \", l[0:6], \"\\nlast five order sum = \", l[-5:]\n",
    "# Printing out average of the order sums\n",
    "print \"Average of all order sums= $%.2f\" %(numpy.sum([avg_per_ord for _,avg_per_ord in l])/float(len(l)))"
   ]
  },
  {
   "cell_type": "code",
   "execution_count": 99,
   "metadata": {
    "collapsed": false
   },
   "outputs": [
    {
     "name": "stdout",
     "output_type": "stream",
     "text": [
      "totaled price= 34500.16\n",
      "orders= 1834\n",
      "avg= 18.81\n"
     ]
    }
   ],
   "source": [
    "# Answer #2\n",
    "# In class we did this: easiest way is to add all prices and divide across number of orders\n",
    "total_price = numpy.sum([float(price[1:]) for _,_,_,_,price in data])\n",
    "print \"totaled price= %.2f\\norders= %d\\navg= %.2f\" %(total_price,int(data[-1][0]), total_price/float(data[-1][0]))"
   ]
  },
  {
   "cell_type": "code",
   "execution_count": 77,
   "metadata": {
    "collapsed": false,
    "scrolled": true
   },
   "outputs": [
    {
     "name": "stdout",
     "output_type": "stream",
     "text": [
      "[(1831, 12.9, 4.3), (1832, 13.2, 6.6), (1833, 23.5, 11.75), (1834, 28.75, 9.58)]\n",
      "average of sums= 18.81\n",
      "average of avgs= 7.21\n"
     ]
    }
   ],
   "source": [
    "# Answer #3:\n",
    "# This was my first attempt without using much list comprehensions with nested loops\n",
    "# I also mis-interpreted the question to be an average within an order_id and then\n",
    "# averaging across the averages.\n",
    "row = avg = 0\n",
    "ord_sum = []\n",
    "for id in range(1, int(data[len(data)-1][0]) + 1): # 1834 + 1\n",
    "    qty = tot = 0.0\n",
    "    while (int(data[row][0]) == id):\n",
    "        tot = tot + float(data[row][4].strip(\" \").strip(\"$\"))\n",
    "        qty = qty + int(data[row][1])\n",
    "        avg = tot / qty  # seems like you have to use qty to get avg.\n",
    "        row = row + 1\n",
    "        if row >= len(data):\n",
    "            break;\n",
    "        \n",
    "    tup = (id, float(format(tot, \".2f\")), float(format(avg, \".2f\")))\n",
    "    ord_sum.append(tup)\n",
    "\n",
    "print ord_sum[1830:1835]\n",
    "print \"average of sums= %.2f\" %(numpy.sum([o[1] for o in ord_sum]) / int(data[-1][0]))\n",
    "print \"average of avgs= %.2f\" %(numpy.sum([o[2] for o in ord_sum]) / int(data[-1][0]))\n"
   ]
  },
  {
   "cell_type": "code",
   "execution_count": 98,
   "metadata": {
    "collapsed": false
   },
   "outputs": [
    {
     "data": {
      "text/plain": [
       "18.81"
      ]
     },
     "execution_count": 98,
     "metadata": {},
     "output_type": "execute_result"
    }
   ],
   "source": [
    "# PANDAS:\n",
    "chip_flt = chip[\"item_price\"].str.replace('$','').apply(float)\n",
    "round(float(sum(chip_flt) / chip[len(chip)-1:len(chip)].order_id.apply(int)), 2)\n",
    "# Why can't I use -1 as an index in pandas data frame??\n",
    "# In this case here, I don't think this was any easier than using list comprehension above."
   ]
  },
  {
   "cell_type": "markdown",
   "metadata": {},
   "source": [
    "### PART 4: \n",
    "\n",
    "Create a list (or set) of all unique sodas and soft drinks that they sell.\n",
    "Note: Just look for 'Canned Soda' and 'Canned Soft Drink', and ignore other drinks like 'Izze'."
   ]
  },
  {
   "cell_type": "code",
   "execution_count": 204,
   "metadata": {
    "collapsed": false
   },
   "outputs": [
    {
     "data": {
      "text/plain": [
       "{'Coca Cola',\n",
       " 'Coke',\n",
       " 'Diet Coke',\n",
       " 'Diet Dr. Pepper',\n",
       " 'Dr. Pepper',\n",
       " 'Lemonade',\n",
       " 'Mountain Dew',\n",
       " 'Nestea',\n",
       " 'Sprite'}"
      ]
     },
     "execution_count": 204,
     "metadata": {},
     "output_type": "execute_result"
    }
   ],
   "source": [
    "unique_sodas = set([i[3][1:-1] for i in data if \"Canned\" in i[2]]) \n",
    "unique_sodas"
   ]
  },
  {
   "cell_type": "code",
   "execution_count": 134,
   "metadata": {
    "collapsed": false
   },
   "outputs": [
    {
     "data": {
      "text/plain": [
       "{'Coca Cola',\n",
       " 'Coke',\n",
       " 'Diet Coke',\n",
       " 'Diet Dr. Pepper',\n",
       " 'Dr. Pepper',\n",
       " 'Lemonade',\n",
       " 'Mountain Dew',\n",
       " 'Nestea',\n",
       " 'Sprite'}"
      ]
     },
     "execution_count": 134,
     "metadata": {},
     "output_type": "execute_result"
    }
   ],
   "source": [
    "# PANDAS:\n",
    "bool_chip = chip.item_name.str.contains(\"Canned\")\n",
    "type(bool_chip) # This needs to be a Series, not a list for the statement below to work\n",
    "set(chip[bool_chip].choice_description.str.strip(\"[]\"))"
   ]
  },
  {
   "cell_type": "markdown",
   "metadata": {},
   "source": [
    "### PART 5: \n",
    "\n",
    "Calculate the average number of toppings per burrito.\n",
    "Note: Let's ignore the 'quantity' column to simplify this task.\n",
    "Hint: Think carefully about the easiest way to count the number of toppings!\n",
    "* keep a running total of burritos and toppings, so initalize some counter variables\n",
    "* calculate number of toppings by counting the commas and adding 1\n",
    "* note: x += 1 is equivalent to x = x + 1\n",
    "* loop over the data and update the counters in this way\n",
    "* calculate the average topping count and round to 2 digits"
   ]
  },
  {
   "cell_type": "code",
   "execution_count": 145,
   "metadata": {
    "collapsed": false
   },
   "outputs": [
    {
     "name": "stdout",
     "output_type": "stream",
     "text": [
      "toppings= 6323 burritos= 1172 avg= 5.395\n"
     ]
    }
   ],
   "source": [
    "# Answer #1: Using list comprehension \n",
    "n_tops = 0\n",
    "l = [(desc.count(',')+1) for _,_,name,desc,_ in data if \"Burrito\" in name]\n",
    "n_tops = numpy.sum(l)\n",
    "n_burrs = len(l)\n",
    "\n",
    "print \"toppings= %d burritos= %d avg= %.3f\" %(n_tops, n_burrs, float(n_tops)/n_burrs)"
   ]
  },
  {
   "cell_type": "code",
   "execution_count": 193,
   "metadata": {
    "collapsed": false
   },
   "outputs": [
    {
     "name": "stdout",
     "output_type": "stream",
     "text": [
      "Average # toppings per Burrito type= item_name\n",
      "Barbacoa Burrito    5.143\n",
      "Burrito             5.833\n",
      "Carnitas Burrito    5.373\n",
      "Chicken Burrito     5.329\n",
      "Steak Burrito       5.408\n",
      "Veggie Burrito      5.958\n",
      "Name: commas, dtype: float64\n",
      "\n",
      "Average of averages = 5.507\n",
      "\n",
      "Average across all  = 5.395\n"
     ]
    }
   ],
   "source": [
    "# PANDAS:\n",
    "chip[\"commas\"] = chip.choice_description.str.count(',') + 1\n",
    "burrito = chip[chip.item_name.str.contains(\"Burrito\")]\n",
    "# Note that the statement below was disliked by pandas, because it is a slice of the orig.\n",
    "# burrito[\"commas\"] = burrito.choice_description.str.count(',') + 1\n",
    "# How to format the burrito.groupby(\"item_name\").commas.mean() Series? I used numpy.round()\n",
    "print \"Average # toppings per Burrito type=\", numpy.round(burrito.groupby(\"item_name\").commas.mean(),3)\n",
    "print \"\\nAverage of averages = %.3f\" %(burrito.groupby(\"item_name\").commas.mean().mean())\n",
    "print \"\\nAverage across all  = %.3f\" %(burrito.commas.mean())\n"
   ]
  },
  {
   "cell_type": "code",
   "execution_count": 195,
   "metadata": {
    "collapsed": false
   },
   "outputs": [],
   "source": [
    "# Answer #2:  This was my attempt before class which attempts to average # of toppings per type of burrito\n",
    "# A convoluted way of getting avg per type of Burrito and then calculating overall average using dictionary\n",
    "# and nested loops and no list comprehension\n",
    "import re\n",
    "from __future__ import division\n",
    "d_ords = {}\n",
    "d_tops = {}\n",
    "d_avg = {}\n",
    "unique_b = set([name for _,_,name,_,_ in data if \"Burrito\" in name])\n",
    "for item in data:\n",
    "    if item[2] in unique_b:\n",
    "        if item[2] in d_ords:\n",
    "            d_ords[item[2]] = d_ords[item[2]] + 1\n",
    "            d_tops[item[2]] = d_tops[item[2]] + len([m.start() for m in re.finditer(',', item[3])]) + 1\n",
    "        else:\n",
    "            d_ords[item[2]] = 1\n",
    "            d_tops[item[2]] = len([m.start() for m in re.finditer(',', item[3])]) + 1\n",
    "\n",
    "for i in d_ords:\n",
    "    d_avg[i] = format(d_tops[i] / d_ords[i], \".2f\")"
   ]
  },
  {
   "cell_type": "code",
   "execution_count": 196,
   "metadata": {
    "collapsed": false
   },
   "outputs": [
    {
     "data": {
      "text/plain": [
       "{'Barbacoa Burrito': 91,\n",
       " 'Burrito': 6,\n",
       " 'Carnitas Burrito': 59,\n",
       " 'Chicken Burrito': 553,\n",
       " 'Steak Burrito': 368,\n",
       " 'Veggie Burrito': 95}"
      ]
     },
     "execution_count": 196,
     "metadata": {},
     "output_type": "execute_result"
    }
   ],
   "source": [
    "d_ords"
   ]
  },
  {
   "cell_type": "code",
   "execution_count": 197,
   "metadata": {
    "collapsed": false
   },
   "outputs": [
    {
     "name": "stdout",
     "output_type": "stream",
     "text": [
      "1172\n"
     ]
    }
   ],
   "source": [
    "tot_ord = 0\n",
    "for i in d_ords:\n",
    "    tot_ord += d_ords[i]\n",
    "\n",
    "print tot_ord"
   ]
  },
  {
   "cell_type": "code",
   "execution_count": 198,
   "metadata": {
    "collapsed": false
   },
   "outputs": [
    {
     "data": {
      "text/plain": [
       "{'Barbacoa Burrito': 468,\n",
       " 'Burrito': 35,\n",
       " 'Carnitas Burrito': 317,\n",
       " 'Chicken Burrito': 2947,\n",
       " 'Steak Burrito': 1990,\n",
       " 'Veggie Burrito': 566}"
      ]
     },
     "execution_count": 198,
     "metadata": {},
     "output_type": "execute_result"
    }
   ],
   "source": [
    "d_tops"
   ]
  },
  {
   "cell_type": "code",
   "execution_count": 199,
   "metadata": {
    "collapsed": false
   },
   "outputs": [
    {
     "name": "stdout",
     "output_type": "stream",
     "text": [
      "total # of toppings: 6323\n",
      "average # of toppings: 5.40\n"
     ]
    }
   ],
   "source": [
    "tot_top = 0\n",
    "for i in d_tops:\n",
    "    tot_top += d_tops[i]\n",
    "print \"total # of toppings:\", tot_top\n",
    "print \"average # of toppings: %.2f\" %(float(tot_top) / float(tot_ord))"
   ]
  },
  {
   "cell_type": "code",
   "execution_count": 204,
   "metadata": {
    "collapsed": false
   },
   "outputs": [
    {
     "name": "stdout",
     "output_type": "stream",
     "text": [
      "{'Burrito': '5.83', 'Chicken Burrito': '5.33', 'Barbacoa Burrito': '5.14', 'Veggie Burrito': '5.96', 'Steak Burrito': '5.41', 'Carnitas Burrito': '5.37'}\n",
      "Average of averages: 5.507\n"
     ]
    }
   ],
   "source": [
    "print d_avg\n",
    "print \"Average of averages: %.3f\" %(sum([float(d_avg[a]) for a in d_avg]) / len(d_avg))"
   ]
  },
  {
   "cell_type": "markdown",
   "metadata": {},
   "source": [
    "### PART 6: \n",
    "Create a dictionary in which the keys represent chip orders and the values represent the total number of orders.\n",
    "Expected output: {'Chips and Roasted Chili-Corn Salsa': 18, ... }\n",
    "Note: Please take the 'quantity' column into account!\n",
    "Optional: Learn how to use 'defaultdict' to simplify your code.\n",
    "\n",
    "* start with an empty dictionary\n",
    "* loop over the data rows and do the following - \n",
    "* if chip order is not in dictionary, then add a new key/value pair\n",
    "* if chip order is already in dictionary, then update the value for that key\n",
    "* let's learn about a new way to do this\n",
    "* defaultdict saves you the trouble of checking whether a key already exists"
   ]
  },
  {
   "cell_type": "code",
   "execution_count": 201,
   "metadata": {
    "collapsed": false
   },
   "outputs": [
    {
     "data": {
      "text/plain": [
       "defaultdict(int,\n",
       "            {'Chips': 230,\n",
       "             'Chips and Fresh Tomato Salsa': 130,\n",
       "             'Chips and Guacamole': 506,\n",
       "             'Chips and Mild Fresh Tomato Salsa': 1,\n",
       "             'Chips and Roasted Chili Corn Salsa': 23,\n",
       "             'Chips and Roasted Chili-Corn Salsa': 18,\n",
       "             'Chips and Tomatillo Green Chili Salsa': 45,\n",
       "             'Chips and Tomatillo Red Chili Salsa': 50,\n",
       "             'Chips and Tomatillo-Green Chili Salsa': 33,\n",
       "             'Chips and Tomatillo-Red Chili Salsa': 25,\n",
       "             'Side of Chips': 110})"
      ]
     },
     "execution_count": 201,
     "metadata": {},
     "output_type": "execute_result"
    }
   ],
   "source": [
    "# Answer 1: After class discussion\n",
    "# Is there a way to do this with list comprehension when working with dictionary?\n",
    "from collections import defaultdict\n",
    "d = defaultdict(int)\n",
    "for _,qty,name,_,_ in data \n",
    "    if 'Chip' in name:\n",
    "        d[name] += int(qty)\n",
    "\n",
    "d"
   ]
  },
  {
   "cell_type": "code",
   "execution_count": 229,
   "metadata": {
    "collapsed": false,
    "scrolled": true
   },
   "outputs": [
    {
     "data": {
      "text/plain": [
       "item_name\n",
       "Chips                                    230\n",
       "Chips and Fresh Tomato Salsa             130\n",
       "Chips and Guacamole                      506\n",
       "Chips and Mild Fresh Tomato Salsa          1\n",
       "Chips and Roasted Chili Corn Salsa        23\n",
       "Chips and Roasted Chili-Corn Salsa        18\n",
       "Chips and Tomatillo Green Chili Salsa     45\n",
       "Chips and Tomatillo Red Chili Salsa       50\n",
       "Chips and Tomatillo-Green Chili Salsa     33\n",
       "Chips and Tomatillo-Red Chili Salsa       25\n",
       "Side of Chips                            110\n",
       "Name: quantity, dtype: int64"
      ]
     },
     "execution_count": 229,
     "metadata": {},
     "output_type": "execute_result"
    }
   ],
   "source": [
    "# PANDAS:\n",
    "chip = pd.read_table(\"../data/chipotle.tsv\", sep='\\t')\n",
    "boolean_series = chip.item_name.str.contains(\"Chips\")\n",
    "chip[chip.item_name.str.contains(\"Chips\")].groupby(\"item_name\").quantity.sum()"
   ]
  },
  {
   "cell_type": "code",
   "execution_count": 109,
   "metadata": {
    "collapsed": false
   },
   "outputs": [],
   "source": [
    "# Answer 2:  Before class without list comprehension\n",
    "from collections import defaultdict\n",
    "d = defaultdict(int)\n",
    "for item in data:\n",
    "    found = len([m.start() for m in re.finditer('Chip', item[2])])\n",
    "    if found > 0:\n",
    "        d[item[2]] = d[item[2]] + int(item[1])\n",
    "    "
   ]
  },
  {
   "cell_type": "code",
   "execution_count": 110,
   "metadata": {
    "collapsed": false
   },
   "outputs": [
    {
     "data": {
      "text/plain": [
       "defaultdict(int,\n",
       "            {'Chips': 230,\n",
       "             'Chips and Fresh Tomato Salsa': 130,\n",
       "             'Chips and Guacamole': 506,\n",
       "             'Chips and Mild Fresh Tomato Salsa': 1,\n",
       "             'Chips and Roasted Chili Corn Salsa': 23,\n",
       "             'Chips and Roasted Chili-Corn Salsa': 18,\n",
       "             'Chips and Tomatillo Green Chili Salsa': 45,\n",
       "             'Chips and Tomatillo Red Chili Salsa': 50,\n",
       "             'Chips and Tomatillo-Green Chili Salsa': 33,\n",
       "             'Chips and Tomatillo-Red Chili Salsa': 25,\n",
       "             'Side of Chips': 110})"
      ]
     },
     "execution_count": 110,
     "metadata": {},
     "output_type": "execute_result"
    }
   ],
   "source": [
    "d"
   ]
  },
  {
   "cell_type": "code",
   "execution_count": null,
   "metadata": {
    "collapsed": true
   },
   "outputs": [],
   "source": []
  }
 ],
 "metadata": {
  "kernelspec": {
   "display_name": "Python 2",
   "language": "python",
   "name": "python2"
  },
  "language_info": {
   "codemirror_mode": {
    "name": "ipython",
    "version": 2
   },
   "file_extension": ".py",
   "mimetype": "text/x-python",
   "name": "python",
   "nbconvert_exporter": "python",
   "pygments_lexer": "ipython2",
   "version": "2.7.10"
  }
 },
 "nbformat": 4,
 "nbformat_minor": 0
}
