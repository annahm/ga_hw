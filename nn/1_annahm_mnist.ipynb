{
 "cells": [
  {
   "cell_type": "markdown",
   "metadata": {
    "colab_type": "text",
    "id": "5hIbr52I7Z7U"
   },
   "source": [
    "Deep Learning\n",
    "=============\n",
    "\n",
    "Assignment 1\n",
    "------------\n",
    "\n",
    "The objective of this assignment is to learn about simple data curation practices, and familiarize you with some of the data we'll be reusing later.\n",
    "\n",
    "This notebook uses the [notMNIST](http://yaroslavvb.blogspot.com/2011/09/notmnist-dataset.html) dataset to be used with python experiments. This dataset is designed to look like the classic [MNIST](http://yann.lecun.com/exdb/mnist/) dataset, while looking a little more like real data: it's a harder task, and the data is a lot less 'clean' than MNIST."
   ]
  },
  {
   "cell_type": "code",
   "execution_count": null,
   "metadata": {
    "cellView": "both",
    "colab": {
     "autoexec": {
      "startup": false,
      "wait_interval": 0
     }
    },
    "colab_type": "code",
    "collapsed": true,
    "id": "apJbCsBHl-2A"
   },
   "outputs": [],
   "source": [
    "# These are all the modules we'll be using later. Make sure you can import them\n",
    "# before proceeding further.\n",
    "from __future__ import print_function\n",
    "import matplotlib.pyplot as plt\n",
    "import numpy as np\n",
    "import os\n",
    "import sys\n",
    "import tarfile\n",
    "from IPython.display import display, Image\n",
    "from scipy import ndimage\n",
    "from sklearn.linear_model import LogisticRegression\n",
    "from six.moves.urllib.request import urlretrieve\n",
    "from six.moves import cPickle as pickle\n",
    "%matplotlib inline"
   ]
  },
  {
   "cell_type": "markdown",
   "metadata": {
    "colab_type": "text",
    "id": "jNWGtZaXn-5j"
   },
   "source": [
    "First, we'll download the dataset to our local machine. The data consists of characters rendered in a variety of fonts on a 28x28 image. The labels are limited to 'A' through 'J' (10 classes). The training set has about 500k and the testset 19000 labelled examples. Given these sizes, it should be possible to train models quickly on any machine."
   ]
  },
  {
   "cell_type": "code",
   "execution_count": null,
   "metadata": {
    "cellView": "both",
    "colab": {
     "autoexec": {
      "startup": false,
      "wait_interval": 0
     },
     "output_extras": [
      {
       "item_id": 1
      }
     ]
    },
    "colab_type": "code",
    "collapsed": false,
    "executionInfo": {
     "elapsed": 186058,
     "status": "ok",
     "timestamp": 1444485672507,
     "user": {
      "color": "#1FA15D",
      "displayName": "Vincent Vanhoucke",
      "isAnonymous": false,
      "isMe": true,
      "permissionId": "05076109866853157986",
      "photoUrl": "//lh6.googleusercontent.com/-cCJa7dTDcgQ/AAAAAAAAAAI/AAAAAAAACgw/r2EZ_8oYer4/s50-c-k-no/photo.jpg",
      "sessionId": "2a0a5e044bb03b66",
      "userId": "102167687554210253930"
     },
     "user_tz": 420
    },
    "id": "EYRJ4ICW6-da",
    "outputId": "0d0f85df-155f-4a89-8e7e-ee32df36ec8d"
   },
   "outputs": [],
   "source": [
    "url = 'http://yaroslavvb.com/upload/notMNIST/'\n",
    "\n",
    "def maybe_download(filename, expected_bytes, force=False):\n",
    "  \"\"\"Download a file if not present, and make sure it's the right size.\"\"\"\n",
    "  if force or not os.path.exists(filename):\n",
    "    filename, _ = urlretrieve(url + filename, filename)\n",
    "  statinfo = os.stat(filename)\n",
    "  if statinfo.st_size == expected_bytes:\n",
    "    print('Found and verified', filename)\n",
    "  else:\n",
    "    raise Exception(\n",
    "      'Failed to verify' + filename + '. Can you get to it with a browser?')\n",
    "  return filename\n",
    "\n",
    "train_filename = maybe_download('notMNIST_large.tar.gz', 247336696)\n",
    "test_filename = maybe_download('notMNIST_small.tar.gz', 8458043)"
   ]
  },
  {
   "cell_type": "markdown",
   "metadata": {
    "colab_type": "text",
    "id": "cC3p0oEyF8QT"
   },
   "source": [
    "Extract the dataset from the compressed .tar.gz file.\n",
    "This should give you a set of directories, labelled A through J."
   ]
  },
  {
   "cell_type": "code",
   "execution_count": null,
   "metadata": {
    "cellView": "both",
    "colab": {
     "autoexec": {
      "startup": false,
      "wait_interval": 0
     },
     "output_extras": [
      {
       "item_id": 1
      }
     ]
    },
    "colab_type": "code",
    "collapsed": false,
    "executionInfo": {
     "elapsed": 186055,
     "status": "ok",
     "timestamp": 1444485672525,
     "user": {
      "color": "#1FA15D",
      "displayName": "Vincent Vanhoucke",
      "isAnonymous": false,
      "isMe": true,
      "permissionId": "05076109866853157986",
      "photoUrl": "//lh6.googleusercontent.com/-cCJa7dTDcgQ/AAAAAAAAAAI/AAAAAAAACgw/r2EZ_8oYer4/s50-c-k-no/photo.jpg",
      "sessionId": "2a0a5e044bb03b66",
      "userId": "102167687554210253930"
     },
     "user_tz": 420
    },
    "id": "H8CBE-WZ8nmj",
    "outputId": "ef6c790c-2513-4b09-962e-27c79390c762"
   },
   "outputs": [],
   "source": [
    "num_classes = 10\n",
    "np.random.seed(133)\n",
    "\n",
    "def maybe_extract(filename, force=False):\n",
    "  root = os.path.splitext(os.path.splitext(filename)[0])[0]  # remove .tar.gz\n",
    "  if os.path.isdir(root) and not force:\n",
    "    # You may override by setting force=True.\n",
    "    print('%s already present - Skipping extraction of %s.' % (root, filename))\n",
    "  else:\n",
    "    print('Extracting data for %s. This may take a while. Please wait.' % root)\n",
    "    tar = tarfile.open(filename)\n",
    "    sys.stdout.flush()\n",
    "    tar.extractall()\n",
    "    tar.close()\n",
    "  data_folders = [\n",
    "    os.path.join(root, d) for d in sorted(os.listdir(root))\n",
    "    if os.path.isdir(os.path.join(root, d))]\n",
    "  if len(data_folders) != num_classes:\n",
    "    raise Exception(\n",
    "      'Expected %d folders, one per class. Found %d instead.' % (\n",
    "        num_classes, len(data_folders)))\n",
    "  print(data_folders)\n",
    "  return data_folders\n",
    "  \n",
    "train_folders = maybe_extract(train_filename)\n",
    "test_folders = maybe_extract(test_filename)"
   ]
  },
  {
   "cell_type": "markdown",
   "metadata": {
    "colab_type": "text",
    "id": "4riXK3IoHgx6"
   },
   "source": [
    "---\n",
    "Problem 1\n",
    "---------\n",
    "\n",
    "Let's take a peek at some of the data to make sure it looks sensible. Each exemplar should be an image of a character A through J rendered in a different font. Display a sample of the images that we just downloaded. Hint: you can use the package IPython.display.\n",
    "\n",
    "---"
   ]
  },
  {
   "cell_type": "code",
   "execution_count": null,
   "metadata": {
    "collapsed": true
   },
   "outputs": [],
   "source": [
    "from IPython.display import Image"
   ]
  },
  {
   "cell_type": "code",
   "execution_count": null,
   "metadata": {
    "collapsed": false
   },
   "outputs": [],
   "source": [
    "Image(filename='./notMNIST_small/A/MDEtMDEtMDAudHRm.png')"
   ]
  },
  {
   "cell_type": "markdown",
   "metadata": {
    "colab_type": "text",
    "id": "PBdkjESPK8tw"
   },
   "source": [
    "Now let's load the data in a more manageable format. Since, depending on your computer setup you might not be able to fit it all in memory, we'll load each class into a separate dataset, store them on disk and curate them independently. Later we'll merge them into a single dataset of manageable size.\n",
    "\n",
    "We'll convert the entire dataset into a 3D array (image index, x, y) of floating point values, normalized to have approximately zero mean and standard deviation ~0.5 to make training easier down the road. \n",
    "\n",
    "A few images might not be readable, we'll just skip them."
   ]
  },
  {
   "cell_type": "code",
   "execution_count": null,
   "metadata": {
    "cellView": "both",
    "colab": {
     "autoexec": {
      "startup": false,
      "wait_interval": 0
     },
     "output_extras": [
      {
       "item_id": 30
      }
     ]
    },
    "colab_type": "code",
    "collapsed": false,
    "executionInfo": {
     "elapsed": 399874,
     "status": "ok",
     "timestamp": 1444485886378,
     "user": {
      "color": "#1FA15D",
      "displayName": "Vincent Vanhoucke",
      "isAnonymous": false,
      "isMe": true,
      "permissionId": "05076109866853157986",
      "photoUrl": "//lh6.googleusercontent.com/-cCJa7dTDcgQ/AAAAAAAAAAI/AAAAAAAACgw/r2EZ_8oYer4/s50-c-k-no/photo.jpg",
      "sessionId": "2a0a5e044bb03b66",
      "userId": "102167687554210253930"
     },
     "user_tz": 420
    },
    "id": "h7q0XhG3MJdf",
    "outputId": "92c391bb-86ff-431d-9ada-315568a19e59"
   },
   "outputs": [],
   "source": [
    "image_size = 28  # Pixel width and height.\n",
    "pixel_depth = 255.0  # Number of levels per pixel.\n",
    "\n",
    "def load_letter(folder, min_num_images):\n",
    "  \"\"\"Load the data for a single letter label.\"\"\"\n",
    "  image_files = os.listdir(folder)\n",
    "  dataset = np.ndarray(shape=(len(image_files), image_size, image_size),\n",
    "                         dtype=np.float32)\n",
    "  image_index = 0\n",
    "  print(folder)\n",
    "  for image in os.listdir(folder):\n",
    "    image_file = os.path.join(folder, image)\n",
    "    try:\n",
    "      # This is how the 28x28 bitmap is normalized\n",
    "      image_data = (ndimage.imread(image_file).astype(float) - \n",
    "                    pixel_depth / 2) / pixel_depth\n",
    "      if image_data.shape != (image_size, image_size):\n",
    "        raise Exception('Unexpected image shape: %s' % str(image_data.shape))\n",
    "      dataset[image_index, :, :] = image_data\n",
    "      image_index += 1\n",
    "    except IOError as e:\n",
    "      print('Could not read:', image_file, ':', e, '- it\\'s ok, skipping.')\n",
    "    \n",
    "  num_images = image_index\n",
    "  dataset = dataset[0:num_images, :, :]\n",
    "  if num_images < min_num_images:\n",
    "    raise Exception('Many fewer images than expected: %d < %d' %\n",
    "                    (num_images, min_num_images))\n",
    "    \n",
    "  print('Full dataset tensor:', dataset.shape)\n",
    "  print('Mean:', np.mean(dataset))\n",
    "  print('Standard deviation:', np.std(dataset))\n",
    "  return dataset\n",
    "        \n",
    "def maybe_pickle(data_folders, min_num_images_per_class, force=False):\n",
    "  dataset_names = []\n",
    "  for folder in data_folders:\n",
    "    set_filename = folder + '.pickle'\n",
    "    dataset_names.append(set_filename)\n",
    "    if os.path.exists(set_filename) and not force:\n",
    "      # You may override by setting force=True.\n",
    "      print('%s already present - Skipping pickling.' % set_filename)\n",
    "    else:\n",
    "      print('Pickling %s.' % set_filename)\n",
    "      dataset = load_letter(folder, min_num_images_per_class)\n",
    "      try:\n",
    "        with open(set_filename, 'wb') as f:\n",
    "          pickle.dump(dataset, f, pickle.HIGHEST_PROTOCOL)\n",
    "      except Exception as e:\n",
    "        print('Unable to save data to', set_filename, ':', e)\n",
    "  \n",
    "  return dataset_names\n",
    "\n",
    "train_datasets = maybe_pickle(train_folders, 45000)\n",
    "test_datasets = maybe_pickle(test_folders, 1800)"
   ]
  },
  {
   "cell_type": "markdown",
   "metadata": {
    "colab_type": "text",
    "id": "vUdbskYE2d87"
   },
   "source": [
    "---\n",
    "Problem 2\n",
    "---------\n",
    "\n",
    "Let's verify that the data still looks good. Displaying a sample of the labels and images from the ndarray. Hint: you can use matplotlib.pyplot.\n",
    "\n",
    "---"
   ]
  },
  {
   "cell_type": "code",
   "execution_count": null,
   "metadata": {
    "collapsed": false
   },
   "outputs": [],
   "source": [
    "Ap = pickle.load(open('./notMNIST_large/A.pickle', 'r'))"
   ]
  },
  {
   "cell_type": "code",
   "execution_count": null,
   "metadata": {
    "collapsed": true
   },
   "outputs": [],
   "source": [
    "%matplotlib inline"
   ]
  },
  {
   "cell_type": "code",
   "execution_count": null,
   "metadata": {
    "collapsed": false
   },
   "outputs": [],
   "source": [
    "plt.subplot(321)\n",
    "plt.imshow(Ap[0,:,:])\n",
    "\n",
    "plt.subplot(322)\n",
    "plt.imshow(Ap[1,:,:])\n",
    "\n",
    "plt.subplot(323)\n",
    "plt.imshow(Ap[2,:,:])\n",
    "\n",
    "plt.subplot(324)\n",
    "plt.imshow(Ap[3,:,:])\n",
    "\n",
    "plt.subplot(325)\n",
    "plt.imshow(Ap[3,:,:])"
   ]
  },
  {
   "cell_type": "markdown",
   "metadata": {
    "colab_type": "text",
    "id": "cYznx5jUwzoO"
   },
   "source": [
    "---\n",
    "Problem 3\n",
    "---------\n",
    "Another check: we expect the data to be balanced across classes. Verify that.\n",
    "\n",
    "---"
   ]
  },
  {
   "cell_type": "code",
   "execution_count": null,
   "metadata": {
    "collapsed": false
   },
   "outputs": [],
   "source": [
    "def getSampleSizes(directory):\n",
    "    pickles = [f for f in os.listdir(directory) if (len(f.split('.')) > 1) and (f.split('.')[1] == 'pickle')]\n",
    "    tups = []\n",
    "    for p in pickles:\n",
    "        dataset = pickle.load(open(directory + '/' + p, 'r'))\n",
    "        tups.append((p,len(dataset)))\n",
    "    return tups"
   ]
  },
  {
   "cell_type": "code",
   "execution_count": null,
   "metadata": {
    "collapsed": false
   },
   "outputs": [],
   "source": [
    "training_sizes = getSampleSizes('./notMNIST_large')"
   ]
  },
  {
   "cell_type": "code",
   "execution_count": null,
   "metadata": {
    "collapsed": false
   },
   "outputs": [],
   "source": [
    "training_sizes"
   ]
  },
  {
   "cell_type": "code",
   "execution_count": null,
   "metadata": {
    "collapsed": true
   },
   "outputs": [],
   "source": [
    "testing_sizes = getSampleSizes('./notMNIST_small')"
   ]
  },
  {
   "cell_type": "code",
   "execution_count": null,
   "metadata": {
    "collapsed": false
   },
   "outputs": [],
   "source": [
    "testing_sizes"
   ]
  },
  {
   "cell_type": "markdown",
   "metadata": {
    "colab_type": "text",
    "id": "LA7M7K22ynCt"
   },
   "source": [
    "Merge and prune the training data as needed. Depending on your computer setup, you might not be able to fit it all in memory, and you can tune `train_size` as needed. The labels will be stored into a separate array of integers 0 through 9.\n",
    "\n",
    "Also create a validation dataset for hyperparameter tuning."
   ]
  },
  {
   "cell_type": "code",
   "execution_count": null,
   "metadata": {
    "cellView": "both",
    "colab": {
     "autoexec": {
      "startup": false,
      "wait_interval": 0
     },
     "output_extras": [
      {
       "item_id": 1
      }
     ]
    },
    "colab_type": "code",
    "collapsed": false,
    "executionInfo": {
     "elapsed": 411281,
     "status": "ok",
     "timestamp": 1444485897869,
     "user": {
      "color": "#1FA15D",
      "displayName": "Vincent Vanhoucke",
      "isAnonymous": false,
      "isMe": true,
      "permissionId": "05076109866853157986",
      "photoUrl": "//lh6.googleusercontent.com/-cCJa7dTDcgQ/AAAAAAAAAAI/AAAAAAAACgw/r2EZ_8oYer4/s50-c-k-no/photo.jpg",
      "sessionId": "2a0a5e044bb03b66",
      "userId": "102167687554210253930"
     },
     "user_tz": 420
    },
    "id": "s3mWgZLpyuzq",
    "outputId": "8af66da6-902d-4719-bedc-7c9fb7ae7948"
   },
   "outputs": [],
   "source": [
    "def make_arrays(nb_rows, img_size):\n",
    "  if nb_rows:\n",
    "    dataset = np.ndarray((nb_rows, img_size, img_size), dtype=np.float32)\n",
    "    labels = np.ndarray(nb_rows, dtype=np.int32)\n",
    "  else:\n",
    "    dataset, labels = None, None\n",
    "  return dataset, labels\n",
    "\n",
    "def merge_datasets(pickle_files, train_size, valid_size=0):\n",
    "  num_classes = len(pickle_files)\n",
    "  valid_dataset, valid_labels = make_arrays(valid_size, image_size)\n",
    "  train_dataset, train_labels = make_arrays(train_size, image_size)\n",
    "  # This makes sure that for each letter you get the same # of samples\n",
    "  vsize_per_class = valid_size // num_classes\n",
    "  tsize_per_class = train_size // num_classes\n",
    "    \n",
    "  start_v, start_t = 0, 0\n",
    "  end_v, end_t = vsize_per_class, tsize_per_class\n",
    "  end_l = vsize_per_class+tsize_per_class\n",
    "  for label, pickle_file in enumerate(pickle_files):       \n",
    "    try:\n",
    "      with open(pickle_file, 'rb') as f:\n",
    "        letter_set = pickle.load(f)\n",
    "        # let's shuffle the/ letters to have random validation and training set\n",
    "        # this shuffles the stack of 28x28 bitmaps from 3D matrix from pkl file\n",
    "        np.random.shuffle(letter_set)\n",
    "        if valid_dataset is not None:\n",
    "          # A slice of vsize_per_class per letter\n",
    "          valid_letter = letter_set[:vsize_per_class, :, :]\n",
    "          # valid_dataset is matrix of As, Bs, Cs,.. each vsize_per_class samples\n",
    "          valid_dataset[start_v:end_v, :, :] = valid_letter\n",
    "          # corresponding label but designated 0-10 for each letter\n",
    "          valid_labels[start_v:end_v] = label\n",
    "          # start/end_v incremented by vsize_per_class so rows of next class can be appended\n",
    "          start_v += vsize_per_class\n",
    "          end_v += vsize_per_class\n",
    "                    \n",
    "        train_letter = letter_set[vsize_per_class:end_l, :, :]\n",
    "        train_dataset[start_t:end_t, :, :] = train_letter\n",
    "        train_labels[start_t:end_t] = label\n",
    "        start_t += tsize_per_class\n",
    "        end_t += tsize_per_class\n",
    "    except Exception as e:\n",
    "      print('Unable to process data from', pickle_file, ':', e)\n",
    "      raise\n",
    "    \n",
    "  return valid_dataset, valid_labels, train_dataset, train_labels\n",
    "            \n",
    "            \n",
    "train_size = 200000\n",
    "valid_size = 10000\n",
    "test_size = 10000\n",
    "\n",
    "valid_dataset, valid_labels, train_dataset, train_labels = merge_datasets(\n",
    "  train_datasets, train_size, valid_size)\n",
    "_, _, test_dataset, test_labels = merge_datasets(test_datasets, test_size)\n",
    "\n",
    "print('Training:', train_dataset.shape, train_labels.shape)\n",
    "print('Validation:', valid_dataset.shape, valid_labels.shape)\n",
    "print('Testing:', test_dataset.shape, test_labels.shape)\n",
    "print('Valid & Test labels:', len(valid_labels), len(test_labels))"
   ]
  },
  {
   "cell_type": "markdown",
   "metadata": {
    "colab_type": "text",
    "id": "GPTCnjIcyuKN"
   },
   "source": [
    "Next, we'll randomize the data. It's important to have the labels well shuffled for the training and test distributions to match."
   ]
  },
  {
   "cell_type": "code",
   "execution_count": null,
   "metadata": {
    "cellView": "both",
    "colab": {
     "autoexec": {
      "startup": false,
      "wait_interval": 0
     }
    },
    "colab_type": "code",
    "collapsed": true,
    "id": "6WZ2l2tN2zOL"
   },
   "outputs": [],
   "source": [
    "def randomize(dataset, labels):\n",
    "  permutation = np.random.permutation(labels.shape[0])\n",
    "  shuffled_dataset = dataset[permutation,:,:]\n",
    "  shuffled_labels = labels[permutation]\n",
    "  return shuffled_dataset, shuffled_labels\n",
    "train_dataset, train_labels = randomize(train_dataset, train_labels)\n",
    "test_dataset, test_labels = randomize(test_dataset, test_labels)\n",
    "valid_dataset, valid_labels = randomize(valid_dataset, valid_labels)"
   ]
  },
  {
   "cell_type": "markdown",
   "metadata": {
    "colab_type": "text",
    "id": "puDUTe6t6USl"
   },
   "source": [
    "---\n",
    "Problem 4\n",
    "---------\n",
    "Convince yourself that the data is still good after shuffling!\n",
    "\n",
    "---"
   ]
  },
  {
   "cell_type": "code",
   "execution_count": null,
   "metadata": {
    "collapsed": false,
    "scrolled": true
   },
   "outputs": [],
   "source": [
    "%matplotlib inline\n",
    "plt.rcParams['figure.figsize'] = (8,6)\n",
    "letter = ['A','B','C','D','E','F','G','H','I', 'J']\n",
    "for label, i in enumerate(range(12, 21)):  \n",
    "    \n",
    "    plt.subplot(521 + label)\n",
    "    plt.imshow(train_dataset[i,:,:])\n",
    "    print(letter[train_labels[i]])"
   ]
  },
  {
   "cell_type": "markdown",
   "metadata": {
    "colab_type": "text",
    "id": "tIQJaJuwg5Hw"
   },
   "source": [
    "Finally, let's save the data for later reuse:"
   ]
  },
  {
   "cell_type": "code",
   "execution_count": null,
   "metadata": {
    "cellView": "both",
    "colab": {
     "autoexec": {
      "startup": false,
      "wait_interval": 0
     }
    },
    "colab_type": "code",
    "collapsed": true,
    "id": "QiR_rETzem6C"
   },
   "outputs": [],
   "source": [
    "pickle_file = 'notMNIST.pickle'\n",
    "\n",
    "try:\n",
    "  f = open(pickle_file, 'wb')\n",
    "  save = {\n",
    "    'train_dataset': train_dataset,\n",
    "    'train_labels': train_labels,\n",
    "    'valid_dataset': valid_dataset,\n",
    "    'valid_labels': valid_labels,\n",
    "    'test_dataset': test_dataset,\n",
    "    'test_labels': test_labels,\n",
    "    }\n",
    "  pickle.dump(save, f, pickle.HIGHEST_PROTOCOL)\n",
    "  f.close()\n",
    "except Exception as e:\n",
    "  print('Unable to save data to', pickle_file, ':', e)\n",
    "  raise"
   ]
  },
  {
   "cell_type": "code",
   "execution_count": null,
   "metadata": {
    "cellView": "both",
    "colab": {
     "autoexec": {
      "startup": false,
      "wait_interval": 0
     },
     "output_extras": [
      {
       "item_id": 1
      }
     ]
    },
    "colab_type": "code",
    "collapsed": false,
    "executionInfo": {
     "elapsed": 413065,
     "status": "ok",
     "timestamp": 1444485899688,
     "user": {
      "color": "#1FA15D",
      "displayName": "Vincent Vanhoucke",
      "isAnonymous": false,
      "isMe": true,
      "permissionId": "05076109866853157986",
      "photoUrl": "//lh6.googleusercontent.com/-cCJa7dTDcgQ/AAAAAAAAAAI/AAAAAAAACgw/r2EZ_8oYer4/s50-c-k-no/photo.jpg",
      "sessionId": "2a0a5e044bb03b66",
      "userId": "102167687554210253930"
     },
     "user_tz": 420
    },
    "id": "hQbLjrW_iT39",
    "outputId": "b440efc6-5ee1-4cbc-d02d-93db44ebd956"
   },
   "outputs": [],
   "source": [
    "statinfo = os.stat(pickle_file)\n",
    "print('Compressed pickle size:', statinfo.st_size)"
   ]
  },
  {
   "cell_type": "markdown",
   "metadata": {
    "colab_type": "text",
    "id": "gE_cRAQB33lk"
   },
   "source": [
    "---\n",
    "Problem 5\n",
    "---------\n",
    "\n",
    "By construction, this dataset might contain a lot of overlapping samples, including training data that's also contained in the validation and test set! Overlap between training and test can skew the results if you expect to use your model in an environment where there is never an overlap, but are actually ok if you expect to see training samples recur when you use it.\n",
    "Measure how much overlap there is between training, validation and test samples.\n",
    "\n",
    "Optional questions:\n",
    "- What about near duplicates between datasets? (images that are almost identical)\n",
    "- Create a sanitized validation and test set, and compare your accuracy on those in subsequent assignments.\n",
    "---"
   ]
  },
  {
   "cell_type": "markdown",
   "metadata": {},
   "source": [
    "##### Find Duplicates"
   ]
  },
  {
   "cell_type": "code",
   "execution_count": null,
   "metadata": {
    "collapsed": false
   },
   "outputs": [],
   "source": [
    "def getIndexesFromLabels(labels):\n",
    "    indices = {}\n",
    "    for letter in range(10):\n",
    "        indices[letter] = np.where(labels == letter)[0]\n",
    "    return indices\n",
    "\n",
    "def getDuplicates(a_idx, b_idx, dataset_a, dataset_b):\n",
    "    letter = 0\n",
    "    dup_ab = []\n",
    "    for v in a_idx:\n",
    "        for t in b_idx:\n",
    "            if np.array_equal(dataset_a[v,:,:], dataset_b[t,:,:]) == True:\n",
    "                dup_ab.append((v,t))\n",
    "\n",
    "    return dup_ab\n",
    "\n",
    "def findDuplicates():\n",
    "    alphabet = ['A','B','C','D','E','F','G','H','I', 'J']\n",
    "    v_tr_dups = []\n",
    "    v_ts_dups = []\n",
    "    tr_ts_dups = []\n",
    "    \n",
    "    vd_idx = getIndexesFromLabels(valid_labels)\n",
    "    tr_idx = getIndexesFromLabels(train_labels)\n",
    "    ts_idx = getIndexesFromLabels(test_labels)\n",
    "\n",
    "    for letter in range(10):\n",
    "        v_tr_dups = v_tr_dups + getDuplicates(vd_idx[letter], tr_idx[letter], valid_dataset, train_dataset)\n",
    "        v_ts_dups = v_ts_dups + getDuplicates(vd_idx[letter], ts_idx[letter], valid_dataset, test_dataset)\n",
    "        tr_ts_dups = tr_ts_dups + getDuplicates(tr_idx[letter], ts_idx[letter], train_dataset, test_dataset)\n",
    "        print(alphabet[letter], 'Train/Test Dups:', len(tr_ts_dups), 'Valid/Test Dups:', len(v_ts_dups), 'Valid/Train Dups:', len(v_tr_dups))\n",
    "        \n",
    "    return v_tr_dups, v_ts_dups, tr_ts_dups\n",
    "\n",
    "valid_train_dups, valid_test_dups, train_test_dups = findDuplicates()"
   ]
  },
  {
   "cell_type": "markdown",
   "metadata": {},
   "source": [
    "##### Spot check duplicates"
   ]
  },
  {
   "cell_type": "code",
   "execution_count": null,
   "metadata": {
    "collapsed": false
   },
   "outputs": [],
   "source": [
    "print(valid_test_dups[0:2], train_test_dups[0:2], valid_train_dups[0:2])"
   ]
  },
  {
   "cell_type": "code",
   "execution_count": null,
   "metadata": {
    "collapsed": true
   },
   "outputs": [],
   "source": [
    "plt.rcParams['figure.figsize'] = (6,5)\n",
    "plt.subplot(321)\n",
    "plt.imshow(valid_dataset[383,:,:])\n",
    "plt.subplot(322)\n",
    "plt.imshow(test_dataset[3461,:,:])\n",
    "plt.subplot(323)\n",
    "plt.imshow(train_dataset[108,:,:])\n",
    "plt.subplot(324)\n",
    "plt.imshow(test_dataset[5684,:,:])\n",
    "plt.subplot(325)\n",
    "plt.imshow(valid_dataset[129,:,:])\n",
    "plt.subplot(326)\n",
    "plt.imshow(train_dataset[195428,:,:])"
   ]
  },
  {
   "cell_type": "code",
   "execution_count": null,
   "metadata": {
    "collapsed": false
   },
   "outputs": [],
   "source": [
    "plt.rcParams['figure.figsize'] = (6,5)\n",
    "plt.subplot(321)\n",
    "plt.imshow(valid_dataset[3810,:,:])\n",
    "plt.subplot(322)\n",
    "plt.imshow(test_dataset[107,:,:])\n",
    "plt.subplot(323)\n",
    "plt.imshow(train_dataset[855,:,:])\n",
    "plt.subplot(324)\n",
    "plt.imshow(test_dataset[415,:,:])\n",
    "plt.subplot(325)\n",
    "plt.imshow(valid_dataset[414,:,:])\n",
    "plt.subplot(326)\n",
    "plt.imshow(train_dataset[165327,:,:])"
   ]
  },
  {
   "cell_type": "markdown",
   "metadata": {},
   "source": [
    "##### Measure how much overlap in datasets"
   ]
  },
  {
   "cell_type": "code",
   "execution_count": null,
   "metadata": {
    "collapsed": false
   },
   "outputs": [],
   "source": [
    "# Get unique indexes of duplicate pixel maps to remove\n",
    "def indexesToRemove(valid_train_dups, valid_test_dups, train_test_dups):\n",
    "    valid_index_del = list(set([tup[0] for tup in valid_train_dups] + [tup[0] for tup in valid_test_dups]))\n",
    "    print('# VALID dups: %d  Pct: %6.4f%%' %(len(valid_index_del), 100*len(valid_index_del)/float(len(valid_dataset))))\n",
    "    test_index_del = list(set([tup[1] for tup in train_test_dups] + [tup[1] for tup in valid_test_dups]))\n",
    "    print('# TEST  dups: %d  Pct: %6.4f%%' %(len(test_index_del), 100*len(test_index_del)/float(len(test_dataset))))\n",
    "    train_index_del = list(set([tup[0] for tup in train_test_dups] + [tup[1] for tup in valid_train_dups]))\n",
    "    print('# TRAIN dups: %d  Pct: %6.4f%%' %(len(train_index_del), 100*len(train_index_del)/float(len(train_dataset))))\n",
    "    \n",
    "    return valid_index_del, test_index_del, train_index_del\n",
    "\n",
    "valid_index_del, test_index_del, train_index_del = indexesToRemove(valid_train_dups, valid_test_dups, train_test_dups)"
   ]
  },
  {
   "cell_type": "markdown",
   "metadata": {},
   "source": [
    "##### Sanitize (remove dups and/or near-dups)"
   ]
  },
  {
   "cell_type": "code",
   "execution_count": null,
   "metadata": {
    "collapsed": false
   },
   "outputs": [],
   "source": [
    "def sanitizeData(ds, ds_labels, remove_list):\n",
    "    temp_ds = np.ndarray(shape=(len(ds)-len(remove_list), \n",
    "              image_size, image_size), dtype=np.float32)\n",
    "    temp_lb = np.ndarray(shape=(len(ds)-len(remove_list), 1), dtype=np.short)\n",
    "    start=0\n",
    "    for indx in range(0, len(ds)):\n",
    "        if indx not in remove_list:\n",
    "            temp_ds[start, :, :] = ds[indx]\n",
    "            temp_lb[start] = ds_labels[indx]\n",
    "            start += 1\n",
    "    return temp_ds, temp_lb\n",
    "\n",
    "sanitized_test_ds, sanitized_test_lbl = sanitizeData(test_dataset, test_labels, test_index_del)\n",
    "print('sanitized test shape: %s  orig shape: %s  length remove: %d  labels: %d' \n",
    "      %(sanitized_test_ds.shape, test_dataset.shape, len(test_index_del), len(sanitized_test_lbl)))\n",
    "sanitized_train_ds, sanitized_train_lbl = sanitizeData(train_dataset, train_labels, train_index_del)\n",
    "print('sanitized train shape: %s  orig shape: %s  length remove: %d  labels: %d' \n",
    "      %(sanitized_train_ds.shape, train_dataset.shape, len(train_index_del), len(sanitized_train_lbl)))\n",
    "sanitized_valid_ds, sanitized_valid_lbl = sanitizeData(valid_dataset, valid_labels, valid_index_del)\n",
    "print('sanitized valid shape: %s  orig shape: %s  length remove: %d  labels: %d' \n",
    "      %(sanitized_valid_ds.shape, valid_dataset.shape, len(valid_index_del), len(sanitized_valid_lbl)))"
   ]
  },
  {
   "cell_type": "code",
   "execution_count": null,
   "metadata": {
    "collapsed": true
   },
   "outputs": [],
   "source": [
    "sanitize_pickle_file = 'no_dups.pickle'\n",
    "\n",
    "try:\n",
    "  f = open(sanitize_pickle_file, 'wb')\n",
    "  save = {\n",
    "    'sanitized_train_dataset': sanitized_train_ds,\n",
    "    'sanitized_train_labels': sanitized_train_lbl,\n",
    "    'sanitized_valid_dataset': sanitized_valid_ds,\n",
    "    'sanitized_valid_labels': sanitized_valid_lbl,\n",
    "    'sanitized_test_dataset': sanitized_test_ds,\n",
    "    'sanitized_test_labels': sanitized_test_lbl,\n",
    "    }\n",
    "  pickle.dump(save, f, pickle.HIGHEST_PROTOCOL)\n",
    "  f.close()\n",
    "except Exception as e:\n",
    "  print('Unable to save data to', sanitize_pickle_file, ':', e)\n",
    "  raise"
   ]
  },
  {
   "cell_type": "markdown",
   "metadata": {},
   "source": [
    "##### Load Sanitized Data set"
   ]
  },
  {
   "cell_type": "code",
   "execution_count": 1,
   "metadata": {
    "collapsed": false
   },
   "outputs": [],
   "source": [
    "import pickle\n",
    "d = pickle.load(open('./no_dups.pickle','r'))"
   ]
  },
  {
   "cell_type": "code",
   "execution_count": 2,
   "metadata": {
    "collapsed": true
   },
   "outputs": [],
   "source": [
    "sanitized_test_ds = d['sanitized_test_dataset']\n",
    "sanitized_test_lbl =  d['sanitized_test_labels']\n",
    "sanitized_train_ds = d['sanitized_train_dataset']\n",
    "sanitized_train_lbl = d['sanitized_train_labels']\n",
    "sanitized_valid_ds = d['sanitized_valid_dataset']\n",
    "sanitized_valid_lbl = d['sanitized_valid_labels']"
   ]
  },
  {
   "cell_type": "code",
   "execution_count": 41,
   "metadata": {
    "collapsed": false
   },
   "outputs": [
    {
     "name": "stdout",
     "output_type": "stream",
     "text": [
      "('should be len 8672', (8672, 28, 28), (8672, 1))\n",
      "('should be len 195296', (195296, 28, 28), (195296, 1))\n",
      "('should be len 8848', (8848, 28, 28), (8848, 1))\n"
     ]
    }
   ],
   "source": [
    "print('should be len 8672', sanitized_test_ds.shape, sanitized_test_lbl.shape)\n",
    "print('should be len 195296', sanitized_train_ds.shape, sanitized_train_lbl.shape)\n",
    "print('should be len 8848', sanitized_valid_ds.shape, sanitized_valid_lbl.shape)"
   ]
  },
  {
   "cell_type": "code",
   "execution_count": 4,
   "metadata": {
    "collapsed": false,
    "scrolled": true
   },
   "outputs": [
    {
     "name": "stdout",
     "output_type": "stream",
     "text": [
      "('I', 108292)\n"
     ]
    },
    {
     "name": "stderr",
     "output_type": "stream",
     "text": [
      "/home/anna/anaconda2/lib/python2.7/site-packages/ipykernel/__main__.py:7: DeprecationWarning: converting an array with ndim > 0 to an index will result in an error in the future\n"
     ]
    },
    {
     "data": {
      "text/plain": [
       "<matplotlib.image.AxesImage at 0x7fc3ec0fe510>"
      ]
     },
     "execution_count": 4,
     "metadata": {},
     "output_type": "execute_result"
    },
    {
     "data": {
      "image/png": "[encoded data removed]",
      "text/plain": [
       "<matplotlib.figure.Figure at 0x7fc43a497dd0>"
      ]
     },
     "metadata": {},
     "output_type": "display_data"
    }
   ],
   "source": [
    "import numpy as np\n",
    "import matplotlib.pyplot as plt\n",
    "%matplotlib inline\n",
    "letter = ['A','B','C','D','E','F','G','H','I', 'J']\n",
    "\n",
    "rnd = np.random.randint(0, len(sanitized_train_ds))\n",
    "print(letter[sanitized_train_lbl[rnd]], rnd)\n",
    "plt.imshow(sanitized_train_ds[rnd,:,:])"
   ]
  },
  {
   "cell_type": "markdown",
   "metadata": {},
   "source": [
    "##### Find Near Duplicates"
   ]
  },
  {
   "cell_type": "raw",
   "metadata": {
    "collapsed": false,
    "scrolled": true
   },
   "source": [
    "near_dups = []\n",
    "for i in range(0, len(sanitized_test_ds)):\n",
    "    for j in range(0, len(sanitized_valid_ds)):\n",
    "        if sum(sum(np.isclose(sanitized_test_ds[i,:,:], sanitized_valid_ds[j,:,:], rtol=1e-05))) != 784:\n",
    "            near_dups.append((i, j))"
   ]
  },
  {
   "cell_type": "markdown",
   "metadata": {
    "colab_type": "text",
    "id": "L8oww1s4JMQx"
   },
   "source": [
    "---\n",
    "Problem 6\n",
    "---------\n",
    "\n",
    "Let's get an idea of what an off-the-shelf classifier can give you on this data. It's always good to check that there is something to learn, and that it's a problem that is not so trivial that a canned solution solves it.\n",
    "\n",
    "Train a simple model on this data using 50, 100, 1000 and 5000 training samples. Hint: you can use the LogisticRegression model from sklearn.linear_model.\n",
    "\n",
    "Optional question: train an off-the-shelf model on all the data!\n",
    "\n",
    "---"
   ]
  },
  {
   "cell_type": "code",
   "execution_count": 42,
   "metadata": {
    "collapsed": false
   },
   "outputs": [],
   "source": [
    "from sklearn.linear_model import LogisticRegression\n",
    "from sklearn import metrics\n",
    "\n",
    "def LR_train(n_samples, C, train_ds, train_lbl, test_ds, test_lbl):\n",
    "\n",
    "    Xtrain = np.array(train_ds[0:n_samples,:,:])\n",
    "    Xtrain = np.reshape(Xtrain, (n_samples,784))\n",
    "    ytrain = np.reshape(train_lbl[0:n_samples], (n_samples,))\n",
    "    logreg = LogisticRegression(C=C,solver='sag', multi_class='ovr')\n",
    "    #gauss_wgts = np.random.normal(loc=0, scale=0.2, size=n_samples)\n",
    "    logreg.fit(Xtrain, ytrain)\n",
    "    \n",
    "    testX = np.reshape(test_ds, (len(test_ds), 784))\n",
    "    ypred = logreg.predict(testX)\n",
    "    \n",
    "    yresp = np.reshape(test_lbl, (len(test_lbl,)))\n",
    "    \n",
    "    return metrics.accuracy_score(yresp, ypred)   "
   ]
  },
  {
   "cell_type": "code",
   "execution_count": 43,
   "metadata": {
    "collapsed": false,
    "scrolled": true
   },
   "outputs": [
    {
     "name": "stdout",
     "output_type": "stream",
     "text": [
      "0.866582103321\n"
     ]
    }
   ],
   "source": [
    "print LR_train(n_samples, .0001, sanitized_train_ds, sanitized_train_lbl, sanitized_test_ds, sanitized_test_lbl)"
   ]
  },
  {
   "cell_type": "raw",
   "metadata": {},
   "source": [
    "Process:\n",
    "1) reshape each 28x28 matrix into a 1x784 vector.\n",
    "2) new matrix is Nx784 where N=50,500, etc\n",
    "3) slice train label to length of N\n",
    "4) Run this thru Logistic Regression\n",
    "5) Set multi-class using the out-of-box function (this is the automatic default)\n",
    "6) Make sure input data set has mean = 0 and approx. variance = 1 (done above)\n",
    "7) Fit data using initial sample weights of gassuian small variance 0 mean distribution (when i did this the results were terrible), so I removed the initialized weights."
   ]
  },
  {
   "cell_type": "code",
   "execution_count": 35,
   "metadata": {
    "collapsed": false
   },
   "outputs": [
    {
     "data": {
      "text/plain": [
       "(array([  1.10000000e+01,   7.50000000e+01,   3.03000000e+02,\n",
       "          1.12000000e+03,   3.10400000e+03,   7.16500000e+03,\n",
       "          1.41380000e+04,   2.23830000e+04,   2.97800000e+04,\n",
       "          3.34720000e+04,   3.07860000e+04,   2.38750000e+04,\n",
       "          1.54310000e+04,   8.20800000e+03,   3.63400000e+03,\n",
       "          1.27400000e+03,   3.92000000e+02,   1.19000000e+02,\n",
       "          2.10000000e+01,   5.00000000e+00]),\n",
       " array([-0.8286955 , -0.74225194, -0.65580838, -0.56936483, -0.48292127,\n",
       "        -0.39647772, -0.31003416, -0.22359061, -0.13714705, -0.05070349,\n",
       "         0.03574006,  0.12218362,  0.20862717,  0.29507073,  0.38151428,\n",
       "         0.46795784,  0.5544014 ,  0.64084495,  0.72728851,  0.81373206,\n",
       "         0.90017562]),\n",
       " <a list of 20 Patch objects>)"
      ]
     },
     "execution_count": 35,
     "metadata": {},
     "output_type": "execute_result"
    },
    {
     "data": {
      "image/png": "[encoded data removed]",
      "text/plain": [
       "<matplotlib.figure.Figure at 0x7fc3dc107710>"
      ]
     },
     "metadata": {},
     "output_type": "display_data"
    }
   ],
   "source": [
    "plt.hist(np.random.normal(loc=0, scale=0.2, size=n_samples)\n",
    ", bins=20)"
   ]
  },
  {
   "cell_type": "markdown",
   "metadata": {},
   "source": [
    "#### Numerical Stability"
   ]
  },
  {
   "cell_type": "code",
   "execution_count": null,
   "metadata": {
    "collapsed": false
   },
   "outputs": [],
   "source": [
    "a = 1000000000.0\n",
    "for i in range(0, 1000000):\n",
    "    a = a + .000001\n",
    "\n",
    "print(a)\n",
    "print(a - 1000000000.0)"
   ]
  },
  {
   "cell_type": "code",
   "execution_count": null,
   "metadata": {
    "collapsed": false
   },
   "outputs": [],
   "source": [
    "a = 1.0\n",
    "for i in range(0, 1000000):\n",
    "    a = a + .000001\n",
    "\n",
    "print(a)\n",
    "print(a - 1000000000.0)"
   ]
  }
 ],
 "metadata": {
  "colab": {
   "default_view": {},
   "name": "1_notmnist.ipynb",
   "provenance": [],
   "version": "0.3.2",
   "views": {}
  },
  "kernelspec": {
   "display_name": "Python 2",
   "language": "python",
   "name": "python2"
  },
  "language_info": {
   "codemirror_mode": {
    "name": "ipython",
    "version": 2
   },
   "file_extension": ".py",
   "mimetype": "text/x-python",
   "name": "python",
   "nbconvert_exporter": "python",
   "pygments_lexer": "ipython2",
   "version": "2.7.11"
  }
 },
 "nbformat": 4,
 "nbformat_minor": 0
}
