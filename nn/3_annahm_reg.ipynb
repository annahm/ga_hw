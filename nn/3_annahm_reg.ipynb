{
 "cells": [
  {
   "cell_type": "markdown",
   "metadata": {
    "colab_type": "text",
    "id": "kR-4eNdK6lYS"
   },
   "source": [
    "Deep Learning\n",
    "=============\n",
    "\n",
    "Assignment 3\n",
    "------------\n",
    "\n",
    "Previously in `2_fullyconnected.ipynb`, you trained a logistic regression and a neural network model.\n",
    "\n",
    "The goal of this assignment is to explore regularization techniques."
   ]
  },
  {
   "cell_type": "code",
   "execution_count": 1,
   "metadata": {
    "cellView": "both",
    "colab": {
     "autoexec": {
      "startup": false,
      "wait_interval": 0
     }
    },
    "colab_type": "code",
    "collapsed": true,
    "id": "JLpLa8Jt7Vu4"
   },
   "outputs": [],
   "source": [
    "# These are all the modules we'll be using later. Make sure you can import them\n",
    "# before proceeding further.\n",
    "from __future__ import print_function\n",
    "import numpy as np\n",
    "import tensorflow as tf\n",
    "from six.moves import cPickle as pickle"
   ]
  },
  {
   "cell_type": "markdown",
   "metadata": {
    "colab_type": "text",
    "id": "1HrCK6e17WzV"
   },
   "source": [
    "First reload the data we generated in _notmist.ipynb_."
   ]
  },
  {
   "cell_type": "code",
   "execution_count": 7,
   "metadata": {
    "cellView": "both",
    "colab": {
     "autoexec": {
      "startup": false,
      "wait_interval": 0
     },
     "output_extras": [
      {
       "item_id": 1
      }
     ]
    },
    "colab_type": "code",
    "collapsed": false,
    "executionInfo": {
     "elapsed": 11777,
     "status": "ok",
     "timestamp": 1449849322348,
     "user": {
      "color": "",
      "displayName": "",
      "isAnonymous": false,
      "isMe": true,
      "permissionId": "",
      "photoUrl": "",
      "sessionId": "0",
      "userId": ""
     },
     "user_tz": 480
    },
    "id": "y3-cj1bpmuxc",
    "outputId": "e03576f1-ebbe-4838-c388-f1777bcc9873"
   },
   "outputs": [
    {
     "name": "stdout",
     "output_type": "stream",
     "text": [
      "Training set (200000, 28, 28) (200000,)\n",
      "Validation set (10000, 28, 28) (10000,)\n",
      "Test set (10000, 28, 28) (10000,)\n"
     ]
    }
   ],
   "source": [
    "pickle_file = 'notMNIST.pickle'\n",
    "\n",
    "with open(pickle_file, 'rb') as f:\n",
    "  save = pickle.load(f)\n",
    "  train_dataset = save['train_dataset']\n",
    "  train_labels = save['train_labels']\n",
    "  valid_dataset = save['valid_dataset']\n",
    "  valid_labels = save['valid_labels']\n",
    "  test_dataset = save['test_dataset']\n",
    "  test_labels = save['test_labels']\n",
    "  del save  # hint to help gc free up memory\n",
    "  print('Training set', train_dataset.shape, train_labels.shape)\n",
    "  print('Validation set', valid_dataset.shape, valid_labels.shape)\n",
    "  print('Test set', test_dataset.shape, test_labels.shape)"
   ]
  },
  {
   "cell_type": "markdown",
   "metadata": {
    "colab_type": "text",
    "id": "L7aHrm6nGDMB"
   },
   "source": [
    "Reformat into a shape that's more adapted to the models we're going to train:\n",
    "- data as a flat matrix,\n",
    "- labels as float 1-hot encodings."
   ]
  },
  {
   "cell_type": "code",
   "execution_count": 6,
   "metadata": {
    "cellView": "both",
    "colab": {
     "autoexec": {
      "startup": false,
      "wait_interval": 0
     },
     "output_extras": [
      {
       "item_id": 1
      }
     ]
    },
    "colab_type": "code",
    "collapsed": false,
    "executionInfo": {
     "elapsed": 11728,
     "status": "ok",
     "timestamp": 1449849322356,
     "user": {
      "color": "",
      "displayName": "",
      "isAnonymous": false,
      "isMe": true,
      "permissionId": "",
      "photoUrl": "",
      "sessionId": "0",
      "userId": ""
     },
     "user_tz": 480
    },
    "id": "IRSyYiIIGIzS",
    "outputId": "3f8996ee-3574-4f44-c953-5c8a04636582"
   },
   "outputs": [
    {
     "name": "stdout",
     "output_type": "stream",
     "text": [
      "Training set (200000, 28, 28) (200000,)\n",
      "Validation set (10000, 28, 28) (10000,)\n",
      "Test set (10000, 28, 28) (10000,)\n"
     ]
    }
   ],
   "source": [
    "image_size = 28\n",
    "num_labels = 10\n",
    "\n",
    "def reformat(dataset, labels):\n",
    "  dataset = dataset.reshape((-1, image_size * image_size)).astype(np.float32)\n",
    "  # Map 2 to [0.0, 1.0, 0.0 ...], 3 to [0.0, 0.0, 1.0 ...]\n",
    "  labels = (np.arange(num_labels) == labels[:,None]).astype(np.float32)\n",
    "  return dataset, labels\n",
    "train_dataset_1h, train_labels_1h = reformat(train_dataset, train_labels)\n",
    "valid_dataset_1, valid_labels_1h = reformat(valid_dataset, valid_labels)\n",
    "test_dataset_1h, test_labels_1h = reformat(test_dataset, test_labels)\n",
    "print('Training set', train_dataset.shape, train_labels.shape)\n",
    "print('Validation set', valid_dataset.shape, valid_labels.shape)\n",
    "print('Test set', test_dataset.shape, test_labels.shape)"
   ]
  },
  {
   "cell_type": "code",
   "execution_count": 4,
   "metadata": {
    "cellView": "both",
    "colab": {
     "autoexec": {
      "startup": false,
      "wait_interval": 0
     }
    },
    "colab_type": "code",
    "collapsed": true,
    "id": "RajPLaL_ZW6w"
   },
   "outputs": [],
   "source": [
    "def accuracy(predictions, labels):\n",
    "  return (100.0 * np.sum(np.argmax(predictions, 1) == np.argmax(labels, 1))\n",
    "          / predictions.shape[0])"
   ]
  },
  {
   "cell_type": "markdown",
   "metadata": {
    "colab_type": "text",
    "id": "sgLbUAQ1CW-1"
   },
   "source": [
    "---\n",
    "Problem 1\n",
    "---------\n",
    "\n",
    "Introduce and tune L2 regularization for both logistic and neural network models. Remember that L2 amounts to adding a penalty on the norm of the weights to the loss. In TensorFlow, you can compute the L2 loss for a tensor `t` using `nn.l2_loss(t)`. The right amount of regularization should improve your validation / test accuracy.\n",
    "\n",
    "---"
   ]
  },
  {
   "cell_type": "markdown",
   "metadata": {},
   "source": [
    "### Logistic Regression and Regularization"
   ]
  },
  {
   "cell_type": "code",
   "execution_count": 12,
   "metadata": {
    "collapsed": true
   },
   "outputs": [],
   "source": [
    "# From Assignment 1\n",
    "from sklearn.linear_model import LogisticRegression\n",
    "from sklearn import metrics\n",
    "\n",
    "def LR_train(n_samples, C, train_ds, train_lbl, test_ds, test_lbl):\n",
    "\n",
    "    Xtrain = np.array(train_ds[0:n_samples,:,:])\n",
    "    Xtrain = np.reshape(Xtrain, (n_samples,784))\n",
    "    ytrain = np.reshape(train_lbl[0:n_samples], (n_samples,))\n",
    "    logreg = LogisticRegression(C=C,solver='sag', multi_class='ovr')\n",
    "    #gauss_wgts = np.random.normal(loc=0, scale=0.2, size=n_samples)\n",
    "    logreg.fit(Xtrain, ytrain)\n",
    "    \n",
    "    testX = np.reshape(test_ds, (len(test_ds), 784))\n",
    "    ypred = logreg.predict(testX)\n",
    "    \n",
    "    yresp = np.reshape(test_lbl, (len(test_lbl,)))\n",
    "    \n",
    "    return metrics.accuracy_score(yresp, ypred)   "
   ]
  },
  {
   "cell_type": "code",
   "execution_count": 38,
   "metadata": {
    "collapsed": false,
    "scrolled": true
   },
   "outputs": [
    {
     "name": "stdout",
     "output_type": "stream",
     "text": [
      "0.854\n"
     ]
    }
   ],
   "source": [
    "print(LR_train(1000, .09, train_dataset, train_labels, test_dataset, test_labels))"
   ]
  },
  {
   "cell_type": "code",
   "execution_count": 59,
   "metadata": {
    "collapsed": true
   },
   "outputs": [
    {
     "name": "stdout",
     "output_type": "stream",
     "text": [
      "0.001\n",
      "0.006\n",
      "0.011\n",
      "0.016\n",
      "0.021\n",
      "0.026\n",
      "0.031\n",
      "0.036\n",
      "0.041\n",
      "0.046\n",
      "0.051\n",
      "0.056\n",
      "0.061\n",
      "0.066\n",
      "0.071\n",
      "0.076\n",
      "0.081\n",
      "0.086\n",
      "0.091\n",
      "0.096\n",
      "0.101\n",
      "0.106\n",
      "0.111\n",
      "0.116\n",
      "0.121\n",
      "0.126\n",
      "0.131\n",
      "0.136\n",
      "0.141\n",
      "0.146\n",
      "0.151\n",
      "0.156\n",
      "0.161\n",
      "0.166\n",
      "0.171\n",
      "0.176\n",
      "0.181\n",
      "0.186\n",
      "0.191\n",
      "0.196\n",
      "0.201\n",
      "0.206\n",
      "0.211\n",
      "0.216\n",
      "0.221\n",
      "0.226\n",
      "0.231\n",
      "0.236\n",
      "0.241\n",
      "0.246\n",
      "0.251\n",
      "0.256\n",
      "0.261\n",
      "0.266\n",
      "0.271\n",
      "0.276\n",
      "0.281\n",
      "0.286\n",
      "0.291\n",
      "0.296\n",
      "0.301\n",
      "0.306\n",
      "0.311\n",
      "0.316\n",
      "0.321\n",
      "0.326\n",
      "0.331\n",
      "0.336\n",
      "0.341\n",
      "0.346\n",
      "0.351\n",
      "0.356\n",
      "0.361\n",
      "0.366\n",
      "0.371\n",
      "0.376\n",
      "0.381\n",
      "0.386\n",
      "0.391\n",
      "0.396\n",
      "0.401\n",
      "0.406\n",
      "0.411\n",
      "0.416\n",
      "0.421\n",
      "0.426\n",
      "0.431\n",
      "0.436\n",
      "0.441\n",
      "0.446\n",
      "0.451\n",
      "0.456\n",
      "0.461\n",
      "0.466\n",
      "0.471\n",
      "0.476\n",
      "0.481\n",
      "0.486\n",
      "0.491\n",
      "0.496\n",
      "0.501\n",
      "0.506\n",
      "0.511\n",
      "0.516\n",
      "0.521\n",
      "0.526\n",
      "0.531\n",
      "0.536\n",
      "0.541\n",
      "0.546\n",
      "0.551\n",
      "0.556\n",
      "0.561\n",
      "0.566\n",
      "0.571\n",
      "0.576\n",
      "0.581\n",
      "0.586\n",
      "0.591\n",
      "0.596\n",
      "0.601\n",
      "0.606\n",
      "0.611\n",
      "0.616\n",
      "0.621\n",
      "0.626\n",
      "0.631\n",
      "0.636\n",
      "0.641\n",
      "0.646\n",
      "0.651\n",
      "0.656\n",
      "0.661\n",
      "0.666\n",
      "0.671\n",
      "0.676\n",
      "0.681\n",
      "0.686\n",
      "0.691\n",
      "0.696\n",
      "0.701\n",
      "0.706\n",
      "0.711\n",
      "0.716\n",
      "0.721\n",
      "0.726\n",
      "0.731\n",
      "0.736\n",
      "0.741\n",
      "0.746\n",
      "0.751\n",
      "0.756\n",
      "0.761\n",
      "0.766\n",
      "0.771\n",
      "0.776\n",
      "0.781\n",
      "0.786\n",
      "0.791\n",
      "0.796\n",
      "0.801\n",
      "0.806\n",
      "0.811\n",
      "0.816\n",
      "0.821\n",
      "0.826\n",
      "0.831\n",
      "0.836\n",
      "0.841\n",
      "0.846\n",
      "0.851\n",
      "0.856\n",
      "0.861\n",
      "0.866\n",
      "0.871\n",
      "0.876\n",
      "0.881\n",
      "0.886\n",
      "0.891\n",
      "0.896\n",
      "0.901\n",
      "0.906\n",
      "0.911\n",
      "0.916\n",
      "0.921\n",
      "0.926\n",
      "0.931\n",
      "0.936\n",
      "0.941\n",
      "0.946\n",
      "0.951\n",
      "0.956\n",
      "0.961\n",
      "0.966\n",
      "0.971\n",
      "0.976\n",
      "0.981\n",
      "0.986\n",
      "0.991\n",
      "0.996\n"
     ]
    }
   ],
   "source": [
    "accuracy_scores = []\n",
    "for c_val in np.arange(0.001, 1.0, .005):\n",
    "    #print(c_val)    \n",
    "    acc = LR_train(1000, c_val, train_dataset, train_labels, test_dataset, test_labels)\n",
    "    accuracy_scores.append(acc)\n"
   ]
  },
  {
   "cell_type": "code",
   "execution_count": 69,
   "metadata": {
    "collapsed": false,
    "scrolled": true
   },
   "outputs": [
    {
     "name": "stdout",
     "output_type": "stream",
     "text": [
      "max accuracy 0.8599\n",
      "index 5\n",
      "[ 0.001  0.006  0.011  0.016  0.021  0.026  0.031  0.036]\n",
      "[0.82550000000000001, 0.85219999999999996, 0.85709999999999997, 0.85880000000000001, 0.85970000000000002, 0.8599, 0.85950000000000004, 0.85860000000000003]\n"
     ]
    }
   ],
   "source": [
    "print('max accuracy', max(accuracy_scores))\n",
    "print('index',accuracy_scores.index(max(accuracy_scores)))\n",
    "print(np.arange(.001,1.0,.005)[0:8])\n",
    "print(accuracy_scores[0:8])"
   ]
  },
  {
   "cell_type": "code",
   "execution_count": 75,
   "metadata": {
    "collapsed": false
   },
   "outputs": [],
   "source": [
    "accuracy_scores_1 = []\n",
    "for c_val in np.arange(0.022, .031, .0001):\n",
    "    #print(c_val)    \n",
    "    acc = LR_train(1000, c_val, train_dataset, train_labels, test_dataset, test_labels)\n",
    "    accuracy_scores_1.append(acc)"
   ]
  },
  {
   "cell_type": "code",
   "execution_count": 61,
   "metadata": {
    "collapsed": false,
    "scrolled": false
   },
   "outputs": [
    {
     "data": {
      "text/plain": [
       "[<matplotlib.lines.Line2D at 0x7f4e924d75d0>]"
      ]
     },
     "execution_count": 61,
     "metadata": {},
     "output_type": "execute_result"
    },
    {
     "data": {
      "image/png": "[encoded data removed]",
      "text/plain": [
       "<matplotlib.figure.Figure at 0x7f4e92618290>"
      ]
     },
     "metadata": {},
     "output_type": "display_data"
    }
   ],
   "source": [
    "import matplotlib.pyplot as plt\n",
    "%matplotlib inline\n",
    "plt.plot(np.arange(.001, 1.0, .005), accuracy_scores)"
   ]
  },
  {
   "cell_type": "code",
   "execution_count": 76,
   "metadata": {
    "collapsed": false,
    "scrolled": true
   },
   "outputs": [
    {
     "data": {
      "text/plain": [
       "[<matplotlib.lines.Line2D at 0x7f4e92437fd0>]"
      ]
     },
     "execution_count": 76,
     "metadata": {},
     "output_type": "execute_result"
    },
    {
     "data": {
      "image/png": "[encoded data removed]",
      "text/plain": [
       "<matplotlib.figure.Figure at 0x7f4e9265aad0>"
      ]
     },
     "metadata": {},
     "output_type": "display_data"
    }
   ],
   "source": [
    "import matplotlib.pyplot as plt\n",
    "%matplotlib inline\n",
    "plt.plot(np.arange(.022, .031, .0001), accuracy_scores_1)"
   ]
  },
  {
   "cell_type": "code",
   "execution_count": 78,
   "metadata": {
    "collapsed": false,
    "scrolled": true
   },
   "outputs": [
    {
     "name": "stdout",
     "output_type": "stream",
     "text": [
      "max accuracy 0.8604\n",
      "index 28\n",
      "[ 0.024   0.0241  0.0242  0.0243  0.0244  0.0245  0.0246  0.0247  0.0248\n",
      "  0.0249]\n",
      "[0.85999999999999999, 0.86009999999999998, 0.86019999999999996, 0.86009999999999998, 0.86009999999999998, 0.86009999999999998, 0.86019999999999996, 0.86029999999999995, 0.86040000000000005, 0.86040000000000005]\n"
     ]
    }
   ],
   "source": [
    "print('max accuracy', max(accuracy_scores_1))\n",
    "print('index',accuracy_scores_1.index(max(accuracy_scores_1)))\n",
    "print(np.arange(.022,.031,.0001)[20:30])\n",
    "print(accuracy_scores_1[20:30])"
   ]
  },
  {
   "cell_type": "raw",
   "metadata": {},
   "source": [
    "Accuracy = .8604  C = .0247, N_samples = 1000"
   ]
  },
  {
   "cell_type": "markdown",
   "metadata": {},
   "source": [
    "### NN Training and Regularization"
   ]
  },
  {
   "cell_type": "code",
   "execution_count": 79,
   "metadata": {
    "collapsed": true
   },
   "outputs": [
    {
     "ename": "NameError",
     "evalue": "name 'IMAGE_PIXELS' is not defined",
     "output_type": "error",
     "traceback": [
      "\u001b[1;31m---------------------------------------------------------------------------\u001b[0m",
      "\u001b[1;31mNameError\u001b[0m                                 Traceback (most recent call last)",
      "\u001b[1;32m<ipython-input-79-1bc15bd55970>\u001b[0m in \u001b[0;36m<module>\u001b[1;34m()\u001b[0m\n\u001b[0;32m      7\u001b[0m     \u001b[1;31m# because batch_size was 128 and the test set dimension was much larger (10000, 784)\u001b[0m\u001b[1;33m\u001b[0m\u001b[1;33m\u001b[0m\u001b[0m\n\u001b[0;32m      8\u001b[0m     \u001b[1;31m# then I saw that the tutorial used None instead and that worked for everything\u001b[0m\u001b[1;33m\u001b[0m\u001b[1;33m\u001b[0m\u001b[0m\n\u001b[1;32m----> 9\u001b[1;33m     \u001b[0mimages_placeholder\u001b[0m     \u001b[1;33m=\u001b[0m\u001b[0mtf\u001b[0m\u001b[1;33m.\u001b[0m\u001b[0mplaceholder\u001b[0m\u001b[1;33m(\u001b[0m\u001b[0mtf\u001b[0m\u001b[1;33m.\u001b[0m\u001b[0mfloat32\u001b[0m\u001b[1;33m,\u001b[0m \u001b[0mshape\u001b[0m\u001b[1;33m=\u001b[0m\u001b[1;33m(\u001b[0m\u001b[0mNone\u001b[0m\u001b[1;33m,\u001b[0m \u001b[0mIMAGE_PIXELS\u001b[0m\u001b[1;33m)\u001b[0m\u001b[1;33m)\u001b[0m\u001b[1;33m\u001b[0m\u001b[0m\n\u001b[0m\u001b[0;32m     10\u001b[0m     \u001b[0mlabels_placeholder\u001b[0m     \u001b[1;33m=\u001b[0m\u001b[0mtf\u001b[0m\u001b[1;33m.\u001b[0m\u001b[0mplaceholder\u001b[0m\u001b[1;33m(\u001b[0m\u001b[0mtf\u001b[0m\u001b[1;33m.\u001b[0m\u001b[0mfloat32\u001b[0m\u001b[1;33m,\u001b[0m \u001b[0mshape\u001b[0m\u001b[1;33m=\u001b[0m\u001b[1;33m(\u001b[0m\u001b[0mNone\u001b[0m\u001b[1;33m,\u001b[0m \u001b[0mNUM_CLASSES\u001b[0m\u001b[1;33m)\u001b[0m\u001b[1;33m)\u001b[0m\u001b[1;33m\u001b[0m\u001b[0m\n\u001b[0;32m     11\u001b[0m     \u001b[0mlabels_placeholder_int\u001b[0m \u001b[1;33m=\u001b[0m\u001b[0mtf\u001b[0m\u001b[1;33m.\u001b[0m\u001b[0mplaceholder\u001b[0m\u001b[1;33m(\u001b[0m\u001b[0mtf\u001b[0m\u001b[1;33m.\u001b[0m\u001b[0mint32\u001b[0m\u001b[1;33m,\u001b[0m \u001b[0mshape\u001b[0m\u001b[1;33m=\u001b[0m\u001b[1;33m(\u001b[0m\u001b[0mNone\u001b[0m\u001b[1;33m)\u001b[0m\u001b[1;33m)\u001b[0m\u001b[1;33m\u001b[0m\u001b[0m\n",
      "\u001b[1;31mNameError\u001b[0m: name 'IMAGE_PIXELS' is not defined"
     ]
    }
   ],
   "source": [
    "graphn = tf.Graph()\n",
    "\n",
    "with graphn.as_default():\n",
    "    # Inputs and PLACEHOLDERS\n",
    "    # Originally set the shape for each of these to specifically use batch_size for # rows\n",
    "    # This caused problems when I wanted to run the entire test set to get an accuracy score\n",
    "    # because batch_size was 128 and the test set dimension was much larger (10000, 784)\n",
    "    # then I saw that the tutorial used None instead and that worked for everything\n",
    "    images_placeholder     =tf.placeholder(tf.float32, shape=(None, IMAGE_PIXELS))\n",
    "    labels_placeholder     =tf.placeholder(tf.float32, shape=(None, NUM_CLASSES))\n",
    "    labels_placeholder_int =tf.placeholder(tf.int32, shape=(None))  \n",
    "   \n",
    "    # INFERENCE\n",
    "    with tf.name_scope('hidden1') as scope:\n",
    "        weights = tf.Variable(tf.truncated_normal([IMAGE_PIXELS, hidden1_units], \n",
    "            stddev=1.0 / math.sqrt(float(IMAGE_PIXELS))), name='weights')\n",
    "        biases = tf.Variable(tf.zeros([hidden1_units]), name = 'biases')\n",
    "        hidden1 = tf.nn.relu(tf.matmul(images_placeholder, weights) + biases)\n",
    "\n",
    "    with tf.name_scope('hidden2') as scope:\n",
    "        weights = tf.Variable(tf.truncated_normal([hidden1_units, hidden2_units],\n",
    "            stddev=1.0 / math.sqrt(float(hidden1_units))), name='weights')\n",
    "        biases = tf.Variable(tf.zeros([hidden2_units]), name='biases')\n",
    "        hidden2 = tf.nn.relu(tf.matmul(hidden1, weights) + biases)\n",
    "\n",
    "    with tf.name_scope('softmax_linear') as scope:\n",
    "        weights = tf.Variable(tf.truncated_normal([hidden2_units, NUM_CLASSES],\n",
    "            stddev=1.0 / math.sqrt(float(hidden2_units))),name='weights')\n",
    "        biases = tf.Variable(tf.zeros([NUM_CLASSES]),name='biases')\n",
    "        logits = tf.matmul(hidden2, weights) + biases\n",
    "      \n",
    "    # LOSS\n",
    "    # softmax_cross_entropy needs labels_placeholder to be float32 1hot encoded\n",
    "    loss = tf.reduce_mean(tf.nn.softmax_cross_entropy_with_logits(logits, labels_placeholder))\n",
    "    \n",
    "    # TRAINING\n",
    "    optimizer = tf.train.GradientDescentOptimizer(learning_rate)\n",
    "    global_step = tf.Variable(0, name='global_step', trainable=False)\n",
    "    train_op = optimizer.minimize(loss, global_step=global_step)\n",
    "    train_prediction = tf.nn.softmax(logits)\n",
    "    \n",
    "    # EVAL (use either eval_acc op or the eval_correct op)\n",
    "    # Gets the index of the largest value across the tensor, test_a is prediction, test_b is response\n",
    "    test_a = tf.argmax(logits,1)\n",
    "    test_b = tf.argmax(labels_placeholder,1)\n",
    "    # Boolean tensor\n",
    "    correct_prediction = tf.equal(test_a, test_b)\n",
    "    cast_float = tf.cast(correct_prediction, tf.float32)\n",
    "    # Get mean across tensor, ie sum/length\n",
    "    eval_acc = tf.reduce_mean(cast_float)\n",
    "    # in_top_k requires labels_placeholder to be int32 or int64 list\n",
    "    correct = tf.nn.in_top_k(logits, labels_placeholder_int, 1)\n",
    "    eval_correct = tf.reduce_sum(tf.cast(correct, tf.int32))"
   ]
  },
  {
   "cell_type": "code",
   "execution_count": null,
   "metadata": {
    "collapsed": true
   },
   "outputs": [],
   "source": [
    "def accuracy(predictions, labels):\n",
    "  return (100.0 * np.sum(np.argmax(predictions, 1) == np.argmax(labels, 1))\n",
    "          / predictions.shape[0])"
   ]
  },
  {
   "cell_type": "code",
   "execution_count": null,
   "metadata": {
    "collapsed": true
   },
   "outputs": [],
   "source": [
    "# TRAINING LOOP\n",
    "\n",
    "with tf.Session(graph=graphn) as session:\n",
    "    init = tf.initialize_all_variables().run()\n",
    "    sess = tf.Session()\n",
    "    \n",
    "    for step in xrange(max_steps):\n",
    "        # Generates the starting index from train_dataset to extract the minibatch\n",
    "        offset = (step * batch_size) % (train_labels.shape[0] - batch_size)\n",
    "        batch_data = train_dataset[offset:(offset + batch_size), :]\n",
    "        batch_labels = train_labels[offset:(offset + batch_size), :]\n",
    "        batch_labels_int = train_labels_int[offset:(offset + batch_size)]\n",
    "        # A) The fact that I only feed it labels_placeholder and not labels_placeholder_int?\n",
    "        feed_dict = {images_placeholder : batch_data, labels_placeholder : batch_labels, labels_placeholder_int : batch_labels_int}\n",
    "        _, l, predictions, num_correct = session.run([train_op, loss, train_prediction, eval_correct], feed_dict=feed_dict)       \n",
    "        \n",
    "        if (step % 500 == 0):\n",
    "            print(\"Minibatch loss at step %d: %f\" % (step, l))\n",
    "            print(\"Minibatch accuracy: %.1f%%\" % accuracy(predictions, batch_labels))\n",
    "            # Evaluate the entire dataset in specified batch-size increments, return all predictions\n",
    "            acc, eval_predictions = do_eval(valid_dataset, valid_labels, valid_labels_int, batch_size, \n",
    "                    images_placeholder, labels_placeholder, labels_placeholder_int)\n",
    "            print(\"Validation accuracy: %4.6f\" %(acc))\n",
    "    \n",
    "    fdict = {images_placeholder : test_dataset, \n",
    "             labels_placeholder : test_labels,\n",
    "             labels_placeholder_int : test_labels_int}\n",
    "    logits, eval_correct, test_acc = session.run([logits, eval_correct, eval_acc], feed_dict=fdict)\n",
    "    print('Test dataset accuracy %4.2f%%' %(100*eval_correct/float(len(test_dataset))))\n",
    "    \n",
    "    #print(sess.run(logits, feed_dict={images_placeholder: test_dataset,labels_placeholder: test_labels}))\n",
    "            "
   ]
  },
  {
   "cell_type": "code",
   "execution_count": null,
   "metadata": {
    "collapsed": true
   },
   "outputs": [],
   "source": [
    "def do_eval(valid_dataset, valid_labels, valid_labels_int, batch_size, \n",
    "            images_placeholder, labels_placeholder, labels_placeholder_int):\n",
    "    true_count = 0  # Counts the number of correct predictions.\n",
    "    steps_per_epoch = valid_dataset.shape[0] // batch_size\n",
    "    num_examples = steps_per_epoch * batch_size\n",
    "    eval_predictions = []\n",
    "    for step in xrange(steps_per_epoch):\n",
    "        eval_offset = (step * batch_size) % (valid_labels.shape[0] - batch_size)\n",
    "        eval_batch_data = valid_dataset[eval_offset:(eval_offset + batch_size), :]\n",
    "        eval_batch_labels = valid_labels[eval_offset:(eval_offset + batch_size), :]\n",
    "        eval_batch_labels_int = valid_labels_int[eval_offset:(eval_offset + batch_size)]\n",
    "        f_dict = {images_placeholder : eval_batch_data, labels_placeholder : eval_batch_labels,\n",
    "                  labels_placeholder_int : eval_batch_labels_int}\n",
    "        eval_predictions += session.run([eval_correct, loss, train_op], feed_dict=f_dict)\n",
    "    #print(\"validation accuracy: %4.6f%%\" %(100*sum(eval_predictions)/float(num_examples)))    \n",
    "    return 100*sum(eval_predictions)/float(num_examples), eval_predictions"
   ]
  },
  {
   "cell_type": "markdown",
   "metadata": {
    "colab_type": "text",
    "id": "na8xX2yHZzNF"
   },
   "source": [
    "---\n",
    "Problem 2\n",
    "---------\n",
    "Let's demonstrate an extreme case of overfitting. Restrict your training data to just a few batches. What happens?\n",
    "\n",
    "---"
   ]
  },
  {
   "cell_type": "markdown",
   "metadata": {
    "colab_type": "text",
    "id": "ww3SCBUdlkRc"
   },
   "source": [
    "---\n",
    "Problem 3\n",
    "---------\n",
    "Introduce Dropout on the hidden layer of the neural network. Remember: Dropout should only be introduced during training, not evaluation, otherwise your evaluation results would be stochastic as well. TensorFlow provides `nn.dropout()` for that, but you have to make sure it's only inserted during training.\n",
    "\n",
    "What happens to our extreme overfitting case?\n",
    "\n",
    "---"
   ]
  },
  {
   "cell_type": "markdown",
   "metadata": {
    "colab_type": "text",
    "id": "-b1hTz3VWZjw"
   },
   "source": [
    "---\n",
    "Problem 4\n",
    "---------\n",
    "\n",
    "Try to get the best performance you can using a multi-layer model! The best reported test accuracy using a deep network is [97.1%](http://yaroslavvb.blogspot.com/2011/09/notmnist-dataset.html?showComment=1391023266211#c8758720086795711595).\n",
    "\n",
    "One avenue you can explore is to add multiple layers.\n",
    "\n",
    "Another one is to use learning rate decay:\n",
    "\n",
    "    global_step = tf.Variable(0)  # count the number of steps taken.\n",
    "    learning_rate = tf.train.exponential_decay(0.5, global_step, ...)\n",
    "    optimizer = tf.train.GradientDescentOptimizer(learning_rate).minimize(loss, global_step=global_step)\n",
    " \n",
    " ---\n"
   ]
  }
 ],
 "metadata": {
  "colab": {
   "default_view": {},
   "name": "3_regularization.ipynb",
   "provenance": [],
   "version": "0.3.2",
   "views": {}
  },
  "kernelspec": {
   "display_name": "Python 2",
   "language": "python",
   "name": "python2"
  },
  "language_info": {
   "codemirror_mode": {
    "name": "ipython",
    "version": 2
   },
   "file_extension": ".py",
   "mimetype": "text/x-python",
   "name": "python",
   "nbconvert_exporter": "python",
   "pygments_lexer": "ipython2",
   "version": "2.7.11"
  }
 },
 "nbformat": 4,
 "nbformat_minor": 0
}
